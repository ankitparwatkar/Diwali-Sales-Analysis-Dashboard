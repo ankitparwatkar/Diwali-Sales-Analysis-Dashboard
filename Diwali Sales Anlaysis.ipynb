{
 "cells": [
  {
   "cell_type": "markdown",
   "id": "3d1f35b6",
   "metadata": {},
   "source": [
    "## Diwali Sales Analysis - Ankit Parwatkar"
   ]
  },
  {
   "cell_type": "markdown",
   "id": "33926371",
   "metadata": {},
   "source": [
    "Setup and Data Loading"
   ]
  },
  {
   "cell_type": "code",
   "execution_count": 1,
   "id": "b75ce057",
   "metadata": {},
   "outputs": [
    {
     "name": "stdout",
     "output_type": "stream",
     "text": [
      "Dataset shape: (11251, 15)\n",
      "\n",
      "Data preview:\n"
     ]
    },
    {
     "data": {
      "application/vnd.microsoft.datawrangler.viewer.v0+json": {
       "columns": [
        {
         "name": "index",
         "rawType": "int64",
         "type": "integer"
        },
        {
         "name": "User_ID",
         "rawType": "int64",
         "type": "integer"
        },
        {
         "name": "Cust_name",
         "rawType": "object",
         "type": "string"
        },
        {
         "name": "Product_ID",
         "rawType": "object",
         "type": "string"
        },
        {
         "name": "Gender",
         "rawType": "object",
         "type": "string"
        },
        {
         "name": "Age Group",
         "rawType": "object",
         "type": "string"
        },
        {
         "name": "Age",
         "rawType": "int64",
         "type": "integer"
        },
        {
         "name": "Marital_Status",
         "rawType": "int64",
         "type": "integer"
        },
        {
         "name": "State",
         "rawType": "object",
         "type": "string"
        },
        {
         "name": "Zone",
         "rawType": "object",
         "type": "string"
        },
        {
         "name": "Occupation",
         "rawType": "object",
         "type": "string"
        },
        {
         "name": "Product_Category",
         "rawType": "object",
         "type": "string"
        },
        {
         "name": "Orders",
         "rawType": "int64",
         "type": "integer"
        },
        {
         "name": "Amount",
         "rawType": "float64",
         "type": "float"
        },
        {
         "name": "Status",
         "rawType": "float64",
         "type": "float"
        },
        {
         "name": "unnamed1",
         "rawType": "float64",
         "type": "float"
        }
       ],
       "ref": "66b167b7-8cc8-4d92-9b0d-16b1ea6a3e57",
       "rows": [
        [
         "0",
         "1002903",
         "Sanskriti",
         "P00125942",
         "F",
         "26-35",
         "28",
         "0",
         "Maharashtra",
         "Western",
         "Healthcare",
         "Auto",
         "1",
         "23952.0",
         null,
         null
        ],
        [
         "1",
         "1000732",
         "Kartik",
         "P00110942",
         "F",
         "26-35",
         "35",
         "1",
         "Andhra Pradesh",
         "Southern",
         "Govt",
         "Auto",
         "3",
         "23934.0",
         null,
         null
        ],
        [
         "2",
         "1001990",
         "Bindu",
         "P00118542",
         "F",
         "26-35",
         "35",
         "1",
         "Uttar Pradesh",
         "Central",
         "Automobile",
         "Auto",
         "3",
         "23924.0",
         null,
         null
        ],
        [
         "3",
         "1001425",
         "Sudevi",
         "P00237842",
         "M",
         "0-17",
         "16",
         "0",
         "Karnataka",
         "Southern",
         "Construction",
         "Auto",
         "2",
         "23912.0",
         null,
         null
        ],
        [
         "4",
         "1000588",
         "Joni",
         "P00057942",
         "M",
         "26-35",
         "28",
         "1",
         "Gujarat",
         "Western",
         "Food Processing",
         "Auto",
         "2",
         "23877.0",
         null,
         null
        ]
       ],
       "shape": {
        "columns": 15,
        "rows": 5
       }
      },
      "text/html": [
       "<div>\n",
       "<style scoped>\n",
       "    .dataframe tbody tr th:only-of-type {\n",
       "        vertical-align: middle;\n",
       "    }\n",
       "\n",
       "    .dataframe tbody tr th {\n",
       "        vertical-align: top;\n",
       "    }\n",
       "\n",
       "    .dataframe thead th {\n",
       "        text-align: right;\n",
       "    }\n",
       "</style>\n",
       "<table border=\"1\" class=\"dataframe\">\n",
       "  <thead>\n",
       "    <tr style=\"text-align: right;\">\n",
       "      <th></th>\n",
       "      <th>User_ID</th>\n",
       "      <th>Cust_name</th>\n",
       "      <th>Product_ID</th>\n",
       "      <th>Gender</th>\n",
       "      <th>Age Group</th>\n",
       "      <th>Age</th>\n",
       "      <th>Marital_Status</th>\n",
       "      <th>State</th>\n",
       "      <th>Zone</th>\n",
       "      <th>Occupation</th>\n",
       "      <th>Product_Category</th>\n",
       "      <th>Orders</th>\n",
       "      <th>Amount</th>\n",
       "      <th>Status</th>\n",
       "      <th>unnamed1</th>\n",
       "    </tr>\n",
       "  </thead>\n",
       "  <tbody>\n",
       "    <tr>\n",
       "      <th>0</th>\n",
       "      <td>1002903</td>\n",
       "      <td>Sanskriti</td>\n",
       "      <td>P00125942</td>\n",
       "      <td>F</td>\n",
       "      <td>26-35</td>\n",
       "      <td>28</td>\n",
       "      <td>0</td>\n",
       "      <td>Maharashtra</td>\n",
       "      <td>Western</td>\n",
       "      <td>Healthcare</td>\n",
       "      <td>Auto</td>\n",
       "      <td>1</td>\n",
       "      <td>23952.0</td>\n",
       "      <td>NaN</td>\n",
       "      <td>NaN</td>\n",
       "    </tr>\n",
       "    <tr>\n",
       "      <th>1</th>\n",
       "      <td>1000732</td>\n",
       "      <td>Kartik</td>\n",
       "      <td>P00110942</td>\n",
       "      <td>F</td>\n",
       "      <td>26-35</td>\n",
       "      <td>35</td>\n",
       "      <td>1</td>\n",
       "      <td>Andhra Pradesh</td>\n",
       "      <td>Southern</td>\n",
       "      <td>Govt</td>\n",
       "      <td>Auto</td>\n",
       "      <td>3</td>\n",
       "      <td>23934.0</td>\n",
       "      <td>NaN</td>\n",
       "      <td>NaN</td>\n",
       "    </tr>\n",
       "    <tr>\n",
       "      <th>2</th>\n",
       "      <td>1001990</td>\n",
       "      <td>Bindu</td>\n",
       "      <td>P00118542</td>\n",
       "      <td>F</td>\n",
       "      <td>26-35</td>\n",
       "      <td>35</td>\n",
       "      <td>1</td>\n",
       "      <td>Uttar Pradesh</td>\n",
       "      <td>Central</td>\n",
       "      <td>Automobile</td>\n",
       "      <td>Auto</td>\n",
       "      <td>3</td>\n",
       "      <td>23924.0</td>\n",
       "      <td>NaN</td>\n",
       "      <td>NaN</td>\n",
       "    </tr>\n",
       "    <tr>\n",
       "      <th>3</th>\n",
       "      <td>1001425</td>\n",
       "      <td>Sudevi</td>\n",
       "      <td>P00237842</td>\n",
       "      <td>M</td>\n",
       "      <td>0-17</td>\n",
       "      <td>16</td>\n",
       "      <td>0</td>\n",
       "      <td>Karnataka</td>\n",
       "      <td>Southern</td>\n",
       "      <td>Construction</td>\n",
       "      <td>Auto</td>\n",
       "      <td>2</td>\n",
       "      <td>23912.0</td>\n",
       "      <td>NaN</td>\n",
       "      <td>NaN</td>\n",
       "    </tr>\n",
       "    <tr>\n",
       "      <th>4</th>\n",
       "      <td>1000588</td>\n",
       "      <td>Joni</td>\n",
       "      <td>P00057942</td>\n",
       "      <td>M</td>\n",
       "      <td>26-35</td>\n",
       "      <td>28</td>\n",
       "      <td>1</td>\n",
       "      <td>Gujarat</td>\n",
       "      <td>Western</td>\n",
       "      <td>Food Processing</td>\n",
       "      <td>Auto</td>\n",
       "      <td>2</td>\n",
       "      <td>23877.0</td>\n",
       "      <td>NaN</td>\n",
       "      <td>NaN</td>\n",
       "    </tr>\n",
       "  </tbody>\n",
       "</table>\n",
       "</div>"
      ],
      "text/plain": [
       "   User_ID  Cust_name Product_ID Gender Age Group  Age  Marital_Status  \\\n",
       "0  1002903  Sanskriti  P00125942      F     26-35   28               0   \n",
       "1  1000732     Kartik  P00110942      F     26-35   35               1   \n",
       "2  1001990      Bindu  P00118542      F     26-35   35               1   \n",
       "3  1001425     Sudevi  P00237842      M      0-17   16               0   \n",
       "4  1000588       Joni  P00057942      M     26-35   28               1   \n",
       "\n",
       "            State      Zone       Occupation Product_Category  Orders  \\\n",
       "0     Maharashtra   Western       Healthcare             Auto       1   \n",
       "1  Andhra Pradesh  Southern             Govt             Auto       3   \n",
       "2   Uttar Pradesh   Central       Automobile             Auto       3   \n",
       "3       Karnataka  Southern     Construction             Auto       2   \n",
       "4         Gujarat   Western  Food Processing             Auto       2   \n",
       "\n",
       "    Amount  Status  unnamed1  \n",
       "0  23952.0     NaN       NaN  \n",
       "1  23934.0     NaN       NaN  \n",
       "2  23924.0     NaN       NaN  \n",
       "3  23912.0     NaN       NaN  \n",
       "4  23877.0     NaN       NaN  "
      ]
     },
     "metadata": {},
     "output_type": "display_data"
    },
    {
     "name": "stdout",
     "output_type": "stream",
     "text": [
      "\n",
      "Data information:\n",
      "<class 'pandas.core.frame.DataFrame'>\n",
      "RangeIndex: 11251 entries, 0 to 11250\n",
      "Data columns (total 15 columns):\n",
      " #   Column            Non-Null Count  Dtype  \n",
      "---  ------            --------------  -----  \n",
      " 0   User_ID           11251 non-null  int64  \n",
      " 1   Cust_name         11251 non-null  object \n",
      " 2   Product_ID        11251 non-null  object \n",
      " 3   Gender            11251 non-null  object \n",
      " 4   Age Group         11251 non-null  object \n",
      " 5   Age               11251 non-null  int64  \n",
      " 6   Marital_Status    11251 non-null  int64  \n",
      " 7   State             11251 non-null  object \n",
      " 8   Zone              11251 non-null  object \n",
      " 9   Occupation        11251 non-null  object \n",
      " 10  Product_Category  11251 non-null  object \n",
      " 11  Orders            11251 non-null  int64  \n",
      " 12  Amount            11239 non-null  float64\n",
      " 13  Status            0 non-null      float64\n",
      " 14  unnamed1          0 non-null      float64\n",
      "dtypes: float64(3), int64(4), object(8)\n",
      "memory usage: 1.3+ MB\n"
     ]
    }
   ],
   "source": [
    "## Comprehensive Diwali Sales Analysis with Advanced Analytics\n",
    "\n",
    "### Import Libraries and Load Data\n",
    "import numpy as np\n",
    "import pandas as pd\n",
    "import matplotlib.pyplot as plt\n",
    "import seaborn as sns\n",
    "import plotly.express as px\n",
    "import plotly.graph_objects as go\n",
    "import plotly.figure_factory as ff\n",
    "from plotly.subplots import make_subplots\n",
    "from sklearn.preprocessing import StandardScaler\n",
    "from sklearn.cluster import KMeans\n",
    "from sklearn.ensemble import RandomForestRegressor\n",
    "from sklearn.model_selection import train_test_split\n",
    "from sklearn.metrics import mean_squared_error, r2_score\n",
    "from scipy import stats\n",
    "from statsmodels.stats.multicomp import pairwise_tukeyhsd\n",
    "import warnings\n",
    "warnings.filterwarnings('ignore')\n",
    "\n",
    "# Set plot styles\n",
    "sns.set(style=\"whitegrid\", palette=\"pastel\")\n",
    "%matplotlib inline\n",
    "\n",
    "# Load dataset\n",
    "df = pd.read_csv('Diwali Sales Data.csv', encoding='unicode_escape')\n",
    "\n",
    "# Data inspection\n",
    "print(f\"Dataset shape: {df.shape}\")\n",
    "print(\"\\nData preview:\")\n",
    "display(df.head())\n",
    "print(\"\\nData information:\")\n",
    "df.info()"
   ]
  },
  {
   "cell_type": "markdown",
   "id": "e8f2f383",
   "metadata": {},
   "source": [
    "Data Cleaning and Preprocessing"
   ]
  },
  {
   "cell_type": "code",
   "execution_count": 2,
   "id": "65ca7a61",
   "metadata": {},
   "outputs": [
    {
     "name": "stdout",
     "output_type": "stream",
     "text": [
      "\n",
      "Enhanced data preview:\n"
     ]
    },
    {
     "data": {
      "application/vnd.microsoft.datawrangler.viewer.v0+json": {
       "columns": [
        {
         "name": "index",
         "rawType": "int64",
         "type": "integer"
        },
        {
         "name": "User_ID",
         "rawType": "int64",
         "type": "integer"
        },
        {
         "name": "Cust_name",
         "rawType": "object",
         "type": "string"
        },
        {
         "name": "Product_ID",
         "rawType": "object",
         "type": "string"
        },
        {
         "name": "Gender",
         "rawType": "object",
         "type": "string"
        },
        {
         "name": "Age_Group",
         "rawType": "object",
         "type": "string"
        },
        {
         "name": "Age",
         "rawType": "int64",
         "type": "integer"
        },
        {
         "name": "Married",
         "rawType": "int64",
         "type": "integer"
        },
        {
         "name": "State",
         "rawType": "object",
         "type": "string"
        },
        {
         "name": "Zone",
         "rawType": "object",
         "type": "string"
        },
        {
         "name": "Occupation",
         "rawType": "object",
         "type": "string"
        },
        {
         "name": "Product_Category",
         "rawType": "object",
         "type": "string"
        },
        {
         "name": "Orders",
         "rawType": "int64",
         "type": "integer"
        },
        {
         "name": "Amount",
         "rawType": "int64",
         "type": "integer"
        },
        {
         "name": "Age_Category",
         "rawType": "object",
         "type": "string"
        },
        {
         "name": "Spending_Segment",
         "rawType": "category",
         "type": "unknown"
        },
        {
         "name": "Spending_Power",
         "rawType": "float64",
         "type": "float"
        },
        {
         "name": "Premium_Customer",
         "rawType": "object",
         "type": "string"
        },
        {
         "name": "Family_Size",
         "rawType": "int64",
         "type": "integer"
        },
        {
         "name": "Purchase_Date",
         "rawType": "datetime64[ns]",
         "type": "datetime"
        },
        {
         "name": "Recency",
         "rawType": "int64",
         "type": "integer"
        },
        {
         "name": "Frequency",
         "rawType": "int64",
         "type": "integer"
        },
        {
         "name": "Monetary",
         "rawType": "int64",
         "type": "integer"
        },
        {
         "name": "Segment",
         "rawType": "object",
         "type": "string"
        }
       ],
       "ref": "a0f9596b-af43-45b5-890f-9c68a54951e1",
       "rows": [
        [
         "0",
         "1002903",
         "Sanskriti",
         "P00125942",
         "F",
         "26-35",
         "28",
         "0",
         "Maharashtra",
         "Western",
         "Healthcare",
         "Auto",
         "1",
         "23952",
         "Young Adult (20-29)",
         "Elite (20k+)",
         "23952.0",
         "Yes",
         "1",
         "2023-08-04 00:00:00",
         "102",
         "1",
         "23952",
         "213"
        ],
        [
         "1",
         "1000732",
         "Kartik",
         "P00110942",
         "F",
         "26-35",
         "35",
         "1",
         "Andhra Pradesh",
         "Southern",
         "Govt",
         "Auto",
         "3",
         "23934",
         "Adult (30-39)",
         "Elite (20k+)",
         "7978.0",
         "Yes",
         "3",
         "2022-12-01 00:00:00",
         "125",
         "3",
         "53135",
         "214"
        ],
        [
         "2",
         "1001990",
         "Bindu",
         "P00118542",
         "F",
         "26-35",
         "35",
         "1",
         "Uttar Pradesh",
         "Central",
         "Automobile",
         "Auto",
         "3",
         "23924",
         "Adult (30-39)",
         "Elite (20k+)",
         "7974.666666666667",
         "Yes",
         "3",
         "2023-02-17 00:00:00",
         "128",
         "3",
         "48916",
         "214"
        ],
        [
         "3",
         "1001425",
         "Sudevi",
         "P00237842",
         "M",
         "0-17",
         "16",
         "0",
         "Karnataka",
         "Southern",
         "Construction",
         "Auto",
         "2",
         "23912",
         "Teen (0-19)",
         "Elite (20k+)",
         "11956.0",
         "Yes",
         "1",
         "2023-07-31 00:00:00",
         "17",
         "11",
         "99463",
         "424"
        ],
        [
         "4",
         "1000588",
         "Joni",
         "P00057942",
         "M",
         "26-35",
         "28",
         "1",
         "Gujarat",
         "Western",
         "Food Processing",
         "Auto",
         "2",
         "23877",
         "Young Adult (20-29)",
         "Elite (20k+)",
         "11938.5",
         "Yes",
         "2",
         "2023-09-04 00:00:00",
         "71",
         "6",
         "89083",
         "314"
        ]
       ],
       "shape": {
        "columns": 23,
        "rows": 5
       }
      },
      "text/html": [
       "<div>\n",
       "<style scoped>\n",
       "    .dataframe tbody tr th:only-of-type {\n",
       "        vertical-align: middle;\n",
       "    }\n",
       "\n",
       "    .dataframe tbody tr th {\n",
       "        vertical-align: top;\n",
       "    }\n",
       "\n",
       "    .dataframe thead th {\n",
       "        text-align: right;\n",
       "    }\n",
       "</style>\n",
       "<table border=\"1\" class=\"dataframe\">\n",
       "  <thead>\n",
       "    <tr style=\"text-align: right;\">\n",
       "      <th></th>\n",
       "      <th>User_ID</th>\n",
       "      <th>Cust_name</th>\n",
       "      <th>Product_ID</th>\n",
       "      <th>Gender</th>\n",
       "      <th>Age_Group</th>\n",
       "      <th>Age</th>\n",
       "      <th>Married</th>\n",
       "      <th>State</th>\n",
       "      <th>Zone</th>\n",
       "      <th>Occupation</th>\n",
       "      <th>...</th>\n",
       "      <th>Age_Category</th>\n",
       "      <th>Spending_Segment</th>\n",
       "      <th>Spending_Power</th>\n",
       "      <th>Premium_Customer</th>\n",
       "      <th>Family_Size</th>\n",
       "      <th>Purchase_Date</th>\n",
       "      <th>Recency</th>\n",
       "      <th>Frequency</th>\n",
       "      <th>Monetary</th>\n",
       "      <th>Segment</th>\n",
       "    </tr>\n",
       "  </thead>\n",
       "  <tbody>\n",
       "    <tr>\n",
       "      <th>0</th>\n",
       "      <td>1002903</td>\n",
       "      <td>Sanskriti</td>\n",
       "      <td>P00125942</td>\n",
       "      <td>F</td>\n",
       "      <td>26-35</td>\n",
       "      <td>28</td>\n",
       "      <td>0</td>\n",
       "      <td>Maharashtra</td>\n",
       "      <td>Western</td>\n",
       "      <td>Healthcare</td>\n",
       "      <td>...</td>\n",
       "      <td>Young Adult (20-29)</td>\n",
       "      <td>Elite (20k+)</td>\n",
       "      <td>23952.000000</td>\n",
       "      <td>Yes</td>\n",
       "      <td>1</td>\n",
       "      <td>2023-08-04</td>\n",
       "      <td>102</td>\n",
       "      <td>1</td>\n",
       "      <td>23952</td>\n",
       "      <td>213</td>\n",
       "    </tr>\n",
       "    <tr>\n",
       "      <th>1</th>\n",
       "      <td>1000732</td>\n",
       "      <td>Kartik</td>\n",
       "      <td>P00110942</td>\n",
       "      <td>F</td>\n",
       "      <td>26-35</td>\n",
       "      <td>35</td>\n",
       "      <td>1</td>\n",
       "      <td>Andhra Pradesh</td>\n",
       "      <td>Southern</td>\n",
       "      <td>Govt</td>\n",
       "      <td>...</td>\n",
       "      <td>Adult (30-39)</td>\n",
       "      <td>Elite (20k+)</td>\n",
       "      <td>7978.000000</td>\n",
       "      <td>Yes</td>\n",
       "      <td>3</td>\n",
       "      <td>2022-12-01</td>\n",
       "      <td>125</td>\n",
       "      <td>3</td>\n",
       "      <td>53135</td>\n",
       "      <td>214</td>\n",
       "    </tr>\n",
       "    <tr>\n",
       "      <th>2</th>\n",
       "      <td>1001990</td>\n",
       "      <td>Bindu</td>\n",
       "      <td>P00118542</td>\n",
       "      <td>F</td>\n",
       "      <td>26-35</td>\n",
       "      <td>35</td>\n",
       "      <td>1</td>\n",
       "      <td>Uttar Pradesh</td>\n",
       "      <td>Central</td>\n",
       "      <td>Automobile</td>\n",
       "      <td>...</td>\n",
       "      <td>Adult (30-39)</td>\n",
       "      <td>Elite (20k+)</td>\n",
       "      <td>7974.666667</td>\n",
       "      <td>Yes</td>\n",
       "      <td>3</td>\n",
       "      <td>2023-02-17</td>\n",
       "      <td>128</td>\n",
       "      <td>3</td>\n",
       "      <td>48916</td>\n",
       "      <td>214</td>\n",
       "    </tr>\n",
       "    <tr>\n",
       "      <th>3</th>\n",
       "      <td>1001425</td>\n",
       "      <td>Sudevi</td>\n",
       "      <td>P00237842</td>\n",
       "      <td>M</td>\n",
       "      <td>0-17</td>\n",
       "      <td>16</td>\n",
       "      <td>0</td>\n",
       "      <td>Karnataka</td>\n",
       "      <td>Southern</td>\n",
       "      <td>Construction</td>\n",
       "      <td>...</td>\n",
       "      <td>Teen (0-19)</td>\n",
       "      <td>Elite (20k+)</td>\n",
       "      <td>11956.000000</td>\n",
       "      <td>Yes</td>\n",
       "      <td>1</td>\n",
       "      <td>2023-07-31</td>\n",
       "      <td>17</td>\n",
       "      <td>11</td>\n",
       "      <td>99463</td>\n",
       "      <td>424</td>\n",
       "    </tr>\n",
       "    <tr>\n",
       "      <th>4</th>\n",
       "      <td>1000588</td>\n",
       "      <td>Joni</td>\n",
       "      <td>P00057942</td>\n",
       "      <td>M</td>\n",
       "      <td>26-35</td>\n",
       "      <td>28</td>\n",
       "      <td>1</td>\n",
       "      <td>Gujarat</td>\n",
       "      <td>Western</td>\n",
       "      <td>Food Processing</td>\n",
       "      <td>...</td>\n",
       "      <td>Young Adult (20-29)</td>\n",
       "      <td>Elite (20k+)</td>\n",
       "      <td>11938.500000</td>\n",
       "      <td>Yes</td>\n",
       "      <td>2</td>\n",
       "      <td>2023-09-04</td>\n",
       "      <td>71</td>\n",
       "      <td>6</td>\n",
       "      <td>89083</td>\n",
       "      <td>314</td>\n",
       "    </tr>\n",
       "  </tbody>\n",
       "</table>\n",
       "<p>5 rows × 23 columns</p>\n",
       "</div>"
      ],
      "text/plain": [
       "   User_ID  Cust_name Product_ID Gender Age_Group  Age  Married  \\\n",
       "0  1002903  Sanskriti  P00125942      F     26-35   28        0   \n",
       "1  1000732     Kartik  P00110942      F     26-35   35        1   \n",
       "2  1001990      Bindu  P00118542      F     26-35   35        1   \n",
       "3  1001425     Sudevi  P00237842      M      0-17   16        0   \n",
       "4  1000588       Joni  P00057942      M     26-35   28        1   \n",
       "\n",
       "            State      Zone       Occupation  ...         Age_Category  \\\n",
       "0     Maharashtra   Western       Healthcare  ...  Young Adult (20-29)   \n",
       "1  Andhra Pradesh  Southern             Govt  ...        Adult (30-39)   \n",
       "2   Uttar Pradesh   Central       Automobile  ...        Adult (30-39)   \n",
       "3       Karnataka  Southern     Construction  ...          Teen (0-19)   \n",
       "4         Gujarat   Western  Food Processing  ...  Young Adult (20-29)   \n",
       "\n",
       "   Spending_Segment  Spending_Power Premium_Customer Family_Size  \\\n",
       "0      Elite (20k+)    23952.000000              Yes           1   \n",
       "1      Elite (20k+)     7978.000000              Yes           3   \n",
       "2      Elite (20k+)     7974.666667              Yes           3   \n",
       "3      Elite (20k+)    11956.000000              Yes           1   \n",
       "4      Elite (20k+)    11938.500000              Yes           2   \n",
       "\n",
       "   Purchase_Date Recency  Frequency Monetary  Segment  \n",
       "0     2023-08-04     102          1    23952      213  \n",
       "1     2022-12-01     125          3    53135      214  \n",
       "2     2023-02-17     128          3    48916      214  \n",
       "3     2023-07-31      17         11    99463      424  \n",
       "4     2023-09-04      71          6    89083      314  \n",
       "\n",
       "[5 rows x 23 columns]"
      ]
     },
     "metadata": {},
     "output_type": "display_data"
    }
   ],
   "source": [
    "### Data Cleaning and Preprocessing\n",
    "# Remove unnecessary columns\n",
    "df.drop(['Status', 'unnamed1'], axis=1, inplace=True, errors='ignore')\n",
    "\n",
    "# Handle missing values\n",
    "df.dropna(inplace=True)\n",
    "\n",
    "# Convert data types\n",
    "df['Amount'] = df['Amount'].astype(int)\n",
    "\n",
    "# Rename columns\n",
    "df.rename(columns={'Marital_Status': 'Married', 'Age Group': 'Age_Group'}, inplace=True)\n",
    "\n",
    "# Create age groups\n",
    "df['Age_Category'] = df['Age'].apply(lambda x: 'Teen (0-19)' if x < 20 else \n",
    "                                     'Young Adult (20-29)' if x < 30 else \n",
    "                                     'Adult (30-39)' if x < 40 else \n",
    "                                     'Middle Age (40-49)' if x < 50 else \n",
    "                                     'Senior (50+)')\n",
    "\n",
    "# Create spending segments\n",
    "df['Spending_Segment'] = pd.cut(df['Amount'], \n",
    "                               bins=[0, 5000, 10000, 15000, 20000, float('inf')],\n",
    "                               labels=['Low (<5k)', 'Medium (5-10k)', 'High (10-15k)', \n",
    "                                       'Premium (15-20k)', 'Elite (20k+)'])\n",
    "\n",
    "# Calculate spending power\n",
    "df['Spending_Power'] = df['Amount'] / df['Orders']\n",
    "\n",
    "# Create premium customer flag\n",
    "df['Premium_Customer'] = df['Amount'].apply(lambda x: 'Yes' if x > 10000 else 'No')\n",
    "\n",
    "# Create family size indicator\n",
    "df['Family_Size'] = df['Married'].apply(lambda x: 2 if x == 1 else 1) + (df['Orders']//3).clip(upper=2)\n",
    "\n",
    "# Advanced feature engineering\n",
    "# Simulate purchase dates for RFM analysis\n",
    "np.random.seed(42)\n",
    "max_date = pd.to_datetime('2023-11-15')  # Diwali date\n",
    "df['Purchase_Date'] = max_date - pd.to_timedelta(np.random.randint(1, 365, df.shape[0]), unit='d')\n",
    "\n",
    "# RFM Analysis\n",
    "current_date = df['Purchase_Date'].max()\n",
    "rfm = df.groupby('User_ID').agg(\n",
    "    Recency=('Purchase_Date', lambda x: (current_date - x.max()).days),\n",
    "    Frequency=('Amount', 'count'),\n",
    "    Monetary=('Amount', 'sum')\n",
    ").reset_index()\n",
    "\n",
    "# Handle quantile binning with duplicates\n",
    "def safe_qcut(series, q, labels):\n",
    "    try:\n",
    "        return pd.qcut(series, q, labels=labels, duplicates='drop')\n",
    "    except ValueError:\n",
    "        # Handle case with insufficient unique values\n",
    "        return pd.cut(series, bins=len(labels), labels=labels)\n",
    "\n",
    "# RFM Scoring\n",
    "rfm['R_Score'] = safe_qcut(rfm['Recency'], 4, labels=[4, 3, 2, 1])\n",
    "rfm['F_Score'] = safe_qcut(rfm['Frequency'], 4, labels=[1, 2, 3, 4])\n",
    "rfm['M_Score'] = safe_qcut(rfm['Monetary'], 4, labels=[1, 2, 3, 4])\n",
    "rfm['RFM_Score'] = rfm['R_Score'].astype(str) + rfm['F_Score'].astype(str) + rfm['M_Score'].astype(str)\n",
    "\n",
    "# RFM Segmentation\n",
    "segmentation_map = {\n",
    "    r'111|112|121|131|141|151': 'Lost',\n",
    "    r'332|322|233|232|223|222|132|123|122|212|211': 'Hibernating',\n",
    "    r'311|411|331': 'At Risk',\n",
    "    r'133|134|143|244|334|343|344|144': 'Need Attention',\n",
    "    r'433|434|443|444': 'Loyal',\n",
    "    r'535|545|554|555': 'Champions'\n",
    "}\n",
    "\n",
    "rfm['Segment'] = rfm['RFM_Score'].replace(segmentation_map, regex=True)\n",
    "df = df.merge(rfm[['User_ID', 'Recency', 'Frequency', 'Monetary', 'Segment']], on='User_ID', how='left')\n",
    "\n",
    "# Fill missing segments\n",
    "df['Segment'] = df['Segment'].fillna('Other')\n",
    "\n",
    "# Display cleaned data\n",
    "print(\"\\nEnhanced data preview:\")\n",
    "display(df.head())"
   ]
  },
  {
   "cell_type": "code",
   "execution_count": 3,
   "id": "a9869a53",
   "metadata": {},
   "outputs": [
    {
     "name": "stdout",
     "output_type": "stream",
     "text": [
      "\n",
      "Statistical Analysis Results:\n",
      "ANOVA test for Spending across Age Groups: F-statistic=3.30, p-value=0.0104\n",
      "Significant differences exist between age groups\n",
      "               Multiple Comparison of Means - Tukey HSD, FWER=0.05                \n",
      "==================================================================================\n",
      "      group1              group2        meandiff p-adj    lower     upper   reject\n",
      "----------------------------------------------------------------------------------\n",
      "     Adult (30-39)  Middle Age (40-49)   96.4355 0.9616  -292.5575 485.4284  False\n",
      "     Adult (30-39)        Senior (50+)  162.6172 0.8517  -277.3898 602.6242  False\n",
      "     Adult (30-39)         Teen (0-19) -446.6601 0.2071 -1018.6437 125.3235  False\n",
      "     Adult (30-39) Young Adult (20-29) -243.1197 0.3012  -586.7545 100.5151  False\n",
      "Middle Age (40-49)        Senior (50+)   66.1817 0.9958  -416.4381 548.8016  False\n",
      "Middle Age (40-49)         Teen (0-19) -543.0956  0.103 -1148.4723  62.2811  False\n",
      "Middle Age (40-49) Young Adult (20-29) -339.5552 0.1339  -736.2926  57.1823  False\n",
      "      Senior (50+)         Teen (0-19) -609.2773 0.0704 -1248.6298  30.0751  False\n",
      "      Senior (50+) Young Adult (20-29) -405.7369 0.0959  -852.6052  41.1313  False\n",
      "       Teen (0-19) Young Adult (20-29)  203.5404 0.8722   -373.738 780.8187  False\n",
      "----------------------------------------------------------------------------------\n"
     ]
    }
   ],
   "source": [
    "# Statistical Analysis - ANOVA\n",
    "groups = [group[1]['Amount'] for group in df.groupby('Age_Category')]\n",
    "\n",
    "if all(len(group) > 1 for group in groups):\n",
    "    f_stat, p_value = stats.f_oneway(*groups)\n",
    "    print(f\"\\nStatistical Analysis Results:\")\n",
    "    print(f\"ANOVA test for Spending across Age Groups: F-statistic={f_stat:.2f}, p-value={p_value:.4f}\")\n",
    "\n",
    "    if p_value < 0.05:\n",
    "        print(\"Significant differences exist between age groups\")\n",
    "        # Post-hoc analysis\n",
    "        tukey = pairwise_tukeyhsd(df['Amount'], df['Age_Category'])\n",
    "        print(tukey.summary())\n",
    "else:\n",
    "    print(\"\\nSkipping ANOVA - insufficient group sizes\")"
   ]
  },
  {
   "cell_type": "markdown",
   "id": "f2d06d56",
   "metadata": {},
   "source": [
    "Demographic Analysis"
   ]
  },
  {
   "cell_type": "code",
   "execution_count": 5,
   "id": "644cb37b",
   "metadata": {},
   "outputs": [
    {
     "data": {
      "application/vnd.plotly.v1+json": {
       "config": {
        "plotlyServerURL": "https://plot.ly"
       },
       "data": [
        {
         "domain": {
          "x": [
           0,
           0.45
          ],
          "y": [
           0,
           1
          ]
         },
         "hole": 0.4,
         "labels": [
          "F",
          "M"
         ],
         "marker": {
          "colors": [
           "#FF9999",
           "#66B2FF"
          ]
         },
         "name": "Distribution",
         "textinfo": "percent+label",
         "type": "pie",
         "values": {
          "bdata": "mB5PDQ==",
          "dtype": "i2"
         }
        },
        {
         "domain": {
          "x": [
           0.55,
           1
          ],
          "y": [
           0,
           1
          ]
         },
         "hole": 0.4,
         "labels": [
          "F",
          "M"
         ],
         "marker": {
          "colors": [
           "#FF9999",
           "#66B2FF"
          ]
         },
         "name": "Revenue",
         "textinfo": "percent+label",
         "type": "pie",
         "values": {
          "bdata": "bUZuBDz15gE=",
          "dtype": "i4"
         }
        }
       ],
       "layout": {
        "annotations": [
         {
          "font": {
           "size": 14
          },
          "showarrow": false,
          "text": "Distribution",
          "x": 0.18,
          "xanchor": "center",
          "xref": "paper",
          "y": 0.5,
          "yanchor": "bottom",
          "yref": "paper"
         },
         {
          "font": {
           "size": 14
          },
          "showarrow": false,
          "text": "Revenue",
          "x": 0.82,
          "xanchor": "center",
          "xref": "paper",
          "y": 0.5,
          "yanchor": "bottom",
          "yref": "paper"
         }
        ],
        "height": 400,
        "showlegend": false,
        "template": {
         "data": {
          "bar": [
           {
            "error_x": {
             "color": "#2a3f5f"
            },
            "error_y": {
             "color": "#2a3f5f"
            },
            "marker": {
             "line": {
              "color": "#E5ECF6",
              "width": 0.5
             },
             "pattern": {
              "fillmode": "overlay",
              "size": 10,
              "solidity": 0.2
             }
            },
            "type": "bar"
           }
          ],
          "barpolar": [
           {
            "marker": {
             "line": {
              "color": "#E5ECF6",
              "width": 0.5
             },
             "pattern": {
              "fillmode": "overlay",
              "size": 10,
              "solidity": 0.2
             }
            },
            "type": "barpolar"
           }
          ],
          "carpet": [
           {
            "aaxis": {
             "endlinecolor": "#2a3f5f",
             "gridcolor": "white",
             "linecolor": "white",
             "minorgridcolor": "white",
             "startlinecolor": "#2a3f5f"
            },
            "baxis": {
             "endlinecolor": "#2a3f5f",
             "gridcolor": "white",
             "linecolor": "white",
             "minorgridcolor": "white",
             "startlinecolor": "#2a3f5f"
            },
            "type": "carpet"
           }
          ],
          "choropleth": [
           {
            "colorbar": {
             "outlinewidth": 0,
             "ticks": ""
            },
            "type": "choropleth"
           }
          ],
          "contour": [
           {
            "colorbar": {
             "outlinewidth": 0,
             "ticks": ""
            },
            "colorscale": [
             [
              0,
              "#0d0887"
             ],
             [
              0.1111111111111111,
              "#46039f"
             ],
             [
              0.2222222222222222,
              "#7201a8"
             ],
             [
              0.3333333333333333,
              "#9c179e"
             ],
             [
              0.4444444444444444,
              "#bd3786"
             ],
             [
              0.5555555555555556,
              "#d8576b"
             ],
             [
              0.6666666666666666,
              "#ed7953"
             ],
             [
              0.7777777777777778,
              "#fb9f3a"
             ],
             [
              0.8888888888888888,
              "#fdca26"
             ],
             [
              1,
              "#f0f921"
             ]
            ],
            "type": "contour"
           }
          ],
          "contourcarpet": [
           {
            "colorbar": {
             "outlinewidth": 0,
             "ticks": ""
            },
            "type": "contourcarpet"
           }
          ],
          "heatmap": [
           {
            "colorbar": {
             "outlinewidth": 0,
             "ticks": ""
            },
            "colorscale": [
             [
              0,
              "#0d0887"
             ],
             [
              0.1111111111111111,
              "#46039f"
             ],
             [
              0.2222222222222222,
              "#7201a8"
             ],
             [
              0.3333333333333333,
              "#9c179e"
             ],
             [
              0.4444444444444444,
              "#bd3786"
             ],
             [
              0.5555555555555556,
              "#d8576b"
             ],
             [
              0.6666666666666666,
              "#ed7953"
             ],
             [
              0.7777777777777778,
              "#fb9f3a"
             ],
             [
              0.8888888888888888,
              "#fdca26"
             ],
             [
              1,
              "#f0f921"
             ]
            ],
            "type": "heatmap"
           }
          ],
          "histogram": [
           {
            "marker": {
             "pattern": {
              "fillmode": "overlay",
              "size": 10,
              "solidity": 0.2
             }
            },
            "type": "histogram"
           }
          ],
          "histogram2d": [
           {
            "colorbar": {
             "outlinewidth": 0,
             "ticks": ""
            },
            "colorscale": [
             [
              0,
              "#0d0887"
             ],
             [
              0.1111111111111111,
              "#46039f"
             ],
             [
              0.2222222222222222,
              "#7201a8"
             ],
             [
              0.3333333333333333,
              "#9c179e"
             ],
             [
              0.4444444444444444,
              "#bd3786"
             ],
             [
              0.5555555555555556,
              "#d8576b"
             ],
             [
              0.6666666666666666,
              "#ed7953"
             ],
             [
              0.7777777777777778,
              "#fb9f3a"
             ],
             [
              0.8888888888888888,
              "#fdca26"
             ],
             [
              1,
              "#f0f921"
             ]
            ],
            "type": "histogram2d"
           }
          ],
          "histogram2dcontour": [
           {
            "colorbar": {
             "outlinewidth": 0,
             "ticks": ""
            },
            "colorscale": [
             [
              0,
              "#0d0887"
             ],
             [
              0.1111111111111111,
              "#46039f"
             ],
             [
              0.2222222222222222,
              "#7201a8"
             ],
             [
              0.3333333333333333,
              "#9c179e"
             ],
             [
              0.4444444444444444,
              "#bd3786"
             ],
             [
              0.5555555555555556,
              "#d8576b"
             ],
             [
              0.6666666666666666,
              "#ed7953"
             ],
             [
              0.7777777777777778,
              "#fb9f3a"
             ],
             [
              0.8888888888888888,
              "#fdca26"
             ],
             [
              1,
              "#f0f921"
             ]
            ],
            "type": "histogram2dcontour"
           }
          ],
          "mesh3d": [
           {
            "colorbar": {
             "outlinewidth": 0,
             "ticks": ""
            },
            "type": "mesh3d"
           }
          ],
          "parcoords": [
           {
            "line": {
             "colorbar": {
              "outlinewidth": 0,
              "ticks": ""
             }
            },
            "type": "parcoords"
           }
          ],
          "pie": [
           {
            "automargin": true,
            "type": "pie"
           }
          ],
          "scatter": [
           {
            "fillpattern": {
             "fillmode": "overlay",
             "size": 10,
             "solidity": 0.2
            },
            "type": "scatter"
           }
          ],
          "scatter3d": [
           {
            "line": {
             "colorbar": {
              "outlinewidth": 0,
              "ticks": ""
             }
            },
            "marker": {
             "colorbar": {
              "outlinewidth": 0,
              "ticks": ""
             }
            },
            "type": "scatter3d"
           }
          ],
          "scattercarpet": [
           {
            "marker": {
             "colorbar": {
              "outlinewidth": 0,
              "ticks": ""
             }
            },
            "type": "scattercarpet"
           }
          ],
          "scattergeo": [
           {
            "marker": {
             "colorbar": {
              "outlinewidth": 0,
              "ticks": ""
             }
            },
            "type": "scattergeo"
           }
          ],
          "scattergl": [
           {
            "marker": {
             "colorbar": {
              "outlinewidth": 0,
              "ticks": ""
             }
            },
            "type": "scattergl"
           }
          ],
          "scattermap": [
           {
            "marker": {
             "colorbar": {
              "outlinewidth": 0,
              "ticks": ""
             }
            },
            "type": "scattermap"
           }
          ],
          "scattermapbox": [
           {
            "marker": {
             "colorbar": {
              "outlinewidth": 0,
              "ticks": ""
             }
            },
            "type": "scattermapbox"
           }
          ],
          "scatterpolar": [
           {
            "marker": {
             "colorbar": {
              "outlinewidth": 0,
              "ticks": ""
             }
            },
            "type": "scatterpolar"
           }
          ],
          "scatterpolargl": [
           {
            "marker": {
             "colorbar": {
              "outlinewidth": 0,
              "ticks": ""
             }
            },
            "type": "scatterpolargl"
           }
          ],
          "scatterternary": [
           {
            "marker": {
             "colorbar": {
              "outlinewidth": 0,
              "ticks": ""
             }
            },
            "type": "scatterternary"
           }
          ],
          "surface": [
           {
            "colorbar": {
             "outlinewidth": 0,
             "ticks": ""
            },
            "colorscale": [
             [
              0,
              "#0d0887"
             ],
             [
              0.1111111111111111,
              "#46039f"
             ],
             [
              0.2222222222222222,
              "#7201a8"
             ],
             [
              0.3333333333333333,
              "#9c179e"
             ],
             [
              0.4444444444444444,
              "#bd3786"
             ],
             [
              0.5555555555555556,
              "#d8576b"
             ],
             [
              0.6666666666666666,
              "#ed7953"
             ],
             [
              0.7777777777777778,
              "#fb9f3a"
             ],
             [
              0.8888888888888888,
              "#fdca26"
             ],
             [
              1,
              "#f0f921"
             ]
            ],
            "type": "surface"
           }
          ],
          "table": [
           {
            "cells": {
             "fill": {
              "color": "#EBF0F8"
             },
             "line": {
              "color": "white"
             }
            },
            "header": {
             "fill": {
              "color": "#C8D4E3"
             },
             "line": {
              "color": "white"
             }
            },
            "type": "table"
           }
          ]
         },
         "layout": {
          "annotationdefaults": {
           "arrowcolor": "#2a3f5f",
           "arrowhead": 0,
           "arrowwidth": 1
          },
          "autotypenumbers": "strict",
          "coloraxis": {
           "colorbar": {
            "outlinewidth": 0,
            "ticks": ""
           }
          },
          "colorscale": {
           "diverging": [
            [
             0,
             "#8e0152"
            ],
            [
             0.1,
             "#c51b7d"
            ],
            [
             0.2,
             "#de77ae"
            ],
            [
             0.3,
             "#f1b6da"
            ],
            [
             0.4,
             "#fde0ef"
            ],
            [
             0.5,
             "#f7f7f7"
            ],
            [
             0.6,
             "#e6f5d0"
            ],
            [
             0.7,
             "#b8e186"
            ],
            [
             0.8,
             "#7fbc41"
            ],
            [
             0.9,
             "#4d9221"
            ],
            [
             1,
             "#276419"
            ]
           ],
           "sequential": [
            [
             0,
             "#0d0887"
            ],
            [
             0.1111111111111111,
             "#46039f"
            ],
            [
             0.2222222222222222,
             "#7201a8"
            ],
            [
             0.3333333333333333,
             "#9c179e"
            ],
            [
             0.4444444444444444,
             "#bd3786"
            ],
            [
             0.5555555555555556,
             "#d8576b"
            ],
            [
             0.6666666666666666,
             "#ed7953"
            ],
            [
             0.7777777777777778,
             "#fb9f3a"
            ],
            [
             0.8888888888888888,
             "#fdca26"
            ],
            [
             1,
             "#f0f921"
            ]
           ],
           "sequentialminus": [
            [
             0,
             "#0d0887"
            ],
            [
             0.1111111111111111,
             "#46039f"
            ],
            [
             0.2222222222222222,
             "#7201a8"
            ],
            [
             0.3333333333333333,
             "#9c179e"
            ],
            [
             0.4444444444444444,
             "#bd3786"
            ],
            [
             0.5555555555555556,
             "#d8576b"
            ],
            [
             0.6666666666666666,
             "#ed7953"
            ],
            [
             0.7777777777777778,
             "#fb9f3a"
            ],
            [
             0.8888888888888888,
             "#fdca26"
            ],
            [
             1,
             "#f0f921"
            ]
           ]
          },
          "colorway": [
           "#636efa",
           "#EF553B",
           "#00cc96",
           "#ab63fa",
           "#FFA15A",
           "#19d3f3",
           "#FF6692",
           "#B6E880",
           "#FF97FF",
           "#FECB52"
          ],
          "font": {
           "color": "#2a3f5f"
          },
          "geo": {
           "bgcolor": "white",
           "lakecolor": "white",
           "landcolor": "#E5ECF6",
           "showlakes": true,
           "showland": true,
           "subunitcolor": "white"
          },
          "hoverlabel": {
           "align": "left"
          },
          "hovermode": "closest",
          "mapbox": {
           "style": "light"
          },
          "paper_bgcolor": "white",
          "plot_bgcolor": "#E5ECF6",
          "polar": {
           "angularaxis": {
            "gridcolor": "white",
            "linecolor": "white",
            "ticks": ""
           },
           "bgcolor": "#E5ECF6",
           "radialaxis": {
            "gridcolor": "white",
            "linecolor": "white",
            "ticks": ""
           }
          },
          "scene": {
           "xaxis": {
            "backgroundcolor": "#E5ECF6",
            "gridcolor": "white",
            "gridwidth": 2,
            "linecolor": "white",
            "showbackground": true,
            "ticks": "",
            "zerolinecolor": "white"
           },
           "yaxis": {
            "backgroundcolor": "#E5ECF6",
            "gridcolor": "white",
            "gridwidth": 2,
            "linecolor": "white",
            "showbackground": true,
            "ticks": "",
            "zerolinecolor": "white"
           },
           "zaxis": {
            "backgroundcolor": "#E5ECF6",
            "gridcolor": "white",
            "gridwidth": 2,
            "linecolor": "white",
            "showbackground": true,
            "ticks": "",
            "zerolinecolor": "white"
           }
          },
          "shapedefaults": {
           "line": {
            "color": "#2a3f5f"
           }
          },
          "ternary": {
           "aaxis": {
            "gridcolor": "white",
            "linecolor": "white",
            "ticks": ""
           },
           "baxis": {
            "gridcolor": "white",
            "linecolor": "white",
            "ticks": ""
           },
           "bgcolor": "#E5ECF6",
           "caxis": {
            "gridcolor": "white",
            "linecolor": "white",
            "ticks": ""
           }
          },
          "title": {
           "x": 0.05
          },
          "xaxis": {
           "automargin": true,
           "gridcolor": "white",
           "linecolor": "white",
           "ticks": "",
           "title": {
            "standoff": 15
           },
           "zerolinecolor": "white",
           "zerolinewidth": 2
          },
          "yaxis": {
           "automargin": true,
           "gridcolor": "white",
           "linecolor": "white",
           "ticks": "",
           "title": {
            "standoff": 15
           },
           "zerolinecolor": "white",
           "zerolinewidth": 2
          }
         }
        },
        "title": {
         "text": "Gender Analysis"
        }
       }
      }
     },
     "metadata": {},
     "output_type": "display_data"
    },
    {
     "data": {
      "application/vnd.plotly.v1+json": {
       "config": {
        "plotlyServerURL": "https://plot.ly"
       },
       "data": [
        {
         "marker": {
          "color": "#1f77b4"
         },
         "name": "Customers",
         "text": {
          "bdata": "AAAAAABMrEAAAAAAAIapQAAAAAAAoKBAAAAAAAAIl0AAAAAAAGCHQA==",
          "dtype": "f8"
         },
         "textposition": "auto",
         "type": "bar",
         "x": [
          "Adult (30-39)",
          "Young Adult (20-29)",
          "Middle Age (40-49)",
          "Senior (50+)",
          "Teen (0-19)"
         ],
         "xaxis": "x",
         "y": {
          "bdata": "Jg7DDFAIwgXsAg==",
          "dtype": "i2"
         },
         "yaxis": "y"
        },
        {
         "marker": {
          "color": "#ff7f0e"
         },
         "name": "Revenue",
         "text": [
          "₹34.5M",
          "₹30.3M",
          "₹20.5M",
          "₹14.3M",
          "₹6.8M"
         ],
         "textposition": "auto",
         "type": "bar",
         "x": [
          "Adult (30-39)",
          "Young Adult (20-29)",
          "Middle Age (40-49)",
          "Senior (50+)",
          "Teen (0-19)"
         ],
         "xaxis": "x2",
         "y": {
          "bdata": "NdYNAsEtzgFBEjgBlKbZAN5+ZwA=",
          "dtype": "i4"
         },
         "yaxis": "y2"
        }
       ],
       "layout": {
        "annotations": [
         {
          "font": {
           "size": 16
          },
          "showarrow": false,
          "text": "Customer Distribution",
          "x": 0.225,
          "xanchor": "center",
          "xref": "paper",
          "y": 1,
          "yanchor": "bottom",
          "yref": "paper"
         },
         {
          "font": {
           "size": 16
          },
          "showarrow": false,
          "text": "Revenue Contribution",
          "x": 0.775,
          "xanchor": "center",
          "xref": "paper",
          "y": 1,
          "yanchor": "bottom",
          "yref": "paper"
         }
        ],
        "height": 500,
        "showlegend": false,
        "template": {
         "data": {
          "bar": [
           {
            "error_x": {
             "color": "#2a3f5f"
            },
            "error_y": {
             "color": "#2a3f5f"
            },
            "marker": {
             "line": {
              "color": "#E5ECF6",
              "width": 0.5
             },
             "pattern": {
              "fillmode": "overlay",
              "size": 10,
              "solidity": 0.2
             }
            },
            "type": "bar"
           }
          ],
          "barpolar": [
           {
            "marker": {
             "line": {
              "color": "#E5ECF6",
              "width": 0.5
             },
             "pattern": {
              "fillmode": "overlay",
              "size": 10,
              "solidity": 0.2
             }
            },
            "type": "barpolar"
           }
          ],
          "carpet": [
           {
            "aaxis": {
             "endlinecolor": "#2a3f5f",
             "gridcolor": "white",
             "linecolor": "white",
             "minorgridcolor": "white",
             "startlinecolor": "#2a3f5f"
            },
            "baxis": {
             "endlinecolor": "#2a3f5f",
             "gridcolor": "white",
             "linecolor": "white",
             "minorgridcolor": "white",
             "startlinecolor": "#2a3f5f"
            },
            "type": "carpet"
           }
          ],
          "choropleth": [
           {
            "colorbar": {
             "outlinewidth": 0,
             "ticks": ""
            },
            "type": "choropleth"
           }
          ],
          "contour": [
           {
            "colorbar": {
             "outlinewidth": 0,
             "ticks": ""
            },
            "colorscale": [
             [
              0,
              "#0d0887"
             ],
             [
              0.1111111111111111,
              "#46039f"
             ],
             [
              0.2222222222222222,
              "#7201a8"
             ],
             [
              0.3333333333333333,
              "#9c179e"
             ],
             [
              0.4444444444444444,
              "#bd3786"
             ],
             [
              0.5555555555555556,
              "#d8576b"
             ],
             [
              0.6666666666666666,
              "#ed7953"
             ],
             [
              0.7777777777777778,
              "#fb9f3a"
             ],
             [
              0.8888888888888888,
              "#fdca26"
             ],
             [
              1,
              "#f0f921"
             ]
            ],
            "type": "contour"
           }
          ],
          "contourcarpet": [
           {
            "colorbar": {
             "outlinewidth": 0,
             "ticks": ""
            },
            "type": "contourcarpet"
           }
          ],
          "heatmap": [
           {
            "colorbar": {
             "outlinewidth": 0,
             "ticks": ""
            },
            "colorscale": [
             [
              0,
              "#0d0887"
             ],
             [
              0.1111111111111111,
              "#46039f"
             ],
             [
              0.2222222222222222,
              "#7201a8"
             ],
             [
              0.3333333333333333,
              "#9c179e"
             ],
             [
              0.4444444444444444,
              "#bd3786"
             ],
             [
              0.5555555555555556,
              "#d8576b"
             ],
             [
              0.6666666666666666,
              "#ed7953"
             ],
             [
              0.7777777777777778,
              "#fb9f3a"
             ],
             [
              0.8888888888888888,
              "#fdca26"
             ],
             [
              1,
              "#f0f921"
             ]
            ],
            "type": "heatmap"
           }
          ],
          "histogram": [
           {
            "marker": {
             "pattern": {
              "fillmode": "overlay",
              "size": 10,
              "solidity": 0.2
             }
            },
            "type": "histogram"
           }
          ],
          "histogram2d": [
           {
            "colorbar": {
             "outlinewidth": 0,
             "ticks": ""
            },
            "colorscale": [
             [
              0,
              "#0d0887"
             ],
             [
              0.1111111111111111,
              "#46039f"
             ],
             [
              0.2222222222222222,
              "#7201a8"
             ],
             [
              0.3333333333333333,
              "#9c179e"
             ],
             [
              0.4444444444444444,
              "#bd3786"
             ],
             [
              0.5555555555555556,
              "#d8576b"
             ],
             [
              0.6666666666666666,
              "#ed7953"
             ],
             [
              0.7777777777777778,
              "#fb9f3a"
             ],
             [
              0.8888888888888888,
              "#fdca26"
             ],
             [
              1,
              "#f0f921"
             ]
            ],
            "type": "histogram2d"
           }
          ],
          "histogram2dcontour": [
           {
            "colorbar": {
             "outlinewidth": 0,
             "ticks": ""
            },
            "colorscale": [
             [
              0,
              "#0d0887"
             ],
             [
              0.1111111111111111,
              "#46039f"
             ],
             [
              0.2222222222222222,
              "#7201a8"
             ],
             [
              0.3333333333333333,
              "#9c179e"
             ],
             [
              0.4444444444444444,
              "#bd3786"
             ],
             [
              0.5555555555555556,
              "#d8576b"
             ],
             [
              0.6666666666666666,
              "#ed7953"
             ],
             [
              0.7777777777777778,
              "#fb9f3a"
             ],
             [
              0.8888888888888888,
              "#fdca26"
             ],
             [
              1,
              "#f0f921"
             ]
            ],
            "type": "histogram2dcontour"
           }
          ],
          "mesh3d": [
           {
            "colorbar": {
             "outlinewidth": 0,
             "ticks": ""
            },
            "type": "mesh3d"
           }
          ],
          "parcoords": [
           {
            "line": {
             "colorbar": {
              "outlinewidth": 0,
              "ticks": ""
             }
            },
            "type": "parcoords"
           }
          ],
          "pie": [
           {
            "automargin": true,
            "type": "pie"
           }
          ],
          "scatter": [
           {
            "fillpattern": {
             "fillmode": "overlay",
             "size": 10,
             "solidity": 0.2
            },
            "type": "scatter"
           }
          ],
          "scatter3d": [
           {
            "line": {
             "colorbar": {
              "outlinewidth": 0,
              "ticks": ""
             }
            },
            "marker": {
             "colorbar": {
              "outlinewidth": 0,
              "ticks": ""
             }
            },
            "type": "scatter3d"
           }
          ],
          "scattercarpet": [
           {
            "marker": {
             "colorbar": {
              "outlinewidth": 0,
              "ticks": ""
             }
            },
            "type": "scattercarpet"
           }
          ],
          "scattergeo": [
           {
            "marker": {
             "colorbar": {
              "outlinewidth": 0,
              "ticks": ""
             }
            },
            "type": "scattergeo"
           }
          ],
          "scattergl": [
           {
            "marker": {
             "colorbar": {
              "outlinewidth": 0,
              "ticks": ""
             }
            },
            "type": "scattergl"
           }
          ],
          "scattermap": [
           {
            "marker": {
             "colorbar": {
              "outlinewidth": 0,
              "ticks": ""
             }
            },
            "type": "scattermap"
           }
          ],
          "scattermapbox": [
           {
            "marker": {
             "colorbar": {
              "outlinewidth": 0,
              "ticks": ""
             }
            },
            "type": "scattermapbox"
           }
          ],
          "scatterpolar": [
           {
            "marker": {
             "colorbar": {
              "outlinewidth": 0,
              "ticks": ""
             }
            },
            "type": "scatterpolar"
           }
          ],
          "scatterpolargl": [
           {
            "marker": {
             "colorbar": {
              "outlinewidth": 0,
              "ticks": ""
             }
            },
            "type": "scatterpolargl"
           }
          ],
          "scatterternary": [
           {
            "marker": {
             "colorbar": {
              "outlinewidth": 0,
              "ticks": ""
             }
            },
            "type": "scatterternary"
           }
          ],
          "surface": [
           {
            "colorbar": {
             "outlinewidth": 0,
             "ticks": ""
            },
            "colorscale": [
             [
              0,
              "#0d0887"
             ],
             [
              0.1111111111111111,
              "#46039f"
             ],
             [
              0.2222222222222222,
              "#7201a8"
             ],
             [
              0.3333333333333333,
              "#9c179e"
             ],
             [
              0.4444444444444444,
              "#bd3786"
             ],
             [
              0.5555555555555556,
              "#d8576b"
             ],
             [
              0.6666666666666666,
              "#ed7953"
             ],
             [
              0.7777777777777778,
              "#fb9f3a"
             ],
             [
              0.8888888888888888,
              "#fdca26"
             ],
             [
              1,
              "#f0f921"
             ]
            ],
            "type": "surface"
           }
          ],
          "table": [
           {
            "cells": {
             "fill": {
              "color": "#EBF0F8"
             },
             "line": {
              "color": "white"
             }
            },
            "header": {
             "fill": {
              "color": "#C8D4E3"
             },
             "line": {
              "color": "white"
             }
            },
            "type": "table"
           }
          ]
         },
         "layout": {
          "annotationdefaults": {
           "arrowcolor": "#2a3f5f",
           "arrowhead": 0,
           "arrowwidth": 1
          },
          "autotypenumbers": "strict",
          "coloraxis": {
           "colorbar": {
            "outlinewidth": 0,
            "ticks": ""
           }
          },
          "colorscale": {
           "diverging": [
            [
             0,
             "#8e0152"
            ],
            [
             0.1,
             "#c51b7d"
            ],
            [
             0.2,
             "#de77ae"
            ],
            [
             0.3,
             "#f1b6da"
            ],
            [
             0.4,
             "#fde0ef"
            ],
            [
             0.5,
             "#f7f7f7"
            ],
            [
             0.6,
             "#e6f5d0"
            ],
            [
             0.7,
             "#b8e186"
            ],
            [
             0.8,
             "#7fbc41"
            ],
            [
             0.9,
             "#4d9221"
            ],
            [
             1,
             "#276419"
            ]
           ],
           "sequential": [
            [
             0,
             "#0d0887"
            ],
            [
             0.1111111111111111,
             "#46039f"
            ],
            [
             0.2222222222222222,
             "#7201a8"
            ],
            [
             0.3333333333333333,
             "#9c179e"
            ],
            [
             0.4444444444444444,
             "#bd3786"
            ],
            [
             0.5555555555555556,
             "#d8576b"
            ],
            [
             0.6666666666666666,
             "#ed7953"
            ],
            [
             0.7777777777777778,
             "#fb9f3a"
            ],
            [
             0.8888888888888888,
             "#fdca26"
            ],
            [
             1,
             "#f0f921"
            ]
           ],
           "sequentialminus": [
            [
             0,
             "#0d0887"
            ],
            [
             0.1111111111111111,
             "#46039f"
            ],
            [
             0.2222222222222222,
             "#7201a8"
            ],
            [
             0.3333333333333333,
             "#9c179e"
            ],
            [
             0.4444444444444444,
             "#bd3786"
            ],
            [
             0.5555555555555556,
             "#d8576b"
            ],
            [
             0.6666666666666666,
             "#ed7953"
            ],
            [
             0.7777777777777778,
             "#fb9f3a"
            ],
            [
             0.8888888888888888,
             "#fdca26"
            ],
            [
             1,
             "#f0f921"
            ]
           ]
          },
          "colorway": [
           "#636efa",
           "#EF553B",
           "#00cc96",
           "#ab63fa",
           "#FFA15A",
           "#19d3f3",
           "#FF6692",
           "#B6E880",
           "#FF97FF",
           "#FECB52"
          ],
          "font": {
           "color": "#2a3f5f"
          },
          "geo": {
           "bgcolor": "white",
           "lakecolor": "white",
           "landcolor": "#E5ECF6",
           "showlakes": true,
           "showland": true,
           "subunitcolor": "white"
          },
          "hoverlabel": {
           "align": "left"
          },
          "hovermode": "closest",
          "mapbox": {
           "style": "light"
          },
          "paper_bgcolor": "white",
          "plot_bgcolor": "#E5ECF6",
          "polar": {
           "angularaxis": {
            "gridcolor": "white",
            "linecolor": "white",
            "ticks": ""
           },
           "bgcolor": "#E5ECF6",
           "radialaxis": {
            "gridcolor": "white",
            "linecolor": "white",
            "ticks": ""
           }
          },
          "scene": {
           "xaxis": {
            "backgroundcolor": "#E5ECF6",
            "gridcolor": "white",
            "gridwidth": 2,
            "linecolor": "white",
            "showbackground": true,
            "ticks": "",
            "zerolinecolor": "white"
           },
           "yaxis": {
            "backgroundcolor": "#E5ECF6",
            "gridcolor": "white",
            "gridwidth": 2,
            "linecolor": "white",
            "showbackground": true,
            "ticks": "",
            "zerolinecolor": "white"
           },
           "zaxis": {
            "backgroundcolor": "#E5ECF6",
            "gridcolor": "white",
            "gridwidth": 2,
            "linecolor": "white",
            "showbackground": true,
            "ticks": "",
            "zerolinecolor": "white"
           }
          },
          "shapedefaults": {
           "line": {
            "color": "#2a3f5f"
           }
          },
          "ternary": {
           "aaxis": {
            "gridcolor": "white",
            "linecolor": "white",
            "ticks": ""
           },
           "baxis": {
            "gridcolor": "white",
            "linecolor": "white",
            "ticks": ""
           },
           "bgcolor": "#E5ECF6",
           "caxis": {
            "gridcolor": "white",
            "linecolor": "white",
            "ticks": ""
           }
          },
          "title": {
           "x": 0.05
          },
          "xaxis": {
           "automargin": true,
           "gridcolor": "white",
           "linecolor": "white",
           "ticks": "",
           "title": {
            "standoff": 15
           },
           "zerolinecolor": "white",
           "zerolinewidth": 2
          },
          "yaxis": {
           "automargin": true,
           "gridcolor": "white",
           "linecolor": "white",
           "ticks": "",
           "title": {
            "standoff": 15
           },
           "zerolinecolor": "white",
           "zerolinewidth": 2
          }
         }
        },
        "title": {
         "text": "Age Group Analysis"
        },
        "xaxis": {
         "anchor": "y",
         "domain": [
          0,
          0.45
         ]
        },
        "xaxis2": {
         "anchor": "y2",
         "domain": [
          0.55,
          1
         ]
        },
        "yaxis": {
         "anchor": "x",
         "domain": [
          0,
          1
         ],
         "title": {
          "text": "Number of Customers"
         }
        },
        "yaxis2": {
         "anchor": "x2",
         "domain": [
          0,
          1
         ],
         "title": {
          "text": "Revenue (₹)"
         }
        }
       }
      }
     },
     "metadata": {},
     "output_type": "display_data"
    },
    {
     "data": {
      "application/vnd.plotly.v1+json": {
       "config": {
        "plotlyServerURL": "https://plot.ly"
       },
       "data": [
        {
         "hovertemplate": "<b>%{hovertext}</b><br><br>Gender=F<br>Married=1<br>Age=%{x}<br>Amount=%{y}<br>Orders=%{z}<extra></extra>",
         "hovertext": [
          "Kunst",
          "Aniket",
          "Pauline",
          "Valerie",
          "Sunley",
          "Ivan",
          "Aditya",
          "Champaklata",
          "Cazamias",
          "Sarita",
          "Soltero",
          "McAdams",
          "Chong",
          "Bhosale",
          "Vishakha",
          "Teena",
          "Hitesh",
          "Eudokia",
          "Parnavi",
          "Ishit",
          "Meghana",
          "Mansi",
          "Becker",
          "Grove",
          "Guy",
          "Don",
          "Shruti",
          "Theresa",
          "Troy",
          "Harold",
          "Shivam",
          "Christensen",
          "Hazard",
          "Swindell",
          "Sweta",
          "Lloyd",
          "LaWare",
          "Ivan",
          "Arun",
          "Roy",
          "Swint",
          "Kendrick",
          "Kane",
          "Priyanka",
          "Sudevi",
          "Jackson",
          "McGuire",
          "Charika",
          "Phillip",
          "Eleni",
          "Shaily",
          "Fisher",
          "Hilary",
          "Dilbeck",
          "Pistole",
          "Bremer",
          "Swati",
          "Yotov",
          "Jacobs",
          "Andreada",
          "Overcash",
          "Stuart",
          "Keith",
          "Palak",
          "Ritsa",
          "Gjertsen",
          "Nockton",
          "Huthwaite",
          "Suhani",
          "Matthew",
          "Sylvia",
          "Evan",
          "Daksh",
          "VanderZanden",
          "Mrinal",
          "Chad",
          "Pippenger",
          "Jane",
          "Thurman",
          "Mull",
          "Fisher",
          "Yash",
          "Kartik",
          "Hernandez",
          "Anita",
          "Shubham",
          "Carter",
          "Foster",
          "Gardner",
          "Ludwig",
          "Victor",
          "Hildebrand",
          "Daksh",
          "Staavos",
          "Overfelt",
          "Dartt",
          "Pranjali",
          "Gardner",
          "Crebagga",
          "Latchford",
          "Murry",
          "Maithilee",
          "Brosina",
          "Haushalter",
          "Elias",
          "Clytie",
          "Aarushi",
          "Sonal",
          "Vaibhav",
          "Turumella",
          "Dorothy",
          "Ritter",
          "Akash",
          "Lawera",
          "Joseph",
          "Shourya",
          "Toch",
          "Manshul",
          "Gibson",
          "Berenike",
          "Jasper",
          "Jaydeep",
          "Huthwaite",
          "Hazel",
          "Monu",
          "Aryan",
          "Cunningham",
          "Grove",
          "Atharv",
          "Kamberova",
          "Gibson",
          "Willman",
          "Cynthia",
          "Bathina",
          "Eaton",
          "Troy",
          "Mane",
          "Lori",
          "Garverick",
          "Wasserman",
          "Wallace",
          "Dave",
          "Ross",
          "Soumya",
          "Jim",
          "Catlett",
          "Carlisle",
          "Andreadi",
          "Ryan",
          "Madhulika",
          "Seio",
          "Arianne",
          "Dorothy",
          "Gonzalez",
          "Craig",
          "Conant",
          "West",
          "Lauren",
          "Bavinger",
          "Sanskriti",
          "Brooke",
          "Nida",
          "Hwang",
          "Norvell",
          "Aditi",
          "Johnson",
          "Rutuja",
          "Mitali",
          "Sweta",
          "Chirag",
          "Lisa",
          "Eva",
          "Sanjova",
          "Flashing",
          "Sharelle",
          "Moffitt",
          "Foster",
          "Irene",
          "Noopur",
          "Maithilee",
          "McGuire",
          "Reed",
          "Aparajita",
          "Manish",
          "Avish",
          "Thais",
          "Akshat",
          "Ankit",
          "Monu",
          "Donatelli",
          "Balk",
          "Sheetal",
          "Charika",
          "Ballentine",
          "Brumfield",
          "Venier",
          "Bertelson",
          "Brown",
          "Patricia",
          "Bell-",
          "Anubhaw",
          "Yaanvi",
          "Ankur",
          "Elizabeth",
          "Corinna",
          "Jackson",
          "Lisha",
          "Foster",
          "Ryan",
          "Rohit",
          "Nikhil",
          "Kalyca",
          "Parth",
          "Seio",
          "Swapnil",
          "Brown",
          "Ratner",
          "Andreadi",
          "Mukesh",
          "Braxton",
          "Glassco",
          "Ashbrook",
          "Lela",
          "Teena",
          "Kartikay",
          "O'Brill",
          "Turumella",
          "Megha",
          "Staebel",
          "Bierner",
          "Hazel",
          "Shreyshi",
          "Swati",
          "Akash",
          "Coram",
          "Sandra",
          "Patricia",
          "Kastensmidt",
          "Sukrith",
          "Helen",
          "Hernandez",
          "Shaily",
          "Goldenen",
          "Chirag",
          "Paige",
          "Doherty",
          "Moren",
          "Epp",
          "Seite",
          "Aastha",
          "Rick",
          "Sweta",
          "Elias",
          "Anand",
          "Lisa",
          "Trudy",
          "Srishti",
          "Hendricks",
          "Muhammed",
          "Suhani",
          "Crestani",
          "Dennis",
          "Chirag",
          "Ishit",
          "Surbhi",
          "Kshitij",
          "Toch",
          "LaWare",
          "Neil",
          "Pawlan",
          "Subhashree",
          "Ed",
          "Aishwarya",
          "Grant",
          "Monisha",
          "Coakley",
          "Vaibhav",
          "Adrian",
          "Georgia",
          "McFarland",
          "Sharda"
         ],
         "legendgroup": "F, 1",
         "marker": {
          "color": "#FF9999",
          "opacity": 0.7,
          "symbol": "circle"
         },
         "mode": "markers",
         "name": "F, 1",
         "scene": "scene",
         "showlegend": true,
         "type": "scatter3d",
         "x": {
          "bdata": "HyswLBsfISdFISAnFRUjHxMhEx0TDTQUIx4ZHBoXGh0oExoQHBohFx8ZJhgaJB8eFRwzLTYfGh4eHScdMBceIzMwHSwkGR4vFBsYKFEjIxQnIBowJBYyGSAmHy0TIRUeHR8vHCIWHxwhICYuHxwiJBomLRwgFykaKistIiMtDBMcKR0eKhobWzYrGCIsIxwcMhkjG04pHSMiFBQiLigwHyI2IBgTIzQhICwTGS4SLxgSHjMYHRUxJxwbHR0cGBcbHxUoIx0fJC4fLhsrFCQfHyAaMhowGy0ZIiEgHjUzJi0nFCMTLTQdHyEiGBcqHiQXMhUoIRkeIx0pFy4jHSsXLhUsHyodGR8eNyAqGysUIRQ1HCMwJhMqHh4=",
          "dtype": "i1"
         },
         "y": {
          "bdata": "CCdUT8Eftw23DsEbgSb/MnkU+QsCJ/Qtgj7+HkYi8C5kJh9Czhf/JkYMdCDVMSEuhhTiCJUsrA31DfchMA73HhQqhxQpD1I1rA5IP3IFdxRgP1cV1BrsO28w4x4zQPM7Sh4GUKMhpy6KIBUIAAkBQvs7+T8iPtke6C5BLQgcZg/BH4wfOEwlGxIyJxW4FFsiViJKJyMUhR42QJFamAUFP5kb+xozMXEnaB+mF9Ubzx/nPqFM3B5VNcoQVAkEHM4Pkx98H749KBUqNX4tkUH5DZQtFA+cF10/tUA7H5gXGBsjKqgGmzTeFOo/2C6DIsIWNyUzL+MaEyKCBaAueC5CLoAeIBd4G6A/mS3cLk87ZRf3HEEvFR4XDHYiIEGaF05QGS4RPf8lKCJjDdcahTCGFNYL80p4IoMuUggPSqYfVBdDLwUmDicRG/hLmSDmCh8z50tEMdYdkif5LZktFRXLSVkqrBnBO3wi3CE4Er4uniFoH9kOmSCjC5Eprx6tH58m7xcPINMWsD37FoYQ9ReRShYcPx9dFQdajgVhH4cIGSd3G7YbAEL4KR8imBA3BoQIpippLvw7ThRRHx4fDBh8JjNLaRRvG3s9jBt9F447TUooBP0fHxULHPMa6QtoLUUVFyKAGxUVoRcoBuoPTktYCcxAZBclF3YULj6oCLQiKCaMIXMvbR59SxMbES9OFO0fEBurPOkC6CzAUb1NIyLkIVlMqEoeImImcTwRPb4wgBGnHg==",
          "dtype": "i2"
         },
         "z": {
          "bdata": "AwEEAQQCBAQBBAIBBAQCBAMDBAQEBAMBAwIEAQQBAwECAQQEBAMBBAIBBAQEAwEEAgEDAQQCAQIBBAQEAwIDAgEBAQEDAgQDAwECAwQCAwMCAgQCAgQEAgIEAwQDAwQBAwMBAQMBAgEDAgMCAQIEAgQEAQQBBAQCBAMEAwQDAQIEAQMBAgEBBAQCAgEBAQIBAgICAwECAgMDAgMDAQMBAwMCAwMBAQMBAwIBAgQDBAQDAQQDAwEDAQMCBAIDAwMCAQMBBAQCAQIEAQIDAgEDAwMDAQMEAQQDBAEDAwQEAgIBAwEBAQMBBAMEAQMBBAIEAQIDBAIDBAIBBAQDBAQCBAICAwEBAQQDAQEBBAICAwIEAwMDBAEBAgM=",
          "dtype": "i1"
         }
        },
        {
         "hovertemplate": "<b>%{hovertext}</b><br><br>Gender=F<br>Married=0<br>Age=%{x}<br>Amount=%{y}<br>Orders=%{z}<extra></extra>",
         "hovertext": [
          "Sanjit",
          "Zewe",
          "McCrossin",
          "Sharda",
          "Vernon",
          "Phelps",
          "Noshiba",
          "Glassco",
          "Jackson",
          "West",
          "Patricia",
          "Champaklata",
          "Mahima",
          "Nazzal",
          "percer",
          "Nandita",
          "Annie",
          "Tyler",
          "Linda",
          "Dilbeck",
          "Eno",
          "McGrath",
          "Rutuja",
          "Baptist",
          "Nockton",
          "Sharda",
          "Sukruta",
          "Kirkland",
          "Karl",
          "Vishakha",
          "Dave",
          "Swati",
          "Krutika",
          "Haines",
          "Stefanie",
          "Conant",
          "Fritzler",
          "Jaydeep",
          "Noopur",
          "Arun",
          "Toby",
          "Gelder",
          "Grinstein",
          "Leatherbury",
          "Andreadi",
          "Irving",
          "Spruell",
          "Rachna",
          "Jaydeep",
          "Gonzalez",
          "Bhawna",
          "Becker",
          "Ritter",
          "Rashmi",
          "Ludtke",
          "Ben",
          "Phillip",
          "Mane",
          "Debra",
          "Ober",
          "Lloyd",
          "Pistek",
          "Bergman",
          "Karl",
          "Vaibhav",
          "Andrew",
          "Dheeraj",
          "Vishakha",
          "Luxemburg",
          "Mane",
          "Hazel",
          "Resi",
          "Hamilton",
          "Russell",
          "Sweta",
          "Debra",
          "Brad",
          "Nunn",
          "Dhirajendu",
          "Nguyen",
          "Geetanjali",
          "Shubhi",
          "Ulpright",
          "Hendricks",
          "McGrath",
          "Witt",
          "Beeghly",
          "Geetanjali",
          "Kean",
          "Heather",
          "Häberlin",
          "Anchal",
          "MacIntyre",
          "Sissman",
          "Hirasaki",
          "Blackwell",
          "Ausman",
          "Jacobs",
          "Phonely",
          "Ulpright",
          "Southworth",
          "Williamson",
          "Vaibhav",
          "Tom",
          "Bhosale",
          "Deggeller",
          "Pratiksha",
          "Coram",
          "Fortune-",
          "Srishti",
          "Dave",
          "Swetlana",
          "Kasheen",
          "Cartwright",
          "Roger",
          "Harshita",
          "James",
          "Vipul",
          "Jitesh",
          "Steele",
          "Kartik",
          "Lori",
          "Stobb",
          "Norris",
          "Harrigan",
          "Vineet",
          "Rachna",
          "Stobb",
          "Charika",
          "Kampe",
          "Parth",
          "Arti",
          "Clark",
          "Inderpreet",
          "Nazzal",
          "Kamberova",
          "Ross",
          "Hazel",
          "Sanjay",
          "Ashmeet",
          "House",
          "Ferguson",
          "Lisa",
          "Vishakha",
          "Bell-",
          "Anne",
          "Ulpright",
          "Yoseph",
          "Amol",
          "Fisher",
          "Kelly",
          "Hitika",
          "Deborah",
          "Gayman",
          "Damala",
          "Ashmi",
          "Hitesh",
          "Corey-Lock",
          "Yoseph",
          "Hoffman",
          "Mukund",
          "Jas",
          "Jaideep",
          "Katherine",
          "Ishit",
          "Bremer",
          "Laura",
          "Pournamasi",
          "Gary",
          "Lakshmi",
          "Boyes",
          "Akin",
          "Sonakshi",
          "Aishwarya",
          "Fox",
          "Blacks",
          "Weimer",
          "Philip",
          "percer",
          "Daly",
          "Alice",
          "Nancy",
          "Kamberova",
          "Eric",
          "Ben",
          "Ross",
          "Kennedy",
          "Shifley",
          "Moren",
          "Maithilee",
          "Swetha",
          "Tejeswini",
          "Arntzen",
          "Kipp",
          "Amisha",
          "Brosina",
          "Bremer",
          "Carol",
          "McCrossin",
          "Prajakta",
          "Nick",
          "Karandeep",
          "Gene",
          "McCrossin",
          "Sonia",
          "Gjertsen",
          "Budd",
          "Kelly",
          "Norris",
          "Khloe",
          "Bhargav",
          "Bill",
          "Sanskriti",
          "Rane",
          "Wasserman",
          "Bobby",
          "Chikku",
          "Chance",
          "D'Ascenzo",
          "Hildebrand",
          "Johnson",
          "Ausman",
          "Apoorv",
          "Andreada",
          "Beeghly",
          "Neil",
          "Bhargav",
          "Aaron",
          "Maurice",
          "Rohan",
          "Thompson",
          "Crebagga",
          "Brooks",
          "Claire",
          "Yogesh",
          "Jaideep",
          "West",
          "Sauptik",
          "Dario",
          "Kampe",
          "Vishakha",
          "Dodson",
          "Akin",
          "Chris",
          "Sylvia",
          "Namrata",
          "Parin",
          "Ben",
          "Charika",
          "Lonsdale",
          "Raksha",
          "Sharelle",
          "Lena",
          "Hart",
          "Sudevi",
          "Sanjay",
          "Namrata",
          "Kajal",
          "Michelle",
          "Diwakar",
          "O'Donnell",
          "Daniels",
          "Daniel",
          "Philisse",
          "Gerbode",
          "Skach",
          "Sam",
          "Pearl",
          "Bharat",
          "Talbott",
          "Rohan",
          "Navdeep",
          "Abelman",
          "Suman",
          "Dryer",
          "Noah",
          "Shivanshu",
          "Ross",
          "Blumstein",
          "Norris",
          "Debra",
          "Ratner",
          "Manshul",
          "Harold",
          "Sunley",
          "Philip",
          "Pete",
          "Sylvia",
          "Chetan",
          "Kajal",
          "Toby",
          "Buch",
          "Derr",
          "Aastha",
          "Sauptik",
          "Patterson",
          "Mitali",
          "Jane",
          "Lebron",
          "Farhat",
          "Ritsa",
          "Sample",
          "Deborah",
          "Rittenbach",
          "Nunn",
          "Dianna",
          "Riya",
          "Claudia",
          "Mick",
          "Kamberova",
          "Shiva",
          "Divyeta",
          "Lee",
          "Dryer",
          "Denise",
          "Ellison",
          "Sudevi",
          "Sumrall",
          "Kartikay",
          "Logan",
          "Chandni",
          "Dorris",
          "Brockman",
          "Carl",
          "Staebel",
          "Sajal",
          "Braden",
          "Pete",
          "Norvell",
          "Dave",
          "Yohann",
          "Beltran",
          "Deanra",
          "Jay",
          "Zeldin",
          "Hackney",
          "Dorris",
          "McGuire",
          "Bergman",
          "Medina",
          "Conant",
          "O'Carroll",
          "Sukant",
          "Kunst",
          "Amlan",
          "Gunjal",
          "Brooks",
          "Rane",
          "Bryan",
          "Dilbeck",
          "Phillina",
          "Vishakha",
          "Bierner",
          "Adam",
          "Pryor",
          "Cartwright",
          "Budd",
          "Anmol",
          "Gibson",
          "Eichhorn",
          "Ashbrook",
          "Weirich",
          "Lakshmi",
          "Delaney",
          "Sonia",
          "Saurabh",
          "Adhvaita",
          "Duston",
          "Lela",
          "Airdo",
          "Hendricks",
          "Surabhi",
          "Bruce",
          "Troy",
          "Larry",
          "Vishakha",
          "Reed",
          "Voltz",
          "Becker",
          "Joseph",
          "Saurabh",
          "Pinky",
          "Swint",
          "Boeckenhauer",
          "Christina",
          "Thais",
          "Holt",
          "Arthur",
          "Shaily",
          "Bell-",
          "Christine",
          "Joel",
          "Crebagga",
          "Bhutekar",
          "Sudevi",
          "Chandni",
          "Akash",
          "Jenna",
          "Chapman",
          "Dionis",
          "Magee",
          "Soltero",
          "Mitchum",
          "Tron"
         ],
         "legendgroup": "F, 0",
         "marker": {
          "color": "#FF9999",
          "opacity": 0.7,
          "symbol": "diamond"
         },
         "mode": "markers",
         "name": "F, 0",
         "scene": "scene",
         "showlegend": true,
         "type": "scatter3d",
         "x": {
          "bdata": "JCcmHiYVKh0pMCwsJjImRS4vHRorITM2Hh4vGhYaFzYjNSgbGTY0GCkeIhYUNDYfMBkpGiknGDYeNhsWFy4zFywxExouMyEYISAVIB0oIhk2FDgoHiwgGy0sKTEXHS8VKB0cMB0pICoZGyodJRUWIx0hGhwtVUEVLzIvMSIzIhUjMTAaLVQwIyAjLC4YKRkcIxkfLg4jFh4oSSIhJR4wKTEYSx4jIiAXICMeLis2IxMbLisdIxonJjZCFBsXKiUjHxsnIhwhLDAqGSsmGzISKBpXGyMcHSAsEhwdHx8jNzMVJyEtLR0dMRQjKDorMSgUHUsyJBspSzUgLxMbUDUaJRsyKyoUGhoeHjUtIiQjHBoZKx00FxozJRsbGE0cLhUlIDcSKxsULxseGlUpMyMgGi0hHjYdKR0rJRM7HRovISMlJSIZFB4bKRgVMBodHxUkMiI3ISIUExsWIhgiKBoaHTYvGxsgTCIcMy8fHx0hKi8sEC0hHh8dIDBVKSwcJSkVKyUQFxcjWx4SIRohHSATIxowHBs=",
          "dtype": "i1"
         },
         "y": {
          "bdata": "wBuPEokf/A8nIsEuWzThO9UhCTx/IZdLBA68ITo9/gI2G3cXsFELTFRBqzJrNTAQtyZBMqBRoUsBLmIiIiBdJ7Ub8xoXG2cN2gvbLd4ttw6rME5Pxx5rEHgzQQ7wG2xK1hbEFO5BuheCJrhAAj6KLwEIiybBIUIiRxciPZIfej4FA0AbjyvoPNYuBzVZJtoeHAwdMf8H1ibjC1QzcSanHzoYaR5mInJPNzzOJVcmrQWkPV0bgRefII8fwCIgJ+YO3BuWOzAMhRssFYgxLS6wMVdSihQLG5w/+R4pSzgnAT0gJkQuHE80BHZPugOMImwu0xK2IUEb6B7VTGsirybBDX8GCiAGG1gUsB5aSoUbvz28HvMaDCpPH3QeJg/kLEofIiaNQL0FXw7/HocfQh9KIF88WhXYNNE8nDzdHHU/zD34MPctyTwtHx1UGhBVPZwtDSJyJjMtwVH0AuUQ0AZcSm5Jb0s2TtMXmxG8Dq4ffjGFF+8UeiHVJphKTh9MQYRBWR/WLbE8JUxXDrcOjg6PHpgtXx63DrYOt03rPeUX6jRFFaQfQEztBpBdyB6EGg8YbhEyFYkmCh9SG5EbpR6yHqQmDSJPQfQaXQ/iFtAC+xCHLDMtNy7fHkonkzBUFAcgfBf7BaYfDhX0GwMrEjxGHxsQehShO1ceKy31IKAe1x9JPbNQtVCSEBwi6yZeFEs91xaeMIQfQh9ZIzQVriAxMD4U1kHDDUEy/gJNL7URGxT4ITA/KB7xG4AuEBy9HwUb4z2sUV4bwR/zD/c7TwKJGzkfAxvzJd1BlU9sMIsi9yY5T+I/6x7GHkNcCQjTFp1MYBDwCzsVjECxLRsO4UHpSyY9YBvxD6gb4k8OH5sQoC9LOw4YmC38Oy4JuiL0T60iwR8uCW1QNRs3IlAPpyFbH6AXkzGsJgEc9wLwO3kizztBGgAP9RYBQOQC2SaUFAEV704bFzAnwE2zPTY8ByLSH2QNLwwuGyMvbiwKNVUX2BZpFaUbnRdAIiQY/yb3P2QfeCJ6FHIe7SbuBiImtz1YDLgp9xpZPKAXxyLAIhxMEAyASr0+6TwTCQ==",
          "dtype": "i2"
         },
         "z": {
          "bdata": "AQIEAwMDAwMBAQQCAQQDBAQDAwQBAwMDAgIBBAEDAwIDBAICAgIBAgQEAgIBAQIBAQMDBAEDAQQCAQIEBAIBAQMEBAQBAgQCBAEBAwMEBAMBAQIBAgMEBAEDAwEEAgEEAgIBBAQEAQQCAwEEAQIBAQEEAQMDAQQDAgQCBAIBAgMCAwEEAgMDAgMBAwECBAIBAQQBAgMCAQEDBAMCAgMEAQMCAQQBBAMCAQMBAQIBAgIEBAEEAQMDBAIDBAMCBAQCBAEBAgIDAwECAgQEBAQCAgQBBAEBAQEEAwIEBAECBAIDAQMEAwMBBAQBAQQEAgIDAgQEAQMCBAEEAwIBAQQEAgEBAwMBAQQCAgQDAQMCBAQEAwQBBAMDAwEDBAMEBAMBAQIEBAEEAgIDBAEDAgMDAwMDAwQBAgIEAwMBAgMCBAICBAMEAQEBAgQBAwQDAQEEAwECBAQDAQQCAwIDAQICAgEBBAEDBAICAgICAwIEBAEBAQQDAQEBAQIEBAEDAQMEAQEBAQMDBAIDAgQBBAIDAwIBBAE=",
          "dtype": "i1"
         }
        },
        {
         "hovertemplate": "<b>%{hovertext}</b><br><br>Gender=M<br>Married=1<br>Age=%{x}<br>Amount=%{y}<br>Orders=%{z}<extra></extra>",
         "hovertext": [
          "Hughes",
          "Mugdha",
          "Demir",
          "Resi",
          "MaryBeth",
          "Ekta",
          "Harivansh",
          "John",
          "Philippe",
          "Alyssa",
          "Bavinger",
          "Gunjan",
          "McMath",
          "Julie",
          "Kimberly",
          "Eason",
          "Avila",
          "Sujay",
          "Yash",
          "Neola",
          "Sweta",
          "Flathmann",
          "Bühler",
          "Shagiari",
          "Jessica",
          "Naresj",
          "Weirich",
          "Rawles",
          "Tanvi",
          "Nguyen",
          "Prashant",
          "Stuart",
          "Tejeswini",
          "Neha",
          "Sumrall",
          "Sudheer",
          "Barreto",
          "Robert",
          "Harshita",
          "Evan",
          "Abhijit",
          "Mautz",
          "Mitchum",
          "Filia",
          "Pearl",
          "Bolton",
          "Amit",
          "Dahlen",
          "Aastha",
          "Xylona",
          "Bremer",
          "Rupert",
          "Boyes",
          "Parna",
          "Duhita",
          "George",
          "Bharat",
          "Pratyusmita",
          "Bathina",
          "Ginny",
          "Mukesh",
          "Staavos",
          "Mike",
          "Aditi",
          "Reichenbach",
          "Jaideep",
          "Preis",
          "Fuller",
          "Pratiksha",
          "Akshat",
          "Van",
          "Ishpreet",
          "Jane",
          "Farah",
          "Bhavna",
          "Amisha",
          "Manning",
          "Phonely",
          "Zuschuss",
          "Arsheen",
          "Barreto",
          "Preksha",
          "Brumley",
          "Lacy",
          "Alex",
          "Alejandro",
          "Alice",
          "Raksha",
          "Trudy",
          "Collins",
          "Steven",
          "Diwakar",
          "Farhat",
          "Adrian",
          "Noel",
          "Anisha",
          "Uudhav",
          "Cohen",
          "Akshat",
          "Parna",
          "Sujay",
          "Amol",
          "Rahul",
          "Anne",
          "Philip",
          "Scot",
          "Steele",
          "Barchas",
          "Utsav",
          "Brooke",
          "Olson",
          "Chikku",
          "Suman",
          "Phonely",
          "Bzostek",
          "Mills",
          "Paul",
          "Hooks",
          "Eugene",
          "Sperren",
          "Jason",
          "Gaurav",
          "Marina",
          "Oshin",
          "Cathy",
          "Payne",
          "Bailliet",
          "Dipali",
          "Maxwell",
          "Rohit",
          "Prost"
         ],
         "legendgroup": "M, 1",
         "marker": {
          "color": "#66B2FF",
          "opacity": 0.7,
          "symbol": "circle"
         },
         "mode": "markers",
         "name": "M, 1",
         "scene": "scene",
         "showlegend": true,
         "type": "scatter3d",
         "x": {
          "bdata": "MCsxEiJHFiAjLBosMi49GBwiLB0UGxUdKREvNykwLiwtIFkhHRojNBooI1QeHBMjHRQoDR4vKB0rEx0eGipIJTcaESIeGx1PMSohJBYoGysjGiktKB5OKywkDR4gKDYjExwWHyMgIxwyHjYgGhcYGygoFSAzVBEUNk00LCVHIjQWNSA=",
          "dtype": "i1"
         },
         "y": {
          "bdata": "0C0uGsAimz31H2Uf6yaRMxUuKRWQDgI+wRS0ENkw6Q5SHpEuKjVKH/FaFie+DxQfwy5XNewUejERHBwIJRcDUYMfMiJnImwOJBupFBIb2C/fToAbFAmDF7IX6gLOGj4mBxsOJxIm7hvvFh4LNEorDOAUuUs0FXYn4RoRH+NaqzzsLlYtwB95Tt4K6AjvKnA8kxsUPvQWpSZYJkkHUB9wL98NGA9fL2YIRRe9IdUeqSbEP9EP70y+C6kXQkEpQHhLtB/iGtE+DS5dKc0NZCIzFFs/pR1OFAcJZx96TFMh9SFfM/4UHT1WLVwIIy/GFn8xwh5mM50mJg4jGDkMcSbUB4AsAx9lDQ==",
          "dtype": "i2"
         },
         "z": {
          "bdata": "AgECAwIBAgQCAwMDAQMDBAEDBAEBAQEDAQEEBAIEBAIDBAQDAQQDAQMDBAQCAQEBAgIDAwICAgIEAwMCAQIEBAMEBAQEAgICAwICAgEDAgICAgEEAQQDBAMBAQQEAwMEAwQCAQMCAwQEAwMBAgMEAwMBAQQBAwECBAICAQEDAgQEAgE=",
          "dtype": "i1"
         }
        },
        {
         "hovertemplate": "<b>%{hovertext}</b><br><br>Gender=M<br>Married=0<br>Age=%{x}<br>Amount=%{y}<br>Orders=%{z}<extra></extra>",
         "hovertext": [
          "Valerie",
          "Greer",
          "Maxwell",
          "Cohen",
          "Brumley",
          "Bryan",
          "Hagelstein",
          "Wilson",
          "Dona",
          "Fuller",
          "Gillingham",
          "Brumfield",
          "Nelson",
          "Sissman",
          "Ted",
          "Parth",
          "Sink",
          "Tate",
          "Brittain",
          "Keshav",
          "Neoma",
          "Brijesh",
          "DeVincentis",
          "Kelty",
          "Jack",
          "Moray",
          "Cyra",
          "Mike",
          "Amisha",
          "Amol",
          "Charika",
          "Bellavance",
          "Sanjit",
          "Sudheer",
          "Thais",
          "Hagelstein",
          "Smriti",
          "Mull",
          "Darrin",
          "Avila",
          "Vasudev",
          "Yogesh",
          "Clark",
          "Bhosale",
          "Yogesh",
          "Deggeller",
          "Jeremy",
          "Rittenbach",
          "Christopher",
          "Harms",
          "Barnes",
          "Sonal",
          "Lee",
          "Atkinson",
          "Eplett",
          "Luke",
          "Heidel",
          "Barreto",
          "Glotzbach",
          "Morse",
          "Shishu",
          "Stuti",
          "Deborah",
          "Susan",
          "Joni",
          "Nora",
          "Duhita",
          "Shubhi",
          "Lichtenstein",
          "Waco",
          "MacKendrick",
          "Van",
          "Meg",
          "Reiten",
          "Vaibhav",
          "Bill",
          "Mark",
          "Hane",
          "Vasudev",
          "Shivam",
          "Tushina",
          "Phillina",
          "Mayank",
          "Selesnick",
          "Tate",
          "George",
          "Catlett",
          "Henry",
          "Shikhar",
          "Drucker",
          "Barroso",
          "Apoorv",
          "Yedwab",
          "Mitali",
          "Lebron",
          "Byrd",
          "Pardue",
          "Sibella",
          "Shivam",
          "Noonan",
          "Anmol",
          "Laalji",
          "Chong",
          "Astrea",
          "Klamczynski",
          "Parnavi",
          "Shubhi",
          "Smith",
          "Hallie",
          "Utsav",
          "Dahlen",
          "Gilpin",
          "Manjiri",
          "Shikhar",
          "Ashmeet",
          "Swetlana",
          "Jason",
          "Chung",
          "Nathan",
          "Yogesh",
          "Donovan",
          "Bryan",
          "Zypern",
          "Flathmann",
          "Eason",
          "Selesnick",
          "Chikku",
          "Cortes",
          "Dan",
          "Ballard",
          "Drucker",
          "Mayank",
          "Dryer",
          "Boyes",
          "Wilson",
          "Jill",
          "Glotzbach",
          "Akshat",
          "Adrian",
          "Komal",
          "Barroso",
          "Jordon",
          "Vasudev",
          "Shreyshi",
          "Wale",
          "Kotsonis",
          "Halladay",
          "Chuck",
          "Praneet",
          "Lindsay",
          "Reiten",
          "Rutuja",
          "Parks",
          "Dona",
          "Chuck",
          "Geld",
          "Ann",
          "Kristen",
          "Hazel",
          "Olson",
          "Bryan",
          "Vandana",
          "Lynn",
          "Dryer",
          "Karl",
          "Packer",
          "Yedwab",
          "Rashmi",
          "Snel",
          "Shrichand",
          "Donovan",
          "Deepak",
          "Tanvi",
          "Aastha",
          "Erica",
          "Krishna",
          "Mane",
          "Moumita",
          "Byrd",
          "Heidel",
          "Shiva",
          "Yogesh",
          "Sudevi",
          "Darren"
         ],
         "legendgroup": "M, 0",
         "marker": {
          "color": "#66B2FF",
          "opacity": 0.7,
          "symbol": "diamond"
         },
         "mode": "markers",
         "name": "M, 0",
         "scene": "scene",
         "showlegend": true,
         "type": "scatter3d",
         "x": {
          "bdata": "EBMMHCwSJiUmGisgDiAPGi8fQhMgKQ5LEjcTPSseNg0rGiclGjAbIxowICxDJBcmMh0TOSQwNhktHxUuEyUeER9LGjAuKyAfICEhKx0jGhcSDioTJyAaEiIyICcuEB0xJTQjJS4rMSAdUzEfJh0eKjceHSQ2GhQxEhQQGxYVHRQNGS8tLho0S0EiGh8pJBooHBMdMjM3IzYhJg0aJCsfKhcYDzInIjQkMSsaLCwWHCsYShgdIzAQFg==",
          "dtype": "i1"
         },
         "y": {
          "bdata": "7SEwIlgUeREaD+8bO0s8B7IpXCcJQVc/ej13LUQVxSV9G9chdVFEUOxA1CHlC5IOOAd8Ij8Z2BvRHxAYhCw1JeMLKTy2H/wz2CyzF6YXwR5YEfYlFB8WM2VMAQy1Is4fvCFzA3w+sC/4TpRAykyCH9w+qhtDPKgfZh+LFHktCBvwPcQvOTLjHv8yNBXRDyobRgLmFpIe9xuxG0BB9z0AD1UOHRuqHzgnAQv8TC1LJCoMJu4UXRs0GDM8VUooGCkTgk4pCzkyzgAeG4wO9hANIr8inS/fIRstYTtbCDU/KB/IC5Q83Qv+JkZQFTPJB/IlQiV1TMdaoxA6EEsCtw06Su8UexvnPPIUdiaYJhVMxxuoLJoUHDI2J5IeY0IsJnwiug5XLoImXR9NPWUwjR6KP58teiHSFNwNJxU5JxsYXiDwF3QfNFHPLJcf3D8gDDggNCacMOIe7iiEO2IXxTKFG+8bSzB8Ipgiqw7jLWhdtQ4=",
          "dtype": "i2"
         },
         "z": {
          "bdata": "AQMCAwEEAQIDAwIEAgQBAwEEAgIBAwIDAgMBAwECAQMEBAQBAgEBBAICAwECBAMBAgMBAgQBAQEDBAMDAgMEAQICAwIEBAIEBAIEAgQBAwEBBAQCAQECAQECAwMBBAQEBAMDAwQEBAMBAwIBAwMCAgIDAwQEBAQEAgMEAQICAQIBAwECBAECAwICAgEEAQIDAgQCBAICAgIBBAMCBAQCAQQBBAQEAQQCAQQCAgQEBAEEAwQCAgICBA==",
          "dtype": "i1"
         }
        }
       ],
       "layout": {
        "height": 700,
        "legend": {
         "title": {
          "text": "Gender, Married"
         },
         "tracegroupgap": 0
        },
        "margin": {
         "b": 0,
         "l": 0,
         "r": 0,
         "t": 30
        },
        "scene": {
         "domain": {
          "x": [
           0,
           1
          ],
          "y": [
           0,
           1
          ]
         },
         "xaxis": {
          "title": {
           "text": "Age"
          }
         },
         "yaxis": {
          "title": {
           "text": "Spending (₹)"
          }
         },
         "zaxis": {
          "title": {
           "text": "Number of Orders"
          }
         }
        },
        "template": {
         "data": {
          "bar": [
           {
            "error_x": {
             "color": "#2a3f5f"
            },
            "error_y": {
             "color": "#2a3f5f"
            },
            "marker": {
             "line": {
              "color": "#E5ECF6",
              "width": 0.5
             },
             "pattern": {
              "fillmode": "overlay",
              "size": 10,
              "solidity": 0.2
             }
            },
            "type": "bar"
           }
          ],
          "barpolar": [
           {
            "marker": {
             "line": {
              "color": "#E5ECF6",
              "width": 0.5
             },
             "pattern": {
              "fillmode": "overlay",
              "size": 10,
              "solidity": 0.2
             }
            },
            "type": "barpolar"
           }
          ],
          "carpet": [
           {
            "aaxis": {
             "endlinecolor": "#2a3f5f",
             "gridcolor": "white",
             "linecolor": "white",
             "minorgridcolor": "white",
             "startlinecolor": "#2a3f5f"
            },
            "baxis": {
             "endlinecolor": "#2a3f5f",
             "gridcolor": "white",
             "linecolor": "white",
             "minorgridcolor": "white",
             "startlinecolor": "#2a3f5f"
            },
            "type": "carpet"
           }
          ],
          "choropleth": [
           {
            "colorbar": {
             "outlinewidth": 0,
             "ticks": ""
            },
            "type": "choropleth"
           }
          ],
          "contour": [
           {
            "colorbar": {
             "outlinewidth": 0,
             "ticks": ""
            },
            "colorscale": [
             [
              0,
              "#0d0887"
             ],
             [
              0.1111111111111111,
              "#46039f"
             ],
             [
              0.2222222222222222,
              "#7201a8"
             ],
             [
              0.3333333333333333,
              "#9c179e"
             ],
             [
              0.4444444444444444,
              "#bd3786"
             ],
             [
              0.5555555555555556,
              "#d8576b"
             ],
             [
              0.6666666666666666,
              "#ed7953"
             ],
             [
              0.7777777777777778,
              "#fb9f3a"
             ],
             [
              0.8888888888888888,
              "#fdca26"
             ],
             [
              1,
              "#f0f921"
             ]
            ],
            "type": "contour"
           }
          ],
          "contourcarpet": [
           {
            "colorbar": {
             "outlinewidth": 0,
             "ticks": ""
            },
            "type": "contourcarpet"
           }
          ],
          "heatmap": [
           {
            "colorbar": {
             "outlinewidth": 0,
             "ticks": ""
            },
            "colorscale": [
             [
              0,
              "#0d0887"
             ],
             [
              0.1111111111111111,
              "#46039f"
             ],
             [
              0.2222222222222222,
              "#7201a8"
             ],
             [
              0.3333333333333333,
              "#9c179e"
             ],
             [
              0.4444444444444444,
              "#bd3786"
             ],
             [
              0.5555555555555556,
              "#d8576b"
             ],
             [
              0.6666666666666666,
              "#ed7953"
             ],
             [
              0.7777777777777778,
              "#fb9f3a"
             ],
             [
              0.8888888888888888,
              "#fdca26"
             ],
             [
              1,
              "#f0f921"
             ]
            ],
            "type": "heatmap"
           }
          ],
          "histogram": [
           {
            "marker": {
             "pattern": {
              "fillmode": "overlay",
              "size": 10,
              "solidity": 0.2
             }
            },
            "type": "histogram"
           }
          ],
          "histogram2d": [
           {
            "colorbar": {
             "outlinewidth": 0,
             "ticks": ""
            },
            "colorscale": [
             [
              0,
              "#0d0887"
             ],
             [
              0.1111111111111111,
              "#46039f"
             ],
             [
              0.2222222222222222,
              "#7201a8"
             ],
             [
              0.3333333333333333,
              "#9c179e"
             ],
             [
              0.4444444444444444,
              "#bd3786"
             ],
             [
              0.5555555555555556,
              "#d8576b"
             ],
             [
              0.6666666666666666,
              "#ed7953"
             ],
             [
              0.7777777777777778,
              "#fb9f3a"
             ],
             [
              0.8888888888888888,
              "#fdca26"
             ],
             [
              1,
              "#f0f921"
             ]
            ],
            "type": "histogram2d"
           }
          ],
          "histogram2dcontour": [
           {
            "colorbar": {
             "outlinewidth": 0,
             "ticks": ""
            },
            "colorscale": [
             [
              0,
              "#0d0887"
             ],
             [
              0.1111111111111111,
              "#46039f"
             ],
             [
              0.2222222222222222,
              "#7201a8"
             ],
             [
              0.3333333333333333,
              "#9c179e"
             ],
             [
              0.4444444444444444,
              "#bd3786"
             ],
             [
              0.5555555555555556,
              "#d8576b"
             ],
             [
              0.6666666666666666,
              "#ed7953"
             ],
             [
              0.7777777777777778,
              "#fb9f3a"
             ],
             [
              0.8888888888888888,
              "#fdca26"
             ],
             [
              1,
              "#f0f921"
             ]
            ],
            "type": "histogram2dcontour"
           }
          ],
          "mesh3d": [
           {
            "colorbar": {
             "outlinewidth": 0,
             "ticks": ""
            },
            "type": "mesh3d"
           }
          ],
          "parcoords": [
           {
            "line": {
             "colorbar": {
              "outlinewidth": 0,
              "ticks": ""
             }
            },
            "type": "parcoords"
           }
          ],
          "pie": [
           {
            "automargin": true,
            "type": "pie"
           }
          ],
          "scatter": [
           {
            "fillpattern": {
             "fillmode": "overlay",
             "size": 10,
             "solidity": 0.2
            },
            "type": "scatter"
           }
          ],
          "scatter3d": [
           {
            "line": {
             "colorbar": {
              "outlinewidth": 0,
              "ticks": ""
             }
            },
            "marker": {
             "colorbar": {
              "outlinewidth": 0,
              "ticks": ""
             }
            },
            "type": "scatter3d"
           }
          ],
          "scattercarpet": [
           {
            "marker": {
             "colorbar": {
              "outlinewidth": 0,
              "ticks": ""
             }
            },
            "type": "scattercarpet"
           }
          ],
          "scattergeo": [
           {
            "marker": {
             "colorbar": {
              "outlinewidth": 0,
              "ticks": ""
             }
            },
            "type": "scattergeo"
           }
          ],
          "scattergl": [
           {
            "marker": {
             "colorbar": {
              "outlinewidth": 0,
              "ticks": ""
             }
            },
            "type": "scattergl"
           }
          ],
          "scattermap": [
           {
            "marker": {
             "colorbar": {
              "outlinewidth": 0,
              "ticks": ""
             }
            },
            "type": "scattermap"
           }
          ],
          "scattermapbox": [
           {
            "marker": {
             "colorbar": {
              "outlinewidth": 0,
              "ticks": ""
             }
            },
            "type": "scattermapbox"
           }
          ],
          "scatterpolar": [
           {
            "marker": {
             "colorbar": {
              "outlinewidth": 0,
              "ticks": ""
             }
            },
            "type": "scatterpolar"
           }
          ],
          "scatterpolargl": [
           {
            "marker": {
             "colorbar": {
              "outlinewidth": 0,
              "ticks": ""
             }
            },
            "type": "scatterpolargl"
           }
          ],
          "scatterternary": [
           {
            "marker": {
             "colorbar": {
              "outlinewidth": 0,
              "ticks": ""
             }
            },
            "type": "scatterternary"
           }
          ],
          "surface": [
           {
            "colorbar": {
             "outlinewidth": 0,
             "ticks": ""
            },
            "colorscale": [
             [
              0,
              "#0d0887"
             ],
             [
              0.1111111111111111,
              "#46039f"
             ],
             [
              0.2222222222222222,
              "#7201a8"
             ],
             [
              0.3333333333333333,
              "#9c179e"
             ],
             [
              0.4444444444444444,
              "#bd3786"
             ],
             [
              0.5555555555555556,
              "#d8576b"
             ],
             [
              0.6666666666666666,
              "#ed7953"
             ],
             [
              0.7777777777777778,
              "#fb9f3a"
             ],
             [
              0.8888888888888888,
              "#fdca26"
             ],
             [
              1,
              "#f0f921"
             ]
            ],
            "type": "surface"
           }
          ],
          "table": [
           {
            "cells": {
             "fill": {
              "color": "#EBF0F8"
             },
             "line": {
              "color": "white"
             }
            },
            "header": {
             "fill": {
              "color": "#C8D4E3"
             },
             "line": {
              "color": "white"
             }
            },
            "type": "table"
           }
          ]
         },
         "layout": {
          "annotationdefaults": {
           "arrowcolor": "#2a3f5f",
           "arrowhead": 0,
           "arrowwidth": 1
          },
          "autotypenumbers": "strict",
          "coloraxis": {
           "colorbar": {
            "outlinewidth": 0,
            "ticks": ""
           }
          },
          "colorscale": {
           "diverging": [
            [
             0,
             "#8e0152"
            ],
            [
             0.1,
             "#c51b7d"
            ],
            [
             0.2,
             "#de77ae"
            ],
            [
             0.3,
             "#f1b6da"
            ],
            [
             0.4,
             "#fde0ef"
            ],
            [
             0.5,
             "#f7f7f7"
            ],
            [
             0.6,
             "#e6f5d0"
            ],
            [
             0.7,
             "#b8e186"
            ],
            [
             0.8,
             "#7fbc41"
            ],
            [
             0.9,
             "#4d9221"
            ],
            [
             1,
             "#276419"
            ]
           ],
           "sequential": [
            [
             0,
             "#0d0887"
            ],
            [
             0.1111111111111111,
             "#46039f"
            ],
            [
             0.2222222222222222,
             "#7201a8"
            ],
            [
             0.3333333333333333,
             "#9c179e"
            ],
            [
             0.4444444444444444,
             "#bd3786"
            ],
            [
             0.5555555555555556,
             "#d8576b"
            ],
            [
             0.6666666666666666,
             "#ed7953"
            ],
            [
             0.7777777777777778,
             "#fb9f3a"
            ],
            [
             0.8888888888888888,
             "#fdca26"
            ],
            [
             1,
             "#f0f921"
            ]
           ],
           "sequentialminus": [
            [
             0,
             "#0d0887"
            ],
            [
             0.1111111111111111,
             "#46039f"
            ],
            [
             0.2222222222222222,
             "#7201a8"
            ],
            [
             0.3333333333333333,
             "#9c179e"
            ],
            [
             0.4444444444444444,
             "#bd3786"
            ],
            [
             0.5555555555555556,
             "#d8576b"
            ],
            [
             0.6666666666666666,
             "#ed7953"
            ],
            [
             0.7777777777777778,
             "#fb9f3a"
            ],
            [
             0.8888888888888888,
             "#fdca26"
            ],
            [
             1,
             "#f0f921"
            ]
           ]
          },
          "colorway": [
           "#636efa",
           "#EF553B",
           "#00cc96",
           "#ab63fa",
           "#FFA15A",
           "#19d3f3",
           "#FF6692",
           "#B6E880",
           "#FF97FF",
           "#FECB52"
          ],
          "font": {
           "color": "#2a3f5f"
          },
          "geo": {
           "bgcolor": "white",
           "lakecolor": "white",
           "landcolor": "#E5ECF6",
           "showlakes": true,
           "showland": true,
           "subunitcolor": "white"
          },
          "hoverlabel": {
           "align": "left"
          },
          "hovermode": "closest",
          "mapbox": {
           "style": "light"
          },
          "paper_bgcolor": "white",
          "plot_bgcolor": "#E5ECF6",
          "polar": {
           "angularaxis": {
            "gridcolor": "white",
            "linecolor": "white",
            "ticks": ""
           },
           "bgcolor": "#E5ECF6",
           "radialaxis": {
            "gridcolor": "white",
            "linecolor": "white",
            "ticks": ""
           }
          },
          "scene": {
           "xaxis": {
            "backgroundcolor": "#E5ECF6",
            "gridcolor": "white",
            "gridwidth": 2,
            "linecolor": "white",
            "showbackground": true,
            "ticks": "",
            "zerolinecolor": "white"
           },
           "yaxis": {
            "backgroundcolor": "#E5ECF6",
            "gridcolor": "white",
            "gridwidth": 2,
            "linecolor": "white",
            "showbackground": true,
            "ticks": "",
            "zerolinecolor": "white"
           },
           "zaxis": {
            "backgroundcolor": "#E5ECF6",
            "gridcolor": "white",
            "gridwidth": 2,
            "linecolor": "white",
            "showbackground": true,
            "ticks": "",
            "zerolinecolor": "white"
           }
          },
          "shapedefaults": {
           "line": {
            "color": "#2a3f5f"
           }
          },
          "ternary": {
           "aaxis": {
            "gridcolor": "white",
            "linecolor": "white",
            "ticks": ""
           },
           "baxis": {
            "gridcolor": "white",
            "linecolor": "white",
            "ticks": ""
           },
           "bgcolor": "#E5ECF6",
           "caxis": {
            "gridcolor": "white",
            "linecolor": "white",
            "ticks": ""
           }
          },
          "title": {
           "x": 0.05
          },
          "xaxis": {
           "automargin": true,
           "gridcolor": "white",
           "linecolor": "white",
           "ticks": "",
           "title": {
            "standoff": 15
           },
           "zerolinecolor": "white",
           "zerolinewidth": 2
          },
          "yaxis": {
           "automargin": true,
           "gridcolor": "white",
           "linecolor": "white",
           "ticks": "",
           "title": {
            "standoff": 15
           },
           "zerolinecolor": "white",
           "zerolinewidth": 2
          }
         }
        },
        "title": {
         "text": "3D Customer Analysis: Age vs Spending vs Orders"
        }
       }
      }
     },
     "metadata": {},
     "output_type": "display_data"
    }
   ],
   "source": [
    "### Demographic Analysis\n",
    "# Gender Analysis\n",
    "gender_counts = df['Gender'].value_counts()\n",
    "gender_amount = df.groupby('Gender')['Amount'].sum()\n",
    "\n",
    "fig = make_subplots(rows=1, cols=2, \n",
    "                   subplot_titles=('Customer Distribution by Gender', 'Revenue Contribution by Gender'),\n",
    "                   specs=[[{\"type\": \"pie\"}, {\"type\": \"pie\"}]])\n",
    "\n",
    "fig.add_trace(go.Pie(\n",
    "    labels=gender_counts.index, \n",
    "    values=gender_counts.values, \n",
    "    name=\"Distribution\", \n",
    "    hole=0.4, \n",
    "    marker_colors=['#FF9999','#66B2FF'],\n",
    "    textinfo='percent+label'\n",
    "), row=1, col=1)\n",
    "\n",
    "fig.add_trace(go.Pie(\n",
    "    labels=gender_amount.index, \n",
    "    values=gender_amount.values, \n",
    "    name=\"Revenue\", \n",
    "    hole=0.4, \n",
    "    marker_colors=['#FF9999','#66B2FF'],\n",
    "    textinfo='percent+label'\n",
    "), row=1, col=2)\n",
    "\n",
    "fig.update_layout(\n",
    "    title_text=\"Gender Analysis\", \n",
    "    showlegend=False,\n",
    "    annotations=[\n",
    "        dict(text='Distribution', x=0.18, y=0.5, font_size=14, showarrow=False),\n",
    "        dict(text='Revenue', x=0.82, y=0.5, font_size=14, showarrow=False)\n",
    "    ],\n",
    "    height=400\n",
    ")\n",
    "fig.show()\n",
    "\n",
    "# Age Group Analysis\n",
    "age_group = df.groupby('Age_Category').agg(\n",
    "    Customers=('User_ID', 'count'),\n",
    "    Revenue=('Amount', 'sum'),\n",
    "    Avg_Spending=('Amount', 'mean'),\n",
    "    Avg_Orders=('Orders', 'mean')\n",
    ").reset_index().sort_values('Revenue', ascending=False)\n",
    "\n",
    "fig = make_subplots(rows=1, cols=2, \n",
    "                   subplot_titles=('Customer Distribution', 'Revenue Contribution'),\n",
    "                   column_widths=[0.5, 0.5])\n",
    "\n",
    "# Customer distribution\n",
    "fig.add_trace(go.Bar(\n",
    "    x=age_group['Age_Category'], \n",
    "    y=age_group['Customers'],\n",
    "    name='Customers', \n",
    "    marker_color='#1f77b4',\n",
    "    text=age_group['Customers'],\n",
    "    textposition='auto'\n",
    "), row=1, col=1)\n",
    "\n",
    "# Revenue contribution\n",
    "fig.add_trace(go.Bar(\n",
    "    x=age_group['Age_Category'], \n",
    "    y=age_group['Revenue'],\n",
    "    name='Revenue', \n",
    "    marker_color='#ff7f0e',\n",
    "    text=[f'₹{x/1000000:.1f}M' for x in age_group['Revenue']],\n",
    "    textposition='auto'\n",
    "), row=1, col=2)\n",
    "\n",
    "fig.update_layout(\n",
    "    title_text=\"Age Group Analysis\", \n",
    "    showlegend=False,\n",
    "    height=500\n",
    ")\n",
    "fig.update_yaxes(title_text=\"Number of Customers\", row=1, col=1)\n",
    "fig.update_yaxes(title_text=\"Revenue (₹)\", row=1, col=2)\n",
    "fig.show()\n",
    "\n",
    "# 3D Interactive Scatter Plot (with sampling for better performance)\n",
    "sample_df = df.sample(min(1000, len(df)), random_state=42) if len(df) > 1000 else df\n",
    "\n",
    "fig = px.scatter_3d(\n",
    "    sample_df, \n",
    "    x='Age', \n",
    "    y='Amount', \n",
    "    z='Orders',\n",
    "    color='Gender',\n",
    "    symbol='Married',\n",
    "    hover_name='Cust_name', \n",
    "    title='3D Customer Analysis: Age vs Spending vs Orders',\n",
    "    color_discrete_map={'F': '#FF9999', 'M': '#66B2FF'},\n",
    "    height=700,\n",
    "    opacity=0.7\n",
    ")\n",
    "\n",
    "fig.update_layout(\n",
    "    scene=dict(\n",
    "        xaxis_title='Age',\n",
    "        yaxis_title='Spending (₹)',\n",
    "        zaxis_title='Number of Orders'\n",
    "    ),\n",
    "    margin=dict(l=0, r=0, b=0, t=30)\n",
    ")\n",
    "fig.show()"
   ]
  },
  {
   "cell_type": "markdown",
   "id": "f5debf4d",
   "metadata": {},
   "source": [
    "Geographic Analysis"
   ]
  },
  {
   "cell_type": "code",
   "execution_count": 6,
   "id": "af0aafee",
   "metadata": {},
   "outputs": [
    {
     "data": {
      "application/vnd.plotly.v1+json": {
       "config": {
        "plotlyServerURL": "https://plot.ly"
       },
       "data": [
        {
         "marker": {
          "color": "#2ca02c"
         },
         "name": "Revenue",
         "text": [
          "₹19.4M",
          "₹14.4M",
          "₹13.5M",
          "₹11.6M",
          "₹8.1M",
          "₹8.0M",
          "₹5.0M",
          "₹4.2M",
          "₹4.0M",
          "₹3.9M"
         ],
         "textposition": "auto",
         "type": "bar",
         "x": [
          "Uttar Pradesh",
          "Maharashtra",
          "Karnataka",
          "Delhi",
          "Madhya Pradesh",
          "Andhra Pradesh",
          "Himachal Pradesh",
          "Haryana",
          "Bihar",
          "Gujarat"
         ],
         "xaxis": "x",
         "y": {
          "bdata": "eKMnAZcl3ABUWs4Aag+xABadewAao3oAKLxLAA9lQADlYT0AYjY8AA==",
          "dtype": "i4"
         },
         "yaxis": "y"
        },
        {
         "marker": {
          "color": "#d62728"
         },
         "name": "Avg Spending",
         "text": [
          "₹9,967",
          "₹9,461",
          "₹10,371",
          "₹10,511",
          "₹8,796",
          "₹9,910",
          "₹8,163",
          "₹9,337",
          "₹9,269",
          "₹9,241"
         ],
         "textposition": "auto",
         "type": "bar",
         "x": [
          "Uttar Pradesh",
          "Maharashtra",
          "Karnataka",
          "Delhi",
          "Madhya Pradesh",
          "Andhra Pradesh",
          "Himachal Pradesh",
          "Haryana",
          "Bihar",
          "Gujarat"
         ],
         "xaxis": "x2",
         "y": {
          "bdata": "k7y/DkZ3w0CizCmLV3rCQKV9kAxoQcRA0CjxM1qHxEDF8wudAy7BQG3yAHcVW8NAG8prKG/jv0BdxyjOVTzCQA19hj6DGsJALhmCdbQMwkA=",
          "dtype": "f8"
         },
         "yaxis": "y2"
        }
       ],
       "layout": {
        "annotations": [
         {
          "font": {
           "size": 16
          },
          "showarrow": false,
          "text": "Top States by Revenue",
          "x": 0.5,
          "xanchor": "center",
          "xref": "paper",
          "y": 1,
          "yanchor": "bottom",
          "yref": "paper"
         },
         {
          "font": {
           "size": 16
          },
          "showarrow": false,
          "text": "Top States by Average Spending",
          "x": 0.5,
          "xanchor": "center",
          "xref": "paper",
          "y": 0.4,
          "yanchor": "bottom",
          "yref": "paper"
         }
        ],
        "height": 700,
        "showlegend": false,
        "template": {
         "data": {
          "bar": [
           {
            "error_x": {
             "color": "#2a3f5f"
            },
            "error_y": {
             "color": "#2a3f5f"
            },
            "marker": {
             "line": {
              "color": "#E5ECF6",
              "width": 0.5
             },
             "pattern": {
              "fillmode": "overlay",
              "size": 10,
              "solidity": 0.2
             }
            },
            "type": "bar"
           }
          ],
          "barpolar": [
           {
            "marker": {
             "line": {
              "color": "#E5ECF6",
              "width": 0.5
             },
             "pattern": {
              "fillmode": "overlay",
              "size": 10,
              "solidity": 0.2
             }
            },
            "type": "barpolar"
           }
          ],
          "carpet": [
           {
            "aaxis": {
             "endlinecolor": "#2a3f5f",
             "gridcolor": "white",
             "linecolor": "white",
             "minorgridcolor": "white",
             "startlinecolor": "#2a3f5f"
            },
            "baxis": {
             "endlinecolor": "#2a3f5f",
             "gridcolor": "white",
             "linecolor": "white",
             "minorgridcolor": "white",
             "startlinecolor": "#2a3f5f"
            },
            "type": "carpet"
           }
          ],
          "choropleth": [
           {
            "colorbar": {
             "outlinewidth": 0,
             "ticks": ""
            },
            "type": "choropleth"
           }
          ],
          "contour": [
           {
            "colorbar": {
             "outlinewidth": 0,
             "ticks": ""
            },
            "colorscale": [
             [
              0,
              "#0d0887"
             ],
             [
              0.1111111111111111,
              "#46039f"
             ],
             [
              0.2222222222222222,
              "#7201a8"
             ],
             [
              0.3333333333333333,
              "#9c179e"
             ],
             [
              0.4444444444444444,
              "#bd3786"
             ],
             [
              0.5555555555555556,
              "#d8576b"
             ],
             [
              0.6666666666666666,
              "#ed7953"
             ],
             [
              0.7777777777777778,
              "#fb9f3a"
             ],
             [
              0.8888888888888888,
              "#fdca26"
             ],
             [
              1,
              "#f0f921"
             ]
            ],
            "type": "contour"
           }
          ],
          "contourcarpet": [
           {
            "colorbar": {
             "outlinewidth": 0,
             "ticks": ""
            },
            "type": "contourcarpet"
           }
          ],
          "heatmap": [
           {
            "colorbar": {
             "outlinewidth": 0,
             "ticks": ""
            },
            "colorscale": [
             [
              0,
              "#0d0887"
             ],
             [
              0.1111111111111111,
              "#46039f"
             ],
             [
              0.2222222222222222,
              "#7201a8"
             ],
             [
              0.3333333333333333,
              "#9c179e"
             ],
             [
              0.4444444444444444,
              "#bd3786"
             ],
             [
              0.5555555555555556,
              "#d8576b"
             ],
             [
              0.6666666666666666,
              "#ed7953"
             ],
             [
              0.7777777777777778,
              "#fb9f3a"
             ],
             [
              0.8888888888888888,
              "#fdca26"
             ],
             [
              1,
              "#f0f921"
             ]
            ],
            "type": "heatmap"
           }
          ],
          "histogram": [
           {
            "marker": {
             "pattern": {
              "fillmode": "overlay",
              "size": 10,
              "solidity": 0.2
             }
            },
            "type": "histogram"
           }
          ],
          "histogram2d": [
           {
            "colorbar": {
             "outlinewidth": 0,
             "ticks": ""
            },
            "colorscale": [
             [
              0,
              "#0d0887"
             ],
             [
              0.1111111111111111,
              "#46039f"
             ],
             [
              0.2222222222222222,
              "#7201a8"
             ],
             [
              0.3333333333333333,
              "#9c179e"
             ],
             [
              0.4444444444444444,
              "#bd3786"
             ],
             [
              0.5555555555555556,
              "#d8576b"
             ],
             [
              0.6666666666666666,
              "#ed7953"
             ],
             [
              0.7777777777777778,
              "#fb9f3a"
             ],
             [
              0.8888888888888888,
              "#fdca26"
             ],
             [
              1,
              "#f0f921"
             ]
            ],
            "type": "histogram2d"
           }
          ],
          "histogram2dcontour": [
           {
            "colorbar": {
             "outlinewidth": 0,
             "ticks": ""
            },
            "colorscale": [
             [
              0,
              "#0d0887"
             ],
             [
              0.1111111111111111,
              "#46039f"
             ],
             [
              0.2222222222222222,
              "#7201a8"
             ],
             [
              0.3333333333333333,
              "#9c179e"
             ],
             [
              0.4444444444444444,
              "#bd3786"
             ],
             [
              0.5555555555555556,
              "#d8576b"
             ],
             [
              0.6666666666666666,
              "#ed7953"
             ],
             [
              0.7777777777777778,
              "#fb9f3a"
             ],
             [
              0.8888888888888888,
              "#fdca26"
             ],
             [
              1,
              "#f0f921"
             ]
            ],
            "type": "histogram2dcontour"
           }
          ],
          "mesh3d": [
           {
            "colorbar": {
             "outlinewidth": 0,
             "ticks": ""
            },
            "type": "mesh3d"
           }
          ],
          "parcoords": [
           {
            "line": {
             "colorbar": {
              "outlinewidth": 0,
              "ticks": ""
             }
            },
            "type": "parcoords"
           }
          ],
          "pie": [
           {
            "automargin": true,
            "type": "pie"
           }
          ],
          "scatter": [
           {
            "fillpattern": {
             "fillmode": "overlay",
             "size": 10,
             "solidity": 0.2
            },
            "type": "scatter"
           }
          ],
          "scatter3d": [
           {
            "line": {
             "colorbar": {
              "outlinewidth": 0,
              "ticks": ""
             }
            },
            "marker": {
             "colorbar": {
              "outlinewidth": 0,
              "ticks": ""
             }
            },
            "type": "scatter3d"
           }
          ],
          "scattercarpet": [
           {
            "marker": {
             "colorbar": {
              "outlinewidth": 0,
              "ticks": ""
             }
            },
            "type": "scattercarpet"
           }
          ],
          "scattergeo": [
           {
            "marker": {
             "colorbar": {
              "outlinewidth": 0,
              "ticks": ""
             }
            },
            "type": "scattergeo"
           }
          ],
          "scattergl": [
           {
            "marker": {
             "colorbar": {
              "outlinewidth": 0,
              "ticks": ""
             }
            },
            "type": "scattergl"
           }
          ],
          "scattermap": [
           {
            "marker": {
             "colorbar": {
              "outlinewidth": 0,
              "ticks": ""
             }
            },
            "type": "scattermap"
           }
          ],
          "scattermapbox": [
           {
            "marker": {
             "colorbar": {
              "outlinewidth": 0,
              "ticks": ""
             }
            },
            "type": "scattermapbox"
           }
          ],
          "scatterpolar": [
           {
            "marker": {
             "colorbar": {
              "outlinewidth": 0,
              "ticks": ""
             }
            },
            "type": "scatterpolar"
           }
          ],
          "scatterpolargl": [
           {
            "marker": {
             "colorbar": {
              "outlinewidth": 0,
              "ticks": ""
             }
            },
            "type": "scatterpolargl"
           }
          ],
          "scatterternary": [
           {
            "marker": {
             "colorbar": {
              "outlinewidth": 0,
              "ticks": ""
             }
            },
            "type": "scatterternary"
           }
          ],
          "surface": [
           {
            "colorbar": {
             "outlinewidth": 0,
             "ticks": ""
            },
            "colorscale": [
             [
              0,
              "#0d0887"
             ],
             [
              0.1111111111111111,
              "#46039f"
             ],
             [
              0.2222222222222222,
              "#7201a8"
             ],
             [
              0.3333333333333333,
              "#9c179e"
             ],
             [
              0.4444444444444444,
              "#bd3786"
             ],
             [
              0.5555555555555556,
              "#d8576b"
             ],
             [
              0.6666666666666666,
              "#ed7953"
             ],
             [
              0.7777777777777778,
              "#fb9f3a"
             ],
             [
              0.8888888888888888,
              "#fdca26"
             ],
             [
              1,
              "#f0f921"
             ]
            ],
            "type": "surface"
           }
          ],
          "table": [
           {
            "cells": {
             "fill": {
              "color": "#EBF0F8"
             },
             "line": {
              "color": "white"
             }
            },
            "header": {
             "fill": {
              "color": "#C8D4E3"
             },
             "line": {
              "color": "white"
             }
            },
            "type": "table"
           }
          ]
         },
         "layout": {
          "annotationdefaults": {
           "arrowcolor": "#2a3f5f",
           "arrowhead": 0,
           "arrowwidth": 1
          },
          "autotypenumbers": "strict",
          "coloraxis": {
           "colorbar": {
            "outlinewidth": 0,
            "ticks": ""
           }
          },
          "colorscale": {
           "diverging": [
            [
             0,
             "#8e0152"
            ],
            [
             0.1,
             "#c51b7d"
            ],
            [
             0.2,
             "#de77ae"
            ],
            [
             0.3,
             "#f1b6da"
            ],
            [
             0.4,
             "#fde0ef"
            ],
            [
             0.5,
             "#f7f7f7"
            ],
            [
             0.6,
             "#e6f5d0"
            ],
            [
             0.7,
             "#b8e186"
            ],
            [
             0.8,
             "#7fbc41"
            ],
            [
             0.9,
             "#4d9221"
            ],
            [
             1,
             "#276419"
            ]
           ],
           "sequential": [
            [
             0,
             "#0d0887"
            ],
            [
             0.1111111111111111,
             "#46039f"
            ],
            [
             0.2222222222222222,
             "#7201a8"
            ],
            [
             0.3333333333333333,
             "#9c179e"
            ],
            [
             0.4444444444444444,
             "#bd3786"
            ],
            [
             0.5555555555555556,
             "#d8576b"
            ],
            [
             0.6666666666666666,
             "#ed7953"
            ],
            [
             0.7777777777777778,
             "#fb9f3a"
            ],
            [
             0.8888888888888888,
             "#fdca26"
            ],
            [
             1,
             "#f0f921"
            ]
           ],
           "sequentialminus": [
            [
             0,
             "#0d0887"
            ],
            [
             0.1111111111111111,
             "#46039f"
            ],
            [
             0.2222222222222222,
             "#7201a8"
            ],
            [
             0.3333333333333333,
             "#9c179e"
            ],
            [
             0.4444444444444444,
             "#bd3786"
            ],
            [
             0.5555555555555556,
             "#d8576b"
            ],
            [
             0.6666666666666666,
             "#ed7953"
            ],
            [
             0.7777777777777778,
             "#fb9f3a"
            ],
            [
             0.8888888888888888,
             "#fdca26"
            ],
            [
             1,
             "#f0f921"
            ]
           ]
          },
          "colorway": [
           "#636efa",
           "#EF553B",
           "#00cc96",
           "#ab63fa",
           "#FFA15A",
           "#19d3f3",
           "#FF6692",
           "#B6E880",
           "#FF97FF",
           "#FECB52"
          ],
          "font": {
           "color": "#2a3f5f"
          },
          "geo": {
           "bgcolor": "white",
           "lakecolor": "white",
           "landcolor": "#E5ECF6",
           "showlakes": true,
           "showland": true,
           "subunitcolor": "white"
          },
          "hoverlabel": {
           "align": "left"
          },
          "hovermode": "closest",
          "mapbox": {
           "style": "light"
          },
          "paper_bgcolor": "white",
          "plot_bgcolor": "#E5ECF6",
          "polar": {
           "angularaxis": {
            "gridcolor": "white",
            "linecolor": "white",
            "ticks": ""
           },
           "bgcolor": "#E5ECF6",
           "radialaxis": {
            "gridcolor": "white",
            "linecolor": "white",
            "ticks": ""
           }
          },
          "scene": {
           "xaxis": {
            "backgroundcolor": "#E5ECF6",
            "gridcolor": "white",
            "gridwidth": 2,
            "linecolor": "white",
            "showbackground": true,
            "ticks": "",
            "zerolinecolor": "white"
           },
           "yaxis": {
            "backgroundcolor": "#E5ECF6",
            "gridcolor": "white",
            "gridwidth": 2,
            "linecolor": "white",
            "showbackground": true,
            "ticks": "",
            "zerolinecolor": "white"
           },
           "zaxis": {
            "backgroundcolor": "#E5ECF6",
            "gridcolor": "white",
            "gridwidth": 2,
            "linecolor": "white",
            "showbackground": true,
            "ticks": "",
            "zerolinecolor": "white"
           }
          },
          "shapedefaults": {
           "line": {
            "color": "#2a3f5f"
           }
          },
          "ternary": {
           "aaxis": {
            "gridcolor": "white",
            "linecolor": "white",
            "ticks": ""
           },
           "baxis": {
            "gridcolor": "white",
            "linecolor": "white",
            "ticks": ""
           },
           "bgcolor": "#E5ECF6",
           "caxis": {
            "gridcolor": "white",
            "linecolor": "white",
            "ticks": ""
           }
          },
          "title": {
           "x": 0.05
          },
          "xaxis": {
           "automargin": true,
           "gridcolor": "white",
           "linecolor": "white",
           "ticks": "",
           "title": {
            "standoff": 15
           },
           "zerolinecolor": "white",
           "zerolinewidth": 2
          },
          "yaxis": {
           "automargin": true,
           "gridcolor": "white",
           "linecolor": "white",
           "ticks": "",
           "title": {
            "standoff": 15
           },
           "zerolinecolor": "white",
           "zerolinewidth": 2
          }
         }
        },
        "title": {
         "text": "Geographic Sales Analysis"
        },
        "xaxis": {
         "anchor": "y",
         "domain": [
          0,
          1
         ],
         "tickangle": 45
        },
        "xaxis2": {
         "anchor": "y2",
         "domain": [
          0,
          1
         ],
         "tickangle": 45
        },
        "yaxis": {
         "anchor": "x",
         "domain": [
          0.6000000000000001,
          1
         ],
         "title": {
          "text": "Revenue (₹)"
         }
        },
        "yaxis2": {
         "anchor": "x2",
         "domain": [
          0,
          0.4
         ],
         "title": {
          "text": "Average Spending (₹)"
         }
        }
       }
      }
     },
     "metadata": {},
     "output_type": "display_data"
    },
    {
     "data": {
      "application/vnd.plotly.v1+json": {
       "config": {
        "plotlyServerURL": "https://plot.ly"
       },
       "data": [
        {
         "coloraxis": "coloraxis",
         "featureidkey": "properties.ST_NM",
         "geo": "geo",
         "geojson": "https://gist.githubusercontent.com/jbrobst/56c13bbbf9d97d187fea01ca62ea5112/raw/e388c4cae20aa53cb5090210a42ebb9b765c0a36/india_states.geojson",
         "hovertemplate": "State=%{location}<br>Revenue=%{z}<extra></extra>",
         "locations": [
          "Uttar Pradesh",
          "Maharashtra",
          "Karnataka",
          "Delhi",
          "Madhya Pradesh",
          "Andhra Pradesh",
          "Himachal Pradesh",
          "Haryana",
          "Bihar",
          "Gujarat",
          "Kerala",
          "Jharkhand",
          "Uttarakhand",
          "Rajasthan",
          "Punjab",
          "Telangana"
         ],
         "name": "",
         "type": "choropleth",
         "z": {
          "bdata": "eKMnAZcl3ABUWs4Aag+xABadewAao3oAKLxLAA9lQADlYT0AYjY8ANtsOwAYLi4AcHcmAKEiHQAoSBcAApIRAA==",
          "dtype": "i4"
         }
        }
       ],
       "layout": {
        "coloraxis": {
         "colorbar": {
          "title": {
           "text": "Revenue"
          }
         },
         "colorscale": [
          [
           0,
           "rgb(247,251,255)"
          ],
          [
           0.125,
           "rgb(222,235,247)"
          ],
          [
           0.25,
           "rgb(198,219,239)"
          ],
          [
           0.375,
           "rgb(158,202,225)"
          ],
          [
           0.5,
           "rgb(107,174,214)"
          ],
          [
           0.625,
           "rgb(66,146,198)"
          ],
          [
           0.75,
           "rgb(33,113,181)"
          ],
          [
           0.875,
           "rgb(8,81,156)"
          ],
          [
           1,
           "rgb(8,48,107)"
          ]
         ]
        },
        "geo": {
         "center": {},
         "domain": {
          "x": [
           0,
           1
          ],
          "y": [
           0,
           1
          ]
         },
         "fitbounds": "locations",
         "visible": false
        },
        "height": 500,
        "legend": {
         "tracegroupgap": 0
        },
        "margin": {
         "b": 0,
         "l": 0,
         "r": 0,
         "t": 40
        },
        "template": {
         "data": {
          "bar": [
           {
            "error_x": {
             "color": "#2a3f5f"
            },
            "error_y": {
             "color": "#2a3f5f"
            },
            "marker": {
             "line": {
              "color": "#E5ECF6",
              "width": 0.5
             },
             "pattern": {
              "fillmode": "overlay",
              "size": 10,
              "solidity": 0.2
             }
            },
            "type": "bar"
           }
          ],
          "barpolar": [
           {
            "marker": {
             "line": {
              "color": "#E5ECF6",
              "width": 0.5
             },
             "pattern": {
              "fillmode": "overlay",
              "size": 10,
              "solidity": 0.2
             }
            },
            "type": "barpolar"
           }
          ],
          "carpet": [
           {
            "aaxis": {
             "endlinecolor": "#2a3f5f",
             "gridcolor": "white",
             "linecolor": "white",
             "minorgridcolor": "white",
             "startlinecolor": "#2a3f5f"
            },
            "baxis": {
             "endlinecolor": "#2a3f5f",
             "gridcolor": "white",
             "linecolor": "white",
             "minorgridcolor": "white",
             "startlinecolor": "#2a3f5f"
            },
            "type": "carpet"
           }
          ],
          "choropleth": [
           {
            "colorbar": {
             "outlinewidth": 0,
             "ticks": ""
            },
            "type": "choropleth"
           }
          ],
          "contour": [
           {
            "colorbar": {
             "outlinewidth": 0,
             "ticks": ""
            },
            "colorscale": [
             [
              0,
              "#0d0887"
             ],
             [
              0.1111111111111111,
              "#46039f"
             ],
             [
              0.2222222222222222,
              "#7201a8"
             ],
             [
              0.3333333333333333,
              "#9c179e"
             ],
             [
              0.4444444444444444,
              "#bd3786"
             ],
             [
              0.5555555555555556,
              "#d8576b"
             ],
             [
              0.6666666666666666,
              "#ed7953"
             ],
             [
              0.7777777777777778,
              "#fb9f3a"
             ],
             [
              0.8888888888888888,
              "#fdca26"
             ],
             [
              1,
              "#f0f921"
             ]
            ],
            "type": "contour"
           }
          ],
          "contourcarpet": [
           {
            "colorbar": {
             "outlinewidth": 0,
             "ticks": ""
            },
            "type": "contourcarpet"
           }
          ],
          "heatmap": [
           {
            "colorbar": {
             "outlinewidth": 0,
             "ticks": ""
            },
            "colorscale": [
             [
              0,
              "#0d0887"
             ],
             [
              0.1111111111111111,
              "#46039f"
             ],
             [
              0.2222222222222222,
              "#7201a8"
             ],
             [
              0.3333333333333333,
              "#9c179e"
             ],
             [
              0.4444444444444444,
              "#bd3786"
             ],
             [
              0.5555555555555556,
              "#d8576b"
             ],
             [
              0.6666666666666666,
              "#ed7953"
             ],
             [
              0.7777777777777778,
              "#fb9f3a"
             ],
             [
              0.8888888888888888,
              "#fdca26"
             ],
             [
              1,
              "#f0f921"
             ]
            ],
            "type": "heatmap"
           }
          ],
          "histogram": [
           {
            "marker": {
             "pattern": {
              "fillmode": "overlay",
              "size": 10,
              "solidity": 0.2
             }
            },
            "type": "histogram"
           }
          ],
          "histogram2d": [
           {
            "colorbar": {
             "outlinewidth": 0,
             "ticks": ""
            },
            "colorscale": [
             [
              0,
              "#0d0887"
             ],
             [
              0.1111111111111111,
              "#46039f"
             ],
             [
              0.2222222222222222,
              "#7201a8"
             ],
             [
              0.3333333333333333,
              "#9c179e"
             ],
             [
              0.4444444444444444,
              "#bd3786"
             ],
             [
              0.5555555555555556,
              "#d8576b"
             ],
             [
              0.6666666666666666,
              "#ed7953"
             ],
             [
              0.7777777777777778,
              "#fb9f3a"
             ],
             [
              0.8888888888888888,
              "#fdca26"
             ],
             [
              1,
              "#f0f921"
             ]
            ],
            "type": "histogram2d"
           }
          ],
          "histogram2dcontour": [
           {
            "colorbar": {
             "outlinewidth": 0,
             "ticks": ""
            },
            "colorscale": [
             [
              0,
              "#0d0887"
             ],
             [
              0.1111111111111111,
              "#46039f"
             ],
             [
              0.2222222222222222,
              "#7201a8"
             ],
             [
              0.3333333333333333,
              "#9c179e"
             ],
             [
              0.4444444444444444,
              "#bd3786"
             ],
             [
              0.5555555555555556,
              "#d8576b"
             ],
             [
              0.6666666666666666,
              "#ed7953"
             ],
             [
              0.7777777777777778,
              "#fb9f3a"
             ],
             [
              0.8888888888888888,
              "#fdca26"
             ],
             [
              1,
              "#f0f921"
             ]
            ],
            "type": "histogram2dcontour"
           }
          ],
          "mesh3d": [
           {
            "colorbar": {
             "outlinewidth": 0,
             "ticks": ""
            },
            "type": "mesh3d"
           }
          ],
          "parcoords": [
           {
            "line": {
             "colorbar": {
              "outlinewidth": 0,
              "ticks": ""
             }
            },
            "type": "parcoords"
           }
          ],
          "pie": [
           {
            "automargin": true,
            "type": "pie"
           }
          ],
          "scatter": [
           {
            "fillpattern": {
             "fillmode": "overlay",
             "size": 10,
             "solidity": 0.2
            },
            "type": "scatter"
           }
          ],
          "scatter3d": [
           {
            "line": {
             "colorbar": {
              "outlinewidth": 0,
              "ticks": ""
             }
            },
            "marker": {
             "colorbar": {
              "outlinewidth": 0,
              "ticks": ""
             }
            },
            "type": "scatter3d"
           }
          ],
          "scattercarpet": [
           {
            "marker": {
             "colorbar": {
              "outlinewidth": 0,
              "ticks": ""
             }
            },
            "type": "scattercarpet"
           }
          ],
          "scattergeo": [
           {
            "marker": {
             "colorbar": {
              "outlinewidth": 0,
              "ticks": ""
             }
            },
            "type": "scattergeo"
           }
          ],
          "scattergl": [
           {
            "marker": {
             "colorbar": {
              "outlinewidth": 0,
              "ticks": ""
             }
            },
            "type": "scattergl"
           }
          ],
          "scattermap": [
           {
            "marker": {
             "colorbar": {
              "outlinewidth": 0,
              "ticks": ""
             }
            },
            "type": "scattermap"
           }
          ],
          "scattermapbox": [
           {
            "marker": {
             "colorbar": {
              "outlinewidth": 0,
              "ticks": ""
             }
            },
            "type": "scattermapbox"
           }
          ],
          "scatterpolar": [
           {
            "marker": {
             "colorbar": {
              "outlinewidth": 0,
              "ticks": ""
             }
            },
            "type": "scatterpolar"
           }
          ],
          "scatterpolargl": [
           {
            "marker": {
             "colorbar": {
              "outlinewidth": 0,
              "ticks": ""
             }
            },
            "type": "scatterpolargl"
           }
          ],
          "scatterternary": [
           {
            "marker": {
             "colorbar": {
              "outlinewidth": 0,
              "ticks": ""
             }
            },
            "type": "scatterternary"
           }
          ],
          "surface": [
           {
            "colorbar": {
             "outlinewidth": 0,
             "ticks": ""
            },
            "colorscale": [
             [
              0,
              "#0d0887"
             ],
             [
              0.1111111111111111,
              "#46039f"
             ],
             [
              0.2222222222222222,
              "#7201a8"
             ],
             [
              0.3333333333333333,
              "#9c179e"
             ],
             [
              0.4444444444444444,
              "#bd3786"
             ],
             [
              0.5555555555555556,
              "#d8576b"
             ],
             [
              0.6666666666666666,
              "#ed7953"
             ],
             [
              0.7777777777777778,
              "#fb9f3a"
             ],
             [
              0.8888888888888888,
              "#fdca26"
             ],
             [
              1,
              "#f0f921"
             ]
            ],
            "type": "surface"
           }
          ],
          "table": [
           {
            "cells": {
             "fill": {
              "color": "#EBF0F8"
             },
             "line": {
              "color": "white"
             }
            },
            "header": {
             "fill": {
              "color": "#C8D4E3"
             },
             "line": {
              "color": "white"
             }
            },
            "type": "table"
           }
          ]
         },
         "layout": {
          "annotationdefaults": {
           "arrowcolor": "#2a3f5f",
           "arrowhead": 0,
           "arrowwidth": 1
          },
          "autotypenumbers": "strict",
          "coloraxis": {
           "colorbar": {
            "outlinewidth": 0,
            "ticks": ""
           }
          },
          "colorscale": {
           "diverging": [
            [
             0,
             "#8e0152"
            ],
            [
             0.1,
             "#c51b7d"
            ],
            [
             0.2,
             "#de77ae"
            ],
            [
             0.3,
             "#f1b6da"
            ],
            [
             0.4,
             "#fde0ef"
            ],
            [
             0.5,
             "#f7f7f7"
            ],
            [
             0.6,
             "#e6f5d0"
            ],
            [
             0.7,
             "#b8e186"
            ],
            [
             0.8,
             "#7fbc41"
            ],
            [
             0.9,
             "#4d9221"
            ],
            [
             1,
             "#276419"
            ]
           ],
           "sequential": [
            [
             0,
             "#0d0887"
            ],
            [
             0.1111111111111111,
             "#46039f"
            ],
            [
             0.2222222222222222,
             "#7201a8"
            ],
            [
             0.3333333333333333,
             "#9c179e"
            ],
            [
             0.4444444444444444,
             "#bd3786"
            ],
            [
             0.5555555555555556,
             "#d8576b"
            ],
            [
             0.6666666666666666,
             "#ed7953"
            ],
            [
             0.7777777777777778,
             "#fb9f3a"
            ],
            [
             0.8888888888888888,
             "#fdca26"
            ],
            [
             1,
             "#f0f921"
            ]
           ],
           "sequentialminus": [
            [
             0,
             "#0d0887"
            ],
            [
             0.1111111111111111,
             "#46039f"
            ],
            [
             0.2222222222222222,
             "#7201a8"
            ],
            [
             0.3333333333333333,
             "#9c179e"
            ],
            [
             0.4444444444444444,
             "#bd3786"
            ],
            [
             0.5555555555555556,
             "#d8576b"
            ],
            [
             0.6666666666666666,
             "#ed7953"
            ],
            [
             0.7777777777777778,
             "#fb9f3a"
            ],
            [
             0.8888888888888888,
             "#fdca26"
            ],
            [
             1,
             "#f0f921"
            ]
           ]
          },
          "colorway": [
           "#636efa",
           "#EF553B",
           "#00cc96",
           "#ab63fa",
           "#FFA15A",
           "#19d3f3",
           "#FF6692",
           "#B6E880",
           "#FF97FF",
           "#FECB52"
          ],
          "font": {
           "color": "#2a3f5f"
          },
          "geo": {
           "bgcolor": "white",
           "lakecolor": "white",
           "landcolor": "#E5ECF6",
           "showlakes": true,
           "showland": true,
           "subunitcolor": "white"
          },
          "hoverlabel": {
           "align": "left"
          },
          "hovermode": "closest",
          "mapbox": {
           "style": "light"
          },
          "paper_bgcolor": "white",
          "plot_bgcolor": "#E5ECF6",
          "polar": {
           "angularaxis": {
            "gridcolor": "white",
            "linecolor": "white",
            "ticks": ""
           },
           "bgcolor": "#E5ECF6",
           "radialaxis": {
            "gridcolor": "white",
            "linecolor": "white",
            "ticks": ""
           }
          },
          "scene": {
           "xaxis": {
            "backgroundcolor": "#E5ECF6",
            "gridcolor": "white",
            "gridwidth": 2,
            "linecolor": "white",
            "showbackground": true,
            "ticks": "",
            "zerolinecolor": "white"
           },
           "yaxis": {
            "backgroundcolor": "#E5ECF6",
            "gridcolor": "white",
            "gridwidth": 2,
            "linecolor": "white",
            "showbackground": true,
            "ticks": "",
            "zerolinecolor": "white"
           },
           "zaxis": {
            "backgroundcolor": "#E5ECF6",
            "gridcolor": "white",
            "gridwidth": 2,
            "linecolor": "white",
            "showbackground": true,
            "ticks": "",
            "zerolinecolor": "white"
           }
          },
          "shapedefaults": {
           "line": {
            "color": "#2a3f5f"
           }
          },
          "ternary": {
           "aaxis": {
            "gridcolor": "white",
            "linecolor": "white",
            "ticks": ""
           },
           "baxis": {
            "gridcolor": "white",
            "linecolor": "white",
            "ticks": ""
           },
           "bgcolor": "#E5ECF6",
           "caxis": {
            "gridcolor": "white",
            "linecolor": "white",
            "ticks": ""
           }
          },
          "title": {
           "x": 0.05
          },
          "xaxis": {
           "automargin": true,
           "gridcolor": "white",
           "linecolor": "white",
           "ticks": "",
           "title": {
            "standoff": 15
           },
           "zerolinecolor": "white",
           "zerolinewidth": 2
          },
          "yaxis": {
           "automargin": true,
           "gridcolor": "white",
           "linecolor": "white",
           "ticks": "",
           "title": {
            "standoff": 15
           },
           "zerolinecolor": "white",
           "zerolinewidth": 2
          }
         }
        },
        "title": {
         "text": "Revenue Distribution Across Indian States"
        }
       }
      }
     },
     "metadata": {},
     "output_type": "display_data"
    }
   ],
   "source": [
    "### Geographic Analysis\n",
    "state_analysis = df.groupby('State').agg(\n",
    "    Customers=('User_ID', 'nunique'),\n",
    "    Orders=('Orders', 'sum'),\n",
    "    Revenue=('Amount', 'sum'),\n",
    "    Avg_Spending=('Amount', 'mean')\n",
    ").sort_values('Revenue', ascending=False).reset_index()\n",
    "\n",
    "# Top 10 states visualization\n",
    "top_states = state_analysis.head(10)\n",
    "\n",
    "fig = make_subplots(\n",
    "    rows=2, cols=1,\n",
    "    subplot_titles=('Top States by Revenue', 'Top States by Average Spending'),\n",
    "    vertical_spacing=0.2\n",
    ")\n",
    "\n",
    "# Revenue plot\n",
    "fig.add_trace(go.Bar(\n",
    "    x=top_states['State'], \n",
    "    y=top_states['Revenue'],\n",
    "    name='Revenue', \n",
    "    marker_color='#2ca02c',\n",
    "    text=[f'₹{x/1000000:.1f}M' for x in top_states['Revenue']],\n",
    "    textposition='auto'\n",
    "), row=1, col=1)\n",
    "\n",
    "# Avg Spending plot\n",
    "fig.add_trace(go.Bar(\n",
    "    x=top_states['State'], \n",
    "    y=top_states['Avg_Spending'],\n",
    "    name='Avg Spending', \n",
    "    marker_color='#d62728',\n",
    "    text=[f'₹{x:,.0f}' for x in top_states['Avg_Spending']],\n",
    "    textposition='auto'\n",
    "), row=2, col=1)\n",
    "\n",
    "fig.update_layout(\n",
    "    height=700, \n",
    "    title_text=\"Geographic Sales Analysis\", \n",
    "    showlegend=False\n",
    ")\n",
    "fig.update_yaxes(title_text=\"Revenue (₹)\", row=1, col=1)\n",
    "fig.update_yaxes(title_text=\"Average Spending (₹)\", row=2, col=1)\n",
    "fig.update_xaxes(tickangle=45)\n",
    "fig.show()\n",
    "\n",
    "# Geographic distribution map\n",
    "try:\n",
    "    fig = px.choropleth(\n",
    "        state_analysis,\n",
    "        geojson=\"https://gist.githubusercontent.com/jbrobst/56c13bbbf9d97d187fea01ca62ea5112/raw/e388c4cae20aa53cb5090210a42ebb9b765c0a36/india_states.geojson\",\n",
    "        featureidkey='properties.ST_NM',\n",
    "        locations='State',\n",
    "        color='Revenue',\n",
    "        color_continuous_scale='Blues',\n",
    "        title='Revenue Distribution Across Indian States',\n",
    "        height=500\n",
    "    )\n",
    "\n",
    "    fig.update_geos(fitbounds=\"locations\", visible=False)\n",
    "    fig.update_layout(margin={\"r\":0, \"t\":40, \"l\":0, \"b\":0})\n",
    "    fig.show()\n",
    "except Exception as e:\n",
    "    print(f\"Could not render map: {str(e)}\")"
   ]
  },
  {
   "cell_type": "markdown",
   "id": "0f657b49",
   "metadata": {},
   "source": [
    "Product Analysis"
   ]
  },
  {
   "cell_type": "code",
   "execution_count": 7,
   "id": "5f06af01",
   "metadata": {},
   "outputs": [
    {
     "data": {
      "application/vnd.plotly.v1+json": {
       "config": {
        "plotlyServerURL": "https://plot.ly"
       },
       "data": [
        {
         "marker": {
          "color": "#9467bd"
         },
         "name": "Orders",
         "orientation": "h",
         "text": {
          "bdata": "AAAAAADquUAAAAAAAN63QAAAAAAAarRAAAAAAACspEAAAAAAAMyUQAAAAAAA+JBAAAAAAABgjUAAAAAAAMiLQAAAAAAAMItAAAAAAADAgEAAAAAAAJBxQAAAAAAAUHBAAAAAAACgbkAAAAAAAOBtQAAAAAAAYG1AAAAAAADAaUAAAAAAAMBkQAAAAAAAAFRA",
          "dtype": "f8"
         },
         "textposition": "auto",
         "type": "bar",
         "x": {
          "bdata": "6hneF2oUVgozBT4ErAN5A2YDGAIZAQUB9QDvAOsAzgCmAFAA",
          "dtype": "i2"
         },
         "xaxis": "x",
         "y": [
          "Fashion",
          "Food & Grocery",
          "Electronics",
          "Footwear",
          "Household items",
          "Beauty & Cosmetics",
          "Toys & Games",
          "Home & Furniture",
          "Sports",
          "Pet Care",
          "Office Supplies",
          "Office",
          "Books",
          "Automotive",
          "Decor",
          "Veterinary",
          "Tupperware",
          "Hand & Power Tools"
         ],
         "yaxis": "y"
        },
        {
         "marker": {
          "color": "#8c564b"
         },
         "name": "Revenue",
         "orientation": "h",
         "text": [
          "₹33.9M",
          "₹16.5M",
          "₹15.6M",
          "₹15.6M",
          "₹5.4M",
          "₹4.3M",
          "₹3.6M",
          "₹2.0M",
          "₹2.0M",
          "₹1.7M",
          "₹1.6M",
          "₹1.2M",
          "₹1.1M",
          "₹0.7M",
          "₹0.5M",
          "₹0.4M",
          "₹0.1M",
          "₹0.1M"
         ],
         "textposition": "auto",
         "type": "bar",
         "x": {
          "bdata": "O8oFAqux+wDGtO4AqajtADMCUwCuGEIA3Xo3ADzmHQDR4h0AE5MZADnyFwA6ohEAZjIQAPgkCwDlWwcAcjAGAD64AQAQQAEA",
          "dtype": "i4"
         },
         "xaxis": "x2",
         "y": [
          "Food & Grocery",
          "Fashion",
          "Electronics",
          "Footwear",
          "Home & Furniture",
          "Toys & Games",
          "Sports",
          "Beauty & Cosmetics",
          "Automotive",
          "Office Supplies",
          "Household items",
          "Tupperware",
          "Books",
          "Decor",
          "Pet Care",
          "Hand & Power Tools",
          "Veterinary",
          "Office"
         ],
         "yaxis": "y2"
        }
       ],
       "layout": {
        "annotations": [
         {
          "font": {
           "size": 16
          },
          "showarrow": false,
          "text": "Top Categories by Orders",
          "x": 0.225,
          "xanchor": "center",
          "xref": "paper",
          "y": 1,
          "yanchor": "bottom",
          "yref": "paper"
         },
         {
          "font": {
           "size": 16
          },
          "showarrow": false,
          "text": "Top Categories by Revenue",
          "x": 0.775,
          "xanchor": "center",
          "xref": "paper",
          "y": 1,
          "yanchor": "bottom",
          "yref": "paper"
         }
        ],
        "height": 600,
        "showlegend": false,
        "template": {
         "data": {
          "bar": [
           {
            "error_x": {
             "color": "#2a3f5f"
            },
            "error_y": {
             "color": "#2a3f5f"
            },
            "marker": {
             "line": {
              "color": "#E5ECF6",
              "width": 0.5
             },
             "pattern": {
              "fillmode": "overlay",
              "size": 10,
              "solidity": 0.2
             }
            },
            "type": "bar"
           }
          ],
          "barpolar": [
           {
            "marker": {
             "line": {
              "color": "#E5ECF6",
              "width": 0.5
             },
             "pattern": {
              "fillmode": "overlay",
              "size": 10,
              "solidity": 0.2
             }
            },
            "type": "barpolar"
           }
          ],
          "carpet": [
           {
            "aaxis": {
             "endlinecolor": "#2a3f5f",
             "gridcolor": "white",
             "linecolor": "white",
             "minorgridcolor": "white",
             "startlinecolor": "#2a3f5f"
            },
            "baxis": {
             "endlinecolor": "#2a3f5f",
             "gridcolor": "white",
             "linecolor": "white",
             "minorgridcolor": "white",
             "startlinecolor": "#2a3f5f"
            },
            "type": "carpet"
           }
          ],
          "choropleth": [
           {
            "colorbar": {
             "outlinewidth": 0,
             "ticks": ""
            },
            "type": "choropleth"
           }
          ],
          "contour": [
           {
            "colorbar": {
             "outlinewidth": 0,
             "ticks": ""
            },
            "colorscale": [
             [
              0,
              "#0d0887"
             ],
             [
              0.1111111111111111,
              "#46039f"
             ],
             [
              0.2222222222222222,
              "#7201a8"
             ],
             [
              0.3333333333333333,
              "#9c179e"
             ],
             [
              0.4444444444444444,
              "#bd3786"
             ],
             [
              0.5555555555555556,
              "#d8576b"
             ],
             [
              0.6666666666666666,
              "#ed7953"
             ],
             [
              0.7777777777777778,
              "#fb9f3a"
             ],
             [
              0.8888888888888888,
              "#fdca26"
             ],
             [
              1,
              "#f0f921"
             ]
            ],
            "type": "contour"
           }
          ],
          "contourcarpet": [
           {
            "colorbar": {
             "outlinewidth": 0,
             "ticks": ""
            },
            "type": "contourcarpet"
           }
          ],
          "heatmap": [
           {
            "colorbar": {
             "outlinewidth": 0,
             "ticks": ""
            },
            "colorscale": [
             [
              0,
              "#0d0887"
             ],
             [
              0.1111111111111111,
              "#46039f"
             ],
             [
              0.2222222222222222,
              "#7201a8"
             ],
             [
              0.3333333333333333,
              "#9c179e"
             ],
             [
              0.4444444444444444,
              "#bd3786"
             ],
             [
              0.5555555555555556,
              "#d8576b"
             ],
             [
              0.6666666666666666,
              "#ed7953"
             ],
             [
              0.7777777777777778,
              "#fb9f3a"
             ],
             [
              0.8888888888888888,
              "#fdca26"
             ],
             [
              1,
              "#f0f921"
             ]
            ],
            "type": "heatmap"
           }
          ],
          "histogram": [
           {
            "marker": {
             "pattern": {
              "fillmode": "overlay",
              "size": 10,
              "solidity": 0.2
             }
            },
            "type": "histogram"
           }
          ],
          "histogram2d": [
           {
            "colorbar": {
             "outlinewidth": 0,
             "ticks": ""
            },
            "colorscale": [
             [
              0,
              "#0d0887"
             ],
             [
              0.1111111111111111,
              "#46039f"
             ],
             [
              0.2222222222222222,
              "#7201a8"
             ],
             [
              0.3333333333333333,
              "#9c179e"
             ],
             [
              0.4444444444444444,
              "#bd3786"
             ],
             [
              0.5555555555555556,
              "#d8576b"
             ],
             [
              0.6666666666666666,
              "#ed7953"
             ],
             [
              0.7777777777777778,
              "#fb9f3a"
             ],
             [
              0.8888888888888888,
              "#fdca26"
             ],
             [
              1,
              "#f0f921"
             ]
            ],
            "type": "histogram2d"
           }
          ],
          "histogram2dcontour": [
           {
            "colorbar": {
             "outlinewidth": 0,
             "ticks": ""
            },
            "colorscale": [
             [
              0,
              "#0d0887"
             ],
             [
              0.1111111111111111,
              "#46039f"
             ],
             [
              0.2222222222222222,
              "#7201a8"
             ],
             [
              0.3333333333333333,
              "#9c179e"
             ],
             [
              0.4444444444444444,
              "#bd3786"
             ],
             [
              0.5555555555555556,
              "#d8576b"
             ],
             [
              0.6666666666666666,
              "#ed7953"
             ],
             [
              0.7777777777777778,
              "#fb9f3a"
             ],
             [
              0.8888888888888888,
              "#fdca26"
             ],
             [
              1,
              "#f0f921"
             ]
            ],
            "type": "histogram2dcontour"
           }
          ],
          "mesh3d": [
           {
            "colorbar": {
             "outlinewidth": 0,
             "ticks": ""
            },
            "type": "mesh3d"
           }
          ],
          "parcoords": [
           {
            "line": {
             "colorbar": {
              "outlinewidth": 0,
              "ticks": ""
             }
            },
            "type": "parcoords"
           }
          ],
          "pie": [
           {
            "automargin": true,
            "type": "pie"
           }
          ],
          "scatter": [
           {
            "fillpattern": {
             "fillmode": "overlay",
             "size": 10,
             "solidity": 0.2
            },
            "type": "scatter"
           }
          ],
          "scatter3d": [
           {
            "line": {
             "colorbar": {
              "outlinewidth": 0,
              "ticks": ""
             }
            },
            "marker": {
             "colorbar": {
              "outlinewidth": 0,
              "ticks": ""
             }
            },
            "type": "scatter3d"
           }
          ],
          "scattercarpet": [
           {
            "marker": {
             "colorbar": {
              "outlinewidth": 0,
              "ticks": ""
             }
            },
            "type": "scattercarpet"
           }
          ],
          "scattergeo": [
           {
            "marker": {
             "colorbar": {
              "outlinewidth": 0,
              "ticks": ""
             }
            },
            "type": "scattergeo"
           }
          ],
          "scattergl": [
           {
            "marker": {
             "colorbar": {
              "outlinewidth": 0,
              "ticks": ""
             }
            },
            "type": "scattergl"
           }
          ],
          "scattermap": [
           {
            "marker": {
             "colorbar": {
              "outlinewidth": 0,
              "ticks": ""
             }
            },
            "type": "scattermap"
           }
          ],
          "scattermapbox": [
           {
            "marker": {
             "colorbar": {
              "outlinewidth": 0,
              "ticks": ""
             }
            },
            "type": "scattermapbox"
           }
          ],
          "scatterpolar": [
           {
            "marker": {
             "colorbar": {
              "outlinewidth": 0,
              "ticks": ""
             }
            },
            "type": "scatterpolar"
           }
          ],
          "scatterpolargl": [
           {
            "marker": {
             "colorbar": {
              "outlinewidth": 0,
              "ticks": ""
             }
            },
            "type": "scatterpolargl"
           }
          ],
          "scatterternary": [
           {
            "marker": {
             "colorbar": {
              "outlinewidth": 0,
              "ticks": ""
             }
            },
            "type": "scatterternary"
           }
          ],
          "surface": [
           {
            "colorbar": {
             "outlinewidth": 0,
             "ticks": ""
            },
            "colorscale": [
             [
              0,
              "#0d0887"
             ],
             [
              0.1111111111111111,
              "#46039f"
             ],
             [
              0.2222222222222222,
              "#7201a8"
             ],
             [
              0.3333333333333333,
              "#9c179e"
             ],
             [
              0.4444444444444444,
              "#bd3786"
             ],
             [
              0.5555555555555556,
              "#d8576b"
             ],
             [
              0.6666666666666666,
              "#ed7953"
             ],
             [
              0.7777777777777778,
              "#fb9f3a"
             ],
             [
              0.8888888888888888,
              "#fdca26"
             ],
             [
              1,
              "#f0f921"
             ]
            ],
            "type": "surface"
           }
          ],
          "table": [
           {
            "cells": {
             "fill": {
              "color": "#EBF0F8"
             },
             "line": {
              "color": "white"
             }
            },
            "header": {
             "fill": {
              "color": "#C8D4E3"
             },
             "line": {
              "color": "white"
             }
            },
            "type": "table"
           }
          ]
         },
         "layout": {
          "annotationdefaults": {
           "arrowcolor": "#2a3f5f",
           "arrowhead": 0,
           "arrowwidth": 1
          },
          "autotypenumbers": "strict",
          "coloraxis": {
           "colorbar": {
            "outlinewidth": 0,
            "ticks": ""
           }
          },
          "colorscale": {
           "diverging": [
            [
             0,
             "#8e0152"
            ],
            [
             0.1,
             "#c51b7d"
            ],
            [
             0.2,
             "#de77ae"
            ],
            [
             0.3,
             "#f1b6da"
            ],
            [
             0.4,
             "#fde0ef"
            ],
            [
             0.5,
             "#f7f7f7"
            ],
            [
             0.6,
             "#e6f5d0"
            ],
            [
             0.7,
             "#b8e186"
            ],
            [
             0.8,
             "#7fbc41"
            ],
            [
             0.9,
             "#4d9221"
            ],
            [
             1,
             "#276419"
            ]
           ],
           "sequential": [
            [
             0,
             "#0d0887"
            ],
            [
             0.1111111111111111,
             "#46039f"
            ],
            [
             0.2222222222222222,
             "#7201a8"
            ],
            [
             0.3333333333333333,
             "#9c179e"
            ],
            [
             0.4444444444444444,
             "#bd3786"
            ],
            [
             0.5555555555555556,
             "#d8576b"
            ],
            [
             0.6666666666666666,
             "#ed7953"
            ],
            [
             0.7777777777777778,
             "#fb9f3a"
            ],
            [
             0.8888888888888888,
             "#fdca26"
            ],
            [
             1,
             "#f0f921"
            ]
           ],
           "sequentialminus": [
            [
             0,
             "#0d0887"
            ],
            [
             0.1111111111111111,
             "#46039f"
            ],
            [
             0.2222222222222222,
             "#7201a8"
            ],
            [
             0.3333333333333333,
             "#9c179e"
            ],
            [
             0.4444444444444444,
             "#bd3786"
            ],
            [
             0.5555555555555556,
             "#d8576b"
            ],
            [
             0.6666666666666666,
             "#ed7953"
            ],
            [
             0.7777777777777778,
             "#fb9f3a"
            ],
            [
             0.8888888888888888,
             "#fdca26"
            ],
            [
             1,
             "#f0f921"
            ]
           ]
          },
          "colorway": [
           "#636efa",
           "#EF553B",
           "#00cc96",
           "#ab63fa",
           "#FFA15A",
           "#19d3f3",
           "#FF6692",
           "#B6E880",
           "#FF97FF",
           "#FECB52"
          ],
          "font": {
           "color": "#2a3f5f"
          },
          "geo": {
           "bgcolor": "white",
           "lakecolor": "white",
           "landcolor": "#E5ECF6",
           "showlakes": true,
           "showland": true,
           "subunitcolor": "white"
          },
          "hoverlabel": {
           "align": "left"
          },
          "hovermode": "closest",
          "mapbox": {
           "style": "light"
          },
          "paper_bgcolor": "white",
          "plot_bgcolor": "#E5ECF6",
          "polar": {
           "angularaxis": {
            "gridcolor": "white",
            "linecolor": "white",
            "ticks": ""
           },
           "bgcolor": "#E5ECF6",
           "radialaxis": {
            "gridcolor": "white",
            "linecolor": "white",
            "ticks": ""
           }
          },
          "scene": {
           "xaxis": {
            "backgroundcolor": "#E5ECF6",
            "gridcolor": "white",
            "gridwidth": 2,
            "linecolor": "white",
            "showbackground": true,
            "ticks": "",
            "zerolinecolor": "white"
           },
           "yaxis": {
            "backgroundcolor": "#E5ECF6",
            "gridcolor": "white",
            "gridwidth": 2,
            "linecolor": "white",
            "showbackground": true,
            "ticks": "",
            "zerolinecolor": "white"
           },
           "zaxis": {
            "backgroundcolor": "#E5ECF6",
            "gridcolor": "white",
            "gridwidth": 2,
            "linecolor": "white",
            "showbackground": true,
            "ticks": "",
            "zerolinecolor": "white"
           }
          },
          "shapedefaults": {
           "line": {
            "color": "#2a3f5f"
           }
          },
          "ternary": {
           "aaxis": {
            "gridcolor": "white",
            "linecolor": "white",
            "ticks": ""
           },
           "baxis": {
            "gridcolor": "white",
            "linecolor": "white",
            "ticks": ""
           },
           "bgcolor": "#E5ECF6",
           "caxis": {
            "gridcolor": "white",
            "linecolor": "white",
            "ticks": ""
           }
          },
          "title": {
           "x": 0.05
          },
          "xaxis": {
           "automargin": true,
           "gridcolor": "white",
           "linecolor": "white",
           "ticks": "",
           "title": {
            "standoff": 15
           },
           "zerolinecolor": "white",
           "zerolinewidth": 2
          },
          "yaxis": {
           "automargin": true,
           "gridcolor": "white",
           "linecolor": "white",
           "ticks": "",
           "title": {
            "standoff": 15
           },
           "zerolinecolor": "white",
           "zerolinewidth": 2
          }
         }
        },
        "title": {
         "text": "Product Category Analysis"
        },
        "xaxis": {
         "anchor": "y",
         "domain": [
          0,
          0.45
         ],
         "title": {
          "text": "Number of Orders"
         }
        },
        "xaxis2": {
         "anchor": "y2",
         "domain": [
          0.55,
          1
         ],
         "title": {
          "text": "Revenue (₹)"
         }
        },
        "yaxis": {
         "anchor": "x",
         "autorange": "reversed",
         "domain": [
          0,
          1
         ]
        },
        "yaxis2": {
         "anchor": "x2",
         "domain": [
          0,
          1
         ]
        }
       }
      }
     },
     "metadata": {},
     "output_type": "display_data"
    },
    {
     "data": {
      "application/vnd.plotly.v1+json": {
       "config": {
        "plotlyServerURL": "https://plot.ly"
       },
       "data": [
        {
         "hovertemplate": "<b>%{hovertext}</b><br><br>Product_Category=Fashion<br>Total Orders (log scale)=%{x}<br>Total Revenue (₹)=%{y}<br>Customers=%{marker.size}<extra></extra>",
         "hovertext": [
          "Fashion"
         ],
         "legendgroup": "Fashion",
         "marker": {
          "color": "#636efa",
          "line": {
           "color": "DarkSlateGrey",
           "width": 1
          },
          "opacity": 0.8,
          "size": {
           "bdata": "3QY=",
           "dtype": "i2"
          },
          "sizemode": "area",
          "sizeref": 0.4880555555555556,
          "symbol": "circle"
         },
         "mode": "markers",
         "name": "Fashion",
         "orientation": "v",
         "showlegend": true,
         "type": "scatter",
         "x": {
          "bdata": "6hk=",
          "dtype": "i2"
         },
         "xaxis": "x",
         "y": {
          "bdata": "q7H7AA==",
          "dtype": "i4"
         },
         "yaxis": "y"
        },
        {
         "hovertemplate": "<b>%{hovertext}</b><br><br>Product_Category=Food & Grocery<br>Total Orders (log scale)=%{x}<br>Total Revenue (₹)=%{y}<br>Customers=%{marker.size}<extra></extra>",
         "hovertext": [
          "Food & Grocery"
         ],
         "legendgroup": "Food & Grocery",
         "marker": {
          "color": "#EF553B",
          "line": {
           "color": "DarkSlateGrey",
           "width": 1
          },
          "opacity": 0.8,
          "size": {
           "bdata": "ogY=",
           "dtype": "i2"
          },
          "sizemode": "area",
          "sizeref": 0.4880555555555556,
          "symbol": "circle"
         },
         "mode": "markers",
         "name": "Food & Grocery",
         "orientation": "v",
         "showlegend": true,
         "type": "scatter",
         "x": {
          "bdata": "3hc=",
          "dtype": "i2"
         },
         "xaxis": "x",
         "y": {
          "bdata": "O8oFAg==",
          "dtype": "i4"
         },
         "yaxis": "y"
        },
        {
         "hovertemplate": "<b>%{hovertext}</b><br><br>Product_Category=Electronics<br>Total Orders (log scale)=%{x}<br>Total Revenue (₹)=%{y}<br>Customers=%{marker.size}<extra></extra>",
         "hovertext": [
          "Electronics"
         ],
         "legendgroup": "Electronics",
         "marker": {
          "color": "#00cc96",
          "line": {
           "color": "DarkSlateGrey",
           "width": 1
          },
          "opacity": 0.8,
          "size": {
           "bdata": "ggU=",
           "dtype": "i2"
          },
          "sizemode": "area",
          "sizeref": 0.4880555555555556,
          "symbol": "circle"
         },
         "mode": "markers",
         "name": "Electronics",
         "orientation": "v",
         "showlegend": true,
         "type": "scatter",
         "x": {
          "bdata": "ahQ=",
          "dtype": "i2"
         },
         "xaxis": "x",
         "y": {
          "bdata": "xrTuAA==",
          "dtype": "i4"
         },
         "yaxis": "y"
        },
        {
         "hovertemplate": "<b>%{hovertext}</b><br><br>Product_Category=Footwear<br>Total Orders (log scale)=%{x}<br>Total Revenue (₹)=%{y}<br>Customers=%{marker.size}<extra></extra>",
         "hovertext": [
          "Footwear"
         ],
         "legendgroup": "Footwear",
         "marker": {
          "color": "#ab63fa",
          "line": {
           "color": "DarkSlateGrey",
           "width": 1
          },
          "opacity": 0.8,
          "size": {
           "bdata": "HgM=",
           "dtype": "i2"
          },
          "sizemode": "area",
          "sizeref": 0.4880555555555556,
          "symbol": "circle"
         },
         "mode": "markers",
         "name": "Footwear",
         "orientation": "v",
         "showlegend": true,
         "type": "scatter",
         "x": {
          "bdata": "Vgo=",
          "dtype": "i2"
         },
         "xaxis": "x",
         "y": {
          "bdata": "qajtAA==",
          "dtype": "i4"
         },
         "yaxis": "y"
        },
        {
         "hovertemplate": "<b>%{hovertext}</b><br><br>Product_Category=Household items<br>Total Orders (log scale)=%{x}<br>Total Revenue (₹)=%{y}<br>Customers=%{marker.size}<extra></extra>",
         "hovertext": [
          "Household items"
         ],
         "legendgroup": "Household items",
         "marker": {
          "color": "#FFA15A",
          "line": {
           "color": "DarkSlateGrey",
           "width": 1
          },
          "opacity": 0.8,
          "size": {
           "bdata": "xQE=",
           "dtype": "i2"
          },
          "sizemode": "area",
          "sizeref": 0.4880555555555556,
          "symbol": "circle"
         },
         "mode": "markers",
         "name": "Household items",
         "orientation": "v",
         "showlegend": true,
         "type": "scatter",
         "x": {
          "bdata": "MwU=",
          "dtype": "i2"
         },
         "xaxis": "x",
         "y": {
          "bdata": "OfIXAA==",
          "dtype": "i4"
         },
         "yaxis": "y"
        },
        {
         "hovertemplate": "<b>%{hovertext}</b><br><br>Product_Category=Beauty & Cosmetics<br>Total Orders (log scale)=%{x}<br>Total Revenue (₹)=%{y}<br>Customers=%{marker.size}<extra></extra>",
         "hovertext": [
          "Beauty & Cosmetics"
         ],
         "legendgroup": "Beauty & Cosmetics",
         "marker": {
          "color": "#19d3f3",
          "line": {
           "color": "DarkSlateGrey",
           "width": 1
          },
          "opacity": 0.8,
          "size": {
           "bdata": "hwE=",
           "dtype": "i2"
          },
          "sizemode": "area",
          "sizeref": 0.4880555555555556,
          "symbol": "circle"
         },
         "mode": "markers",
         "name": "Beauty & Cosmetics",
         "orientation": "v",
         "showlegend": true,
         "type": "scatter",
         "x": {
          "bdata": "PgQ=",
          "dtype": "i2"
         },
         "xaxis": "x",
         "y": {
          "bdata": "POYdAA==",
          "dtype": "i4"
         },
         "yaxis": "y"
        },
        {
         "hovertemplate": "<b>%{hovertext}</b><br><br>Product_Category=Toys & Games<br>Total Orders (log scale)=%{x}<br>Total Revenue (₹)=%{y}<br>Customers=%{marker.size}<extra></extra>",
         "hovertext": [
          "Toys & Games"
         ],
         "legendgroup": "Toys & Games",
         "marker": {
          "color": "#FF6692",
          "line": {
           "color": "DarkSlateGrey",
           "width": 1
          },
          "opacity": 0.8,
          "size": {
           "bdata": "YgE=",
           "dtype": "i2"
          },
          "sizemode": "area",
          "sizeref": 0.4880555555555556,
          "symbol": "circle"
         },
         "mode": "markers",
         "name": "Toys & Games",
         "orientation": "v",
         "showlegend": true,
         "type": "scatter",
         "x": {
          "bdata": "rAM=",
          "dtype": "i2"
         },
         "xaxis": "x",
         "y": {
          "bdata": "rhhCAA==",
          "dtype": "i4"
         },
         "yaxis": "y"
        },
        {
         "hovertemplate": "<b>%{hovertext}</b><br><br>Product_Category=Home & Furniture<br>Total Orders (log scale)=%{x}<br>Total Revenue (₹)=%{y}<br>Customers=%{marker.size}<extra></extra>",
         "hovertext": [
          "Home & Furniture"
         ],
         "legendgroup": "Home & Furniture",
         "marker": {
          "color": "#B6E880",
          "line": {
           "color": "DarkSlateGrey",
           "width": 1
          },
          "opacity": 0.8,
          "size": {
           "bdata": "SgE=",
           "dtype": "i2"
          },
          "sizemode": "area",
          "sizeref": 0.4880555555555556,
          "symbol": "circle"
         },
         "mode": "markers",
         "name": "Home & Furniture",
         "orientation": "v",
         "showlegend": true,
         "type": "scatter",
         "x": {
          "bdata": "eQM=",
          "dtype": "i2"
         },
         "xaxis": "x",
         "y": {
          "bdata": "MwJTAA==",
          "dtype": "i4"
         },
         "yaxis": "y"
        },
        {
         "hovertemplate": "<b>%{hovertext}</b><br><br>Product_Category=Sports<br>Total Orders (log scale)=%{x}<br>Total Revenue (₹)=%{y}<br>Customers=%{marker.size}<extra></extra>",
         "hovertext": [
          "Sports"
         ],
         "legendgroup": "Sports",
         "marker": {
          "color": "#FF97FF",
          "line": {
           "color": "DarkSlateGrey",
           "width": 1
          },
          "opacity": 0.8,
          "size": {
           "bdata": "UgE=",
           "dtype": "i2"
          },
          "sizemode": "area",
          "sizeref": 0.4880555555555556,
          "symbol": "circle"
         },
         "mode": "markers",
         "name": "Sports",
         "orientation": "v",
         "showlegend": true,
         "type": "scatter",
         "x": {
          "bdata": "ZgM=",
          "dtype": "i2"
         },
         "xaxis": "x",
         "y": {
          "bdata": "3Xo3AA==",
          "dtype": "i4"
         },
         "yaxis": "y"
        },
        {
         "hovertemplate": "<b>%{hovertext}</b><br><br>Product_Category=Pet Care<br>Total Orders (log scale)=%{x}<br>Total Revenue (₹)=%{y}<br>Customers=%{marker.size}<extra></extra>",
         "hovertext": [
          "Pet Care"
         ],
         "legendgroup": "Pet Care",
         "marker": {
          "color": "#FECB52",
          "line": {
           "color": "DarkSlateGrey",
           "width": 1
          },
          "opacity": 0.8,
          "size": {
           "bdata": "yQA=",
           "dtype": "i2"
          },
          "sizemode": "area",
          "sizeref": 0.4880555555555556,
          "symbol": "circle"
         },
         "mode": "markers",
         "name": "Pet Care",
         "orientation": "v",
         "showlegend": true,
         "type": "scatter",
         "x": {
          "bdata": "GAI=",
          "dtype": "i2"
         },
         "xaxis": "x",
         "y": {
          "bdata": "5VsHAA==",
          "dtype": "i4"
         },
         "yaxis": "y"
        },
        {
         "hovertemplate": "<b>%{hovertext}</b><br><br>Product_Category=Office Supplies<br>Total Orders (log scale)=%{x}<br>Total Revenue (₹)=%{y}<br>Customers=%{marker.size}<extra></extra>",
         "hovertext": [
          "Office Supplies"
         ],
         "legendgroup": "Office Supplies",
         "marker": {
          "color": "#636efa",
          "line": {
           "color": "DarkSlateGrey",
           "width": 1
          },
          "opacity": 0.8,
          "size": {
           "bdata": "bQ==",
           "dtype": "i1"
          },
          "sizemode": "area",
          "sizeref": 0.4880555555555556,
          "symbol": "circle"
         },
         "mode": "markers",
         "name": "Office Supplies",
         "orientation": "v",
         "showlegend": true,
         "type": "scatter",
         "x": {
          "bdata": "GQE=",
          "dtype": "i2"
         },
         "xaxis": "x",
         "y": {
          "bdata": "E5MZAA==",
          "dtype": "i4"
         },
         "yaxis": "y"
        },
        {
         "hovertemplate": "<b>%{hovertext}</b><br><br>Product_Category=Office<br>Total Orders (log scale)=%{x}<br>Total Revenue (₹)=%{y}<br>Customers=%{marker.size}<extra></extra>",
         "hovertext": [
          "Office"
         ],
         "legendgroup": "Office",
         "marker": {
          "color": "#EF553B",
          "line": {
           "color": "DarkSlateGrey",
           "width": 1
          },
          "opacity": 0.8,
          "size": {
           "bdata": "bA==",
           "dtype": "i1"
          },
          "sizemode": "area",
          "sizeref": 0.4880555555555556,
          "symbol": "circle"
         },
         "mode": "markers",
         "name": "Office",
         "orientation": "v",
         "showlegend": true,
         "type": "scatter",
         "x": {
          "bdata": "BQE=",
          "dtype": "i2"
         },
         "xaxis": "x",
         "y": {
          "bdata": "EEABAA==",
          "dtype": "i4"
         },
         "yaxis": "y"
        },
        {
         "hovertemplate": "<b>%{hovertext}</b><br><br>Product_Category=Books<br>Total Orders (log scale)=%{x}<br>Total Revenue (₹)=%{y}<br>Customers=%{marker.size}<extra></extra>",
         "hovertext": [
          "Books"
         ],
         "legendgroup": "Books",
         "marker": {
          "color": "#00cc96",
          "line": {
           "color": "DarkSlateGrey",
           "width": 1
          },
          "opacity": 0.8,
          "size": {
           "bdata": "Yg==",
           "dtype": "i1"
          },
          "sizemode": "area",
          "sizeref": 0.4880555555555556,
          "symbol": "circle"
         },
         "mode": "markers",
         "name": "Books",
         "orientation": "v",
         "showlegend": true,
         "type": "scatter",
         "x": {
          "bdata": "9QA=",
          "dtype": "i2"
         },
         "xaxis": "x",
         "y": {
          "bdata": "ZjIQAA==",
          "dtype": "i4"
         },
         "yaxis": "y"
        },
        {
         "hovertemplate": "<b>%{hovertext}</b><br><br>Product_Category=Automotive<br>Total Orders (log scale)=%{x}<br>Total Revenue (₹)=%{y}<br>Customers=%{marker.size}<extra></extra>",
         "hovertext": [
          "Automotive"
         ],
         "legendgroup": "Automotive",
         "marker": {
          "color": "#ab63fa",
          "line": {
           "color": "DarkSlateGrey",
           "width": 1
          },
          "opacity": 0.8,
          "size": {
           "bdata": "Xw==",
           "dtype": "i1"
          },
          "sizemode": "area",
          "sizeref": 0.4880555555555556,
          "symbol": "circle"
         },
         "mode": "markers",
         "name": "Automotive",
         "orientation": "v",
         "showlegend": true,
         "type": "scatter",
         "x": {
          "bdata": "7wA=",
          "dtype": "i2"
         },
         "xaxis": "x",
         "y": {
          "bdata": "0eIdAA==",
          "dtype": "i4"
         },
         "yaxis": "y"
        },
        {
         "hovertemplate": "<b>%{hovertext}</b><br><br>Product_Category=Decor<br>Total Orders (log scale)=%{x}<br>Total Revenue (₹)=%{y}<br>Customers=%{marker.size}<extra></extra>",
         "hovertext": [
          "Decor"
         ],
         "legendgroup": "Decor",
         "marker": {
          "color": "#FFA15A",
          "line": {
           "color": "DarkSlateGrey",
           "width": 1
          },
          "opacity": 0.8,
          "size": {
           "bdata": "Xg==",
           "dtype": "i1"
          },
          "sizemode": "area",
          "sizeref": 0.4880555555555556,
          "symbol": "circle"
         },
         "mode": "markers",
         "name": "Decor",
         "orientation": "v",
         "showlegend": true,
         "type": "scatter",
         "x": {
          "bdata": "6wA=",
          "dtype": "i2"
         },
         "xaxis": "x",
         "y": {
          "bdata": "+CQLAA==",
          "dtype": "i4"
         },
         "yaxis": "y"
        },
        {
         "hovertemplate": "<b>%{hovertext}</b><br><br>Product_Category=Veterinary<br>Total Orders (log scale)=%{x}<br>Total Revenue (₹)=%{y}<br>Customers=%{marker.size}<extra></extra>",
         "hovertext": [
          "Veterinary"
         ],
         "legendgroup": "Veterinary",
         "marker": {
          "color": "#19d3f3",
          "line": {
           "color": "DarkSlateGrey",
           "width": 1
          },
          "opacity": 0.8,
          "size": {
           "bdata": "Tg==",
           "dtype": "i1"
          },
          "sizemode": "area",
          "sizeref": 0.4880555555555556,
          "symbol": "circle"
         },
         "mode": "markers",
         "name": "Veterinary",
         "orientation": "v",
         "showlegend": true,
         "type": "scatter",
         "x": {
          "bdata": "zgA=",
          "dtype": "i2"
         },
         "xaxis": "x",
         "y": {
          "bdata": "PrgBAA==",
          "dtype": "i4"
         },
         "yaxis": "y"
        },
        {
         "hovertemplate": "<b>%{hovertext}</b><br><br>Product_Category=Tupperware<br>Total Orders (log scale)=%{x}<br>Total Revenue (₹)=%{y}<br>Customers=%{marker.size}<extra></extra>",
         "hovertext": [
          "Tupperware"
         ],
         "legendgroup": "Tupperware",
         "marker": {
          "color": "#FF6692",
          "line": {
           "color": "DarkSlateGrey",
           "width": 1
          },
          "opacity": 0.8,
          "size": {
           "bdata": "Rg==",
           "dtype": "i1"
          },
          "sizemode": "area",
          "sizeref": 0.4880555555555556,
          "symbol": "circle"
         },
         "mode": "markers",
         "name": "Tupperware",
         "orientation": "v",
         "showlegend": true,
         "type": "scatter",
         "x": {
          "bdata": "pgA=",
          "dtype": "i2"
         },
         "xaxis": "x",
         "y": {
          "bdata": "OqIRAA==",
          "dtype": "i4"
         },
         "yaxis": "y"
        },
        {
         "hovertemplate": "<b>%{hovertext}</b><br><br>Product_Category=Hand & Power Tools<br>Total Orders (log scale)=%{x}<br>Total Revenue (₹)=%{y}<br>Customers=%{marker.size}<extra></extra>",
         "hovertext": [
          "Hand & Power Tools"
         ],
         "legendgroup": "Hand & Power Tools",
         "marker": {
          "color": "#B6E880",
          "line": {
           "color": "DarkSlateGrey",
           "width": 1
          },
          "opacity": 0.8,
          "size": {
           "bdata": "GA==",
           "dtype": "i1"
          },
          "sizemode": "area",
          "sizeref": 0.4880555555555556,
          "symbol": "circle"
         },
         "mode": "markers",
         "name": "Hand & Power Tools",
         "orientation": "v",
         "showlegend": true,
         "type": "scatter",
         "x": {
          "bdata": "UA==",
          "dtype": "i1"
         },
         "xaxis": "x",
         "y": {
          "bdata": "cjAGAA==",
          "dtype": "i4"
         },
         "yaxis": "y"
        }
       ],
       "layout": {
        "height": 600,
        "legend": {
         "itemsizing": "constant",
         "title": {
          "text": "Product_Category"
         },
         "tracegroupgap": 0
        },
        "plot_bgcolor": "rgba(240,240,240,0.9)",
        "template": {
         "data": {
          "bar": [
           {
            "error_x": {
             "color": "#2a3f5f"
            },
            "error_y": {
             "color": "#2a3f5f"
            },
            "marker": {
             "line": {
              "color": "#E5ECF6",
              "width": 0.5
             },
             "pattern": {
              "fillmode": "overlay",
              "size": 10,
              "solidity": 0.2
             }
            },
            "type": "bar"
           }
          ],
          "barpolar": [
           {
            "marker": {
             "line": {
              "color": "#E5ECF6",
              "width": 0.5
             },
             "pattern": {
              "fillmode": "overlay",
              "size": 10,
              "solidity": 0.2
             }
            },
            "type": "barpolar"
           }
          ],
          "carpet": [
           {
            "aaxis": {
             "endlinecolor": "#2a3f5f",
             "gridcolor": "white",
             "linecolor": "white",
             "minorgridcolor": "white",
             "startlinecolor": "#2a3f5f"
            },
            "baxis": {
             "endlinecolor": "#2a3f5f",
             "gridcolor": "white",
             "linecolor": "white",
             "minorgridcolor": "white",
             "startlinecolor": "#2a3f5f"
            },
            "type": "carpet"
           }
          ],
          "choropleth": [
           {
            "colorbar": {
             "outlinewidth": 0,
             "ticks": ""
            },
            "type": "choropleth"
           }
          ],
          "contour": [
           {
            "colorbar": {
             "outlinewidth": 0,
             "ticks": ""
            },
            "colorscale": [
             [
              0,
              "#0d0887"
             ],
             [
              0.1111111111111111,
              "#46039f"
             ],
             [
              0.2222222222222222,
              "#7201a8"
             ],
             [
              0.3333333333333333,
              "#9c179e"
             ],
             [
              0.4444444444444444,
              "#bd3786"
             ],
             [
              0.5555555555555556,
              "#d8576b"
             ],
             [
              0.6666666666666666,
              "#ed7953"
             ],
             [
              0.7777777777777778,
              "#fb9f3a"
             ],
             [
              0.8888888888888888,
              "#fdca26"
             ],
             [
              1,
              "#f0f921"
             ]
            ],
            "type": "contour"
           }
          ],
          "contourcarpet": [
           {
            "colorbar": {
             "outlinewidth": 0,
             "ticks": ""
            },
            "type": "contourcarpet"
           }
          ],
          "heatmap": [
           {
            "colorbar": {
             "outlinewidth": 0,
             "ticks": ""
            },
            "colorscale": [
             [
              0,
              "#0d0887"
             ],
             [
              0.1111111111111111,
              "#46039f"
             ],
             [
              0.2222222222222222,
              "#7201a8"
             ],
             [
              0.3333333333333333,
              "#9c179e"
             ],
             [
              0.4444444444444444,
              "#bd3786"
             ],
             [
              0.5555555555555556,
              "#d8576b"
             ],
             [
              0.6666666666666666,
              "#ed7953"
             ],
             [
              0.7777777777777778,
              "#fb9f3a"
             ],
             [
              0.8888888888888888,
              "#fdca26"
             ],
             [
              1,
              "#f0f921"
             ]
            ],
            "type": "heatmap"
           }
          ],
          "histogram": [
           {
            "marker": {
             "pattern": {
              "fillmode": "overlay",
              "size": 10,
              "solidity": 0.2
             }
            },
            "type": "histogram"
           }
          ],
          "histogram2d": [
           {
            "colorbar": {
             "outlinewidth": 0,
             "ticks": ""
            },
            "colorscale": [
             [
              0,
              "#0d0887"
             ],
             [
              0.1111111111111111,
              "#46039f"
             ],
             [
              0.2222222222222222,
              "#7201a8"
             ],
             [
              0.3333333333333333,
              "#9c179e"
             ],
             [
              0.4444444444444444,
              "#bd3786"
             ],
             [
              0.5555555555555556,
              "#d8576b"
             ],
             [
              0.6666666666666666,
              "#ed7953"
             ],
             [
              0.7777777777777778,
              "#fb9f3a"
             ],
             [
              0.8888888888888888,
              "#fdca26"
             ],
             [
              1,
              "#f0f921"
             ]
            ],
            "type": "histogram2d"
           }
          ],
          "histogram2dcontour": [
           {
            "colorbar": {
             "outlinewidth": 0,
             "ticks": ""
            },
            "colorscale": [
             [
              0,
              "#0d0887"
             ],
             [
              0.1111111111111111,
              "#46039f"
             ],
             [
              0.2222222222222222,
              "#7201a8"
             ],
             [
              0.3333333333333333,
              "#9c179e"
             ],
             [
              0.4444444444444444,
              "#bd3786"
             ],
             [
              0.5555555555555556,
              "#d8576b"
             ],
             [
              0.6666666666666666,
              "#ed7953"
             ],
             [
              0.7777777777777778,
              "#fb9f3a"
             ],
             [
              0.8888888888888888,
              "#fdca26"
             ],
             [
              1,
              "#f0f921"
             ]
            ],
            "type": "histogram2dcontour"
           }
          ],
          "mesh3d": [
           {
            "colorbar": {
             "outlinewidth": 0,
             "ticks": ""
            },
            "type": "mesh3d"
           }
          ],
          "parcoords": [
           {
            "line": {
             "colorbar": {
              "outlinewidth": 0,
              "ticks": ""
             }
            },
            "type": "parcoords"
           }
          ],
          "pie": [
           {
            "automargin": true,
            "type": "pie"
           }
          ],
          "scatter": [
           {
            "fillpattern": {
             "fillmode": "overlay",
             "size": 10,
             "solidity": 0.2
            },
            "type": "scatter"
           }
          ],
          "scatter3d": [
           {
            "line": {
             "colorbar": {
              "outlinewidth": 0,
              "ticks": ""
             }
            },
            "marker": {
             "colorbar": {
              "outlinewidth": 0,
              "ticks": ""
             }
            },
            "type": "scatter3d"
           }
          ],
          "scattercarpet": [
           {
            "marker": {
             "colorbar": {
              "outlinewidth": 0,
              "ticks": ""
             }
            },
            "type": "scattercarpet"
           }
          ],
          "scattergeo": [
           {
            "marker": {
             "colorbar": {
              "outlinewidth": 0,
              "ticks": ""
             }
            },
            "type": "scattergeo"
           }
          ],
          "scattergl": [
           {
            "marker": {
             "colorbar": {
              "outlinewidth": 0,
              "ticks": ""
             }
            },
            "type": "scattergl"
           }
          ],
          "scattermap": [
           {
            "marker": {
             "colorbar": {
              "outlinewidth": 0,
              "ticks": ""
             }
            },
            "type": "scattermap"
           }
          ],
          "scattermapbox": [
           {
            "marker": {
             "colorbar": {
              "outlinewidth": 0,
              "ticks": ""
             }
            },
            "type": "scattermapbox"
           }
          ],
          "scatterpolar": [
           {
            "marker": {
             "colorbar": {
              "outlinewidth": 0,
              "ticks": ""
             }
            },
            "type": "scatterpolar"
           }
          ],
          "scatterpolargl": [
           {
            "marker": {
             "colorbar": {
              "outlinewidth": 0,
              "ticks": ""
             }
            },
            "type": "scatterpolargl"
           }
          ],
          "scatterternary": [
           {
            "marker": {
             "colorbar": {
              "outlinewidth": 0,
              "ticks": ""
             }
            },
            "type": "scatterternary"
           }
          ],
          "surface": [
           {
            "colorbar": {
             "outlinewidth": 0,
             "ticks": ""
            },
            "colorscale": [
             [
              0,
              "#0d0887"
             ],
             [
              0.1111111111111111,
              "#46039f"
             ],
             [
              0.2222222222222222,
              "#7201a8"
             ],
             [
              0.3333333333333333,
              "#9c179e"
             ],
             [
              0.4444444444444444,
              "#bd3786"
             ],
             [
              0.5555555555555556,
              "#d8576b"
             ],
             [
              0.6666666666666666,
              "#ed7953"
             ],
             [
              0.7777777777777778,
              "#fb9f3a"
             ],
             [
              0.8888888888888888,
              "#fdca26"
             ],
             [
              1,
              "#f0f921"
             ]
            ],
            "type": "surface"
           }
          ],
          "table": [
           {
            "cells": {
             "fill": {
              "color": "#EBF0F8"
             },
             "line": {
              "color": "white"
             }
            },
            "header": {
             "fill": {
              "color": "#C8D4E3"
             },
             "line": {
              "color": "white"
             }
            },
            "type": "table"
           }
          ]
         },
         "layout": {
          "annotationdefaults": {
           "arrowcolor": "#2a3f5f",
           "arrowhead": 0,
           "arrowwidth": 1
          },
          "autotypenumbers": "strict",
          "coloraxis": {
           "colorbar": {
            "outlinewidth": 0,
            "ticks": ""
           }
          },
          "colorscale": {
           "diverging": [
            [
             0,
             "#8e0152"
            ],
            [
             0.1,
             "#c51b7d"
            ],
            [
             0.2,
             "#de77ae"
            ],
            [
             0.3,
             "#f1b6da"
            ],
            [
             0.4,
             "#fde0ef"
            ],
            [
             0.5,
             "#f7f7f7"
            ],
            [
             0.6,
             "#e6f5d0"
            ],
            [
             0.7,
             "#b8e186"
            ],
            [
             0.8,
             "#7fbc41"
            ],
            [
             0.9,
             "#4d9221"
            ],
            [
             1,
             "#276419"
            ]
           ],
           "sequential": [
            [
             0,
             "#0d0887"
            ],
            [
             0.1111111111111111,
             "#46039f"
            ],
            [
             0.2222222222222222,
             "#7201a8"
            ],
            [
             0.3333333333333333,
             "#9c179e"
            ],
            [
             0.4444444444444444,
             "#bd3786"
            ],
            [
             0.5555555555555556,
             "#d8576b"
            ],
            [
             0.6666666666666666,
             "#ed7953"
            ],
            [
             0.7777777777777778,
             "#fb9f3a"
            ],
            [
             0.8888888888888888,
             "#fdca26"
            ],
            [
             1,
             "#f0f921"
            ]
           ],
           "sequentialminus": [
            [
             0,
             "#0d0887"
            ],
            [
             0.1111111111111111,
             "#46039f"
            ],
            [
             0.2222222222222222,
             "#7201a8"
            ],
            [
             0.3333333333333333,
             "#9c179e"
            ],
            [
             0.4444444444444444,
             "#bd3786"
            ],
            [
             0.5555555555555556,
             "#d8576b"
            ],
            [
             0.6666666666666666,
             "#ed7953"
            ],
            [
             0.7777777777777778,
             "#fb9f3a"
            ],
            [
             0.8888888888888888,
             "#fdca26"
            ],
            [
             1,
             "#f0f921"
            ]
           ]
          },
          "colorway": [
           "#636efa",
           "#EF553B",
           "#00cc96",
           "#ab63fa",
           "#FFA15A",
           "#19d3f3",
           "#FF6692",
           "#B6E880",
           "#FF97FF",
           "#FECB52"
          ],
          "font": {
           "color": "#2a3f5f"
          },
          "geo": {
           "bgcolor": "white",
           "lakecolor": "white",
           "landcolor": "#E5ECF6",
           "showlakes": true,
           "showland": true,
           "subunitcolor": "white"
          },
          "hoverlabel": {
           "align": "left"
          },
          "hovermode": "closest",
          "mapbox": {
           "style": "light"
          },
          "paper_bgcolor": "white",
          "plot_bgcolor": "#E5ECF6",
          "polar": {
           "angularaxis": {
            "gridcolor": "white",
            "linecolor": "white",
            "ticks": ""
           },
           "bgcolor": "#E5ECF6",
           "radialaxis": {
            "gridcolor": "white",
            "linecolor": "white",
            "ticks": ""
           }
          },
          "scene": {
           "xaxis": {
            "backgroundcolor": "#E5ECF6",
            "gridcolor": "white",
            "gridwidth": 2,
            "linecolor": "white",
            "showbackground": true,
            "ticks": "",
            "zerolinecolor": "white"
           },
           "yaxis": {
            "backgroundcolor": "#E5ECF6",
            "gridcolor": "white",
            "gridwidth": 2,
            "linecolor": "white",
            "showbackground": true,
            "ticks": "",
            "zerolinecolor": "white"
           },
           "zaxis": {
            "backgroundcolor": "#E5ECF6",
            "gridcolor": "white",
            "gridwidth": 2,
            "linecolor": "white",
            "showbackground": true,
            "ticks": "",
            "zerolinecolor": "white"
           }
          },
          "shapedefaults": {
           "line": {
            "color": "#2a3f5f"
           }
          },
          "ternary": {
           "aaxis": {
            "gridcolor": "white",
            "linecolor": "white",
            "ticks": ""
           },
           "baxis": {
            "gridcolor": "white",
            "linecolor": "white",
            "ticks": ""
           },
           "bgcolor": "#E5ECF6",
           "caxis": {
            "gridcolor": "white",
            "linecolor": "white",
            "ticks": ""
           }
          },
          "title": {
           "x": 0.05
          },
          "xaxis": {
           "automargin": true,
           "gridcolor": "white",
           "linecolor": "white",
           "ticks": "",
           "title": {
            "standoff": 15
           },
           "zerolinecolor": "white",
           "zerolinewidth": 2
          },
          "yaxis": {
           "automargin": true,
           "gridcolor": "white",
           "linecolor": "white",
           "ticks": "",
           "title": {
            "standoff": 15
           },
           "zerolinecolor": "white",
           "zerolinewidth": 2
          }
         }
        },
        "title": {
         "text": "Product Category Performance: Orders vs Revenue"
        },
        "xaxis": {
         "anchor": "y",
         "domain": [
          0,
          1
         ],
         "title": {
          "text": "Total Orders (log scale)"
         },
         "type": "log"
        },
        "yaxis": {
         "anchor": "x",
         "domain": [
          0,
          1
         ],
         "title": {
          "text": "Total Revenue (₹)"
         }
        }
       }
      }
     },
     "metadata": {},
     "output_type": "display_data"
    }
   ],
   "source": [
    "### Product Analysis\n",
    "# Clean and map product categories\n",
    "df['Product_Category'] = df['Product_Category'].str.strip()\n",
    "\n",
    "product_map = {\n",
    "    'Auto': 'Automotive',\n",
    "    'Clothing & Apparel': 'Fashion',\n",
    "    'Electronics & Gadgets': 'Electronics',\n",
    "    'Footwear & Shoes': 'Footwear',\n",
    "    'Furniture': 'Home & Furniture',\n",
    "    'Games & Toys': 'Toys & Games',\n",
    "    'Sports Products': 'Sports',\n",
    "    'Beauty': 'Beauty & Cosmetics',\n",
    "    'Food': 'Food & Grocery',\n",
    "    'Stationery': 'Office Supplies'\n",
    "}\n",
    "\n",
    "df['Product_Category'] = df['Product_Category'].map(product_map).fillna(df['Product_Category'])\n",
    "\n",
    "product_analysis = df.groupby('Product_Category').agg(\n",
    "    Customers=('User_ID', 'nunique'),\n",
    "    Orders=('Orders', 'sum'),\n",
    "    Revenue=('Amount', 'sum'),\n",
    "    Avg_Spending=('Amount', 'mean')\n",
    ").sort_values('Orders', ascending=False).reset_index()\n",
    "\n",
    "# Sort by Revenue for the second plot\n",
    "product_analysis_rev = product_analysis.sort_values('Revenue', ascending=False)\n",
    "\n",
    "fig = make_subplots(\n",
    "    rows=1, cols=2, \n",
    "    subplot_titles=('Top Categories by Orders', 'Top Categories by Revenue'),\n",
    "    column_widths=[0.5, 0.5]\n",
    ")\n",
    "\n",
    "# Orders plot\n",
    "fig.add_trace(go.Bar(\n",
    "    y=product_analysis['Product_Category'], \n",
    "    x=product_analysis['Orders'],\n",
    "    name='Orders', \n",
    "    orientation='h', \n",
    "    marker_color='#9467bd',\n",
    "    text=product_analysis['Orders'],\n",
    "    textposition='auto'\n",
    "), row=1, col=1)\n",
    "\n",
    "# Revenue plot\n",
    "fig.add_trace(go.Bar(\n",
    "    y=product_analysis_rev['Product_Category'], \n",
    "    x=product_analysis_rev['Revenue'],\n",
    "    name='Revenue', \n",
    "    orientation='h', \n",
    "    marker_color='#8c564b',\n",
    "    text=[f'₹{x/1000000:.1f}M' for x in product_analysis_rev['Revenue']],\n",
    "    textposition='auto'\n",
    "), row=1, col=2)\n",
    "\n",
    "fig.update_layout(\n",
    "    height=600, \n",
    "    title_text=\"Product Category Analysis\", \n",
    "    showlegend=False,\n",
    "    yaxis=dict(autorange=\"reversed\")\n",
    ")\n",
    "fig.update_xaxes(title_text=\"Number of Orders\", row=1, col=1)\n",
    "fig.update_xaxes(title_text=\"Revenue (₹)\", row=1, col=2)\n",
    "fig.show()\n",
    "\n",
    "# Product category bubble chart\n",
    "fig = px.scatter(\n",
    "    product_analysis, \n",
    "    x='Orders', \n",
    "    y='Revenue', \n",
    "    size='Customers', \n",
    "    color='Product_Category',\n",
    "    hover_name='Product_Category', \n",
    "    log_x=True, \n",
    "    size_max=60,\n",
    "    title='Product Category Performance: Orders vs Revenue',\n",
    "    labels={'Orders': 'Total Orders (log scale)', 'Revenue': 'Total Revenue (₹)'}\n",
    ")\n",
    "fig.update_traces(\n",
    "    marker=dict(opacity=0.8, line=dict(width=1, color='DarkSlateGrey')),\n",
    "    selector=dict(mode='markers')\n",
    ")\n",
    "fig.update_layout(\n",
    "    plot_bgcolor='rgba(240,240,240,0.9)',\n",
    "    height=600\n",
    ")\n",
    "fig.show()"
   ]
  },
  {
   "cell_type": "markdown",
   "id": "0ca4d25f",
   "metadata": {},
   "source": [
    "Customer Segmentation Analysis"
   ]
  },
  {
   "cell_type": "code",
   "execution_count": 8,
   "id": "912f2608",
   "metadata": {},
   "outputs": [
    {
     "data": {
      "application/vnd.plotly.v1+json": {
       "config": {
        "plotlyServerURL": "https://plot.ly"
       },
       "data": [
        {
         "branchvalues": "total",
         "customdata": [
          [
           "208",
           "15.979891304347825",
           "9.138043478260869",
           86462.99673913044
          ],
          [
           "220",
           "17.31220435193945",
           "5.02081362346263",
           51314.5610217597
          ],
          [
           "192",
           "60.49607182940516",
           "4.885521885521886",
           51870.14141414141
          ],
          [
           "285",
           "65.527446300716",
           "3.295942720763723",
           27859.199284009548
          ],
          [
           "759",
           "265.09364548494983",
           "1.3433667781493868",
           10110.54960981048
          ],
          [
           "268",
           "136.24028776978417",
           "2.9424460431654675",
           26737.110791366908
          ],
          [
           "88",
           "61.5026525198939",
           "8.877984084880637",
           81562.5
          ],
          [
           "242",
           "17.1754617414248",
           "3.480211081794195",
           28628.26649076517
          ],
          [
           "133",
           "129.41591320072334",
           "4.3851717902350815",
           49159.24773960218
          ],
          [
           "39",
           "13.147487844408428",
           "16.3322528363047",
           163446.90761750404
          ],
          [
           "519",
           "140.3314606741573",
           "1.6235955056179776",
           11592.623595505618
          ],
          [
           "142",
           "243.36148648648648",
           "2.439189189189189",
           25826.52027027027
          ],
          [
           "202",
           "63.930939226519335",
           "2.0497237569060776",
           14894.370165745857
          ],
          [
           "155",
           "18.332129963898918",
           "2.104693140794224",
           15316.992779783392
          ],
          [
           "11",
           "57.66459627329193",
           "14.962732919254659",
           148603.65838509318
          ],
          [
           "241",
           "45.74368231046932",
           "1.288808664259928",
           6300.602888086642
          ],
          [
           "30",
           "216.85321100917432",
           "3.8990825688073394",
           44559.05504587156
          ],
          [
           "14",
           "116.30909090909091",
           "8.072727272727272",
           76272.96363636364
          ],
          [
           "2",
           "198.8",
           "7.533333333333333",
           70506.6
          ],
          [
           "1",
           "100.0",
           "13.0",
           118260
          ],
          [
           "1",
           "82.0",
           "7.0",
           35064
          ]
         ],
         "domain": {
          "x": [
           0,
           1
          ],
          "y": [
           0,
           1
          ]
         },
         "hovertemplate": "labels=%{label}<br>Revenue=%{value}<br>parent=%{parent}<br>id=%{id}<br>Customers=%{customdata[0]}<br>Avg_Recency=%{customdata[1]}<br>Avg_Frequency=%{customdata[2]}<br>Avg_Monetary=%{color}<extra></extra>",
         "ids": [
          "424",
          "414",
          "314",
          "313",
          "Lost",
          "213",
          "324",
          "413",
          "214",
          "Loyal",
          "Hibernating",
          "113",
          "312",
          "412",
          "Need Attention",
          "At Risk",
          "114",
          "224",
          "124",
          "234",
          "323"
         ],
         "labels": [
          "424",
          "414",
          "314",
          "313",
          "Lost",
          "213",
          "324",
          "413",
          "214",
          "Loyal",
          "Hibernating",
          "113",
          "312",
          "412",
          "Need Attention",
          "At Risk",
          "114",
          "224",
          "124",
          "234",
          "323"
         ],
         "marker": {
          "coloraxis": "coloraxis",
          "colors": {
           "bdata": "/rqk8u8b9UDI5+PzUQ7pQBLzdobEU+lA6LcRwcw020DJQJ1ZRr/DQGOsNBdHHNpAAAAAAKjp80BGSC8OEfXbQCmae+3nAOhASffMQrfzA0FIP/rRT6TGQPmsG0yhONlAR1aXYS8XzUDmbmgTf+rNQFtnX0TdIwJBR6ffVpqcuEBEj+/C4cHlQLH2DWsPn/JAmpmZmak28UAAAAAAQN/8QAAAAAAAH+FA",
           "dtype": "f8"
          }
         },
         "name": "",
         "parents": [
          "",
          "",
          "",
          "",
          "",
          "",
          "",
          "",
          "",
          "",
          "",
          "",
          "",
          "",
          "",
          "",
          "",
          "",
          "",
          "",
          ""
         ],
         "type": "treemap",
         "values": {
          "bdata": "AAAA0CyfcEEAAABgwRZlQQAAAID8dmJBAAAAAH6AXUEAAADAvkJbQQAAAMAncVpBAAAAwLFpWkEAAABAVMJZQQAAAIAyVVhBAAAAAJGNV0EAAAAAwS5VQQAAAACu40pBAAAAAAh1RkEAAAAAOatBQQAAAAC3SzhBAAAAABpFNkEAAAAAbEA0QQAAAADmgS9BAAAAALgRAUEAAAAAQN/8QAAAAAAAH+FA",
          "dtype": "f8"
         }
        }
       ],
       "layout": {
        "coloraxis": {
         "colorbar": {
          "title": {
           "text": "Avg_Monetary"
          }
         },
         "colorscale": [
          [
           0,
           "rgb(247,251,255)"
          ],
          [
           0.125,
           "rgb(222,235,247)"
          ],
          [
           0.25,
           "rgb(198,219,239)"
          ],
          [
           0.375,
           "rgb(158,202,225)"
          ],
          [
           0.5,
           "rgb(107,174,214)"
          ],
          [
           0.625,
           "rgb(66,146,198)"
          ],
          [
           0.75,
           "rgb(33,113,181)"
          ],
          [
           0.875,
           "rgb(8,81,156)"
          ],
          [
           1,
           "rgb(8,48,107)"
          ]
         ]
        },
        "height": 500,
        "legend": {
         "tracegroupgap": 0
        },
        "margin": {
         "b": 25,
         "l": 25,
         "r": 25,
         "t": 50
        },
        "template": {
         "data": {
          "bar": [
           {
            "error_x": {
             "color": "#2a3f5f"
            },
            "error_y": {
             "color": "#2a3f5f"
            },
            "marker": {
             "line": {
              "color": "#E5ECF6",
              "width": 0.5
             },
             "pattern": {
              "fillmode": "overlay",
              "size": 10,
              "solidity": 0.2
             }
            },
            "type": "bar"
           }
          ],
          "barpolar": [
           {
            "marker": {
             "line": {
              "color": "#E5ECF6",
              "width": 0.5
             },
             "pattern": {
              "fillmode": "overlay",
              "size": 10,
              "solidity": 0.2
             }
            },
            "type": "barpolar"
           }
          ],
          "carpet": [
           {
            "aaxis": {
             "endlinecolor": "#2a3f5f",
             "gridcolor": "white",
             "linecolor": "white",
             "minorgridcolor": "white",
             "startlinecolor": "#2a3f5f"
            },
            "baxis": {
             "endlinecolor": "#2a3f5f",
             "gridcolor": "white",
             "linecolor": "white",
             "minorgridcolor": "white",
             "startlinecolor": "#2a3f5f"
            },
            "type": "carpet"
           }
          ],
          "choropleth": [
           {
            "colorbar": {
             "outlinewidth": 0,
             "ticks": ""
            },
            "type": "choropleth"
           }
          ],
          "contour": [
           {
            "colorbar": {
             "outlinewidth": 0,
             "ticks": ""
            },
            "colorscale": [
             [
              0,
              "#0d0887"
             ],
             [
              0.1111111111111111,
              "#46039f"
             ],
             [
              0.2222222222222222,
              "#7201a8"
             ],
             [
              0.3333333333333333,
              "#9c179e"
             ],
             [
              0.4444444444444444,
              "#bd3786"
             ],
             [
              0.5555555555555556,
              "#d8576b"
             ],
             [
              0.6666666666666666,
              "#ed7953"
             ],
             [
              0.7777777777777778,
              "#fb9f3a"
             ],
             [
              0.8888888888888888,
              "#fdca26"
             ],
             [
              1,
              "#f0f921"
             ]
            ],
            "type": "contour"
           }
          ],
          "contourcarpet": [
           {
            "colorbar": {
             "outlinewidth": 0,
             "ticks": ""
            },
            "type": "contourcarpet"
           }
          ],
          "heatmap": [
           {
            "colorbar": {
             "outlinewidth": 0,
             "ticks": ""
            },
            "colorscale": [
             [
              0,
              "#0d0887"
             ],
             [
              0.1111111111111111,
              "#46039f"
             ],
             [
              0.2222222222222222,
              "#7201a8"
             ],
             [
              0.3333333333333333,
              "#9c179e"
             ],
             [
              0.4444444444444444,
              "#bd3786"
             ],
             [
              0.5555555555555556,
              "#d8576b"
             ],
             [
              0.6666666666666666,
              "#ed7953"
             ],
             [
              0.7777777777777778,
              "#fb9f3a"
             ],
             [
              0.8888888888888888,
              "#fdca26"
             ],
             [
              1,
              "#f0f921"
             ]
            ],
            "type": "heatmap"
           }
          ],
          "histogram": [
           {
            "marker": {
             "pattern": {
              "fillmode": "overlay",
              "size": 10,
              "solidity": 0.2
             }
            },
            "type": "histogram"
           }
          ],
          "histogram2d": [
           {
            "colorbar": {
             "outlinewidth": 0,
             "ticks": ""
            },
            "colorscale": [
             [
              0,
              "#0d0887"
             ],
             [
              0.1111111111111111,
              "#46039f"
             ],
             [
              0.2222222222222222,
              "#7201a8"
             ],
             [
              0.3333333333333333,
              "#9c179e"
             ],
             [
              0.4444444444444444,
              "#bd3786"
             ],
             [
              0.5555555555555556,
              "#d8576b"
             ],
             [
              0.6666666666666666,
              "#ed7953"
             ],
             [
              0.7777777777777778,
              "#fb9f3a"
             ],
             [
              0.8888888888888888,
              "#fdca26"
             ],
             [
              1,
              "#f0f921"
             ]
            ],
            "type": "histogram2d"
           }
          ],
          "histogram2dcontour": [
           {
            "colorbar": {
             "outlinewidth": 0,
             "ticks": ""
            },
            "colorscale": [
             [
              0,
              "#0d0887"
             ],
             [
              0.1111111111111111,
              "#46039f"
             ],
             [
              0.2222222222222222,
              "#7201a8"
             ],
             [
              0.3333333333333333,
              "#9c179e"
             ],
             [
              0.4444444444444444,
              "#bd3786"
             ],
             [
              0.5555555555555556,
              "#d8576b"
             ],
             [
              0.6666666666666666,
              "#ed7953"
             ],
             [
              0.7777777777777778,
              "#fb9f3a"
             ],
             [
              0.8888888888888888,
              "#fdca26"
             ],
             [
              1,
              "#f0f921"
             ]
            ],
            "type": "histogram2dcontour"
           }
          ],
          "mesh3d": [
           {
            "colorbar": {
             "outlinewidth": 0,
             "ticks": ""
            },
            "type": "mesh3d"
           }
          ],
          "parcoords": [
           {
            "line": {
             "colorbar": {
              "outlinewidth": 0,
              "ticks": ""
             }
            },
            "type": "parcoords"
           }
          ],
          "pie": [
           {
            "automargin": true,
            "type": "pie"
           }
          ],
          "scatter": [
           {
            "fillpattern": {
             "fillmode": "overlay",
             "size": 10,
             "solidity": 0.2
            },
            "type": "scatter"
           }
          ],
          "scatter3d": [
           {
            "line": {
             "colorbar": {
              "outlinewidth": 0,
              "ticks": ""
             }
            },
            "marker": {
             "colorbar": {
              "outlinewidth": 0,
              "ticks": ""
             }
            },
            "type": "scatter3d"
           }
          ],
          "scattercarpet": [
           {
            "marker": {
             "colorbar": {
              "outlinewidth": 0,
              "ticks": ""
             }
            },
            "type": "scattercarpet"
           }
          ],
          "scattergeo": [
           {
            "marker": {
             "colorbar": {
              "outlinewidth": 0,
              "ticks": ""
             }
            },
            "type": "scattergeo"
           }
          ],
          "scattergl": [
           {
            "marker": {
             "colorbar": {
              "outlinewidth": 0,
              "ticks": ""
             }
            },
            "type": "scattergl"
           }
          ],
          "scattermap": [
           {
            "marker": {
             "colorbar": {
              "outlinewidth": 0,
              "ticks": ""
             }
            },
            "type": "scattermap"
           }
          ],
          "scattermapbox": [
           {
            "marker": {
             "colorbar": {
              "outlinewidth": 0,
              "ticks": ""
             }
            },
            "type": "scattermapbox"
           }
          ],
          "scatterpolar": [
           {
            "marker": {
             "colorbar": {
              "outlinewidth": 0,
              "ticks": ""
             }
            },
            "type": "scatterpolar"
           }
          ],
          "scatterpolargl": [
           {
            "marker": {
             "colorbar": {
              "outlinewidth": 0,
              "ticks": ""
             }
            },
            "type": "scatterpolargl"
           }
          ],
          "scatterternary": [
           {
            "marker": {
             "colorbar": {
              "outlinewidth": 0,
              "ticks": ""
             }
            },
            "type": "scatterternary"
           }
          ],
          "surface": [
           {
            "colorbar": {
             "outlinewidth": 0,
             "ticks": ""
            },
            "colorscale": [
             [
              0,
              "#0d0887"
             ],
             [
              0.1111111111111111,
              "#46039f"
             ],
             [
              0.2222222222222222,
              "#7201a8"
             ],
             [
              0.3333333333333333,
              "#9c179e"
             ],
             [
              0.4444444444444444,
              "#bd3786"
             ],
             [
              0.5555555555555556,
              "#d8576b"
             ],
             [
              0.6666666666666666,
              "#ed7953"
             ],
             [
              0.7777777777777778,
              "#fb9f3a"
             ],
             [
              0.8888888888888888,
              "#fdca26"
             ],
             [
              1,
              "#f0f921"
             ]
            ],
            "type": "surface"
           }
          ],
          "table": [
           {
            "cells": {
             "fill": {
              "color": "#EBF0F8"
             },
             "line": {
              "color": "white"
             }
            },
            "header": {
             "fill": {
              "color": "#C8D4E3"
             },
             "line": {
              "color": "white"
             }
            },
            "type": "table"
           }
          ]
         },
         "layout": {
          "annotationdefaults": {
           "arrowcolor": "#2a3f5f",
           "arrowhead": 0,
           "arrowwidth": 1
          },
          "autotypenumbers": "strict",
          "coloraxis": {
           "colorbar": {
            "outlinewidth": 0,
            "ticks": ""
           }
          },
          "colorscale": {
           "diverging": [
            [
             0,
             "#8e0152"
            ],
            [
             0.1,
             "#c51b7d"
            ],
            [
             0.2,
             "#de77ae"
            ],
            [
             0.3,
             "#f1b6da"
            ],
            [
             0.4,
             "#fde0ef"
            ],
            [
             0.5,
             "#f7f7f7"
            ],
            [
             0.6,
             "#e6f5d0"
            ],
            [
             0.7,
             "#b8e186"
            ],
            [
             0.8,
             "#7fbc41"
            ],
            [
             0.9,
             "#4d9221"
            ],
            [
             1,
             "#276419"
            ]
           ],
           "sequential": [
            [
             0,
             "#0d0887"
            ],
            [
             0.1111111111111111,
             "#46039f"
            ],
            [
             0.2222222222222222,
             "#7201a8"
            ],
            [
             0.3333333333333333,
             "#9c179e"
            ],
            [
             0.4444444444444444,
             "#bd3786"
            ],
            [
             0.5555555555555556,
             "#d8576b"
            ],
            [
             0.6666666666666666,
             "#ed7953"
            ],
            [
             0.7777777777777778,
             "#fb9f3a"
            ],
            [
             0.8888888888888888,
             "#fdca26"
            ],
            [
             1,
             "#f0f921"
            ]
           ],
           "sequentialminus": [
            [
             0,
             "#0d0887"
            ],
            [
             0.1111111111111111,
             "#46039f"
            ],
            [
             0.2222222222222222,
             "#7201a8"
            ],
            [
             0.3333333333333333,
             "#9c179e"
            ],
            [
             0.4444444444444444,
             "#bd3786"
            ],
            [
             0.5555555555555556,
             "#d8576b"
            ],
            [
             0.6666666666666666,
             "#ed7953"
            ],
            [
             0.7777777777777778,
             "#fb9f3a"
            ],
            [
             0.8888888888888888,
             "#fdca26"
            ],
            [
             1,
             "#f0f921"
            ]
           ]
          },
          "colorway": [
           "#636efa",
           "#EF553B",
           "#00cc96",
           "#ab63fa",
           "#FFA15A",
           "#19d3f3",
           "#FF6692",
           "#B6E880",
           "#FF97FF",
           "#FECB52"
          ],
          "font": {
           "color": "#2a3f5f"
          },
          "geo": {
           "bgcolor": "white",
           "lakecolor": "white",
           "landcolor": "#E5ECF6",
           "showlakes": true,
           "showland": true,
           "subunitcolor": "white"
          },
          "hoverlabel": {
           "align": "left"
          },
          "hovermode": "closest",
          "mapbox": {
           "style": "light"
          },
          "paper_bgcolor": "white",
          "plot_bgcolor": "#E5ECF6",
          "polar": {
           "angularaxis": {
            "gridcolor": "white",
            "linecolor": "white",
            "ticks": ""
           },
           "bgcolor": "#E5ECF6",
           "radialaxis": {
            "gridcolor": "white",
            "linecolor": "white",
            "ticks": ""
           }
          },
          "scene": {
           "xaxis": {
            "backgroundcolor": "#E5ECF6",
            "gridcolor": "white",
            "gridwidth": 2,
            "linecolor": "white",
            "showbackground": true,
            "ticks": "",
            "zerolinecolor": "white"
           },
           "yaxis": {
            "backgroundcolor": "#E5ECF6",
            "gridcolor": "white",
            "gridwidth": 2,
            "linecolor": "white",
            "showbackground": true,
            "ticks": "",
            "zerolinecolor": "white"
           },
           "zaxis": {
            "backgroundcolor": "#E5ECF6",
            "gridcolor": "white",
            "gridwidth": 2,
            "linecolor": "white",
            "showbackground": true,
            "ticks": "",
            "zerolinecolor": "white"
           }
          },
          "shapedefaults": {
           "line": {
            "color": "#2a3f5f"
           }
          },
          "ternary": {
           "aaxis": {
            "gridcolor": "white",
            "linecolor": "white",
            "ticks": ""
           },
           "baxis": {
            "gridcolor": "white",
            "linecolor": "white",
            "ticks": ""
           },
           "bgcolor": "#E5ECF6",
           "caxis": {
            "gridcolor": "white",
            "linecolor": "white",
            "ticks": ""
           }
          },
          "title": {
           "x": 0.05
          },
          "xaxis": {
           "automargin": true,
           "gridcolor": "white",
           "linecolor": "white",
           "ticks": "",
           "title": {
            "standoff": 15
           },
           "zerolinecolor": "white",
           "zerolinewidth": 2
          },
          "yaxis": {
           "automargin": true,
           "gridcolor": "white",
           "linecolor": "white",
           "ticks": "",
           "title": {
            "standoff": 15
           },
           "zerolinecolor": "white",
           "zerolinewidth": 2
          }
         }
        },
        "title": {
         "text": "Revenue Contribution by Customer Segment"
        }
       }
      }
     },
     "metadata": {},
     "output_type": "display_data"
    },
    {
     "data": {
      "application/vnd.plotly.v1+json": {
       "config": {
        "plotlyServerURL": "https://plot.ly"
       },
       "data": [
        {
         "mode": "lines+markers",
         "type": "scatter",
         "x": [
          1,
          2,
          3,
          4,
          5,
          6,
          7,
          8,
          9
         ],
         "y": [
          33717,
          24736.111496263824,
          18994.69461701053,
          14815.377339869974,
          12609.087445136145,
          11025.819663272849,
          9523.8945660848,
          8723.981498369978,
          8123.933642053282
         ]
        }
       ],
       "layout": {
        "template": {
         "data": {
          "bar": [
           {
            "error_x": {
             "color": "#2a3f5f"
            },
            "error_y": {
             "color": "#2a3f5f"
            },
            "marker": {
             "line": {
              "color": "white",
              "width": 0.5
             },
             "pattern": {
              "fillmode": "overlay",
              "size": 10,
              "solidity": 0.2
             }
            },
            "type": "bar"
           }
          ],
          "barpolar": [
           {
            "marker": {
             "line": {
              "color": "white",
              "width": 0.5
             },
             "pattern": {
              "fillmode": "overlay",
              "size": 10,
              "solidity": 0.2
             }
            },
            "type": "barpolar"
           }
          ],
          "carpet": [
           {
            "aaxis": {
             "endlinecolor": "#2a3f5f",
             "gridcolor": "#C8D4E3",
             "linecolor": "#C8D4E3",
             "minorgridcolor": "#C8D4E3",
             "startlinecolor": "#2a3f5f"
            },
            "baxis": {
             "endlinecolor": "#2a3f5f",
             "gridcolor": "#C8D4E3",
             "linecolor": "#C8D4E3",
             "minorgridcolor": "#C8D4E3",
             "startlinecolor": "#2a3f5f"
            },
            "type": "carpet"
           }
          ],
          "choropleth": [
           {
            "colorbar": {
             "outlinewidth": 0,
             "ticks": ""
            },
            "type": "choropleth"
           }
          ],
          "contour": [
           {
            "colorbar": {
             "outlinewidth": 0,
             "ticks": ""
            },
            "colorscale": [
             [
              0,
              "#0d0887"
             ],
             [
              0.1111111111111111,
              "#46039f"
             ],
             [
              0.2222222222222222,
              "#7201a8"
             ],
             [
              0.3333333333333333,
              "#9c179e"
             ],
             [
              0.4444444444444444,
              "#bd3786"
             ],
             [
              0.5555555555555556,
              "#d8576b"
             ],
             [
              0.6666666666666666,
              "#ed7953"
             ],
             [
              0.7777777777777778,
              "#fb9f3a"
             ],
             [
              0.8888888888888888,
              "#fdca26"
             ],
             [
              1,
              "#f0f921"
             ]
            ],
            "type": "contour"
           }
          ],
          "contourcarpet": [
           {
            "colorbar": {
             "outlinewidth": 0,
             "ticks": ""
            },
            "type": "contourcarpet"
           }
          ],
          "heatmap": [
           {
            "colorbar": {
             "outlinewidth": 0,
             "ticks": ""
            },
            "colorscale": [
             [
              0,
              "#0d0887"
             ],
             [
              0.1111111111111111,
              "#46039f"
             ],
             [
              0.2222222222222222,
              "#7201a8"
             ],
             [
              0.3333333333333333,
              "#9c179e"
             ],
             [
              0.4444444444444444,
              "#bd3786"
             ],
             [
              0.5555555555555556,
              "#d8576b"
             ],
             [
              0.6666666666666666,
              "#ed7953"
             ],
             [
              0.7777777777777778,
              "#fb9f3a"
             ],
             [
              0.8888888888888888,
              "#fdca26"
             ],
             [
              1,
              "#f0f921"
             ]
            ],
            "type": "heatmap"
           }
          ],
          "histogram": [
           {
            "marker": {
             "pattern": {
              "fillmode": "overlay",
              "size": 10,
              "solidity": 0.2
             }
            },
            "type": "histogram"
           }
          ],
          "histogram2d": [
           {
            "colorbar": {
             "outlinewidth": 0,
             "ticks": ""
            },
            "colorscale": [
             [
              0,
              "#0d0887"
             ],
             [
              0.1111111111111111,
              "#46039f"
             ],
             [
              0.2222222222222222,
              "#7201a8"
             ],
             [
              0.3333333333333333,
              "#9c179e"
             ],
             [
              0.4444444444444444,
              "#bd3786"
             ],
             [
              0.5555555555555556,
              "#d8576b"
             ],
             [
              0.6666666666666666,
              "#ed7953"
             ],
             [
              0.7777777777777778,
              "#fb9f3a"
             ],
             [
              0.8888888888888888,
              "#fdca26"
             ],
             [
              1,
              "#f0f921"
             ]
            ],
            "type": "histogram2d"
           }
          ],
          "histogram2dcontour": [
           {
            "colorbar": {
             "outlinewidth": 0,
             "ticks": ""
            },
            "colorscale": [
             [
              0,
              "#0d0887"
             ],
             [
              0.1111111111111111,
              "#46039f"
             ],
             [
              0.2222222222222222,
              "#7201a8"
             ],
             [
              0.3333333333333333,
              "#9c179e"
             ],
             [
              0.4444444444444444,
              "#bd3786"
             ],
             [
              0.5555555555555556,
              "#d8576b"
             ],
             [
              0.6666666666666666,
              "#ed7953"
             ],
             [
              0.7777777777777778,
              "#fb9f3a"
             ],
             [
              0.8888888888888888,
              "#fdca26"
             ],
             [
              1,
              "#f0f921"
             ]
            ],
            "type": "histogram2dcontour"
           }
          ],
          "mesh3d": [
           {
            "colorbar": {
             "outlinewidth": 0,
             "ticks": ""
            },
            "type": "mesh3d"
           }
          ],
          "parcoords": [
           {
            "line": {
             "colorbar": {
              "outlinewidth": 0,
              "ticks": ""
             }
            },
            "type": "parcoords"
           }
          ],
          "pie": [
           {
            "automargin": true,
            "type": "pie"
           }
          ],
          "scatter": [
           {
            "fillpattern": {
             "fillmode": "overlay",
             "size": 10,
             "solidity": 0.2
            },
            "type": "scatter"
           }
          ],
          "scatter3d": [
           {
            "line": {
             "colorbar": {
              "outlinewidth": 0,
              "ticks": ""
             }
            },
            "marker": {
             "colorbar": {
              "outlinewidth": 0,
              "ticks": ""
             }
            },
            "type": "scatter3d"
           }
          ],
          "scattercarpet": [
           {
            "marker": {
             "colorbar": {
              "outlinewidth": 0,
              "ticks": ""
             }
            },
            "type": "scattercarpet"
           }
          ],
          "scattergeo": [
           {
            "marker": {
             "colorbar": {
              "outlinewidth": 0,
              "ticks": ""
             }
            },
            "type": "scattergeo"
           }
          ],
          "scattergl": [
           {
            "marker": {
             "colorbar": {
              "outlinewidth": 0,
              "ticks": ""
             }
            },
            "type": "scattergl"
           }
          ],
          "scattermap": [
           {
            "marker": {
             "colorbar": {
              "outlinewidth": 0,
              "ticks": ""
             }
            },
            "type": "scattermap"
           }
          ],
          "scattermapbox": [
           {
            "marker": {
             "colorbar": {
              "outlinewidth": 0,
              "ticks": ""
             }
            },
            "type": "scattermapbox"
           }
          ],
          "scatterpolar": [
           {
            "marker": {
             "colorbar": {
              "outlinewidth": 0,
              "ticks": ""
             }
            },
            "type": "scatterpolar"
           }
          ],
          "scatterpolargl": [
           {
            "marker": {
             "colorbar": {
              "outlinewidth": 0,
              "ticks": ""
             }
            },
            "type": "scatterpolargl"
           }
          ],
          "scatterternary": [
           {
            "marker": {
             "colorbar": {
              "outlinewidth": 0,
              "ticks": ""
             }
            },
            "type": "scatterternary"
           }
          ],
          "surface": [
           {
            "colorbar": {
             "outlinewidth": 0,
             "ticks": ""
            },
            "colorscale": [
             [
              0,
              "#0d0887"
             ],
             [
              0.1111111111111111,
              "#46039f"
             ],
             [
              0.2222222222222222,
              "#7201a8"
             ],
             [
              0.3333333333333333,
              "#9c179e"
             ],
             [
              0.4444444444444444,
              "#bd3786"
             ],
             [
              0.5555555555555556,
              "#d8576b"
             ],
             [
              0.6666666666666666,
              "#ed7953"
             ],
             [
              0.7777777777777778,
              "#fb9f3a"
             ],
             [
              0.8888888888888888,
              "#fdca26"
             ],
             [
              1,
              "#f0f921"
             ]
            ],
            "type": "surface"
           }
          ],
          "table": [
           {
            "cells": {
             "fill": {
              "color": "#EBF0F8"
             },
             "line": {
              "color": "white"
             }
            },
            "header": {
             "fill": {
              "color": "#C8D4E3"
             },
             "line": {
              "color": "white"
             }
            },
            "type": "table"
           }
          ]
         },
         "layout": {
          "annotationdefaults": {
           "arrowcolor": "#2a3f5f",
           "arrowhead": 0,
           "arrowwidth": 1
          },
          "autotypenumbers": "strict",
          "coloraxis": {
           "colorbar": {
            "outlinewidth": 0,
            "ticks": ""
           }
          },
          "colorscale": {
           "diverging": [
            [
             0,
             "#8e0152"
            ],
            [
             0.1,
             "#c51b7d"
            ],
            [
             0.2,
             "#de77ae"
            ],
            [
             0.3,
             "#f1b6da"
            ],
            [
             0.4,
             "#fde0ef"
            ],
            [
             0.5,
             "#f7f7f7"
            ],
            [
             0.6,
             "#e6f5d0"
            ],
            [
             0.7,
             "#b8e186"
            ],
            [
             0.8,
             "#7fbc41"
            ],
            [
             0.9,
             "#4d9221"
            ],
            [
             1,
             "#276419"
            ]
           ],
           "sequential": [
            [
             0,
             "#0d0887"
            ],
            [
             0.1111111111111111,
             "#46039f"
            ],
            [
             0.2222222222222222,
             "#7201a8"
            ],
            [
             0.3333333333333333,
             "#9c179e"
            ],
            [
             0.4444444444444444,
             "#bd3786"
            ],
            [
             0.5555555555555556,
             "#d8576b"
            ],
            [
             0.6666666666666666,
             "#ed7953"
            ],
            [
             0.7777777777777778,
             "#fb9f3a"
            ],
            [
             0.8888888888888888,
             "#fdca26"
            ],
            [
             1,
             "#f0f921"
            ]
           ],
           "sequentialminus": [
            [
             0,
             "#0d0887"
            ],
            [
             0.1111111111111111,
             "#46039f"
            ],
            [
             0.2222222222222222,
             "#7201a8"
            ],
            [
             0.3333333333333333,
             "#9c179e"
            ],
            [
             0.4444444444444444,
             "#bd3786"
            ],
            [
             0.5555555555555556,
             "#d8576b"
            ],
            [
             0.6666666666666666,
             "#ed7953"
            ],
            [
             0.7777777777777778,
             "#fb9f3a"
            ],
            [
             0.8888888888888888,
             "#fdca26"
            ],
            [
             1,
             "#f0f921"
            ]
           ]
          },
          "colorway": [
           "#636efa",
           "#EF553B",
           "#00cc96",
           "#ab63fa",
           "#FFA15A",
           "#19d3f3",
           "#FF6692",
           "#B6E880",
           "#FF97FF",
           "#FECB52"
          ],
          "font": {
           "color": "#2a3f5f"
          },
          "geo": {
           "bgcolor": "white",
           "lakecolor": "white",
           "landcolor": "white",
           "showlakes": true,
           "showland": true,
           "subunitcolor": "#C8D4E3"
          },
          "hoverlabel": {
           "align": "left"
          },
          "hovermode": "closest",
          "mapbox": {
           "style": "light"
          },
          "paper_bgcolor": "white",
          "plot_bgcolor": "white",
          "polar": {
           "angularaxis": {
            "gridcolor": "#EBF0F8",
            "linecolor": "#EBF0F8",
            "ticks": ""
           },
           "bgcolor": "white",
           "radialaxis": {
            "gridcolor": "#EBF0F8",
            "linecolor": "#EBF0F8",
            "ticks": ""
           }
          },
          "scene": {
           "xaxis": {
            "backgroundcolor": "white",
            "gridcolor": "#DFE8F3",
            "gridwidth": 2,
            "linecolor": "#EBF0F8",
            "showbackground": true,
            "ticks": "",
            "zerolinecolor": "#EBF0F8"
           },
           "yaxis": {
            "backgroundcolor": "white",
            "gridcolor": "#DFE8F3",
            "gridwidth": 2,
            "linecolor": "#EBF0F8",
            "showbackground": true,
            "ticks": "",
            "zerolinecolor": "#EBF0F8"
           },
           "zaxis": {
            "backgroundcolor": "white",
            "gridcolor": "#DFE8F3",
            "gridwidth": 2,
            "linecolor": "#EBF0F8",
            "showbackground": true,
            "ticks": "",
            "zerolinecolor": "#EBF0F8"
           }
          },
          "shapedefaults": {
           "line": {
            "color": "#2a3f5f"
           }
          },
          "ternary": {
           "aaxis": {
            "gridcolor": "#DFE8F3",
            "linecolor": "#A2B1C6",
            "ticks": ""
           },
           "baxis": {
            "gridcolor": "#DFE8F3",
            "linecolor": "#A2B1C6",
            "ticks": ""
           },
           "bgcolor": "white",
           "caxis": {
            "gridcolor": "#DFE8F3",
            "linecolor": "#A2B1C6",
            "ticks": ""
           }
          },
          "title": {
           "x": 0.05
          },
          "xaxis": {
           "automargin": true,
           "gridcolor": "#EBF0F8",
           "linecolor": "#EBF0F8",
           "ticks": "",
           "title": {
            "standoff": 15
           },
           "zerolinecolor": "#EBF0F8",
           "zerolinewidth": 2
          },
          "yaxis": {
           "automargin": true,
           "gridcolor": "#EBF0F8",
           "linecolor": "#EBF0F8",
           "ticks": "",
           "title": {
            "standoff": 15
           },
           "zerolinecolor": "#EBF0F8",
           "zerolinewidth": 2
          }
         }
        },
        "title": {
         "text": "Elbow Method for Optimal Cluster Number"
        },
        "xaxis": {
         "title": {
          "text": "Number of Clusters"
         }
        },
        "yaxis": {
         "title": {
          "text": "Inertia"
         }
        }
       }
      }
     },
     "metadata": {},
     "output_type": "display_data"
    },
    {
     "data": {
      "application/vnd.plotly.v1+json": {
       "config": {
        "plotlyServerURL": "https://plot.ly"
       },
       "data": [
        {
         "hovertemplate": "<b>%{hovertext}</b><br><br>Gender=F<br>Amount=%{x}<br>Orders=%{y}<br>Age=%{z}<br>Cluster=%{marker.color}<extra></extra>",
         "hovertext": [
          "Kunst",
          "Sanjit",
          "Aniket",
          "Zewe",
          "Pauline",
          "McCrossin",
          "Sharda",
          "Vernon",
          "Valerie",
          "Phelps",
          "Noshiba",
          "Sunley",
          "Glassco",
          "Jackson",
          "Ivan",
          "Aditya",
          "Champaklata",
          "Cazamias",
          "West",
          "Sarita",
          "Patricia",
          "Soltero",
          "McAdams",
          "Chong",
          "Bhosale",
          "Vishakha",
          "Teena",
          "Champaklata",
          "Hitesh",
          "Mahima",
          "Nazzal",
          "percer",
          "Nandita",
          "Eudokia",
          "Parnavi",
          "Annie",
          "Ishit",
          "Meghana",
          "Mansi",
          "Tyler",
          "Becker",
          "Linda",
          "Grove",
          "Dilbeck",
          "Guy",
          "Don",
          "Shruti",
          "Theresa",
          "Eno",
          "Troy",
          "McGrath",
          "Harold",
          "Shivam",
          "Christensen",
          "Rutuja",
          "Hazard",
          "Swindell",
          "Baptist",
          "Nockton",
          "Sharda",
          "Sukruta",
          "Sweta",
          "Kirkland",
          "Karl",
          "Lloyd",
          "Vishakha",
          "LaWare",
          "Ivan",
          "Arun",
          "Dave",
          "Roy",
          "Swati",
          "Swint",
          "Krutika",
          "Kendrick",
          "Kane",
          "Priyanka",
          "Haines",
          "Sudevi",
          "Stefanie",
          "Conant",
          "Fritzler",
          "Jackson",
          "Jaydeep",
          "Noopur",
          "McGuire",
          "Arun",
          "Charika",
          "Phillip",
          "Toby",
          "Gelder",
          "Eleni",
          "Shaily",
          "Grinstein",
          "Fisher",
          "Leatherbury",
          "Andreadi",
          "Irving",
          "Spruell",
          "Rachna",
          "Jaydeep",
          "Hilary",
          "Dilbeck",
          "Pistole",
          "Gonzalez",
          "Bhawna",
          "Becker",
          "Bremer",
          "Swati",
          "Ritter",
          "Rashmi",
          "Yotov",
          "Ludtke",
          "Ben",
          "Phillip",
          "Jacobs",
          "Andreada",
          "Overcash",
          "Stuart",
          "Keith",
          "Palak",
          "Mane",
          "Debra",
          "Ober",
          "Lloyd",
          "Pistek",
          "Bergman",
          "Karl",
          "Vaibhav",
          "Andrew",
          "Dheeraj",
          "Vishakha",
          "Luxemburg",
          "Mane",
          "Ritsa",
          "Gjertsen",
          "Hazel",
          "Resi",
          "Nockton",
          "Huthwaite",
          "Suhani",
          "Hamilton",
          "Russell",
          "Matthew",
          "Sweta",
          "Sylvia",
          "Evan",
          "Daksh",
          "VanderZanden",
          "Mrinal",
          "Debra",
          "Brad",
          "Chad",
          "Nunn",
          "Pippenger",
          "Dhirajendu",
          "Nguyen",
          "Geetanjali",
          "Jane",
          "Thurman",
          "Mull",
          "Shubhi",
          "Ulpright",
          "Fisher",
          "Hendricks",
          "Yash",
          "Kartik",
          "Hernandez",
          "Anita",
          "McGrath",
          "Witt",
          "Beeghly",
          "Geetanjali",
          "Kean",
          "Heather",
          "Häberlin",
          "Anchal",
          "MacIntyre",
          "Sissman",
          "Hirasaki",
          "Blackwell",
          "Ausman",
          "Shubham",
          "Jacobs",
          "Carter",
          "Phonely",
          "Foster",
          "Gardner",
          "Ulpright",
          "Southworth",
          "Williamson",
          "Vaibhav",
          "Tom",
          "Ludwig",
          "Bhosale",
          "Victor",
          "Deggeller",
          "Hildebrand",
          "Pratiksha",
          "Coram",
          "Daksh",
          "Fortune-",
          "Srishti",
          "Staavos",
          "Overfelt",
          "Dave",
          "Swetlana",
          "Dartt",
          "Pranjali",
          "Kasheen",
          "Cartwright",
          "Gardner",
          "Crebagga",
          "Roger",
          "Harshita",
          "James",
          "Vipul",
          "Jitesh",
          "Latchford",
          "Murry",
          "Maithilee",
          "Brosina",
          "Haushalter",
          "Steele",
          "Elias",
          "Clytie",
          "Aarushi",
          "Kartik",
          "Lori",
          "Sonal",
          "Stobb",
          "Vaibhav",
          "Norris",
          "Turumella",
          "Harrigan",
          "Vineet",
          "Rachna",
          "Stobb",
          "Dorothy",
          "Charika",
          "Ritter",
          "Akash",
          "Lawera",
          "Joseph",
          "Shourya",
          "Kampe",
          "Parth",
          "Toch",
          "Manshul",
          "Arti",
          "Gibson",
          "Clark",
          "Inderpreet",
          "Berenike",
          "Nazzal",
          "Kamberova",
          "Jasper",
          "Ross",
          "Hazel",
          "Sanjay",
          "Jaydeep",
          "Ashmeet",
          "Huthwaite",
          "Hazel",
          "House",
          "Ferguson",
          "Lisa",
          "Vishakha",
          "Monu",
          "Bell-",
          "Anne",
          "Aryan",
          "Ulpright",
          "Cunningham",
          "Yoseph",
          "Amol",
          "Fisher",
          "Grove",
          "Kelly",
          "Hitika",
          "Deborah",
          "Atharv",
          "Gayman",
          "Damala",
          "Ashmi",
          "Kamberova",
          "Gibson",
          "Hitesh",
          "Willman",
          "Cynthia",
          "Corey-Lock",
          "Yoseph",
          "Bathina",
          "Eaton",
          "Troy",
          "Mane",
          "Lori",
          "Hoffman",
          "Mukund",
          "Jas",
          "Jaideep",
          "Katherine",
          "Ishit",
          "Bremer",
          "Garverick",
          "Laura",
          "Wasserman",
          "Wallace",
          "Pournamasi",
          "Gary",
          "Lakshmi",
          "Boyes",
          "Akin",
          "Sonakshi",
          "Aishwarya",
          "Fox",
          "Blacks",
          "Weimer",
          "Philip",
          "Dave",
          "Ross",
          "Soumya",
          "percer",
          "Jim",
          "Catlett",
          "Carlisle",
          "Daly",
          "Alice",
          "Nancy",
          "Kamberova",
          "Andreadi",
          "Ryan",
          "Madhulika",
          "Eric",
          "Ben",
          "Ross",
          "Kennedy",
          "Shifley",
          "Moren",
          "Seio",
          "Maithilee",
          "Arianne",
          "Dorothy",
          "Swetha",
          "Tejeswini",
          "Arntzen",
          "Gonzalez",
          "Craig",
          "Kipp",
          "Conant",
          "Amisha",
          "West",
          "Brosina",
          "Lauren",
          "Bremer",
          "Carol",
          "McCrossin",
          "Prajakta",
          "Bavinger",
          "Nick",
          "Sanskriti",
          "Karandeep",
          "Gene",
          "McCrossin",
          "Brooke",
          "Sonia",
          "Gjertsen",
          "Nida",
          "Budd",
          "Kelly",
          "Norris",
          "Hwang",
          "Khloe",
          "Norvell",
          "Aditi",
          "Bhargav",
          "Bill",
          "Johnson",
          "Rutuja",
          "Mitali",
          "Sweta",
          "Sanskriti",
          "Chirag",
          "Rane",
          "Wasserman",
          "Lisa",
          "Eva",
          "Bobby",
          "Sanjova",
          "Chikku",
          "Flashing",
          "Chance",
          "Sharelle",
          "D'Ascenzo",
          "Hildebrand",
          "Moffitt",
          "Foster",
          "Johnson",
          "Ausman",
          "Apoorv",
          "Andreada",
          "Beeghly",
          "Neil",
          "Bhargav",
          "Aaron",
          "Irene",
          "Maurice",
          "Rohan",
          "Thompson",
          "Noopur",
          "Crebagga",
          "Brooks",
          "Claire",
          "Maithilee",
          "Yogesh",
          "McGuire",
          "Jaideep",
          "West",
          "Sauptik",
          "Dario",
          "Kampe",
          "Vishakha",
          "Dodson",
          "Reed",
          "Aparajita",
          "Akin",
          "Manish",
          "Avish",
          "Chris",
          "Sylvia",
          "Namrata",
          "Parin",
          "Thais",
          "Akshat",
          "Ben",
          "Charika",
          "Lonsdale",
          "Raksha",
          "Sharelle",
          "Ankit",
          "Lena",
          "Hart",
          "Monu",
          "Donatelli",
          "Balk",
          "Sheetal",
          "Sudevi",
          "Charika",
          "Sanjay",
          "Namrata",
          "Kajal",
          "Ballentine",
          "Michelle",
          "Diwakar",
          "Brumfield",
          "O'Donnell",
          "Daniels",
          "Daniel",
          "Philisse",
          "Venier",
          "Bertelson",
          "Brown",
          "Patricia",
          "Gerbode",
          "Bell-",
          "Skach",
          "Sam",
          "Pearl",
          "Bharat",
          "Anubhaw",
          "Talbott",
          "Rohan",
          "Yaanvi",
          "Navdeep",
          "Abelman",
          "Suman",
          "Dryer",
          "Noah",
          "Ankur",
          "Shivanshu",
          "Elizabeth",
          "Corinna",
          "Ross",
          "Blumstein",
          "Norris",
          "Debra",
          "Ratner",
          "Manshul",
          "Harold",
          "Sunley",
          "Philip",
          "Jackson",
          "Lisha",
          "Pete",
          "Foster",
          "Sylvia",
          "Ryan",
          "Chetan",
          "Kajal",
          "Toby",
          "Buch",
          "Derr",
          "Rohit",
          "Aastha",
          "Sauptik",
          "Nikhil",
          "Patterson",
          "Mitali",
          "Jane",
          "Kalyca",
          "Lebron",
          "Farhat",
          "Ritsa",
          "Sample",
          "Deborah",
          "Parth",
          "Seio",
          "Swapnil",
          "Rittenbach",
          "Nunn",
          "Dianna",
          "Brown",
          "Riya",
          "Claudia",
          "Mick",
          "Ratner",
          "Kamberova",
          "Shiva",
          "Andreadi",
          "Divyeta",
          "Mukesh",
          "Lee",
          "Dryer",
          "Denise",
          "Ellison",
          "Sudevi",
          "Sumrall",
          "Kartikay",
          "Logan",
          "Braxton",
          "Chandni",
          "Glassco",
          "Dorris",
          "Brockman",
          "Carl",
          "Staebel",
          "Sajal",
          "Braden",
          "Pete",
          "Norvell",
          "Dave",
          "Yohann",
          "Beltran",
          "Deanra",
          "Jay",
          "Ashbrook",
          "Zeldin",
          "Lela",
          "Teena",
          "Hackney",
          "Dorris",
          "Kartikay",
          "O'Brill",
          "Turumella",
          "McGuire",
          "Bergman",
          "Megha",
          "Staebel",
          "Bierner",
          "Medina",
          "Hazel",
          "Conant",
          "Shreyshi",
          "O'Carroll",
          "Sukant",
          "Kunst",
          "Amlan",
          "Swati",
          "Akash",
          "Coram",
          "Sandra",
          "Patricia",
          "Gunjal",
          "Brooks",
          "Kastensmidt",
          "Sukrith",
          "Helen",
          "Rane",
          "Hernandez",
          "Shaily",
          "Bryan",
          "Goldenen",
          "Chirag",
          "Dilbeck",
          "Paige",
          "Phillina",
          "Vishakha",
          "Bierner",
          "Adam",
          "Pryor",
          "Cartwright",
          "Budd",
          "Doherty",
          "Moren",
          "Anmol",
          "Epp",
          "Seite",
          "Gibson",
          "Aastha",
          "Rick",
          "Eichhorn",
          "Ashbrook",
          "Sweta",
          "Weirich",
          "Elias",
          "Lakshmi",
          "Anand",
          "Delaney",
          "Lisa",
          "Sonia",
          "Trudy",
          "Saurabh",
          "Adhvaita",
          "Srishti",
          "Duston",
          "Hendricks",
          "Lela",
          "Airdo",
          "Muhammed",
          "Hendricks",
          "Suhani",
          "Surabhi",
          "Bruce",
          "Troy",
          "Larry",
          "Crestani",
          "Vishakha",
          "Reed",
          "Dennis",
          "Chirag",
          "Voltz",
          "Becker",
          "Ishit",
          "Surbhi",
          "Kshitij",
          "Joseph",
          "Saurabh",
          "Pinky",
          "Swint",
          "Boeckenhauer",
          "Toch",
          "Christina",
          "Thais",
          "LaWare",
          "Neil",
          "Holt",
          "Pawlan",
          "Arthur",
          "Shaily",
          "Bell-",
          "Subhashree",
          "Christine",
          "Joel",
          "Crebagga",
          "Ed",
          "Bhutekar",
          "Sudevi",
          "Chandni",
          "Akash",
          "Aishwarya",
          "Grant",
          "Jenna",
          "Monisha",
          "Coakley",
          "Chapman",
          "Dionis",
          "Magee",
          "Vaibhav",
          "Adrian",
          "Soltero",
          "Georgia",
          "McFarland",
          "Sharda",
          "Mitchum",
          "Tron"
         ],
         "legendgroup": "F",
         "marker": {
          "color": {
           "bdata": "AwAAAAAAAAABAAAAAAAAAAIAAAADAAAAAwAAAAMAAAAAAAAAAwAAAAEAAAADAAAAAQAAAAAAAAAAAAAAAwAAAAMAAAACAAAAAQAAAAMAAAADAAAAAAAAAAAAAAABAAAAAwAAAAAAAAADAAAAAQAAAAMAAAAAAAAAAgAAAAEAAAACAAAAAQAAAAMAAAADAAAAAwAAAAMAAAADAAAAAgAAAAIAAAABAAAAAAAAAAEAAAADAAAAAAAAAAMAAAAAAAAAAQAAAAMAAAABAAAAAAAAAAMAAAAAAAAAAgAAAAAAAAAAAAAAAgAAAAAAAAABAAAAAQAAAAMAAAABAAAAAAAAAAMAAAADAAAAAwAAAAEAAAAAAAAAAwAAAAMAAAACAAAAAQAAAAMAAAAAAAAAAwAAAAEAAAACAAAAAwAAAAAAAAAAAAAAAAAAAAMAAAACAAAAAgAAAAEAAAAAAAAAAQAAAAAAAAADAAAAAQAAAAEAAAACAAAAAAAAAAAAAAAAAAAAAAAAAAIAAAACAAAAAQAAAAAAAAACAAAAAAAAAAAAAAADAAAAAQAAAAMAAAABAAAAAQAAAAAAAAABAAAAAQAAAAEAAAACAAAAAAAAAAEAAAADAAAAAgAAAAAAAAADAAAAAAAAAAIAAAAAAAAAAwAAAAMAAAABAAAAAgAAAAEAAAADAAAAAgAAAAMAAAABAAAAAAAAAAIAAAACAAAAAAAAAAMAAAAAAAAAAQAAAAAAAAABAAAAAwAAAAAAAAAAAAAAAAAAAAMAAAACAAAAAwAAAAAAAAAAAAAAAwAAAAMAAAADAAAAAwAAAAIAAAADAAAAAwAAAAIAAAABAAAAAwAAAAEAAAAAAAAAAgAAAAAAAAABAAAAAAAAAAMAAAACAAAAAAAAAAEAAAACAAAAAwAAAAMAAAABAAAAAgAAAAMAAAAAAAAAAwAAAAAAAAAAAAAAAwAAAAAAAAADAAAAAQAAAAIAAAAAAAAAAAAAAAEAAAACAAAAAwAAAAMAAAAAAAAAAwAAAAEAAAABAAAAAwAAAAMAAAABAAAAAAAAAAEAAAADAAAAAAAAAAEAAAADAAAAAwAAAAAAAAABAAAAAAAAAAMAAAAAAAAAAwAAAAMAAAABAAAAAQAAAAMAAAABAAAAAgAAAAIAAAAAAAAAAQAAAAAAAAABAAAAAAAAAAMAAAADAAAAAAAAAAMAAAACAAAAAgAAAAEAAAACAAAAAQAAAAIAAAAAAAAAAQAAAAIAAAAAAAAAAwAAAAMAAAAAAAAAAAAAAAMAAAADAAAAAQAAAAMAAAACAAAAAAAAAAEAAAADAAAAAwAAAAMAAAACAAAAAgAAAAAAAAACAAAAAQAAAAMAAAADAAAAAAAAAAIAAAACAAAAAAAAAAMAAAADAAAAAAAAAAMAAAAAAAAAAAAAAAMAAAAAAAAAAQAAAAIAAAAAAAAAAAAAAAIAAAADAAAAAAAAAAAAAAAAAAAAAAAAAAEAAAADAAAAAgAAAAEAAAABAAAAAAAAAAMAAAABAAAAAQAAAAEAAAADAAAAAQAAAAAAAAABAAAAAgAAAAIAAAABAAAAAQAAAAIAAAAAAAAAAgAAAAMAAAABAAAAAwAAAAAAAAABAAAAAAAAAAAAAAAAAAAAAAAAAAMAAAAAAAAAAQAAAAAAAAACAAAAAAAAAAEAAAABAAAAAQAAAAEAAAAAAAAAAQAAAAEAAAACAAAAAQAAAAAAAAADAAAAAAAAAAMAAAADAAAAAwAAAAIAAAAAAAAAAwAAAAIAAAACAAAAAwAAAAMAAAABAAAAAQAAAAMAAAADAAAAAwAAAAEAAAABAAAAAwAAAAEAAAADAAAAAAAAAAEAAAABAAAAAAAAAAEAAAABAAAAAAAAAAMAAAACAAAAAAAAAAAAAAABAAAAAwAAAAAAAAADAAAAAwAAAAEAAAABAAAAAQAAAAIAAAAAAAAAAQAAAAMAAAADAAAAAgAAAAMAAAABAAAAAQAAAAAAAAAAAAAAAgAAAAAAAAABAAAAAQAAAAEAAAAAAAAAAAAAAAAAAAAAAAAAAwAAAAIAAAADAAAAAwAAAAAAAAADAAAAAwAAAAMAAAABAAAAAwAAAAAAAAAAAAAAAgAAAAIAAAADAAAAAAAAAAEAAAADAAAAAAAAAAIAAAADAAAAAAAAAAIAAAACAAAAAwAAAAAAAAADAAAAAAAAAAMAAAACAAAAAwAAAAIAAAAAAAAAAwAAAAAAAAACAAAAAAAAAAIAAAACAAAAAAAAAAMAAAAAAAAAAwAAAAAAAAACAAAAAAAAAAMAAAACAAAAAwAAAAIAAAABAAAAAAAAAAAAAAACAAAAAgAAAAMAAAADAAAAAwAAAAAAAAADAAAAAAAAAAAAAAABAAAAAQAAAAMAAAABAAAAAwAAAAAAAAAAAAAAAAAAAAMAAAABAAAAAQAAAAMAAAAAAAAAAAAAAAAAAAABAAAAAgAAAAIAAAAAAAAAAwAAAAMAAAAAAAAAAwAAAAAAAAADAAAAAwAAAAEAAAADAAAAAgAAAAAAAAADAAAAAQAAAAAAAAADAAAAAgAAAAMAAAAAAAAAAQAAAAMAAAACAAAAAwAAAAMAAAAAAAAAAwAAAAMAAAADAAAAAAAAAAMAAAABAAAAAQAAAAMAAAADAAAAAAAAAAMAAAABAAAAAgAAAAEAAAAAAAAAAwAAAAMAAAADAAAAAgAAAAEAAAABAAAAAQAAAAMAAAACAAAAAAAAAAMAAAADAAAAAQAAAAEAAAADAAAAAwAAAAIAAAABAAAAAwAAAAAAAAAAAAAAAAAAAAEAAAABAAAAAwAAAAMAAAACAAAAAQAAAAMAAAACAAAAAQAAAAEAAAADAAAAAQAAAAIAAAADAAAAAwAAAAMAAAABAAAAAAAAAAAAAAABAAAAAQAAAAAAAAACAAAAAQAAAAMAAAAAAAAAAgAAAAEAAAAAAAAAAgAAAAMAAAACAAAAAQAAAAMAAAAAAAAAAAAAAAEAAAABAAAAAAAAAAIAAAADAAAAAQAAAAMAAAABAAAAAwAAAAAAAAADAAAAAAAAAAMAAAADAAAAAAAAAAMAAAAAAAAAAQAAAAAAAAADAAAAAAAAAAMAAAADAAAAAgAAAAAAAAAAAAAAAwAAAAMAAAABAAAAAAAAAAAAAAABAAAAAgAAAAAAAAADAAAAAQAAAAMAAAADAAAAAQAAAAIAAAAAAAAAAQAAAAAAAAADAAAAAwAAAAAAAAABAAAAAwAAAAIAAAABAAAAAAAAAAMAAAABAAAAAAAAAAEAAAADAAAAAQAAAAMAAAAAAAAAAAAAAAIAAAAAAAAAAAAAAAMAAAADAAAAAQAAAAEAAAAAAAAAAAAAAAAAAAAAAAAAAAAAAAIAAAAAAAAAAwAAAAIAAAADAAAAAwAAAAIAAAABAAAAAAAAAAMAAAAAAAAAAQAAAAMAAAAAAAAAAAAAAAAAAAADAAAAAQAAAAAAAAABAAAAAAAAAAMAAAADAAAAAwAAAAIAAAAAAAAAAwAAAAAAAAAAAAAAAQAAAAAAAAADAAAAAQAAAAEAAAAAAAAAAwAAAAIAAAABAAAAAwAAAAEAAAABAAAAAQAAAAEAAAAAAAAAAAAAAAMAAAABAAAAAAAAAA==",
           "dtype": "i4"
          },
          "coloraxis": "coloraxis",
          "symbol": "circle"
         },
         "mode": "markers",
         "name": "F",
         "scene": "scene",
         "showlegend": true,
         "type": "scatter3d",
         "x": {
          "bdata": "CCfAG1RPjxLBH4kf/A8nIrcNwS5bNLcO4TvVIcEbgSb/MnkUCTz5C38hAif0LYI+/h5GIvAul0tkJgQOvCE6Pf4CH0LOFzYb/yZGDHQgdxfVMbBRIS4LTIYU4giVLKwNVEH1Dasy9yEwDvceazUUKocUMBC3JkEyoFEpD6FLAS5SNWIirA5IP3IFIiB3FF0nYD+1G1cV1BrsO/MabzAXG2cN2gvjHtst3i0zQLcO8ztKHqswTk8GUKMhxx6nLmsQeDNBDvAbbErWFoogFQgACcQU7kG6FwFC+zuCJrhA+T8CPoovAQgiPtke6C5BLQgcZg+LJsEhQiJHFyI9kh96PgUDQBuPK+g81i4HNcEfjB9ZJtoeOEwlGxIyHAwdMScV/we4FFsiViJKJyMU1ibjC4UeVDM2QHEmpx86GJFamAUFP2keZiKZG3JP+xozMXEnaB83PM4lVyatBaQ9XRuBF58gjx/AIiAn5g7cG6YXljvVGzAMzx/nPoUbLBWIMS0usDGhTFdS3B6KFFU1CxucP8oQ+R4pS1QJBBw4JwE9zg+THyAmRC58H749HE80BHZPugOMIigVKjV+LZFB+Q1sLpQtFA+cF9MStiFdP0EbtUDoHjsf1UxrIq8mwQ2YF38GGBsjKqgGmzTeFAogBhvqP9guWBSDIrAeWkrCFoUbvz03Jbwe8xoMKjMvTx/jGhMidB4mD+QsSh+CBSImjUCgLr0FeC5fDv8ehx9CLkIfSiBfPIAeWhXYNNE8IBd4G5w8oD+ZLd0cdT/cLk87ZRf3HEEvzD34MPctyTwtHx1UGhAVHlU9Fwx2IpwtDSJyJjMtwVH0AuUQ0AZcSm5Jb0sgQZoXTlA2ThkuET3/JdMXmxG8Dq4fKCJjDdcafjGFF+8UeiHVJphKhTBOH4YU1gtMQYRBWR/zSngi1i2DLrE8UgglTA9KVw63Do4Ojx6mH5gtVBdfHrcOtg5DL7dN6z0FJuUX6jRFFQ4npB8RG/hLQEztBpkg5gofM+dLkF1EMcgehBrWHZInDxj5LW4RmS0yFRUViSYKH8tJWSpSG5EbpR6yHqQmDSJPQfQarBldD+IW0ALBO/sQhywzLXwiNy7cId8eSieTMFQUByB8F/sFOBK+LqYfniFoHw4V9BsDKxI82Q6ZIEYfGxB6FKE7Vx6jCyst9SCRKa8erR+fJqAe7xfXH0k9s1APILVQkhDTFhwi6yZeFEs9sD37FoYQ9RfXFpFKnjCEH0IfWSMWHDQVriA/HzEwPhTWQcMNQTJdFf4CB1qOBU0vtREbFPghMD8oHvEbgC4QHGEfhwi9HxknBRt3G+M9rFFeG8Ef8w+2G/c7TwIAQokbOR8DG/gp8yXdQZVPbDCLIh8imBA3BvcmOU/iP4QI6x7GHkNcpioJCNMWaS6dTPw7YBDwCzsVjECxLRsO4UHpS04UJj1RH2Ab8Q+oG+JPDh+bEKAvSzsOGJgt/DsuCboiHh/0TwwYfCatIsEfM0tpFG8bLgltUHs9jBt9FzUbjjs3Ik1KUA+nIVsfoBcoBP0fHxULHPMakzGsJukLaC1FFQEcFyKAG/cCFRWhF/A7KAZ5Is87QRoAD/UWAUDkAuoPTkvZJlgJzECUFGQXJRcBFe9OdhQbFy4+MCeoCMBNtCKzPSgmNjwHIowh0h9zL2QNLwxtHi4bfUsjL24sCjVVFxMb2BZpFREvThSlG50X7R8QG6s8QCIkGP8m9z9kH+kCeCJ6FOgswFFyHr1N7SbuBiImIyK3PVgMuCnkIfcaWTygF8ciWUyoSsAiHiJiJhxMEAyASnE8ET29Pr4wgBGnHuk8Ewk=",
          "dtype": "i2"
         },
         "y": {
          "bdata": "AwEBAgQEAwMBAwMEAwECBAQBAQQEAgEEBAIEAgMBBAMEAwQEBAQEAwMDAQQDAgQBAQQDAQMBAwIBAwICAQQEAQQDBAMBAwQCAgMBBAQEBAICAgMCAQECBAIEBAEDAgECAQECAQEEAgEDAwQCAQEDBAEEAgQEAwIDAgECBAQCAQEDBAQEAQIBAQQCAQEDBAECAQQDAwECAwMDBAQEAwECAwMBAgIBAgQCAgIDBAQBAwMBBAIBBAIEAgQBAgIEBAQBBAQCAwMEAQQDAQIDBAEBAQMBBAMBAQMDAQQBAwECAQMDAgMCBAICAQQCAgECAwQCAgQEAQQDAQEEBAQCAwIDAgQDAQMDAQQDAgQCAQQBBAMBAQIDAgIBAQMEBAMCAQMCAQIDBAEBBAQCAQMCAQQBBAIDAQECAQMBAQIBAgIEBAECAQECAgIEAQMDAwECBAIDBAMCAgQDAwQCBAIDAQMBAQIDAgMDAQECAwIEBAMEBAICAgQDAQMBBAEBAwEDAQIBAQECBAQDAwIEBAQEAwECBAIDAQMEAQMDAQQEBAEDAQMEBAICAwIEAQMEAQMBAwIEAgQBBAMCAQIBBAMDAwIEAQIBAQMDAwEBAQQCBAQCAQICBAMBAwQCBAEEBAMEAQIEAwIDAwMBAwQDBAQBAwMDAQMBAgQEAQMEAgECAwQDAQMCAwMEAQQDAwMDAwQBBAICAQQDAwMBAgMCBAIDAgQEAwQBAQECBAEDBAMBBAECAgQDAQMBAQIBAQMEAQQEAwEEAgMEAQMBAwIEAgQDAQIBAwQCAgICAQEEAQMDBAQCAQIEBAICAwIEAgQDAgIEBAQCAQIBAQMEAQMBAQEBAQIBBAQEAwEBAQMBAwQBAQEEAgECAQMDAwQCAwICBAEEBAMCAwMDAwIEAQEBAgMEAQ==",
          "dtype": "i1"
         },
         "z": {
          "bdata": "HyQrJzAmHiYsFSobHSkfISdFMCEsICcVFSMfLBMmMiZFIRMuHRMNLzQdFBojHhkcKxohFxodMygTNh4eLxoaFhAaHBohFxc2HyMZJhg1GigbGSQ2NB8YHhUpHhwzIi0WFDQ2HzA2HxoZKRoeHiknHRg2HicdMBceIzYbFhcuMxcsMRMaLjMzMCEYHSwkISAZFR4vFBsYIB0oKFEiGTYjIxQUOCcoIBowJB4sIBstLCkxFx0vFSgWHTIcGSAwHSkgKiYZHxstKh0TJRUhFRYjHh0dIR8vGhwtVUEcIhYfHBUhICYvMi4vHzEcIjMiFSIjJBomLRwxMCAXGiktVBowIyogIywrLi0iGCkZHCMjGS0fDC4OIxMWHigcSSIhKR0lHioeMBobWzYrKTEYSx4jIhggIiwXICMeLis2IxMbLiMcHCsyGSMdIxonG04pJjZCFBsXHSojIiUjHxQUGyInLiIoHCEsMDAqHxkrJiIbMjYSKBogVxgTGyMjNCEgHCwdIBMZLC4SEhwvHR8YEh8jNzMVJyEtHi0dHTMxFCMYKB06KzEoFB1LFTEyJxwkGylLGx01IC8TGx1QNRwYFxsaHyUbMhUrKigUGhoeIx0fJB4uNS0iJB8jHC4aGSsdNBsXKxQaMyUbGxhNHC4kHxUfJSAgNxIrGxoULzIbHhoaVSkzIyAwGy0aLSEZHjYdIikdISsgJRM7HRovISMeJTUlIhkUHhspGBUwGh0fMxUmLSQyJxQjIjcTLTQhHSIfFBMbFiEiGBcqIhgeJBciMhUoKCEaGRodNi8bGyAeI0wdKSIXLhwzIy8dHysfFx0uISoVLywsEB8tKiEeHx0dIDAZH1UpHjcgLBwlKRUqKyUbKxAUFxcjIVseEhQhGiEdNRwgIzATIxomEzAqHh4cGw==",
          "dtype": "i1"
         }
        },
        {
         "hovertemplate": "<b>%{hovertext}</b><br><br>Gender=M<br>Amount=%{x}<br>Orders=%{y}<br>Age=%{z}<br>Cluster=%{marker.color}<extra></extra>",
         "hovertext": [
          "Hughes",
          "Mugdha",
          "Demir",
          "Valerie",
          "Resi",
          "MaryBeth",
          "Ekta",
          "Greer",
          "Maxwell",
          "Harivansh",
          "Cohen",
          "Brumley",
          "Bryan",
          "John",
          "Philippe",
          "Hagelstein",
          "Alyssa",
          "Bavinger",
          "Wilson",
          "Gunjan",
          "McMath",
          "Dona",
          "Fuller",
          "Gillingham",
          "Julie",
          "Kimberly",
          "Brumfield",
          "Nelson",
          "Eason",
          "Sissman",
          "Ted",
          "Parth",
          "Avila",
          "Sink",
          "Tate",
          "Sujay",
          "Yash",
          "Neola",
          "Sweta",
          "Brittain",
          "Keshav",
          "Neoma",
          "Brijesh",
          "Flathmann",
          "DeVincentis",
          "Bühler",
          "Shagiari",
          "Kelty",
          "Jessica",
          "Naresj",
          "Jack",
          "Moray",
          "Cyra",
          "Mike",
          "Amisha",
          "Amol",
          "Charika",
          "Bellavance",
          "Weirich",
          "Sanjit",
          "Sudheer",
          "Thais",
          "Hagelstein",
          "Smriti",
          "Mull",
          "Darrin",
          "Avila",
          "Vasudev",
          "Yogesh",
          "Rawles",
          "Clark",
          "Tanvi",
          "Bhosale",
          "Nguyen",
          "Prashant",
          "Yogesh",
          "Deggeller",
          "Jeremy",
          "Stuart",
          "Rittenbach",
          "Tejeswini",
          "Neha",
          "Sumrall",
          "Sudheer",
          "Christopher",
          "Barreto",
          "Harms",
          "Robert",
          "Harshita",
          "Evan",
          "Barnes",
          "Abhijit",
          "Mautz",
          "Mitchum",
          "Sonal",
          "Lee",
          "Atkinson",
          "Filia",
          "Pearl",
          "Bolton",
          "Amit",
          "Eplett",
          "Dahlen",
          "Luke",
          "Aastha",
          "Heidel",
          "Xylona",
          "Barreto",
          "Glotzbach",
          "Morse",
          "Shishu",
          "Stuti",
          "Deborah",
          "Bremer",
          "Rupert",
          "Boyes",
          "Susan",
          "Joni",
          "Parna",
          "Duhita",
          "George",
          "Nora",
          "Duhita",
          "Bharat",
          "Pratyusmita",
          "Shubhi",
          "Lichtenstein",
          "Waco",
          "MacKendrick",
          "Van",
          "Meg",
          "Reiten",
          "Bathina",
          "Vaibhav",
          "Bill",
          "Mark",
          "Hane",
          "Vasudev",
          "Ginny",
          "Mukesh",
          "Staavos",
          "Shivam",
          "Tushina",
          "Mike",
          "Phillina",
          "Mayank",
          "Selesnick",
          "Aditi",
          "Tate",
          "George",
          "Catlett",
          "Henry",
          "Shikhar",
          "Drucker",
          "Barroso",
          "Apoorv",
          "Yedwab",
          "Reichenbach",
          "Mitali",
          "Lebron",
          "Byrd",
          "Jaideep",
          "Pardue",
          "Sibella",
          "Shivam",
          "Noonan",
          "Preis",
          "Anmol",
          "Laalji",
          "Fuller",
          "Pratiksha",
          "Chong",
          "Akshat",
          "Van",
          "Astrea",
          "Ishpreet",
          "Klamczynski",
          "Parnavi",
          "Jane",
          "Shubhi",
          "Farah",
          "Smith",
          "Bhavna",
          "Hallie",
          "Utsav",
          "Dahlen",
          "Gilpin",
          "Amisha",
          "Manjiri",
          "Manning",
          "Shikhar",
          "Ashmeet",
          "Phonely",
          "Zuschuss",
          "Swetlana",
          "Jason",
          "Chung",
          "Nathan",
          "Yogesh",
          "Donovan",
          "Arsheen",
          "Barreto",
          "Preksha",
          "Brumley",
          "Bryan",
          "Zypern",
          "Lacy",
          "Alex",
          "Flathmann",
          "Eason",
          "Selesnick",
          "Chikku",
          "Alejandro",
          "Cortes",
          "Dan",
          "Ballard",
          "Alice",
          "Raksha",
          "Drucker",
          "Trudy",
          "Mayank",
          "Dryer",
          "Boyes",
          "Collins",
          "Steven",
          "Wilson",
          "Jill",
          "Diwakar",
          "Farhat",
          "Adrian",
          "Noel",
          "Anisha",
          "Uudhav",
          "Glotzbach",
          "Akshat",
          "Cohen",
          "Adrian",
          "Komal",
          "Akshat",
          "Parna",
          "Sujay",
          "Barroso",
          "Jordon",
          "Vasudev",
          "Amol",
          "Shreyshi",
          "Rahul",
          "Anne",
          "Philip",
          "Scot",
          "Steele",
          "Wale",
          "Kotsonis",
          "Halladay",
          "Barchas",
          "Utsav",
          "Brooke",
          "Olson",
          "Chuck",
          "Chikku",
          "Suman",
          "Phonely",
          "Bzostek",
          "Mills",
          "Praneet",
          "Paul",
          "Lindsay",
          "Reiten",
          "Hooks",
          "Eugene",
          "Rutuja",
          "Parks",
          "Sperren",
          "Jason",
          "Dona",
          "Gaurav",
          "Chuck",
          "Marina",
          "Geld",
          "Ann",
          "Kristen",
          "Hazel",
          "Olson",
          "Bryan",
          "Vandana",
          "Lynn",
          "Dryer",
          "Oshin",
          "Karl",
          "Packer",
          "Yedwab",
          "Cathy",
          "Payne",
          "Bailliet",
          "Rashmi",
          "Snel",
          "Shrichand",
          "Donovan",
          "Dipali",
          "Deepak",
          "Tanvi",
          "Aastha",
          "Maxwell",
          "Erica",
          "Krishna",
          "Mane",
          "Rohit",
          "Moumita",
          "Byrd",
          "Heidel",
          "Shiva",
          "Yogesh",
          "Prost",
          "Sudevi",
          "Darren"
         ],
         "legendgroup": "M",
         "marker": {
          "color": {
           "bdata": "AgAAAAAAAAACAAAAAAAAAAEAAAAAAAAAAgAAAAMAAAAAAAAAAAAAAAMAAAAAAAAAAwAAAAMAAAABAAAAAQAAAAIAAAADAAAAAAAAAAEAAAAAAAAAAwAAAAMAAAABAAAAAgAAAAIAAAABAAAAAQAAAAMAAAADAAAAAAAAAAMAAAAAAAAAAAAAAAMAAAABAAAAAQAAAAAAAAABAAAAAgAAAAEAAAABAAAAAwAAAAAAAAAAAAAAAAAAAAMAAAACAAAAAAAAAAAAAAAAAAAAAgAAAAAAAAACAAAAAAAAAAAAAAACAAAAAwAAAAMAAAADAAAAAQAAAAMAAAAAAAAAAAAAAAAAAAAAAAAAAwAAAAAAAAACAAAAAgAAAAMAAAAAAAAAAAAAAAMAAAADAAAAAgAAAAMAAAADAAAAAQAAAAAAAAACAAAAAwAAAAIAAAADAAAAAgAAAAAAAAADAAAAAwAAAAMAAAACAAAAAQAAAAEAAAADAAAAAwAAAAIAAAABAAAAAQAAAAIAAAAAAAAAAAAAAAAAAAABAAAAAAAAAAAAAAAAAAAAAQAAAAAAAAADAAAAAQAAAAIAAAAAAAAAAwAAAAMAAAADAAAAAwAAAAAAAAAAAAAAAQAAAAIAAAABAAAAAAAAAAIAAAABAAAAAwAAAAEAAAACAAAAAgAAAAMAAAAAAAAAAwAAAAMAAAAAAAAAAwAAAAMAAAAAAAAAAwAAAAEAAAABAAAAAAAAAAAAAAAAAAAAAAAAAAAAAAACAAAAAwAAAAMAAAAAAAAAAQAAAAAAAAABAAAAAQAAAAAAAAAAAAAAAgAAAAMAAAADAAAAAQAAAAIAAAABAAAAAwAAAAIAAAADAAAAAQAAAAIAAAABAAAAAwAAAAMAAAADAAAAAwAAAAEAAAADAAAAAgAAAAAAAAAAAAAAAwAAAAIAAAAAAAAAAgAAAAIAAAACAAAAAQAAAAAAAAAAAAAAAQAAAAMAAAABAAAAAAAAAAAAAAACAAAAAAAAAAEAAAADAAAAAwAAAAAAAAADAAAAAQAAAAMAAAADAAAAAgAAAAAAAAABAAAAAAAAAAAAAAAAAAAAAQAAAAEAAAADAAAAAAAAAAAAAAAAAAAAAAAAAAAAAAADAAAAAQAAAAAAAAADAAAAAgAAAAMAAAABAAAAAQAAAAIAAAADAAAAAAAAAAAAAAABAAAAAQAAAAIAAAADAAAAAwAAAAEAAAACAAAAAQAAAAMAAAACAAAAAAAAAAMAAAABAAAAAAAAAAEAAAAAAAAAAwAAAAMAAAABAAAAAAAAAAAAAAADAAAAAwAAAAMAAAABAAAAAwAAAAIAAAAAAAAAAwAAAAAAAAAAAAAAAAAAAAEAAAADAAAAAgAAAAMAAAABAAAAAAAAAAEAAAADAAAAAQAAAAAAAAACAAAAAAAAAAIAAAAAAAAAAgAAAAAAAAABAAAAAgAAAAMAAAACAAAAAwAAAAIAAAAAAAAAAwAAAAMAAAAAAAAAAAAAAAMAAAAAAAAAAQAAAAIAAAAAAAAAAwAAAAEAAAACAAAAAAAAAAIAAAAAAAAAAAAAAAIAAAADAAAAAAAAAAIAAAACAAAAAQAAAAMAAAADAAAAAwAAAAAAAAADAAAAAgAAAAIAAAADAAAAAAAAAAAAAAACAAAAAAAAAAEAAAADAAAA",
           "dtype": "i4"
          },
          "coloraxis": "coloraxis",
          "symbol": "diamond"
         },
         "mode": "markers",
         "name": "M",
         "scene": "scene",
         "showlegend": true,
         "type": "scatter3d",
         "x": {
          "bdata": "0C0uGsAi7SGbPfUfZR8wIlgU6yZ5ERoP7xuRMxUuO0spFZAOPAcCPsEUsilcJwlBtBDZMFc/ej3pDnctRBXFJVIefRvXIZEuKjVKH/FadVFEUOxA1CEWJ+ULvg8UH5IOwy5XNTgHfCI/Gdgb0R8QGIQsNSXsFOMLKTy2H/wz2CyzF6YXwR5YEfYlejEUHxEcFjMcCCUXZUwBDLUiA1HOH4MfMiJnImwOvCEkG3MDqRQSG9gvfD7fToAbFAmwL/hOlECDF7IX6gLOGspMPiaCHwcb3D4OJ6obQzyoH2YfixR5LRIm7hvvFggb8D0eCzRKKwzELzky4BS5S+Me/zI0FdEPKhtGAuYWNBWSHvcbsRtAQfc9difhGhEfAA9VDuNaHRuqHzgnqzwBC/xMLUskKgwm7hRdGzQYMzzsLlVKKBgpE1Ytgk4pCzkyzgDAHx4bjA55Tt4K9hDoCO8qDSJwPL8inS+TG98hFD4bLfQWYTtbCDU/KB+lJsgLWCaUPN0LSQdQH/4mRlAVM8kH8iVCJXAv3w0YD18vdUzHWmYIRRejEDoQSwK3Db0hOkrvFHsb1R6pJuc8xD/yFHYmmCbRD+9MFUzHG74LqRdCQSlAeEu0H6gsmhTiGhwyNifRPg0uXSmSHmNCLCbNDXwiZCIzFFs/pR1OFLoOVy6CJgcJZx96TFMhXR/1IV8z/hQdPVYtTT1cCGUwjR4jL8YWij+fLX8xwh56IWYz0hSdJtwNJxU5JxsYXiDwF3QfNFHPLCYOlx/cPyAMIxg5DHEmOCA0Jpww4h7UB+4ohDtiF4AsxTKFG+8bAx9LMHwimCKrDuMtZQ1oXbUO",
          "dtype": "i2"
         },
         "y": {
          "bdata": "AgECAQMCAQMCAgMBBAQCAQMDAgMBAwMCAwMEAgQEAQMBAQQDBAEBAgIBAwECAQMDAQECAwEDAQIBAwQEBAQBAgEBBAICBAMCAQQEAgQDAgEDBAQDAgEDBAMBAQMDBAIEAQQCAQEBAQECAwIEAwMCAwQDAwIBAgICAgIDBAMCBAQCBAQCAwQCBAEDAgECAQEEBAQCBAEBAgEBAgMDAQMEBAQEBAMDAwQEBAQEBAICAwIBAwMCAgECAwMCAgICAQMDAwIEBAQEBAICAgIBAwQEAQECAgEEAgEDAwQBAwIEAQEBAgMEBAMDBAMCAgQCAQIBAwQBAgIDAwQEAwMCBAIBAgMEBAMDAQEEAgECAgMBAgECBAQCAwICBAQCAQQBBAQBBAEEAQMCAgEEAgQCBAQEBAEEAgMEAgICAQIE",
          "dtype": "i1"
         },
         "z": {
          "bdata": "MCsxEBIiRxMMFhwsEiAjJiwaJSwyJhorLj0gDhggDxocLx8iLB0UQhMgKRsOFR1LKRESNxM9Kx42DS8rGiclGjAbIxowNyApLDAuQyQXLCYtIFkhMh0dGiM0ExooIzkkMFQeHBM2IxkdLRQfFS4TJR4oDR4RHy8oHUsaKxMwLisgHyAhHSErHSMaHhoqFxJIDioTJScgGhIiMiAnLjcQHTEaJTQjJREuKyIeMRsdIE8dUzExKh8hJh0eKiQ3Fh4dKBskNhoUMRIrIxopFBAtKBsWFR0eFA0ZTisvLC0uGiQNNEseICg2IxNBIhwaHxYfIykkGiAoIxwyHjYcEx0gGhcYMhsoKBUgMzM3I1QRNiEUNiZNDTQaJCsfKhcYDzIsJyI0JUciJDErGjQsLBYWHCsYNUoYHSMwIBAW",
          "dtype": "i1"
         }
        }
       ],
       "layout": {
        "coloraxis": {
         "colorbar": {
          "title": {
           "text": "Cluster"
          }
         },
         "colorscale": [
          [
           0,
           "#0d0887"
          ],
          [
           0.1111111111111111,
           "#46039f"
          ],
          [
           0.2222222222222222,
           "#7201a8"
          ],
          [
           0.3333333333333333,
           "#9c179e"
          ],
          [
           0.4444444444444444,
           "#bd3786"
          ],
          [
           0.5555555555555556,
           "#d8576b"
          ],
          [
           0.6666666666666666,
           "#ed7953"
          ],
          [
           0.7777777777777778,
           "#fb9f3a"
          ],
          [
           0.8888888888888888,
           "#fdca26"
          ],
          [
           1,
           "#f0f921"
          ]
         ]
        },
        "height": 700,
        "legend": {
         "orientation": "h",
         "title": {
          "text": "Gender"
         },
         "tracegroupgap": 0,
         "x": 1,
         "xanchor": "right",
         "y": 1.02,
         "yanchor": "bottom"
        },
        "margin": {
         "b": 0,
         "l": 0,
         "r": 0,
         "t": 30
        },
        "scene": {
         "domain": {
          "x": [
           0,
           1
          ],
          "y": [
           0,
           1
          ]
         },
         "xaxis": {
          "title": {
           "text": "Spending (₹)"
          }
         },
         "yaxis": {
          "title": {
           "text": "Orders"
          }
         },
         "zaxis": {
          "title": {
           "text": "Age"
          }
         }
        },
        "template": {
         "data": {
          "bar": [
           {
            "error_x": {
             "color": "#2a3f5f"
            },
            "error_y": {
             "color": "#2a3f5f"
            },
            "marker": {
             "line": {
              "color": "#E5ECF6",
              "width": 0.5
             },
             "pattern": {
              "fillmode": "overlay",
              "size": 10,
              "solidity": 0.2
             }
            },
            "type": "bar"
           }
          ],
          "barpolar": [
           {
            "marker": {
             "line": {
              "color": "#E5ECF6",
              "width": 0.5
             },
             "pattern": {
              "fillmode": "overlay",
              "size": 10,
              "solidity": 0.2
             }
            },
            "type": "barpolar"
           }
          ],
          "carpet": [
           {
            "aaxis": {
             "endlinecolor": "#2a3f5f",
             "gridcolor": "white",
             "linecolor": "white",
             "minorgridcolor": "white",
             "startlinecolor": "#2a3f5f"
            },
            "baxis": {
             "endlinecolor": "#2a3f5f",
             "gridcolor": "white",
             "linecolor": "white",
             "minorgridcolor": "white",
             "startlinecolor": "#2a3f5f"
            },
            "type": "carpet"
           }
          ],
          "choropleth": [
           {
            "colorbar": {
             "outlinewidth": 0,
             "ticks": ""
            },
            "type": "choropleth"
           }
          ],
          "contour": [
           {
            "colorbar": {
             "outlinewidth": 0,
             "ticks": ""
            },
            "colorscale": [
             [
              0,
              "#0d0887"
             ],
             [
              0.1111111111111111,
              "#46039f"
             ],
             [
              0.2222222222222222,
              "#7201a8"
             ],
             [
              0.3333333333333333,
              "#9c179e"
             ],
             [
              0.4444444444444444,
              "#bd3786"
             ],
             [
              0.5555555555555556,
              "#d8576b"
             ],
             [
              0.6666666666666666,
              "#ed7953"
             ],
             [
              0.7777777777777778,
              "#fb9f3a"
             ],
             [
              0.8888888888888888,
              "#fdca26"
             ],
             [
              1,
              "#f0f921"
             ]
            ],
            "type": "contour"
           }
          ],
          "contourcarpet": [
           {
            "colorbar": {
             "outlinewidth": 0,
             "ticks": ""
            },
            "type": "contourcarpet"
           }
          ],
          "heatmap": [
           {
            "colorbar": {
             "outlinewidth": 0,
             "ticks": ""
            },
            "colorscale": [
             [
              0,
              "#0d0887"
             ],
             [
              0.1111111111111111,
              "#46039f"
             ],
             [
              0.2222222222222222,
              "#7201a8"
             ],
             [
              0.3333333333333333,
              "#9c179e"
             ],
             [
              0.4444444444444444,
              "#bd3786"
             ],
             [
              0.5555555555555556,
              "#d8576b"
             ],
             [
              0.6666666666666666,
              "#ed7953"
             ],
             [
              0.7777777777777778,
              "#fb9f3a"
             ],
             [
              0.8888888888888888,
              "#fdca26"
             ],
             [
              1,
              "#f0f921"
             ]
            ],
            "type": "heatmap"
           }
          ],
          "histogram": [
           {
            "marker": {
             "pattern": {
              "fillmode": "overlay",
              "size": 10,
              "solidity": 0.2
             }
            },
            "type": "histogram"
           }
          ],
          "histogram2d": [
           {
            "colorbar": {
             "outlinewidth": 0,
             "ticks": ""
            },
            "colorscale": [
             [
              0,
              "#0d0887"
             ],
             [
              0.1111111111111111,
              "#46039f"
             ],
             [
              0.2222222222222222,
              "#7201a8"
             ],
             [
              0.3333333333333333,
              "#9c179e"
             ],
             [
              0.4444444444444444,
              "#bd3786"
             ],
             [
              0.5555555555555556,
              "#d8576b"
             ],
             [
              0.6666666666666666,
              "#ed7953"
             ],
             [
              0.7777777777777778,
              "#fb9f3a"
             ],
             [
              0.8888888888888888,
              "#fdca26"
             ],
             [
              1,
              "#f0f921"
             ]
            ],
            "type": "histogram2d"
           }
          ],
          "histogram2dcontour": [
           {
            "colorbar": {
             "outlinewidth": 0,
             "ticks": ""
            },
            "colorscale": [
             [
              0,
              "#0d0887"
             ],
             [
              0.1111111111111111,
              "#46039f"
             ],
             [
              0.2222222222222222,
              "#7201a8"
             ],
             [
              0.3333333333333333,
              "#9c179e"
             ],
             [
              0.4444444444444444,
              "#bd3786"
             ],
             [
              0.5555555555555556,
              "#d8576b"
             ],
             [
              0.6666666666666666,
              "#ed7953"
             ],
             [
              0.7777777777777778,
              "#fb9f3a"
             ],
             [
              0.8888888888888888,
              "#fdca26"
             ],
             [
              1,
              "#f0f921"
             ]
            ],
            "type": "histogram2dcontour"
           }
          ],
          "mesh3d": [
           {
            "colorbar": {
             "outlinewidth": 0,
             "ticks": ""
            },
            "type": "mesh3d"
           }
          ],
          "parcoords": [
           {
            "line": {
             "colorbar": {
              "outlinewidth": 0,
              "ticks": ""
             }
            },
            "type": "parcoords"
           }
          ],
          "pie": [
           {
            "automargin": true,
            "type": "pie"
           }
          ],
          "scatter": [
           {
            "fillpattern": {
             "fillmode": "overlay",
             "size": 10,
             "solidity": 0.2
            },
            "type": "scatter"
           }
          ],
          "scatter3d": [
           {
            "line": {
             "colorbar": {
              "outlinewidth": 0,
              "ticks": ""
             }
            },
            "marker": {
             "colorbar": {
              "outlinewidth": 0,
              "ticks": ""
             }
            },
            "type": "scatter3d"
           }
          ],
          "scattercarpet": [
           {
            "marker": {
             "colorbar": {
              "outlinewidth": 0,
              "ticks": ""
             }
            },
            "type": "scattercarpet"
           }
          ],
          "scattergeo": [
           {
            "marker": {
             "colorbar": {
              "outlinewidth": 0,
              "ticks": ""
             }
            },
            "type": "scattergeo"
           }
          ],
          "scattergl": [
           {
            "marker": {
             "colorbar": {
              "outlinewidth": 0,
              "ticks": ""
             }
            },
            "type": "scattergl"
           }
          ],
          "scattermap": [
           {
            "marker": {
             "colorbar": {
              "outlinewidth": 0,
              "ticks": ""
             }
            },
            "type": "scattermap"
           }
          ],
          "scattermapbox": [
           {
            "marker": {
             "colorbar": {
              "outlinewidth": 0,
              "ticks": ""
             }
            },
            "type": "scattermapbox"
           }
          ],
          "scatterpolar": [
           {
            "marker": {
             "colorbar": {
              "outlinewidth": 0,
              "ticks": ""
             }
            },
            "type": "scatterpolar"
           }
          ],
          "scatterpolargl": [
           {
            "marker": {
             "colorbar": {
              "outlinewidth": 0,
              "ticks": ""
             }
            },
            "type": "scatterpolargl"
           }
          ],
          "scatterternary": [
           {
            "marker": {
             "colorbar": {
              "outlinewidth": 0,
              "ticks": ""
             }
            },
            "type": "scatterternary"
           }
          ],
          "surface": [
           {
            "colorbar": {
             "outlinewidth": 0,
             "ticks": ""
            },
            "colorscale": [
             [
              0,
              "#0d0887"
             ],
             [
              0.1111111111111111,
              "#46039f"
             ],
             [
              0.2222222222222222,
              "#7201a8"
             ],
             [
              0.3333333333333333,
              "#9c179e"
             ],
             [
              0.4444444444444444,
              "#bd3786"
             ],
             [
              0.5555555555555556,
              "#d8576b"
             ],
             [
              0.6666666666666666,
              "#ed7953"
             ],
             [
              0.7777777777777778,
              "#fb9f3a"
             ],
             [
              0.8888888888888888,
              "#fdca26"
             ],
             [
              1,
              "#f0f921"
             ]
            ],
            "type": "surface"
           }
          ],
          "table": [
           {
            "cells": {
             "fill": {
              "color": "#EBF0F8"
             },
             "line": {
              "color": "white"
             }
            },
            "header": {
             "fill": {
              "color": "#C8D4E3"
             },
             "line": {
              "color": "white"
             }
            },
            "type": "table"
           }
          ]
         },
         "layout": {
          "annotationdefaults": {
           "arrowcolor": "#2a3f5f",
           "arrowhead": 0,
           "arrowwidth": 1
          },
          "autotypenumbers": "strict",
          "coloraxis": {
           "colorbar": {
            "outlinewidth": 0,
            "ticks": ""
           }
          },
          "colorscale": {
           "diverging": [
            [
             0,
             "#8e0152"
            ],
            [
             0.1,
             "#c51b7d"
            ],
            [
             0.2,
             "#de77ae"
            ],
            [
             0.3,
             "#f1b6da"
            ],
            [
             0.4,
             "#fde0ef"
            ],
            [
             0.5,
             "#f7f7f7"
            ],
            [
             0.6,
             "#e6f5d0"
            ],
            [
             0.7,
             "#b8e186"
            ],
            [
             0.8,
             "#7fbc41"
            ],
            [
             0.9,
             "#4d9221"
            ],
            [
             1,
             "#276419"
            ]
           ],
           "sequential": [
            [
             0,
             "#0d0887"
            ],
            [
             0.1111111111111111,
             "#46039f"
            ],
            [
             0.2222222222222222,
             "#7201a8"
            ],
            [
             0.3333333333333333,
             "#9c179e"
            ],
            [
             0.4444444444444444,
             "#bd3786"
            ],
            [
             0.5555555555555556,
             "#d8576b"
            ],
            [
             0.6666666666666666,
             "#ed7953"
            ],
            [
             0.7777777777777778,
             "#fb9f3a"
            ],
            [
             0.8888888888888888,
             "#fdca26"
            ],
            [
             1,
             "#f0f921"
            ]
           ],
           "sequentialminus": [
            [
             0,
             "#0d0887"
            ],
            [
             0.1111111111111111,
             "#46039f"
            ],
            [
             0.2222222222222222,
             "#7201a8"
            ],
            [
             0.3333333333333333,
             "#9c179e"
            ],
            [
             0.4444444444444444,
             "#bd3786"
            ],
            [
             0.5555555555555556,
             "#d8576b"
            ],
            [
             0.6666666666666666,
             "#ed7953"
            ],
            [
             0.7777777777777778,
             "#fb9f3a"
            ],
            [
             0.8888888888888888,
             "#fdca26"
            ],
            [
             1,
             "#f0f921"
            ]
           ]
          },
          "colorway": [
           "#636efa",
           "#EF553B",
           "#00cc96",
           "#ab63fa",
           "#FFA15A",
           "#19d3f3",
           "#FF6692",
           "#B6E880",
           "#FF97FF",
           "#FECB52"
          ],
          "font": {
           "color": "#2a3f5f"
          },
          "geo": {
           "bgcolor": "white",
           "lakecolor": "white",
           "landcolor": "#E5ECF6",
           "showlakes": true,
           "showland": true,
           "subunitcolor": "white"
          },
          "hoverlabel": {
           "align": "left"
          },
          "hovermode": "closest",
          "mapbox": {
           "style": "light"
          },
          "paper_bgcolor": "white",
          "plot_bgcolor": "#E5ECF6",
          "polar": {
           "angularaxis": {
            "gridcolor": "white",
            "linecolor": "white",
            "ticks": ""
           },
           "bgcolor": "#E5ECF6",
           "radialaxis": {
            "gridcolor": "white",
            "linecolor": "white",
            "ticks": ""
           }
          },
          "scene": {
           "xaxis": {
            "backgroundcolor": "#E5ECF6",
            "gridcolor": "white",
            "gridwidth": 2,
            "linecolor": "white",
            "showbackground": true,
            "ticks": "",
            "zerolinecolor": "white"
           },
           "yaxis": {
            "backgroundcolor": "#E5ECF6",
            "gridcolor": "white",
            "gridwidth": 2,
            "linecolor": "white",
            "showbackground": true,
            "ticks": "",
            "zerolinecolor": "white"
           },
           "zaxis": {
            "backgroundcolor": "#E5ECF6",
            "gridcolor": "white",
            "gridwidth": 2,
            "linecolor": "white",
            "showbackground": true,
            "ticks": "",
            "zerolinecolor": "white"
           }
          },
          "shapedefaults": {
           "line": {
            "color": "#2a3f5f"
           }
          },
          "ternary": {
           "aaxis": {
            "gridcolor": "white",
            "linecolor": "white",
            "ticks": ""
           },
           "baxis": {
            "gridcolor": "white",
            "linecolor": "white",
            "ticks": ""
           },
           "bgcolor": "#E5ECF6",
           "caxis": {
            "gridcolor": "white",
            "linecolor": "white",
            "ticks": ""
           }
          },
          "title": {
           "x": 0.05
          },
          "xaxis": {
           "automargin": true,
           "gridcolor": "white",
           "linecolor": "white",
           "ticks": "",
           "title": {
            "standoff": 15
           },
           "zerolinecolor": "white",
           "zerolinewidth": 2
          },
          "yaxis": {
           "automargin": true,
           "gridcolor": "white",
           "linecolor": "white",
           "ticks": "",
           "title": {
            "standoff": 15
           },
           "zerolinecolor": "white",
           "zerolinewidth": 2
          }
         }
        },
        "title": {
         "text": "Customer Segmentation: Spending vs Orders vs Age"
        }
       }
      }
     },
     "metadata": {},
     "output_type": "display_data"
    },
    {
     "name": "stdout",
     "output_type": "stream",
     "text": [
      "\n",
      "Cluster Summary:\n"
     ]
    },
    {
     "data": {
      "application/vnd.microsoft.datawrangler.viewer.v0+json": {
       "columns": [
        {
         "name": "Cluster",
         "rawType": "int32",
         "type": "integer"
        },
        {
         "name": "Amount",
         "rawType": "float64",
         "type": "float"
        },
        {
         "name": "Orders",
         "rawType": "float64",
         "type": "float"
        },
        {
         "name": "Age",
         "rawType": "float64",
         "type": "float"
        },
        {
         "name": "Count",
         "rawType": "int64",
         "type": "integer"
        },
        {
         "name": "Premium_Pct",
         "rawType": "float64",
         "type": "float"
        }
       ],
       "ref": "47ebdc8f-1a17-4a2b-84c8-b6d4a51f6c3c",
       "rows": [
        [
         "0",
         "6853.72598788578",
         "1.4505336025382174",
         "30.788866455148543",
         "3467",
         "0.15258148254975484"
        ],
        [
         "1",
         "17021.450115118958",
         "2.4520337682271682",
         "33.762471220260935",
         "2606",
         "1.0"
        ],
        [
         "2",
         "8305.900637619554",
         "2.620616365568544",
         "55.42826780021254",
         "1882",
         "0.2821466524973433"
        ],
        [
         "3",
         "6850.687271619976",
         "3.541412911084044",
         "30.125152253349572",
         "3284",
         "0.14859926918392205"
        ]
       ],
       "shape": {
        "columns": 5,
        "rows": 4
       }
      },
      "text/html": [
       "<div>\n",
       "<style scoped>\n",
       "    .dataframe tbody tr th:only-of-type {\n",
       "        vertical-align: middle;\n",
       "    }\n",
       "\n",
       "    .dataframe tbody tr th {\n",
       "        vertical-align: top;\n",
       "    }\n",
       "\n",
       "    .dataframe thead th {\n",
       "        text-align: right;\n",
       "    }\n",
       "</style>\n",
       "<table border=\"1\" class=\"dataframe\">\n",
       "  <thead>\n",
       "    <tr style=\"text-align: right;\">\n",
       "      <th></th>\n",
       "      <th>Amount</th>\n",
       "      <th>Orders</th>\n",
       "      <th>Age</th>\n",
       "      <th>Count</th>\n",
       "      <th>Premium_Pct</th>\n",
       "    </tr>\n",
       "    <tr>\n",
       "      <th>Cluster</th>\n",
       "      <th></th>\n",
       "      <th></th>\n",
       "      <th></th>\n",
       "      <th></th>\n",
       "      <th></th>\n",
       "    </tr>\n",
       "  </thead>\n",
       "  <tbody>\n",
       "    <tr>\n",
       "      <th>0</th>\n",
       "      <td>6853.725988</td>\n",
       "      <td>1.450534</td>\n",
       "      <td>30.788866</td>\n",
       "      <td>3467</td>\n",
       "      <td>0.152581</td>\n",
       "    </tr>\n",
       "    <tr>\n",
       "      <th>1</th>\n",
       "      <td>17021.450115</td>\n",
       "      <td>2.452034</td>\n",
       "      <td>33.762471</td>\n",
       "      <td>2606</td>\n",
       "      <td>1.000000</td>\n",
       "    </tr>\n",
       "    <tr>\n",
       "      <th>2</th>\n",
       "      <td>8305.900638</td>\n",
       "      <td>2.620616</td>\n",
       "      <td>55.428268</td>\n",
       "      <td>1882</td>\n",
       "      <td>0.282147</td>\n",
       "    </tr>\n",
       "    <tr>\n",
       "      <th>3</th>\n",
       "      <td>6850.687272</td>\n",
       "      <td>3.541413</td>\n",
       "      <td>30.125152</td>\n",
       "      <td>3284</td>\n",
       "      <td>0.148599</td>\n",
       "    </tr>\n",
       "  </tbody>\n",
       "</table>\n",
       "</div>"
      ],
      "text/plain": [
       "               Amount    Orders        Age  Count  Premium_Pct\n",
       "Cluster                                                       \n",
       "0         6853.725988  1.450534  30.788866   3467     0.152581\n",
       "1        17021.450115  2.452034  33.762471   2606     1.000000\n",
       "2         8305.900638  2.620616  55.428268   1882     0.282147\n",
       "3         6850.687272  3.541413  30.125152   3284     0.148599"
      ]
     },
     "metadata": {},
     "output_type": "display_data"
    }
   ],
   "source": [
    "### Customer Segmentation Analysis\n",
    "# RFM Segment Analysis\n",
    "segment_analysis = df.groupby('Segment').agg(\n",
    "    Customers=('User_ID', 'nunique'),\n",
    "    Revenue=('Amount', 'sum'),\n",
    "    Avg_Recency=('Recency', 'mean'),\n",
    "    Avg_Frequency=('Frequency', 'mean'),\n",
    "    Avg_Monetary=('Monetary', 'mean')\n",
    ").reset_index().sort_values('Revenue', ascending=False)\n",
    "\n",
    "fig = px.treemap(\n",
    "    segment_analysis, \n",
    "    path=['Segment'], \n",
    "    values='Revenue',\n",
    "    color='Avg_Monetary', \n",
    "    color_continuous_scale='Blues',\n",
    "    title='Revenue Contribution by Customer Segment',\n",
    "    hover_data=['Customers', 'Avg_Recency', 'Avg_Frequency']\n",
    ")\n",
    "fig.update_layout(\n",
    "    margin=dict(t=50, l=25, r=25, b=25),\n",
    "    height=500\n",
    ")\n",
    "fig.show()\n",
    "\n",
    "# K-Means Clustering\n",
    "cluster_features = df[['Amount', 'Orders', 'Age']].dropna()\n",
    "scaler = StandardScaler()\n",
    "scaled_features = scaler.fit_transform(cluster_features)\n",
    "\n",
    "# Find optimal clusters using elbow method\n",
    "inertia = []\n",
    "max_clusters = min(10, len(cluster_features)-1)\n",
    "for k in range(1, max_clusters):\n",
    "    kmeans = KMeans(n_clusters=k, random_state=42, n_init=10)\n",
    "    kmeans.fit(scaled_features)\n",
    "    inertia.append(kmeans.inertia_)\n",
    "\n",
    "fig = go.Figure(data=go.Scatter(x=list(range(1, max_clusters)), y=inertia, mode='lines+markers'))\n",
    "fig.update_layout(\n",
    "    title='Elbow Method for Optimal Cluster Number',\n",
    "    xaxis_title='Number of Clusters',\n",
    "    yaxis_title='Inertia',\n",
    "    template='plotly_white'\n",
    ")\n",
    "fig.show()\n",
    "\n",
    "# Apply K-Means\n",
    "optimal_clusters = 4\n",
    "kmeans = KMeans(n_clusters=optimal_clusters, random_state=42, n_init=10)\n",
    "df['Cluster'] = kmeans.fit_predict(scaled_features)\n",
    "\n",
    "# Visualize clusters (with sampling)\n",
    "sample_df = df.sample(min(1000, len(df)), random_state=42) if len(df) > 1000 else df\n",
    "\n",
    "fig = px.scatter_3d(\n",
    "    sample_df, \n",
    "    x='Amount', \n",
    "    y='Orders', \n",
    "    z='Age',\n",
    "    color='Cluster', \n",
    "    symbol='Gender',\n",
    "    hover_name='Cust_name',\n",
    "    title='Customer Segmentation: Spending vs Orders vs Age',\n",
    "    color_discrete_sequence=px.colors.qualitative.Pastel,\n",
    "    height=700\n",
    ")\n",
    "fig.update_layout(\n",
    "    scene=dict(\n",
    "        xaxis_title='Spending (₹)',\n",
    "        yaxis_title='Orders',\n",
    "        zaxis_title='Age'\n",
    "    ),\n",
    "    legend=dict(orientation=\"h\", yanchor=\"bottom\", y=1.02, xanchor=\"right\", x=1),\n",
    "    margin=dict(l=0, r=0, b=0, t=30)\n",
    ")\n",
    "fig.show()\n",
    "\n",
    "# Cluster analysis\n",
    "cluster_summary = df.groupby('Cluster').agg({\n",
    "    'Amount': 'mean',\n",
    "    'Orders': 'mean',\n",
    "    'Age': 'mean',\n",
    "    'User_ID': 'count',\n",
    "    'Premium_Customer': lambda x: (x == 'Yes').mean()\n",
    "}).rename(columns={'User_ID': 'Count', 'Premium_Customer': 'Premium_Pct'})\n",
    "\n",
    "print(\"\\nCluster Summary:\")\n",
    "display(cluster_summary)"
   ]
  },
  {
   "cell_type": "markdown",
   "id": "55f8a38c",
   "metadata": {},
   "source": [
    "Predictive Modeling"
   ]
  },
  {
   "cell_type": "code",
   "execution_count": 9,
   "id": "7e708d17",
   "metadata": {},
   "outputs": [
    {
     "name": "stdout",
     "output_type": "stream",
     "text": [
      "\n",
      "Predictive Model Performance:\n",
      "RMSE: 5214.92\n",
      "R² Score: 0.0009\n"
     ]
    },
    {
     "data": {
      "application/vnd.plotly.v1+json": {
       "config": {
        "plotlyServerURL": "https://plot.ly"
       },
       "data": [
        {
         "hovertemplate": "Importance=%{marker.color}<br>Feature=%{y}<extra></extra>",
         "legendgroup": "",
         "marker": {
          "color": {
           "bdata": "hYmkMPGE1z+QigSPdLjSP3Gq69601cQ/Peva5fA3uD/kW8yLFZ2qP2MGDV8OYp8/",
           "dtype": "f8"
          },
          "coloraxis": "coloraxis",
          "pattern": {
           "shape": ""
          }
         },
         "name": "",
         "orientation": "h",
         "showlegend": false,
         "textposition": "auto",
         "type": "bar",
         "x": {
          "bdata": "hYmkMPGE1z+QigSPdLjSP3Gq69601cQ/Peva5fA3uD/kW8yLFZ2qP2MGDV8OYp8/",
          "dtype": "f8"
         },
         "xaxis": "x",
         "y": [
          "Recency",
          "Age",
          "Frequency",
          "Orders",
          "Family_Size",
          "Married_1"
         ],
         "yaxis": "y"
        }
       ],
       "layout": {
        "barmode": "relative",
        "coloraxis": {
         "colorbar": {
          "title": {
           "text": "Importance"
          }
         },
         "colorscale": [
          [
           0,
           "rgb(247,251,255)"
          ],
          [
           0.125,
           "rgb(222,235,247)"
          ],
          [
           0.25,
           "rgb(198,219,239)"
          ],
          [
           0.375,
           "rgb(158,202,225)"
          ],
          [
           0.5,
           "rgb(107,174,214)"
          ],
          [
           0.625,
           "rgb(66,146,198)"
          ],
          [
           0.75,
           "rgb(33,113,181)"
          ],
          [
           0.875,
           "rgb(8,81,156)"
          ],
          [
           1,
           "rgb(8,48,107)"
          ]
         ]
        },
        "height": 500,
        "legend": {
         "tracegroupgap": 0
        },
        "showlegend": false,
        "template": {
         "data": {
          "bar": [
           {
            "error_x": {
             "color": "#2a3f5f"
            },
            "error_y": {
             "color": "#2a3f5f"
            },
            "marker": {
             "line": {
              "color": "#E5ECF6",
              "width": 0.5
             },
             "pattern": {
              "fillmode": "overlay",
              "size": 10,
              "solidity": 0.2
             }
            },
            "type": "bar"
           }
          ],
          "barpolar": [
           {
            "marker": {
             "line": {
              "color": "#E5ECF6",
              "width": 0.5
             },
             "pattern": {
              "fillmode": "overlay",
              "size": 10,
              "solidity": 0.2
             }
            },
            "type": "barpolar"
           }
          ],
          "carpet": [
           {
            "aaxis": {
             "endlinecolor": "#2a3f5f",
             "gridcolor": "white",
             "linecolor": "white",
             "minorgridcolor": "white",
             "startlinecolor": "#2a3f5f"
            },
            "baxis": {
             "endlinecolor": "#2a3f5f",
             "gridcolor": "white",
             "linecolor": "white",
             "minorgridcolor": "white",
             "startlinecolor": "#2a3f5f"
            },
            "type": "carpet"
           }
          ],
          "choropleth": [
           {
            "colorbar": {
             "outlinewidth": 0,
             "ticks": ""
            },
            "type": "choropleth"
           }
          ],
          "contour": [
           {
            "colorbar": {
             "outlinewidth": 0,
             "ticks": ""
            },
            "colorscale": [
             [
              0,
              "#0d0887"
             ],
             [
              0.1111111111111111,
              "#46039f"
             ],
             [
              0.2222222222222222,
              "#7201a8"
             ],
             [
              0.3333333333333333,
              "#9c179e"
             ],
             [
              0.4444444444444444,
              "#bd3786"
             ],
             [
              0.5555555555555556,
              "#d8576b"
             ],
             [
              0.6666666666666666,
              "#ed7953"
             ],
             [
              0.7777777777777778,
              "#fb9f3a"
             ],
             [
              0.8888888888888888,
              "#fdca26"
             ],
             [
              1,
              "#f0f921"
             ]
            ],
            "type": "contour"
           }
          ],
          "contourcarpet": [
           {
            "colorbar": {
             "outlinewidth": 0,
             "ticks": ""
            },
            "type": "contourcarpet"
           }
          ],
          "heatmap": [
           {
            "colorbar": {
             "outlinewidth": 0,
             "ticks": ""
            },
            "colorscale": [
             [
              0,
              "#0d0887"
             ],
             [
              0.1111111111111111,
              "#46039f"
             ],
             [
              0.2222222222222222,
              "#7201a8"
             ],
             [
              0.3333333333333333,
              "#9c179e"
             ],
             [
              0.4444444444444444,
              "#bd3786"
             ],
             [
              0.5555555555555556,
              "#d8576b"
             ],
             [
              0.6666666666666666,
              "#ed7953"
             ],
             [
              0.7777777777777778,
              "#fb9f3a"
             ],
             [
              0.8888888888888888,
              "#fdca26"
             ],
             [
              1,
              "#f0f921"
             ]
            ],
            "type": "heatmap"
           }
          ],
          "histogram": [
           {
            "marker": {
             "pattern": {
              "fillmode": "overlay",
              "size": 10,
              "solidity": 0.2
             }
            },
            "type": "histogram"
           }
          ],
          "histogram2d": [
           {
            "colorbar": {
             "outlinewidth": 0,
             "ticks": ""
            },
            "colorscale": [
             [
              0,
              "#0d0887"
             ],
             [
              0.1111111111111111,
              "#46039f"
             ],
             [
              0.2222222222222222,
              "#7201a8"
             ],
             [
              0.3333333333333333,
              "#9c179e"
             ],
             [
              0.4444444444444444,
              "#bd3786"
             ],
             [
              0.5555555555555556,
              "#d8576b"
             ],
             [
              0.6666666666666666,
              "#ed7953"
             ],
             [
              0.7777777777777778,
              "#fb9f3a"
             ],
             [
              0.8888888888888888,
              "#fdca26"
             ],
             [
              1,
              "#f0f921"
             ]
            ],
            "type": "histogram2d"
           }
          ],
          "histogram2dcontour": [
           {
            "colorbar": {
             "outlinewidth": 0,
             "ticks": ""
            },
            "colorscale": [
             [
              0,
              "#0d0887"
             ],
             [
              0.1111111111111111,
              "#46039f"
             ],
             [
              0.2222222222222222,
              "#7201a8"
             ],
             [
              0.3333333333333333,
              "#9c179e"
             ],
             [
              0.4444444444444444,
              "#bd3786"
             ],
             [
              0.5555555555555556,
              "#d8576b"
             ],
             [
              0.6666666666666666,
              "#ed7953"
             ],
             [
              0.7777777777777778,
              "#fb9f3a"
             ],
             [
              0.8888888888888888,
              "#fdca26"
             ],
             [
              1,
              "#f0f921"
             ]
            ],
            "type": "histogram2dcontour"
           }
          ],
          "mesh3d": [
           {
            "colorbar": {
             "outlinewidth": 0,
             "ticks": ""
            },
            "type": "mesh3d"
           }
          ],
          "parcoords": [
           {
            "line": {
             "colorbar": {
              "outlinewidth": 0,
              "ticks": ""
             }
            },
            "type": "parcoords"
           }
          ],
          "pie": [
           {
            "automargin": true,
            "type": "pie"
           }
          ],
          "scatter": [
           {
            "fillpattern": {
             "fillmode": "overlay",
             "size": 10,
             "solidity": 0.2
            },
            "type": "scatter"
           }
          ],
          "scatter3d": [
           {
            "line": {
             "colorbar": {
              "outlinewidth": 0,
              "ticks": ""
             }
            },
            "marker": {
             "colorbar": {
              "outlinewidth": 0,
              "ticks": ""
             }
            },
            "type": "scatter3d"
           }
          ],
          "scattercarpet": [
           {
            "marker": {
             "colorbar": {
              "outlinewidth": 0,
              "ticks": ""
             }
            },
            "type": "scattercarpet"
           }
          ],
          "scattergeo": [
           {
            "marker": {
             "colorbar": {
              "outlinewidth": 0,
              "ticks": ""
             }
            },
            "type": "scattergeo"
           }
          ],
          "scattergl": [
           {
            "marker": {
             "colorbar": {
              "outlinewidth": 0,
              "ticks": ""
             }
            },
            "type": "scattergl"
           }
          ],
          "scattermap": [
           {
            "marker": {
             "colorbar": {
              "outlinewidth": 0,
              "ticks": ""
             }
            },
            "type": "scattermap"
           }
          ],
          "scattermapbox": [
           {
            "marker": {
             "colorbar": {
              "outlinewidth": 0,
              "ticks": ""
             }
            },
            "type": "scattermapbox"
           }
          ],
          "scatterpolar": [
           {
            "marker": {
             "colorbar": {
              "outlinewidth": 0,
              "ticks": ""
             }
            },
            "type": "scatterpolar"
           }
          ],
          "scatterpolargl": [
           {
            "marker": {
             "colorbar": {
              "outlinewidth": 0,
              "ticks": ""
             }
            },
            "type": "scatterpolargl"
           }
          ],
          "scatterternary": [
           {
            "marker": {
             "colorbar": {
              "outlinewidth": 0,
              "ticks": ""
             }
            },
            "type": "scatterternary"
           }
          ],
          "surface": [
           {
            "colorbar": {
             "outlinewidth": 0,
             "ticks": ""
            },
            "colorscale": [
             [
              0,
              "#0d0887"
             ],
             [
              0.1111111111111111,
              "#46039f"
             ],
             [
              0.2222222222222222,
              "#7201a8"
             ],
             [
              0.3333333333333333,
              "#9c179e"
             ],
             [
              0.4444444444444444,
              "#bd3786"
             ],
             [
              0.5555555555555556,
              "#d8576b"
             ],
             [
              0.6666666666666666,
              "#ed7953"
             ],
             [
              0.7777777777777778,
              "#fb9f3a"
             ],
             [
              0.8888888888888888,
              "#fdca26"
             ],
             [
              1,
              "#f0f921"
             ]
            ],
            "type": "surface"
           }
          ],
          "table": [
           {
            "cells": {
             "fill": {
              "color": "#EBF0F8"
             },
             "line": {
              "color": "white"
             }
            },
            "header": {
             "fill": {
              "color": "#C8D4E3"
             },
             "line": {
              "color": "white"
             }
            },
            "type": "table"
           }
          ]
         },
         "layout": {
          "annotationdefaults": {
           "arrowcolor": "#2a3f5f",
           "arrowhead": 0,
           "arrowwidth": 1
          },
          "autotypenumbers": "strict",
          "coloraxis": {
           "colorbar": {
            "outlinewidth": 0,
            "ticks": ""
           }
          },
          "colorscale": {
           "diverging": [
            [
             0,
             "#8e0152"
            ],
            [
             0.1,
             "#c51b7d"
            ],
            [
             0.2,
             "#de77ae"
            ],
            [
             0.3,
             "#f1b6da"
            ],
            [
             0.4,
             "#fde0ef"
            ],
            [
             0.5,
             "#f7f7f7"
            ],
            [
             0.6,
             "#e6f5d0"
            ],
            [
             0.7,
             "#b8e186"
            ],
            [
             0.8,
             "#7fbc41"
            ],
            [
             0.9,
             "#4d9221"
            ],
            [
             1,
             "#276419"
            ]
           ],
           "sequential": [
            [
             0,
             "#0d0887"
            ],
            [
             0.1111111111111111,
             "#46039f"
            ],
            [
             0.2222222222222222,
             "#7201a8"
            ],
            [
             0.3333333333333333,
             "#9c179e"
            ],
            [
             0.4444444444444444,
             "#bd3786"
            ],
            [
             0.5555555555555556,
             "#d8576b"
            ],
            [
             0.6666666666666666,
             "#ed7953"
            ],
            [
             0.7777777777777778,
             "#fb9f3a"
            ],
            [
             0.8888888888888888,
             "#fdca26"
            ],
            [
             1,
             "#f0f921"
            ]
           ],
           "sequentialminus": [
            [
             0,
             "#0d0887"
            ],
            [
             0.1111111111111111,
             "#46039f"
            ],
            [
             0.2222222222222222,
             "#7201a8"
            ],
            [
             0.3333333333333333,
             "#9c179e"
            ],
            [
             0.4444444444444444,
             "#bd3786"
            ],
            [
             0.5555555555555556,
             "#d8576b"
            ],
            [
             0.6666666666666666,
             "#ed7953"
            ],
            [
             0.7777777777777778,
             "#fb9f3a"
            ],
            [
             0.8888888888888888,
             "#fdca26"
            ],
            [
             1,
             "#f0f921"
            ]
           ]
          },
          "colorway": [
           "#636efa",
           "#EF553B",
           "#00cc96",
           "#ab63fa",
           "#FFA15A",
           "#19d3f3",
           "#FF6692",
           "#B6E880",
           "#FF97FF",
           "#FECB52"
          ],
          "font": {
           "color": "#2a3f5f"
          },
          "geo": {
           "bgcolor": "white",
           "lakecolor": "white",
           "landcolor": "#E5ECF6",
           "showlakes": true,
           "showland": true,
           "subunitcolor": "white"
          },
          "hoverlabel": {
           "align": "left"
          },
          "hovermode": "closest",
          "mapbox": {
           "style": "light"
          },
          "paper_bgcolor": "white",
          "plot_bgcolor": "#E5ECF6",
          "polar": {
           "angularaxis": {
            "gridcolor": "white",
            "linecolor": "white",
            "ticks": ""
           },
           "bgcolor": "#E5ECF6",
           "radialaxis": {
            "gridcolor": "white",
            "linecolor": "white",
            "ticks": ""
           }
          },
          "scene": {
           "xaxis": {
            "backgroundcolor": "#E5ECF6",
            "gridcolor": "white",
            "gridwidth": 2,
            "linecolor": "white",
            "showbackground": true,
            "ticks": "",
            "zerolinecolor": "white"
           },
           "yaxis": {
            "backgroundcolor": "#E5ECF6",
            "gridcolor": "white",
            "gridwidth": 2,
            "linecolor": "white",
            "showbackground": true,
            "ticks": "",
            "zerolinecolor": "white"
           },
           "zaxis": {
            "backgroundcolor": "#E5ECF6",
            "gridcolor": "white",
            "gridwidth": 2,
            "linecolor": "white",
            "showbackground": true,
            "ticks": "",
            "zerolinecolor": "white"
           }
          },
          "shapedefaults": {
           "line": {
            "color": "#2a3f5f"
           }
          },
          "ternary": {
           "aaxis": {
            "gridcolor": "white",
            "linecolor": "white",
            "ticks": ""
           },
           "baxis": {
            "gridcolor": "white",
            "linecolor": "white",
            "ticks": ""
           },
           "bgcolor": "#E5ECF6",
           "caxis": {
            "gridcolor": "white",
            "linecolor": "white",
            "ticks": ""
           }
          },
          "title": {
           "x": 0.05
          },
          "xaxis": {
           "automargin": true,
           "gridcolor": "white",
           "linecolor": "white",
           "ticks": "",
           "title": {
            "standoff": 15
           },
           "zerolinecolor": "white",
           "zerolinewidth": 2
          },
          "yaxis": {
           "automargin": true,
           "gridcolor": "white",
           "linecolor": "white",
           "ticks": "",
           "title": {
            "standoff": 15
           },
           "zerolinecolor": "white",
           "zerolinewidth": 2
          }
         }
        },
        "title": {
         "text": "Feature Importance for Spending Prediction"
        },
        "xaxis": {
         "anchor": "y",
         "domain": [
          0,
          1
         ],
         "title": {
          "text": "Importance"
         }
        },
        "yaxis": {
         "anchor": "x",
         "categoryorder": "total ascending",
         "domain": [
          0,
          1
         ],
         "title": {
          "text": "Feature"
         }
        }
       }
      }
     },
     "metadata": {},
     "output_type": "display_data"
    },
    {
     "data": {
      "application/vnd.plotly.v1+json": {
       "config": {
        "plotlyServerURL": "https://plot.ly"
       },
       "data": [
        {
         "hovertemplate": "Actual Spending (₹)=%{x}<br>Predicted Spending (₹)=%{y}<extra></extra>",
         "legendgroup": "",
         "line": {
          "color": "#d62728",
          "width": 2
         },
         "marker": {
          "color": "#2ca02c",
          "opacity": 0.6,
          "symbol": "circle"
         },
         "mode": "markers",
         "name": "",
         "orientation": "v",
         "showlegend": false,
         "type": "scatter",
         "x": {
          "bdata": "EUDsLusmBT+KO/A7xC6QQSwONAxXUh4XLR/SH3g8Vh7cGlsquh87J+8WliG8D71BhhFdH24RugOVFAsbBQ7/FFkt0RohFV4uFDyrHtU9tEunLjY8Rkp3FEkf5izkApAP41pFKD88rA7HGzEJhSZOHxYoWR/OD0QfshdGDBUP6B6YLUxBvhAoH2YIfD44CU4QkzAoGMs0vx84ElEeHAgbDg9KSEBWHmgt5CEmPbQQ9yzcPnsi5yFmP5IsZyLRG8EemzQCDLUiERzjFvkLR1FhMewyMiKhH4sFDh+3DoYUfRsjIoQhchtCLvA9KB6jHv47IAz4If4HOztkH+4tDx9fDw40JBv0Fr8NKBFkQHs74ghaUAgVwyGYIglK8hvgL8pM4EBUJqwZ+0tjFJVPdiesDfMaKj8OJxJT4FEpFRcigB+yF7Qi+DAZQZEmZRciPUYUNBjiCrdN4h5qQI1BLCYRH2UfKTwUFa4iNRS5UIYUwhaMPXEmNE+jC9EPAj4xLs8sbA7wJi8PnS5BL+Q4KUrRHg==",
          "dtype": "i2"
         },
         "xaxis": "x",
         "y": {
          "bdata": "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",
          "dtype": "f8"
         },
         "yaxis": "y"
        },
        {
         "hovertemplate": "<b>OLS trendline</b><br>Predicted = 0.00677329 * Actual + 9301.8<br>R<sup>2</sup>=0.005262<br><br>Actual Spending (₹)=%{x}<br>Predicted Spending (₹)=%{y} <b>(trend)</b><extra></extra>",
         "legendgroup": "",
         "line": {
          "color": "#d62728",
          "width": 2
         },
         "marker": {
          "color": "#2ca02c",
          "opacity": 0.6,
          "symbol": "circle"
         },
         "mode": "lines",
         "name": "",
         "showlegend": false,
         "type": "scatter",
         "x": {
          "bdata": "5AK6A4sF/gccCGYI4ggxCTgJ4gqjC/kLAgwgDDQMRgysDb8NBQ4bDiwObA6sDrcOFQ8vD18PkA+8D84P0Q9OELQQvhAoEW4RhhE4EjUURhRjFHcUhhSGFJUU/xQIFRQVIRUpFcIW4xbvFvQWHhdlF7IXshcoGDQYrBnRGtwa8xoLGyQbcht9G8cb0RvyGxEcKB5RHlYeVh6jHqsewR7RHuIe6B4OHw8fER8oHy0fRB9JH04fWR9dH2QfZR+AH6Efuh+/H9IfhCGWIcMh5CHnIfghFyIjIjIiZyJ7IpgiriK0IrUiLCZUJnEmhSaRJusm8CYOJzsndicWKEUoWyqSLM8s5iz3LFktaC2YLe4tMS5CLl4unS6nLsQu7C5BL+AvkzD4MGEx7DIONJs0yzTkODs7ezuKO/A7/jsUPCk8Njw/PHg8Ij0mPYw91T3wPQI+fD7cPgU/Kj9mPxFASEBkQGpA4EAZQUxBjUGQQb1BCUoPSilKRkq0S/tLyky3TTRPlU9aULlQR1HgUVdSElPjWg==",
          "dtype": "i2"
         },
         "xaxis": "x",
         "y": {
          "bdata": "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",
          "dtype": "f8"
         },
         "yaxis": "y"
        }
       ],
       "layout": {
        "legend": {
         "tracegroupgap": 0
        },
        "showlegend": false,
        "template": {
         "data": {
          "bar": [
           {
            "error_x": {
             "color": "#2a3f5f"
            },
            "error_y": {
             "color": "#2a3f5f"
            },
            "marker": {
             "line": {
              "color": "#E5ECF6",
              "width": 0.5
             },
             "pattern": {
              "fillmode": "overlay",
              "size": 10,
              "solidity": 0.2
             }
            },
            "type": "bar"
           }
          ],
          "barpolar": [
           {
            "marker": {
             "line": {
              "color": "#E5ECF6",
              "width": 0.5
             },
             "pattern": {
              "fillmode": "overlay",
              "size": 10,
              "solidity": 0.2
             }
            },
            "type": "barpolar"
           }
          ],
          "carpet": [
           {
            "aaxis": {
             "endlinecolor": "#2a3f5f",
             "gridcolor": "white",
             "linecolor": "white",
             "minorgridcolor": "white",
             "startlinecolor": "#2a3f5f"
            },
            "baxis": {
             "endlinecolor": "#2a3f5f",
             "gridcolor": "white",
             "linecolor": "white",
             "minorgridcolor": "white",
             "startlinecolor": "#2a3f5f"
            },
            "type": "carpet"
           }
          ],
          "choropleth": [
           {
            "colorbar": {
             "outlinewidth": 0,
             "ticks": ""
            },
            "type": "choropleth"
           }
          ],
          "contour": [
           {
            "colorbar": {
             "outlinewidth": 0,
             "ticks": ""
            },
            "colorscale": [
             [
              0,
              "#0d0887"
             ],
             [
              0.1111111111111111,
              "#46039f"
             ],
             [
              0.2222222222222222,
              "#7201a8"
             ],
             [
              0.3333333333333333,
              "#9c179e"
             ],
             [
              0.4444444444444444,
              "#bd3786"
             ],
             [
              0.5555555555555556,
              "#d8576b"
             ],
             [
              0.6666666666666666,
              "#ed7953"
             ],
             [
              0.7777777777777778,
              "#fb9f3a"
             ],
             [
              0.8888888888888888,
              "#fdca26"
             ],
             [
              1,
              "#f0f921"
             ]
            ],
            "type": "contour"
           }
          ],
          "contourcarpet": [
           {
            "colorbar": {
             "outlinewidth": 0,
             "ticks": ""
            },
            "type": "contourcarpet"
           }
          ],
          "heatmap": [
           {
            "colorbar": {
             "outlinewidth": 0,
             "ticks": ""
            },
            "colorscale": [
             [
              0,
              "#0d0887"
             ],
             [
              0.1111111111111111,
              "#46039f"
             ],
             [
              0.2222222222222222,
              "#7201a8"
             ],
             [
              0.3333333333333333,
              "#9c179e"
             ],
             [
              0.4444444444444444,
              "#bd3786"
             ],
             [
              0.5555555555555556,
              "#d8576b"
             ],
             [
              0.6666666666666666,
              "#ed7953"
             ],
             [
              0.7777777777777778,
              "#fb9f3a"
             ],
             [
              0.8888888888888888,
              "#fdca26"
             ],
             [
              1,
              "#f0f921"
             ]
            ],
            "type": "heatmap"
           }
          ],
          "histogram": [
           {
            "marker": {
             "pattern": {
              "fillmode": "overlay",
              "size": 10,
              "solidity": 0.2
             }
            },
            "type": "histogram"
           }
          ],
          "histogram2d": [
           {
            "colorbar": {
             "outlinewidth": 0,
             "ticks": ""
            },
            "colorscale": [
             [
              0,
              "#0d0887"
             ],
             [
              0.1111111111111111,
              "#46039f"
             ],
             [
              0.2222222222222222,
              "#7201a8"
             ],
             [
              0.3333333333333333,
              "#9c179e"
             ],
             [
              0.4444444444444444,
              "#bd3786"
             ],
             [
              0.5555555555555556,
              "#d8576b"
             ],
             [
              0.6666666666666666,
              "#ed7953"
             ],
             [
              0.7777777777777778,
              "#fb9f3a"
             ],
             [
              0.8888888888888888,
              "#fdca26"
             ],
             [
              1,
              "#f0f921"
             ]
            ],
            "type": "histogram2d"
           }
          ],
          "histogram2dcontour": [
           {
            "colorbar": {
             "outlinewidth": 0,
             "ticks": ""
            },
            "colorscale": [
             [
              0,
              "#0d0887"
             ],
             [
              0.1111111111111111,
              "#46039f"
             ],
             [
              0.2222222222222222,
              "#7201a8"
             ],
             [
              0.3333333333333333,
              "#9c179e"
             ],
             [
              0.4444444444444444,
              "#bd3786"
             ],
             [
              0.5555555555555556,
              "#d8576b"
             ],
             [
              0.6666666666666666,
              "#ed7953"
             ],
             [
              0.7777777777777778,
              "#fb9f3a"
             ],
             [
              0.8888888888888888,
              "#fdca26"
             ],
             [
              1,
              "#f0f921"
             ]
            ],
            "type": "histogram2dcontour"
           }
          ],
          "mesh3d": [
           {
            "colorbar": {
             "outlinewidth": 0,
             "ticks": ""
            },
            "type": "mesh3d"
           }
          ],
          "parcoords": [
           {
            "line": {
             "colorbar": {
              "outlinewidth": 0,
              "ticks": ""
             }
            },
            "type": "parcoords"
           }
          ],
          "pie": [
           {
            "automargin": true,
            "type": "pie"
           }
          ],
          "scatter": [
           {
            "fillpattern": {
             "fillmode": "overlay",
             "size": 10,
             "solidity": 0.2
            },
            "type": "scatter"
           }
          ],
          "scatter3d": [
           {
            "line": {
             "colorbar": {
              "outlinewidth": 0,
              "ticks": ""
             }
            },
            "marker": {
             "colorbar": {
              "outlinewidth": 0,
              "ticks": ""
             }
            },
            "type": "scatter3d"
           }
          ],
          "scattercarpet": [
           {
            "marker": {
             "colorbar": {
              "outlinewidth": 0,
              "ticks": ""
             }
            },
            "type": "scattercarpet"
           }
          ],
          "scattergeo": [
           {
            "marker": {
             "colorbar": {
              "outlinewidth": 0,
              "ticks": ""
             }
            },
            "type": "scattergeo"
           }
          ],
          "scattergl": [
           {
            "marker": {
             "colorbar": {
              "outlinewidth": 0,
              "ticks": ""
             }
            },
            "type": "scattergl"
           }
          ],
          "scattermap": [
           {
            "marker": {
             "colorbar": {
              "outlinewidth": 0,
              "ticks": ""
             }
            },
            "type": "scattermap"
           }
          ],
          "scattermapbox": [
           {
            "marker": {
             "colorbar": {
              "outlinewidth": 0,
              "ticks": ""
             }
            },
            "type": "scattermapbox"
           }
          ],
          "scatterpolar": [
           {
            "marker": {
             "colorbar": {
              "outlinewidth": 0,
              "ticks": ""
             }
            },
            "type": "scatterpolar"
           }
          ],
          "scatterpolargl": [
           {
            "marker": {
             "colorbar": {
              "outlinewidth": 0,
              "ticks": ""
             }
            },
            "type": "scatterpolargl"
           }
          ],
          "scatterternary": [
           {
            "marker": {
             "colorbar": {
              "outlinewidth": 0,
              "ticks": ""
             }
            },
            "type": "scatterternary"
           }
          ],
          "surface": [
           {
            "colorbar": {
             "outlinewidth": 0,
             "ticks": ""
            },
            "colorscale": [
             [
              0,
              "#0d0887"
             ],
             [
              0.1111111111111111,
              "#46039f"
             ],
             [
              0.2222222222222222,
              "#7201a8"
             ],
             [
              0.3333333333333333,
              "#9c179e"
             ],
             [
              0.4444444444444444,
              "#bd3786"
             ],
             [
              0.5555555555555556,
              "#d8576b"
             ],
             [
              0.6666666666666666,
              "#ed7953"
             ],
             [
              0.7777777777777778,
              "#fb9f3a"
             ],
             [
              0.8888888888888888,
              "#fdca26"
             ],
             [
              1,
              "#f0f921"
             ]
            ],
            "type": "surface"
           }
          ],
          "table": [
           {
            "cells": {
             "fill": {
              "color": "#EBF0F8"
             },
             "line": {
              "color": "white"
             }
            },
            "header": {
             "fill": {
              "color": "#C8D4E3"
             },
             "line": {
              "color": "white"
             }
            },
            "type": "table"
           }
          ]
         },
         "layout": {
          "annotationdefaults": {
           "arrowcolor": "#2a3f5f",
           "arrowhead": 0,
           "arrowwidth": 1
          },
          "autotypenumbers": "strict",
          "coloraxis": {
           "colorbar": {
            "outlinewidth": 0,
            "ticks": ""
           }
          },
          "colorscale": {
           "diverging": [
            [
             0,
             "#8e0152"
            ],
            [
             0.1,
             "#c51b7d"
            ],
            [
             0.2,
             "#de77ae"
            ],
            [
             0.3,
             "#f1b6da"
            ],
            [
             0.4,
             "#fde0ef"
            ],
            [
             0.5,
             "#f7f7f7"
            ],
            [
             0.6,
             "#e6f5d0"
            ],
            [
             0.7,
             "#b8e186"
            ],
            [
             0.8,
             "#7fbc41"
            ],
            [
             0.9,
             "#4d9221"
            ],
            [
             1,
             "#276419"
            ]
           ],
           "sequential": [
            [
             0,
             "#0d0887"
            ],
            [
             0.1111111111111111,
             "#46039f"
            ],
            [
             0.2222222222222222,
             "#7201a8"
            ],
            [
             0.3333333333333333,
             "#9c179e"
            ],
            [
             0.4444444444444444,
             "#bd3786"
            ],
            [
             0.5555555555555556,
             "#d8576b"
            ],
            [
             0.6666666666666666,
             "#ed7953"
            ],
            [
             0.7777777777777778,
             "#fb9f3a"
            ],
            [
             0.8888888888888888,
             "#fdca26"
            ],
            [
             1,
             "#f0f921"
            ]
           ],
           "sequentialminus": [
            [
             0,
             "#0d0887"
            ],
            [
             0.1111111111111111,
             "#46039f"
            ],
            [
             0.2222222222222222,
             "#7201a8"
            ],
            [
             0.3333333333333333,
             "#9c179e"
            ],
            [
             0.4444444444444444,
             "#bd3786"
            ],
            [
             0.5555555555555556,
             "#d8576b"
            ],
            [
             0.6666666666666666,
             "#ed7953"
            ],
            [
             0.7777777777777778,
             "#fb9f3a"
            ],
            [
             0.8888888888888888,
             "#fdca26"
            ],
            [
             1,
             "#f0f921"
            ]
           ]
          },
          "colorway": [
           "#636efa",
           "#EF553B",
           "#00cc96",
           "#ab63fa",
           "#FFA15A",
           "#19d3f3",
           "#FF6692",
           "#B6E880",
           "#FF97FF",
           "#FECB52"
          ],
          "font": {
           "color": "#2a3f5f"
          },
          "geo": {
           "bgcolor": "white",
           "lakecolor": "white",
           "landcolor": "#E5ECF6",
           "showlakes": true,
           "showland": true,
           "subunitcolor": "white"
          },
          "hoverlabel": {
           "align": "left"
          },
          "hovermode": "closest",
          "mapbox": {
           "style": "light"
          },
          "paper_bgcolor": "white",
          "plot_bgcolor": "#E5ECF6",
          "polar": {
           "angularaxis": {
            "gridcolor": "white",
            "linecolor": "white",
            "ticks": ""
           },
           "bgcolor": "#E5ECF6",
           "radialaxis": {
            "gridcolor": "white",
            "linecolor": "white",
            "ticks": ""
           }
          },
          "scene": {
           "xaxis": {
            "backgroundcolor": "#E5ECF6",
            "gridcolor": "white",
            "gridwidth": 2,
            "linecolor": "white",
            "showbackground": true,
            "ticks": "",
            "zerolinecolor": "white"
           },
           "yaxis": {
            "backgroundcolor": "#E5ECF6",
            "gridcolor": "white",
            "gridwidth": 2,
            "linecolor": "white",
            "showbackground": true,
            "ticks": "",
            "zerolinecolor": "white"
           },
           "zaxis": {
            "backgroundcolor": "#E5ECF6",
            "gridcolor": "white",
            "gridwidth": 2,
            "linecolor": "white",
            "showbackground": true,
            "ticks": "",
            "zerolinecolor": "white"
           }
          },
          "shapedefaults": {
           "line": {
            "color": "#2a3f5f"
           }
          },
          "ternary": {
           "aaxis": {
            "gridcolor": "white",
            "linecolor": "white",
            "ticks": ""
           },
           "baxis": {
            "gridcolor": "white",
            "linecolor": "white",
            "ticks": ""
           },
           "bgcolor": "#E5ECF6",
           "caxis": {
            "gridcolor": "white",
            "linecolor": "white",
            "ticks": ""
           }
          },
          "title": {
           "x": 0.05
          },
          "xaxis": {
           "automargin": true,
           "gridcolor": "white",
           "linecolor": "white",
           "ticks": "",
           "title": {
            "standoff": 15
           },
           "zerolinecolor": "white",
           "zerolinewidth": 2
          },
          "yaxis": {
           "automargin": true,
           "gridcolor": "white",
           "linecolor": "white",
           "ticks": "",
           "title": {
            "standoff": 15
           },
           "zerolinecolor": "white",
           "zerolinewidth": 2
          }
         }
        },
        "title": {
         "text": "Actual vs Predicted Spending"
        },
        "xaxis": {
         "anchor": "y",
         "domain": [
          0,
          1
         ],
         "title": {
          "text": "Actual Spending (₹)"
         }
        },
        "yaxis": {
         "anchor": "x",
         "domain": [
          0,
          1
         ],
         "title": {
          "text": "Predicted Spending (₹)"
         }
        }
       }
      }
     },
     "metadata": {},
     "output_type": "display_data"
    }
   ],
   "source": [
    "### Predictive Modeling\n",
    "# Prepare data for modeling\n",
    "X = df[['Age', 'Married', 'Orders', 'Family_Size', 'Recency', 'Frequency']].copy()\n",
    "y = df['Amount']\n",
    "\n",
    "# Encode categorical variables\n",
    "X = pd.get_dummies(X, columns=['Married'], drop_first=True)\n",
    "\n",
    "# Train-test split\n",
    "X_train, X_test, y_train, y_test = train_test_split(X, y, test_size=0.2, random_state=42)\n",
    "\n",
    "# Model training\n",
    "model = RandomForestRegressor(n_estimators=200, random_state=42, max_depth=8, n_jobs=-1)\n",
    "model.fit(X_train, y_train)\n",
    "\n",
    "# Model evaluation\n",
    "y_pred = model.predict(X_test)\n",
    "rmse = np.sqrt(mean_squared_error(y_test, y_pred))\n",
    "r2 = r2_score(y_test, y_pred)\n",
    "\n",
    "print(f\"\\nPredictive Model Performance:\")\n",
    "print(f\"RMSE: {rmse:.2f}\")\n",
    "print(f\"R² Score: {r2:.4f}\")\n",
    "\n",
    "# Feature importance\n",
    "importance = pd.DataFrame({\n",
    "    'Feature': X.columns,\n",
    "    'Importance': model.feature_importances_\n",
    "}).sort_values('Importance', ascending=False)\n",
    "\n",
    "fig = px.bar(\n",
    "    importance, \n",
    "    x='Importance', \n",
    "    y='Feature', \n",
    "    orientation='h',\n",
    "    title='Feature Importance for Spending Prediction',\n",
    "    color='Importance', \n",
    "    color_continuous_scale='Blues'\n",
    ")\n",
    "fig.update_layout(\n",
    "    yaxis={'categoryorder':'total ascending'}, \n",
    "    height=500,\n",
    "    showlegend=False\n",
    ")\n",
    "fig.show()\n",
    "\n",
    "# Actual vs Predicted plot\n",
    "results = pd.DataFrame({\n",
    "    'Actual': y_test,\n",
    "    'Predicted': y_pred\n",
    "}).sample(min(200, len(y_test)), random_state=42)\n",
    "\n",
    "fig = px.scatter(\n",
    "    results, \n",
    "    x='Actual', \n",
    "    y='Predicted', \n",
    "    trendline='ols', \n",
    "    title='Actual vs Predicted Spending',\n",
    "    labels={'Actual': 'Actual Spending (₹)', 'Predicted': 'Predicted Spending (₹)'}\n",
    ")\n",
    "fig.update_traces(\n",
    "    marker=dict(color='#2ca02c', opacity=0.6),\n",
    "    line=dict(color='#d62728', width=2)\n",
    ")\n",
    "fig.update_layout(showlegend=False)\n",
    "fig.show()"
   ]
  },
  {
   "cell_type": "markdown",
   "id": "089a3d3f",
   "metadata": {},
   "source": [
    "Interactive Dashboard"
   ]
  },
  {
   "cell_type": "code",
   "execution_count": 10,
   "id": "d617c818",
   "metadata": {},
   "outputs": [
    {
     "data": {
      "application/vnd.plotly.v1+json": {
       "config": {
        "plotlyServerURL": "https://plot.ly"
       },
       "data": [
        {
         "domain": {
          "column": 0,
          "row": 0,
          "x": [
           0,
           0.27999999999999997
          ],
          "y": [
           0.874,
           1
          ]
         },
         "mode": "number",
         "number": {
          "font": {
           "size": 28
          },
          "prefix": "₹",
          "suffix": "M"
         },
         "title": {
          "font": {
           "size": 14
          },
          "text": "TOTAL REVENUE"
         },
         "type": "indicator",
         "value": 106.249129
        },
        {
         "domain": {
          "column": 1,
          "row": 0,
          "x": [
           0.36,
           0.6399999999999999
          ],
          "y": [
           0.874,
           1
          ]
         },
         "mode": "number",
         "number": {
          "font": {
           "size": 28
          },
          "valueformat": ","
         },
         "title": {
          "font": {
           "size": 14
          },
          "text": "TOTAL CUSTOMERS"
         },
         "type": "indicator",
         "value": 3752
        },
        {
         "domain": {
          "column": 2,
          "row": 0,
          "x": [
           0.72,
           1
          ],
          "y": [
           0.874,
           1
          ]
         },
         "mode": "number",
         "number": {
          "font": {
           "size": 28
          },
          "prefix": "₹",
          "valueformat": ",.0f"
         },
         "title": {
          "font": {
           "size": 14
          },
          "text": "AVG SPENDING"
         },
         "type": "indicator",
         "value": 9453.610552540262
        },
        {
         "marker": {
          "color": "#1e3f5a"
         },
         "orientation": "h",
         "text": [
          "₹17.4M",
          "₹11.1M",
          "₹9.7M",
          "₹7.7M",
          "₹7.1M"
         ],
         "textfont": {
          "color": "white",
          "size": 11
         },
         "textposition": "auto",
         "type": "bar",
         "x": {
          "bdata": "zfIJAQu2qADkt5MA+AF2APsKbQA=",
          "dtype": "i4"
         },
         "xaxis": "x",
         "y": [
          "424",
          "414",
          "314",
          "313",
          "Lost"
         ],
         "yaxis": "y"
        },
        {
         "domain": {
          "x": [
           0.72,
           1
          ],
          "y": [
           0.5,
           0.794
          ]
         },
         "hole": 0.7,
         "labels": [
          "F",
          "M"
         ],
         "marker": {
          "colors": [
           "#1e3f5a",
           "#ff7f0e"
          ]
         },
         "textfont": {
          "size": 12
         },
         "textinfo": "percent+label",
         "textposition": "inside",
         "type": "pie",
         "values": {
          "bdata": "mB5PDQ==",
          "dtype": "i2"
         }
        },
        {
         "hovertemplate": "%{text}",
         "marker": {
          "color": {
           "bdata": "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",
           "dtype": "i4"
          },
          "colorbar": {
           "len": 0.6,
           "thickness": 15,
           "title": {
            "text": "SPENDING (₹)"
           },
           "y": 0.5,
           "yanchor": "middle"
          },
          "colorscale": [
           [
            0,
            "rgb(0,0,255)"
           ],
           [
            1,
            "rgb(255,0,0)"
           ]
          ],
          "line": {
           "color": "darkgray",
           "width": 0.5
          },
          "opacity": 0.8,
          "showscale": true,
          "size": {
           "bdata": "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",
           "dtype": "f8"
          }
         },
         "mode": "markers",
         "name": "",
         "text": [
          "Segment: 414<br>Recency: 31 days<br>Frequency: 6<br>Spending: ₹50,315",
          "Segment: 313<br>Recency: 57 days<br>Frequency: 2<br>Spending: ₹24,742",
          "Segment: 213<br>Recency: 167 days<br>Frequency: 2<br>Spending: ₹21,857",
          "Segment: 324<br>Recency: 46 days<br>Frequency: 7<br>Spending: ₹58,150",
          "Segment: 412<br>Recency: 34 days<br>Frequency: 1<br>Spending: ₹12,035",
          "Segment: Hibernating<br>Recency: 146 days<br>Frequency: 2<br>Spending: ₹16,959",
          "Segment: 424<br>Recency: 2 days<br>Frequency: 10<br>Spending: ₹106,399",
          "Segment: 113<br>Recency: 303 days<br>Frequency: 1<br>Spending: ₹20,454",
          "Segment: 314<br>Recency: 66 days<br>Frequency: 6<br>Spending: ₹44,997",
          "Segment: 312<br>Recency: 83 days<br>Frequency: 3<br>Spending: ₹17,804",
          "Segment: 412<br>Recency: 30 days<br>Frequency: 2<br>Spending: ₹12,267",
          "Segment: Hibernating<br>Recency: 131 days<br>Frequency: 2<br>Spending: ₹9,140",
          "Segment: Lost<br>Recency: 309 days<br>Frequency: 1<br>Spending: ₹12,834",
          "Segment: At Risk<br>Recency: 76 days<br>Frequency: 1<br>Spending: ₹1,773",
          "Segment: Lost<br>Recency: 242 days<br>Frequency: 1<br>Spending: ₹8,045",
          "Segment: Lost<br>Recency: 337 days<br>Frequency: 1<br>Spending: ₹3,659",
          "Segment: Hibernating<br>Recency: 165 days<br>Frequency: 1<br>Spending: ₹7,795",
          "Segment: At Risk<br>Recency: 57 days<br>Frequency: 1<br>Spending: ₹5,182",
          "Segment: 412<br>Recency: 24 days<br>Frequency: 2<br>Spending: ₹18,248",
          "Segment: 413<br>Recency: 23 days<br>Frequency: 2<br>Spending: ₹24,511",
          "Segment: Hibernating<br>Recency: 187 days<br>Frequency: 1<br>Spending: ₹5,858",
          "Segment: 113<br>Recency: 222 days<br>Frequency: 1<br>Spending: ₹19,609",
          "Segment: 414<br>Recency: 9 days<br>Frequency: 4<br>Spending: ₹42,154",
          "Segment: 424<br>Recency: 13 days<br>Frequency: 7<br>Spending: ₹62,724",
          "Segment: 414<br>Recency: 19 days<br>Frequency: 4<br>Spending: ₹40,649",
          "Segment: 213<br>Recency: 169 days<br>Frequency: 2<br>Spending: ₹20,059",
          "Segment: 312<br>Recency: 86 days<br>Frequency: 1<br>Spending: ₹16,444",
          "Segment: 213<br>Recency: 101 days<br>Frequency: 3<br>Spending: ₹28,573",
          "Segment: 213<br>Recency: 136 days<br>Frequency: 5<br>Spending: ₹35,841",
          "Segment: Lost<br>Recency: 209 days<br>Frequency: 1<br>Spending: ₹5,286",
          "Segment: Lost<br>Recency: 260 days<br>Frequency: 1<br>Spending: ₹9,768",
          "Segment: 213<br>Recency: 151 days<br>Frequency: 2<br>Spending: ₹20,505",
          "Segment: 424<br>Recency: 30 days<br>Frequency: 9<br>Spending: ₹90,355",
          "Segment: Lost<br>Recency: 205 days<br>Frequency: 1<br>Spending: ₹8,134",
          "Segment: 312<br>Recency: 56 days<br>Frequency: 1<br>Spending: ₹12,459",
          "Segment: 414<br>Recency: 16 days<br>Frequency: 6<br>Spending: ₹51,152",
          "Segment: Hibernating<br>Recency: 108 days<br>Frequency: 1<br>Spending: ₹11,439",
          "Segment: At Risk<br>Recency: 90 days<br>Frequency: 1<br>Spending: ₹8,838",
          "Segment: Lost<br>Recency: 230 days<br>Frequency: 3<br>Spending: ₹11,860",
          "Segment: Hibernating<br>Recency: 140 days<br>Frequency: 2<br>Spending: ₹14,041",
          "Segment: 312<br>Recency: 62 days<br>Frequency: 1<br>Spending: ₹19,292",
          "Segment: 412<br>Recency: 19 days<br>Frequency: 2<br>Spending: ₹16,657",
          "Segment: Lost<br>Recency: 265 days<br>Frequency: 1<br>Spending: ₹6,923",
          "Segment: Lost<br>Recency: 218 days<br>Frequency: 1<br>Spending: ₹6,666",
          "Segment: 413<br>Recency: 0 days<br>Frequency: 3<br>Spending: ₹36,295",
          "Segment: 312<br>Recency: 71 days<br>Frequency: 2<br>Spending: ₹10,147",
          "Segment: 412<br>Recency: 19 days<br>Frequency: 2<br>Spending: ₹17,658",
          "Segment: 113<br>Recency: 225 days<br>Frequency: 2<br>Spending: ₹27,112",
          "Segment: At Risk<br>Recency: 83 days<br>Frequency: 1<br>Spending: ₹3,692",
          "Segment: Lost<br>Recency: 292 days<br>Frequency: 1<br>Spending: ₹3,848",
          "Segment: Hibernating<br>Recency: 136 days<br>Frequency: 2<br>Spending: ₹11,042",
          "Segment: Lost<br>Recency: 203 days<br>Frequency: 1<br>Spending: ₹4,033",
          "Segment: 313<br>Recency: 63 days<br>Frequency: 2<br>Spending: ₹23,387",
          "Segment: Hibernating<br>Recency: 147 days<br>Frequency: 1<br>Spending: ₹8,104",
          "Segment: 314<br>Recency: 73 days<br>Frequency: 4<br>Spending: ₹50,093",
          "Segment: 213<br>Recency: 145 days<br>Frequency: 2<br>Spending: ₹21,442",
          "Segment: 413<br>Recency: 8 days<br>Frequency: 2<br>Spending: ₹25,450",
          "Segment: Lost<br>Recency: 236 days<br>Frequency: 1<br>Spending: ₹7,860",
          "Segment: 313<br>Recency: 78 days<br>Frequency: 3<br>Spending: ₹25,803",
          "Segment: 413<br>Recency: 16 days<br>Frequency: 3<br>Spending: ₹30,585",
          "Segment: Lost<br>Recency: 223 days<br>Frequency: 1<br>Spending: ₹19,297",
          "Segment: Hibernating<br>Recency: 95 days<br>Frequency: 2<br>Spending: ₹16,918",
          "Segment: 413<br>Recency: 14 days<br>Frequency: 3<br>Spending: ₹34,651",
          "Segment: 424<br>Recency: 24 days<br>Frequency: 10<br>Spending: ₹108,236",
          "Segment: Lost<br>Recency: 277 days<br>Frequency: 2<br>Spending: ₹15,025",
          "Segment: 413<br>Recency: 13 days<br>Frequency: 2<br>Spending: ₹23,086",
          "Segment: 313<br>Recency: 85 days<br>Frequency: 2<br>Spending: ₹25,694",
          "Segment: 414<br>Recency: 28 days<br>Frequency: 4<br>Spending: ₹50,398",
          "Segment: Lost<br>Recency: 242 days<br>Frequency: 1<br>Spending: ₹3,562",
          "Segment: Lost<br>Recency: 271 days<br>Frequency: 1<br>Spending: ₹1,848",
          "Segment: 313<br>Recency: 75 days<br>Frequency: 2<br>Spending: ₹26,443",
          "Segment: 214<br>Recency: 166 days<br>Frequency: 5<br>Spending: ₹64,359",
          "Segment: Lost<br>Recency: 209 days<br>Frequency: 2<br>Spending: ₹15,266",
          "Segment: 414<br>Recency: 7 days<br>Frequency: 5<br>Spending: ₹39,310",
          "Segment: 213<br>Recency: 114 days<br>Frequency: 4<br>Spending: ₹32,305",
          "Segment: 314<br>Recency: 91 days<br>Frequency: 3<br>Spending: ₹39,029",
          "Segment: At Risk<br>Recency: 58 days<br>Frequency: 1<br>Spending: ₹2,309",
          "Segment: 314<br>Recency: 56 days<br>Frequency: 4<br>Spending: ₹52,848",
          "Segment: 414<br>Recency: 32 days<br>Frequency: 6<br>Spending: ₹47,210",
          "Segment: 214<br>Recency: 132 days<br>Frequency: 4<br>Spending: ₹71,410",
          "Segment: 413<br>Recency: 25 days<br>Frequency: 3<br>Spending: ₹34,892",
          "Segment: Lost<br>Recency: 328 days<br>Frequency: 1<br>Spending: ₹7,010",
          "Segment: Lost<br>Recency: 273 days<br>Frequency: 1<br>Spending: ₹6,154",
          "Segment: 413<br>Recency: 29 days<br>Frequency: 5<br>Spending: ₹28,268",
          "Segment: 113<br>Recency: 281 days<br>Frequency: 2<br>Spending: ₹25,224",
          "Segment: 424<br>Recency: 23 days<br>Frequency: 8<br>Spending: ₹74,085",
          "Segment: 414<br>Recency: 5 days<br>Frequency: 5<br>Spending: ₹44,015",
          "Segment: Lost<br>Recency: 332 days<br>Frequency: 1<br>Spending: ₹5,173",
          "Segment: At Risk<br>Recency: 48 days<br>Frequency: 2<br>Spending: ₹6,413",
          "Segment: Hibernating<br>Recency: 133 days<br>Frequency: 1<br>Spending: ₹7,945",
          "Segment: 312<br>Recency: 62 days<br>Frequency: 1<br>Spending: ₹16,636",
          "Segment: 413<br>Recency: 20 days<br>Frequency: 4<br>Spending: ₹23,356",
          "Segment: Hibernating<br>Recency: 187 days<br>Frequency: 1<br>Spending: ₹11,584",
          "Segment: Loyal<br>Recency: 1 days<br>Frequency: 14<br>Spending: ₹143,930",
          "Segment: 412<br>Recency: 12 days<br>Frequency: 2<br>Spending: ₹18,508",
          "Segment: Lost<br>Recency: 349 days<br>Frequency: 1<br>Spending: ₹6,135",
          "Segment: 113<br>Recency: 226 days<br>Frequency: 2<br>Spending: ₹32,053",
          "Segment: 214<br>Recency: 128 days<br>Frequency: 3<br>Spending: ₹40,236",
          "Segment: 413<br>Recency: 28 days<br>Frequency: 4<br>Spending: ₹24,535",
          "Segment: Lost<br>Recency: 188 days<br>Frequency: 2<br>Spending: ₹4,713",
          "Segment: 214<br>Recency: 167 days<br>Frequency: 3<br>Spending: ₹36,562",
          "Segment: 312<br>Recency: 71 days<br>Frequency: 2<br>Spending: ₹11,515",
          "Segment: Hibernating<br>Recency: 112 days<br>Frequency: 1<br>Spending: ₹11,813",
          "Segment: 413<br>Recency: 38 days<br>Frequency: 2<br>Spending: ₹20,460",
          "Segment: 414<br>Recency: 7 days<br>Frequency: 5<br>Spending: ₹55,802",
          "Segment: 424<br>Recency: 37 days<br>Frequency: 7<br>Spending: ₹37,262",
          "Segment: 214<br>Recency: 144 days<br>Frequency: 3<br>Spending: ₹54,093",
          "Segment: At Risk<br>Recency: 10 days<br>Frequency: 1<br>Spending: ₹7,948",
          "Segment: 412<br>Recency: 36 days<br>Frequency: 1<br>Spending: ₹11,797",
          "Segment: 312<br>Recency: 91 days<br>Frequency: 1<br>Spending: ₹11,689",
          "Segment: 313<br>Recency: 47 days<br>Frequency: 1<br>Spending: ₹19,676",
          "Segment: Lost<br>Recency: 199 days<br>Frequency: 2<br>Spending: ₹18,085",
          "Segment: At Risk<br>Recency: 10 days<br>Frequency: 1<br>Spending: ₹7,003",
          "Segment: 314<br>Recency: 58 days<br>Frequency: 4<br>Spending: ₹54,714",
          "Segment: Hibernating<br>Recency: 126 days<br>Frequency: 2<br>Spending: ₹7,695",
          "Segment: 113<br>Recency: 219 days<br>Frequency: 2<br>Spending: ₹22,649",
          "Segment: 214<br>Recency: 187 days<br>Frequency: 4<br>Spending: ₹50,950",
          "Segment: 314<br>Recency: 54 days<br>Frequency: 3<br>Spending: ₹40,178",
          "Segment: 213<br>Recency: 128 days<br>Frequency: 3<br>Spending: ₹21,644",
          "Segment: 424<br>Recency: 0 days<br>Frequency: 7<br>Spending: ₹63,200",
          "Segment: 324<br>Recency: 41 days<br>Frequency: 9<br>Spending: ₹64,417",
          "Segment: Lost<br>Recency: 332 days<br>Frequency: 1<br>Spending: ₹9,586",
          "Segment: Hibernating<br>Recency: 156 days<br>Frequency: 1<br>Spending: ₹15,825",
          "Segment: 213<br>Recency: 149 days<br>Frequency: 2<br>Spending: ₹29,988",
          "Segment: Hibernating<br>Recency: 96 days<br>Frequency: 1<br>Spending: ₹7,135",
          "Segment: 214<br>Recency: 111 days<br>Frequency: 5<br>Spending: ₹52,735",
          "Segment: Hibernating<br>Recency: 111 days<br>Frequency: 1<br>Spending: ₹18,975",
          "Segment: 314<br>Recency: 60 days<br>Frequency: 5<br>Spending: ₹57,120",
          "Segment: 412<br>Recency: 20 days<br>Frequency: 1<br>Spending: ₹12,564",
          "Segment: 324<br>Recency: 49 days<br>Frequency: 8<br>Spending: ₹88,313",
          "Segment: Hibernating<br>Recency: 115 days<br>Frequency: 3<br>Spending: ₹15,511",
          "Segment: 313<br>Recency: 75 days<br>Frequency: 2<br>Spending: ₹25,309",
          "Segment: Lost<br>Recency: 289 days<br>Frequency: 1<br>Spending: ₹9,906",
          "Segment: 314<br>Recency: 59 days<br>Frequency: 3<br>Spending: ₹40,139",
          "Segment: Hibernating<br>Recency: 131 days<br>Frequency: 1<br>Spending: ₹2,159",
          "Segment: 412<br>Recency: 4 days<br>Frequency: 2<br>Spending: ₹15,522",
          "Segment: Lost<br>Recency: 325 days<br>Frequency: 1<br>Spending: ₹5,303",
          "Segment: 413<br>Recency: 8 days<br>Frequency: 3<br>Spending: ₹21,690",
          "Segment: 313<br>Recency: 67 days<br>Frequency: 4<br>Spending: ₹34,716",
          "Segment: 412<br>Recency: 34 days<br>Frequency: 3<br>Spending: ₹19,079",
          "Segment: 412<br>Recency: 7 days<br>Frequency: 2<br>Spending: ₹15,350",
          "Segment: 413<br>Recency: 25 days<br>Frequency: 5<br>Spending: ₹33,144",
          "Segment: 314<br>Recency: 54 days<br>Frequency: 6<br>Spending: ₹64,247",
          "Segment: 312<br>Recency: 40 days<br>Frequency: 1<br>Spending: ₹10,068",
          "Segment: 413<br>Recency: 4 days<br>Frequency: 4<br>Spending: ₹30,355",
          "Segment: 312<br>Recency: 78 days<br>Frequency: 1<br>Spending: ₹10,957",
          "Segment: 413<br>Recency: 31 days<br>Frequency: 4<br>Spending: ₹29,322",
          "Segment: 312<br>Recency: 58 days<br>Frequency: 2<br>Spending: ₹10,664",
          "Segment: 424<br>Recency: 11 days<br>Frequency: 10<br>Spending: ₹114,718",
          "Segment: 424<br>Recency: 11 days<br>Frequency: 8<br>Spending: ₹74,289",
          "Segment: 413<br>Recency: 37 days<br>Frequency: 2<br>Spending: ₹19,567",
          "Segment: Lost<br>Recency: 229 days<br>Frequency: 1<br>Spending: ₹9,910",
          "Segment: 214<br>Recency: 139 days<br>Frequency: 3<br>Spending: ₹42,829",
          "Segment: 213<br>Recency: 179 days<br>Frequency: 2<br>Spending: ₹19,763",
          "Segment: 313<br>Recency: 80 days<br>Frequency: 2<br>Spending: ₹20,612",
          "Segment: At Risk<br>Recency: 48 days<br>Frequency: 1<br>Spending: ₹3,607",
          "Segment: 313<br>Recency: 89 days<br>Frequency: 2<br>Spending: ₹31,340",
          "Segment: 314<br>Recency: 42 days<br>Frequency: 5<br>Spending: ₹52,588",
          "Segment: 213<br>Recency: 170 days<br>Frequency: 3<br>Spending: ₹30,012",
          "Segment: Lost<br>Recency: 257 days<br>Frequency: 2<br>Spending: ₹18,256",
          "Segment: Hibernating<br>Recency: 119 days<br>Frequency: 2<br>Spending: ₹16,934",
          "Segment: Lost<br>Recency: 247 days<br>Frequency: 1<br>Spending: ₹5,208",
          "Segment: 414<br>Recency: 15 days<br>Frequency: 4<br>Spending: ₹41,170",
          "Segment: Hibernating<br>Recency: 155 days<br>Frequency: 2<br>Spending: ₹18,247",
          "Segment: Hibernating<br>Recency: 172 days<br>Frequency: 1<br>Spending: ₹697",
          "Segment: Lost<br>Recency: 213 days<br>Frequency: 1<br>Spending: ₹5,406",
          "Segment: 312<br>Recency: 84 days<br>Frequency: 2<br>Spending: ₹12,488",
          "Segment: At Risk<br>Recency: 91 days<br>Frequency: 1<br>Spending: ₹6,934",
          "Segment: 313<br>Recency: 77 days<br>Frequency: 2<br>Spending: ₹27,617",
          "Segment: 113<br>Recency: 266 days<br>Frequency: 1<br>Spending: ₹20,483",
          "Segment: 313<br>Recency: 61 days<br>Frequency: 4<br>Spending: ₹36,093",
          "Segment: 324<br>Recency: 39 days<br>Frequency: 8<br>Spending: ₹81,613",
          "Segment: 114<br>Recency: 191 days<br>Frequency: 5<br>Spending: ₹44,421",
          "Segment: 412<br>Recency: 20 days<br>Frequency: 1<br>Spending: ₹12,124",
          "Segment: Lost<br>Recency: 238 days<br>Frequency: 1<br>Spending: ₹11,915",
          "Segment: Lost<br>Recency: 344 days<br>Frequency: 1<br>Spending: ₹1,881",
          "Segment: 213<br>Recency: 95 days<br>Frequency: 1<br>Spending: ₹19,603",
          "Segment: Hibernating<br>Recency: 181 days<br>Frequency: 2<br>Spending: ₹18,990",
          "Segment: Hibernating<br>Recency: 102 days<br>Frequency: 1<br>Spending: ₹6,882",
          "Segment: Hibernating<br>Recency: 105 days<br>Frequency: 1<br>Spending: ₹5,947",
          "Segment: 313<br>Recency: 88 days<br>Frequency: 2<br>Spending: ₹20,398",
          "Segment: Hibernating<br>Recency: 154 days<br>Frequency: 1<br>Spending: ₹15,903",
          "Segment: 313<br>Recency: 61 days<br>Frequency: 2<br>Spending: ₹26,184",
          "Segment: Hibernating<br>Recency: 131 days<br>Frequency: 1<br>Spending: ₹15,402",
          "Segment: 324<br>Recency: 51 days<br>Frequency: 11<br>Spending: ₹87,291",
          "Segment: Hibernating<br>Recency: 138 days<br>Frequency: 3<br>Spending: ₹17,517",
          "Segment: 413<br>Recency: 21 days<br>Frequency: 3<br>Spending: ₹20,175",
          "Segment: 414<br>Recency: 7 days<br>Frequency: 5<br>Spending: ₹36,795",
          "Segment: Lost<br>Recency: 191 days<br>Frequency: 1<br>Spending: ₹19,320",
          "Segment: 313<br>Recency: 74 days<br>Frequency: 3<br>Spending: ₹23,684",
          "Segment: 413<br>Recency: 0 days<br>Frequency: 2<br>Spending: ₹22,783",
          "Segment: Hibernating<br>Recency: 132 days<br>Frequency: 1<br>Spending: ₹5,847",
          "Segment: 313<br>Recency: 52 days<br>Frequency: 4<br>Spending: ₹36,311",
          "Segment: Hibernating<br>Recency: 137 days<br>Frequency: 1<br>Spending: ₹3,455",
          "Segment: At Risk<br>Recency: 9 days<br>Frequency: 1<br>Spending: ₹3,559",
          "Segment: 313<br>Recency: 58 days<br>Frequency: 2<br>Spending: ₹31,558",
          "Segment: 414<br>Recency: 25 days<br>Frequency: 3<br>Spending: ₹37,157",
          "Segment: 414<br>Recency: 36 days<br>Frequency: 5<br>Spending: ₹51,173",
          "Segment: Hibernating<br>Recency: 159 days<br>Frequency: 1<br>Spending: ₹10,109",
          "Segment: Lost<br>Recency: 351 days<br>Frequency: 1<br>Spending: ₹8,093",
          "Segment: At Risk<br>Recency: 92 days<br>Frequency: 1<br>Spending: ₹3,495",
          "Segment: 313<br>Recency: 59 days<br>Frequency: 2<br>Spending: ₹20,271",
          "Segment: 213<br>Recency: 185 days<br>Frequency: 3<br>Spending: ₹27,563",
          "Segment: 312<br>Recency: 81 days<br>Frequency: 1<br>Spending: ₹15,472",
          "Segment: 424<br>Recency: 31 days<br>Frequency: 8<br>Spending: ₹73,188",
          "Segment: 114<br>Recency: 199 days<br>Frequency: 3<br>Spending: ₹42,415",
          "Segment: Lost<br>Recency: 211 days<br>Frequency: 1<br>Spending: ₹9,862",
          "Segment: 113<br>Recency: 308 days<br>Frequency: 1<br>Spending: ₹23,546",
          "Segment: Lost<br>Recency: 248 days<br>Frequency: 1<br>Spending: ₹10,034",
          "Segment: At Risk<br>Recency: 70 days<br>Frequency: 1<br>Spending: ₹4,139",
          "Segment: Hibernating<br>Recency: 105 days<br>Frequency: 1<br>Spending: ₹8,719",
          "Segment: 113<br>Recency: 193 days<br>Frequency: 2<br>Spending: ₹20,486",
          "Segment: Hibernating<br>Recency: 151 days<br>Frequency: 1<br>Spending: ₹4,086",
          "Segment: Lost<br>Recency: 208 days<br>Frequency: 2<br>Spending: ₹16,712",
          "Segment: Hibernating<br>Recency: 145 days<br>Frequency: 2<br>Spending: ₹12,436",
          "Segment: 113<br>Recency: 217 days<br>Frequency: 2<br>Spending: ₹27,563",
          "Segment: Lost<br>Recency: 226 days<br>Frequency: 1<br>Spending: ₹12,237",
          "Segment: Hibernating<br>Recency: 162 days<br>Frequency: 1<br>Spending: ₹11,397",
          "Segment: 312<br>Recency: 59 days<br>Frequency: 2<br>Spending: ₹18,781",
          "Segment: Lost<br>Recency: 240 days<br>Frequency: 2<br>Spending: ₹18,133",
          "Segment: 413<br>Recency: 23 days<br>Frequency: 3<br>Spending: ₹31,259",
          "Segment: 313<br>Recency: 41 days<br>Frequency: 2<br>Spending: ₹19,533",
          "Segment: Lost<br>Recency: 278 days<br>Frequency: 1<br>Spending: ₹5,853",
          "Segment: 413<br>Recency: 15 days<br>Frequency: 2<br>Spending: ₹28,168",
          "Segment: Hibernating<br>Recency: 130 days<br>Frequency: 1<br>Spending: ₹7,112",
          "Segment: 213<br>Recency: 113 days<br>Frequency: 1<br>Spending: ₹19,557",
          "Segment: 424<br>Recency: 22 days<br>Frequency: 8<br>Spending: ₹50,357",
          "Segment: Loyal<br>Recency: 16 days<br>Frequency: 17<br>Spending: ₹182,060",
          "Segment: 213<br>Recency: 112 days<br>Frequency: 2<br>Spending: ₹25,517",
          "Segment: Hibernating<br>Recency: 140 days<br>Frequency: 1<br>Spending: ₹3,677",
          "Segment: 413<br>Recency: 37 days<br>Frequency: 4<br>Spending: ₹23,023",
          "Segment: 412<br>Recency: 17 days<br>Frequency: 2<br>Spending: ₹15,091",
          "Segment: Hibernating<br>Recency: 137 days<br>Frequency: 1<br>Spending: ₹9,885",
          "Segment: 113<br>Recency: 263 days<br>Frequency: 2<br>Spending: ₹23,054",
          "Segment: 413<br>Recency: 38 days<br>Frequency: 3<br>Spending: ₹31,596",
          "Segment: 413<br>Recency: 34 days<br>Frequency: 4<br>Spending: ₹35,747",
          "Segment: Lost<br>Recency: 221 days<br>Frequency: 2<br>Spending: ₹15,806",
          "Segment: 412<br>Recency: 33 days<br>Frequency: 1<br>Spending: ₹16,450",
          "Segment: 213<br>Recency: 160 days<br>Frequency: 3<br>Spending: ₹19,548",
          "Segment: 313<br>Recency: 45 days<br>Frequency: 3<br>Spending: ₹29,661",
          "Segment: 213<br>Recency: 97 days<br>Frequency: 2<br>Spending: ₹24,371",
          "Segment: 324<br>Recency: 66 days<br>Frequency: 8<br>Spending: ₹73,271",
          "Segment: Hibernating<br>Recency: 137 days<br>Frequency: 2<br>Spending: ₹19,124",
          "Segment: At Risk<br>Recency: 8 days<br>Frequency: 1<br>Spending: ₹7,847",
          "Segment: At Risk<br>Recency: 93 days<br>Frequency: 2<br>Spending: ₹9,596",
          "Segment: 113<br>Recency: 190 days<br>Frequency: 2<br>Spending: ₹20,052",
          "Segment: 424<br>Recency: 6 days<br>Frequency: 8<br>Spending: ₹56,950",
          "Segment: 313<br>Recency: 74 days<br>Frequency: 3<br>Spending: ₹23,776",
          "Segment: 324<br>Recency: 89 days<br>Frequency: 8<br>Spending: ₹88,355",
          "Segment: Hibernating<br>Recency: 176 days<br>Frequency: 1<br>Spending: ₹5,200",
          "Segment: 312<br>Recency: 41 days<br>Frequency: 1<br>Spending: ₹13,453",
          "Segment: Hibernating<br>Recency: 150 days<br>Frequency: 1<br>Spending: ₹7,158",
          "Segment: 412<br>Recency: 11 days<br>Frequency: 3<br>Spending: ₹16,670",
          "Segment: 414<br>Recency: 25 days<br>Frequency: 5<br>Spending: ₹47,688",
          "Segment: Lost<br>Recency: 293 days<br>Frequency: 1<br>Spending: ₹8,870",
          "Segment: 213<br>Recency: 112 days<br>Frequency: 2<br>Spending: ₹20,364",
          "Segment: 412<br>Recency: 37 days<br>Frequency: 1<br>Spending: ₹13,248",
          "Segment: 314<br>Recency: 86 days<br>Frequency: 5<br>Spending: ₹54,357",
          "Segment: Hibernating<br>Recency: 133 days<br>Frequency: 1<br>Spending: ₹11,789",
          "Segment: 414<br>Recency: 38 days<br>Frequency: 4<br>Spending: ₹55,594",
          "Segment: Lost<br>Recency: 306 days<br>Frequency: 1<br>Spending: ₹3,891",
          "Segment: 312<br>Recency: 58 days<br>Frequency: 3<br>Spending: ₹18,681",
          "Segment: Lost<br>Recency: 195 days<br>Frequency: 1<br>Spending: ₹12,065",
          "Segment: 213<br>Recency: 105 days<br>Frequency: 2<br>Spending: ₹19,821",
          "Segment: Hibernating<br>Recency: 127 days<br>Frequency: 1<br>Spending: ₹16,456",
          "Segment: 314<br>Recency: 55 days<br>Frequency: 5<br>Spending: ₹37,619",
          "Segment: 414<br>Recency: 34 days<br>Frequency: 4<br>Spending: ₹47,068",
          "Segment: At Risk<br>Recency: 72 days<br>Frequency: 1<br>Spending: ₹4,784",
          "Segment: 213<br>Recency: 115 days<br>Frequency: 3<br>Spending: ₹29,584",
          "Segment: Hibernating<br>Recency: 138 days<br>Frequency: 1<br>Spending: ₹8,822",
          "Segment: Hibernating<br>Recency: 171 days<br>Frequency: 1<br>Spending: ₹7,026",
          "Segment: Hibernating<br>Recency: 136 days<br>Frequency: 1<br>Spending: ₹5,232",
          "Segment: 313<br>Recency: 46 days<br>Frequency: 4<br>Spending: ₹22,135",
          "Segment: At Risk<br>Recency: 53 days<br>Frequency: 2<br>Spending: ₹5,434",
          "Segment: 213<br>Recency: 159 days<br>Frequency: 3<br>Spending: ₹20,334",
          "Segment: Lost<br>Recency: 356 days<br>Frequency: 1<br>Spending: ₹16,092",
          "Segment: 413<br>Recency: 9 days<br>Frequency: 3<br>Spending: ₹22,102",
          "Segment: 313<br>Recency: 77 days<br>Frequency: 3<br>Spending: ₹22,152",
          "Segment: Hibernating<br>Recency: 161 days<br>Frequency: 1<br>Spending: ₹15,800",
          "Segment: 313<br>Recency: 48 days<br>Frequency: 3<br>Spending: ₹19,860",
          "Segment: 113<br>Recency: 267 days<br>Frequency: 3<br>Spending: ₹28,842",
          "Segment: 424<br>Recency: 19 days<br>Frequency: 11<br>Spending: ₹113,470",
          "Segment: 113<br>Recency: 188 days<br>Frequency: 1<br>Spending: ₹19,671",
          "Segment: At Risk<br>Recency: 44 days<br>Frequency: 1<br>Spending: ₹4,039",
          "Segment: Lost<br>Recency: 190 days<br>Frequency: 1<br>Spending: ₹6,102",
          "Segment: Lost<br>Recency: 325 days<br>Frequency: 2<br>Spending: ₹16,018",
          "Segment: 113<br>Recency: 210 days<br>Frequency: 3<br>Spending: ₹28,018",
          "Segment: 414<br>Recency: 5 days<br>Frequency: 3<br>Spending: ₹37,885",
          "Segment: 313<br>Recency: 62 days<br>Frequency: 2<br>Spending: ₹20,210",
          "Segment: 113<br>Recency: 216 days<br>Frequency: 3<br>Spending: ₹27,030",
          "Segment: Lost<br>Recency: 298 days<br>Frequency: 1<br>Spending: ₹8,013",
          "Segment: Lost<br>Recency: 225 days<br>Frequency: 1<br>Spending: ₹18,995",
          "Segment: 313<br>Recency: 74 days<br>Frequency: 2<br>Spending: ₹27,911",
          "Segment: Lost<br>Recency: 281 days<br>Frequency: 1<br>Spending: ₹16,297",
          "Segment: Hibernating<br>Recency: 119 days<br>Frequency: 1<br>Spending: ₹12,081",
          "Segment: 413<br>Recency: 15 days<br>Frequency: 4<br>Spending: ₹29,138",
          "Segment: 113<br>Recency: 193 days<br>Frequency: 5<br>Spending: ₹26,369",
          "Segment: 412<br>Recency: 27 days<br>Frequency: 1<br>Spending: ₹19,034",
          "Segment: 412<br>Recency: 0 days<br>Frequency: 2<br>Spending: ₹19,273",
          "Segment: Lost<br>Recency: 193 days<br>Frequency: 1<br>Spending: ₹9,678",
          "Segment: Hibernating<br>Recency: 105 days<br>Frequency: 2<br>Spending: ₹18,036",
          "Segment: 413<br>Recency: 11 days<br>Frequency: 3<br>Spending: ₹31,105",
          "Segment: 113<br>Recency: 319 days<br>Frequency: 1<br>Spending: ₹23,201",
          "Segment: 413<br>Recency: 27 days<br>Frequency: 1<br>Spending: ₹20,875",
          "Segment: Lost<br>Recency: 270 days<br>Frequency: 1<br>Spending: ₹6,856",
          "Segment: 214<br>Recency: 140 days<br>Frequency: 3<br>Spending: ₹36,634",
          "Segment: 324<br>Recency: 79 days<br>Frequency: 7<br>Spending: ₹69,348",
          "Segment: 412<br>Recency: 14 days<br>Frequency: 1<br>Spending: ₹10,764",
          "Segment: 313<br>Recency: 68 days<br>Frequency: 3<br>Spending: ₹30,430",
          "Segment: Hibernating<br>Recency: 95 days<br>Frequency: 1<br>Spending: ₹2,165",
          "Segment: Loyal<br>Recency: 0 days<br>Frequency: 14<br>Spending: ₹131,809",
          "Segment: Hibernating<br>Recency: 186 days<br>Frequency: 2<br>Spending: ₹15,080",
          "Segment: 214<br>Recency: 154 days<br>Frequency: 4<br>Spending: ₹47,853",
          "Segment: Lost<br>Recency: 241 days<br>Frequency: 2<br>Spending: ₹4,391",
          "Segment: 324<br>Recency: 78 days<br>Frequency: 8<br>Spending: ₹56,919",
          "Segment: 413<br>Recency: 21 days<br>Frequency: 4<br>Spending: ₹33,183",
          "Segment: 213<br>Recency: 148 days<br>Frequency: 2<br>Spending: ₹27,392",
          "Segment: 312<br>Recency: 82 days<br>Frequency: 2<br>Spending: ₹11,041",
          "Segment: 312<br>Recency: 62 days<br>Frequency: 2<br>Spending: ₹13,182",
          "Segment: 313<br>Recency: 50 days<br>Frequency: 4<br>Spending: ₹36,151",
          "Segment: At Risk<br>Recency: 83 days<br>Frequency: 1<br>Spending: ₹7,029",
          "Segment: Lost<br>Recency: 264 days<br>Frequency: 1<br>Spending: ₹16,995",
          "Segment: 312<br>Recency: 88 days<br>Frequency: 1<br>Spending: ₹9,963",
          "Segment: Lost<br>Recency: 317 days<br>Frequency: 1<br>Spending: ₹7,813",
          "Segment: Hibernating<br>Recency: 153 days<br>Frequency: 1<br>Spending: ₹6,061",
          "Segment: 314<br>Recency: 48 days<br>Frequency: 5<br>Spending: ₹51,291",
          "Segment: 324<br>Recency: 84 days<br>Frequency: 10<br>Spending: ₹99,029",
          "Segment: Lost<br>Recency: 311 days<br>Frequency: 1<br>Spending: ₹10,915",
          "Segment: Lost<br>Recency: 288 days<br>Frequency: 1<br>Spending: ₹4,177",
          "Segment: 412<br>Recency: 3 days<br>Frequency: 2<br>Spending: ₹14,746",
          "Segment: Hibernating<br>Recency: 163 days<br>Frequency: 3<br>Spending: ₹15,354",
          "Segment: Lost<br>Recency: 330 days<br>Frequency: 1<br>Spending: ₹1,599",
          "Segment: 413<br>Recency: 21 days<br>Frequency: 2<br>Spending: ₹19,531",
          "Segment: 413<br>Recency: 20 days<br>Frequency: 2<br>Spending: ₹23,238",
          "Segment: 414<br>Recency: 21 days<br>Frequency: 6<br>Spending: ₹60,489",
          "Segment: 213<br>Recency: 97 days<br>Frequency: 2<br>Spending: ₹19,845",
          "Segment: Hibernating<br>Recency: 153 days<br>Frequency: 2<br>Spending: ₹19,309",
          "Segment: 312<br>Recency: 45 days<br>Frequency: 2<br>Spending: ₹16,052",
          "Segment: 324<br>Recency: 86 days<br>Frequency: 8<br>Spending: ₹74,779",
          "Segment: 413<br>Recency: 15 days<br>Frequency: 3<br>Spending: ₹25,078",
          "Segment: 313<br>Recency: 93 days<br>Frequency: 4<br>Spending: ₹26,471",
          "Segment: Hibernating<br>Recency: 120 days<br>Frequency: 1<br>Spending: ₹5,315",
          "Segment: Hibernating<br>Recency: 122 days<br>Frequency: 1<br>Spending: ₹6,144",
          "Segment: 412<br>Recency: 10 days<br>Frequency: 1<br>Spending: ₹16,776",
          "Segment: 324<br>Recency: 78 days<br>Frequency: 11<br>Spending: ₹57,346",
          "Segment: 412<br>Recency: 37 days<br>Frequency: 2<br>Spending: ₹13,675",
          "Segment: Lost<br>Recency: 208 days<br>Frequency: 1<br>Spending: ₹7,760",
          "Segment: 412<br>Recency: 17 days<br>Frequency: 2<br>Spending: ₹13,084",
          "Segment: Lost<br>Recency: 311 days<br>Frequency: 1<br>Spending: ₹19,048",
          "Segment: Hibernating<br>Recency: 128 days<br>Frequency: 2<br>Spending: ₹15,613",
          "Segment: 314<br>Recency: 61 days<br>Frequency: 5<br>Spending: ₹56,695",
          "Segment: 424<br>Recency: 18 days<br>Frequency: 9<br>Spending: ₹85,893",
          "Segment: Lost<br>Recency: 197 days<br>Frequency: 2<br>Spending: ₹17,096",
          "Segment: 313<br>Recency: 51 days<br>Frequency: 2<br>Spending: ₹23,799",
          "Segment: 312<br>Recency: 60 days<br>Frequency: 2<br>Spending: ₹11,426",
          "Segment: 313<br>Recency: 74 days<br>Frequency: 1<br>Spending: ₹19,557",
          "Segment: Lost<br>Recency: 308 days<br>Frequency: 1<br>Spending: ₹9,894",
          "Segment: 214<br>Recency: 121 days<br>Frequency: 5<br>Spending: ₹52,767",
          "Segment: 413<br>Recency: 25 days<br>Frequency: 3<br>Spending: ₹23,385",
          "Segment: Lost<br>Recency: 224 days<br>Frequency: 1<br>Spending: ₹3,924",
          "Segment: Hibernating<br>Recency: 148 days<br>Frequency: 2<br>Spending: ₹18,807",
          "Segment: 213<br>Recency: 146 days<br>Frequency: 4<br>Spending: ₹32,110",
          "Segment: 213<br>Recency: 176 days<br>Frequency: 3<br>Spending: ₹28,970",
          "Segment: 424<br>Recency: 10 days<br>Frequency: 10<br>Spending: ₹50,999",
          "Segment: 413<br>Recency: 29 days<br>Frequency: 2<br>Spending: ₹19,705",
          "Segment: Lost<br>Recency: 325 days<br>Frequency: 1<br>Spending: ₹1,590",
          "Segment: 414<br>Recency: 14 days<br>Frequency: 5<br>Spending: ₹55,150",
          "Segment: 113<br>Recency: 304 days<br>Frequency: 2<br>Spending: ₹22,572",
          "Segment: 413<br>Recency: 10 days<br>Frequency: 4<br>Spending: ₹31,432",
          "Segment: 213<br>Recency: 99 days<br>Frequency: 5<br>Spending: ₹19,942",
          "Segment: 213<br>Recency: 101 days<br>Frequency: 3<br>Spending: ₹32,139",
          "Segment: 313<br>Recency: 86 days<br>Frequency: 2<br>Spending: ₹31,083",
          "Segment: Lost<br>Recency: 286 days<br>Frequency: 1<br>Spending: ₹5,342",
          "Segment: 313<br>Recency: 70 days<br>Frequency: 3<br>Spending: ₹30,995",
          "Segment: 312<br>Recency: 69 days<br>Frequency: 2<br>Spending: ₹12,320",
          "Segment: Lost<br>Recency: 342 days<br>Frequency: 1<br>Spending: ₹13,338",
          "Segment: Hibernating<br>Recency: 187 days<br>Frequency: 1<br>Spending: ₹15,874",
          "Segment: Hibernating<br>Recency: 149 days<br>Frequency: 1<br>Spending: ₹6,031",
          "Segment: Hibernating<br>Recency: 101 days<br>Frequency: 2<br>Spending: ₹12,662",
          "Segment: 313<br>Recency: 87 days<br>Frequency: 3<br>Spending: ₹20,008",
          "Segment: Lost<br>Recency: 229 days<br>Frequency: 1<br>Spending: ₹15,294",
          "Segment: Hibernating<br>Recency: 184 days<br>Frequency: 3<br>Spending: ₹15,130",
          "Segment: Lost<br>Recency: 192 days<br>Frequency: 1<br>Spending: ₹11,828",
          "Segment: Lost<br>Recency: 213 days<br>Frequency: 1<br>Spending: ₹6,159",
          "Segment: 313<br>Recency: 75 days<br>Frequency: 3<br>Spending: ₹33,892",
          "Segment: Hibernating<br>Recency: 173 days<br>Frequency: 2<br>Spending: ₹13,172",
          "Segment: 424<br>Recency: 34 days<br>Frequency: 7<br>Spending: ₹67,195",
          "Segment: Hibernating<br>Recency: 103 days<br>Frequency: 1<br>Spending: ₹5,415",
          "Segment: 412<br>Recency: 12 days<br>Frequency: 1<br>Spending: ₹11,409",
          "Segment: 424<br>Recency: 24 days<br>Frequency: 8<br>Spending: ₹77,557",
          "Segment: Hibernating<br>Recency: 140 days<br>Frequency: 1<br>Spending: ₹4,247",
          "Segment: 213<br>Recency: 97 days<br>Frequency: 2<br>Spending: ₹31,492",
          "Segment: Lost<br>Recency: 189 days<br>Frequency: 1<br>Spending: ₹8,327",
          "Segment: 313<br>Recency: 58 days<br>Frequency: 3<br>Spending: ₹22,169",
          "Segment: Lost<br>Recency: 297 days<br>Frequency: 2<br>Spending: ₹5,982",
          "Segment: 412<br>Recency: 30 days<br>Frequency: 2<br>Spending: ₹17,378",
          "Segment: 313<br>Recency: 82 days<br>Frequency: 4<br>Spending: ₹30,370",
          "Segment: 314<br>Recency: 39 days<br>Frequency: 3<br>Spending: ₹46,271",
          "Segment: 312<br>Recency: 73 days<br>Frequency: 2<br>Spending: ₹18,393",
          "Segment: Hibernating<br>Recency: 97 days<br>Frequency: 1<br>Spending: ₹16,461",
          "Segment: 312<br>Recency: 87 days<br>Frequency: 2<br>Spending: ₹15,677",
          "Segment: Lost<br>Recency: 188 days<br>Frequency: 1<br>Spending: ₹2,173",
          "Segment: 214<br>Recency: 126 days<br>Frequency: 4<br>Spending: ₹43,103",
          "Segment: 213<br>Recency: 178 days<br>Frequency: 3<br>Spending: ₹26,401",
          "Segment: 314<br>Recency: 71 days<br>Frequency: 6<br>Spending: ₹64,465",
          "Segment: 414<br>Recency: 14 days<br>Frequency: 5<br>Spending: ₹58,874",
          "Segment: Lost<br>Recency: 239 days<br>Frequency: 1<br>Spending: ₹19,318",
          "Segment: 314<br>Recency: 68 days<br>Frequency: 6<br>Spending: ₹39,092",
          "Segment: Lost<br>Recency: 272 days<br>Frequency: 1<br>Spending: ₹7,116",
          "Segment: Hibernating<br>Recency: 105 days<br>Frequency: 1<br>Spending: ₹8,113",
          "Segment: Lost<br>Recency: 204 days<br>Frequency: 1<br>Spending: ₹10,958",
          "Segment: Hibernating<br>Recency: 163 days<br>Frequency: 1<br>Spending: ₹7,023",
          "Segment: 412<br>Recency: 28 days<br>Frequency: 1<br>Spending: ₹16,219",
          "Segment: 113<br>Recency: 341 days<br>Frequency: 1<br>Spending: ₹20,066",
          "Segment: 312<br>Recency: 68 days<br>Frequency: 2<br>Spending: ₹15,723",
          "Segment: 313<br>Recency: 83 days<br>Frequency: 2<br>Spending: ₹25,482",
          "Segment: 213<br>Recency: 94 days<br>Frequency: 2<br>Spending: ₹20,824",
          "Segment: 213<br>Recency: 127 days<br>Frequency: 3<br>Spending: ₹35,488",
          "Segment: 313<br>Recency: 64 days<br>Frequency: 3<br>Spending: ₹36,216",
          "Segment: 412<br>Recency: 36 days<br>Frequency: 2<br>Spending: ₹12,954",
          "Segment: 324<br>Recency: 77 days<br>Frequency: 7<br>Spending: ₹56,888",
          "Segment: 424<br>Recency: 15 days<br>Frequency: 7<br>Spending: ₹70,632",
          "Segment: 313<br>Recency: 79 days<br>Frequency: 3<br>Spending: ₹23,846",
          "Segment: 424<br>Recency: 1 days<br>Frequency: 10<br>Spending: ₹102,080",
          "Segment: 214<br>Recency: 99 days<br>Frequency: 4<br>Spending: ₹43,866",
          "Segment: Hibernating<br>Recency: 98 days<br>Frequency: 1<br>Spending: ₹5,960",
          "Segment: Hibernating<br>Recency: 184 days<br>Frequency: 1<br>Spending: ₹16,216",
          "Segment: Hibernating<br>Recency: 102 days<br>Frequency: 2<br>Spending: ₹7,430",
          "Segment: 313<br>Recency: 82 days<br>Frequency: 2<br>Spending: ₹26,010",
          "Segment: Loyal<br>Recency: 20 days<br>Frequency: 17<br>Spending: ₹184,045",
          "Segment: Hibernating<br>Recency: 143 days<br>Frequency: 1<br>Spending: ₹8,774",
          "Segment: Hibernating<br>Recency: 116 days<br>Frequency: 1<br>Spending: ₹10,093",
          "Segment: Lost<br>Recency: 253 days<br>Frequency: 1<br>Spending: ₹12,383",
          "Segment: 312<br>Recency: 69 days<br>Frequency: 3<br>Spending: ₹15,805",
          "Segment: 224<br>Recency: 111 days<br>Frequency: 7<br>Spending: ₹67,213",
          "Segment: Lost<br>Recency: 260 days<br>Frequency: 1<br>Spending: ₹17,175",
          "Segment: Lost<br>Recency: 288 days<br>Frequency: 2<br>Spending: ₹17,473",
          "Segment: Lost<br>Recency: 215 days<br>Frequency: 1<br>Spending: ₹12,034",
          "Segment: Hibernating<br>Recency: 172 days<br>Frequency: 2<br>Spending: ₹4,894",
          "Segment: Lost<br>Recency: 236 days<br>Frequency: 1<br>Spending: ₹11,437",
          "Segment: 412<br>Recency: 27 days<br>Frequency: 2<br>Spending: ₹12,476",
          "Segment: 314<br>Recency: 46 days<br>Frequency: 5<br>Spending: ₹79,216",
          "Segment: 113<br>Recency: 210 days<br>Frequency: 2<br>Spending: ₹25,772",
          "Segment: 314<br>Recency: 60 days<br>Frequency: 4<br>Spending: ₹36,768",
          "Segment: 312<br>Recency: 60 days<br>Frequency: 2<br>Spending: ₹18,185",
          "Segment: 414<br>Recency: 31 days<br>Frequency: 3<br>Spending: ₹36,981",
          "Segment: 312<br>Recency: 91 days<br>Frequency: 1<br>Spending: ₹11,380",
          "Segment: 313<br>Recency: 93 days<br>Frequency: 3<br>Spending: ₹32,623",
          "Segment: 424<br>Recency: 18 days<br>Frequency: 7<br>Spending: ₹62,423",
          "Segment: 313<br>Recency: 92 days<br>Frequency: 4<br>Spending: ₹32,397",
          "Segment: 413<br>Recency: 23 days<br>Frequency: 3<br>Spending: ₹29,060",
          "Segment: 413<br>Recency: 12 days<br>Frequency: 2<br>Spending: ₹27,940",
          "Segment: 313<br>Recency: 50 days<br>Frequency: 2<br>Spending: ₹31,925",
          "Segment: 213<br>Recency: 124 days<br>Frequency: 2<br>Spending: ₹24,626",
          "Segment: 213<br>Recency: 172 days<br>Frequency: 2<br>Spending: ₹26,681",
          "Segment: 324<br>Recency: 69 days<br>Frequency: 9<br>Spending: ₹80,284",
          "Segment: At Risk<br>Recency: 70 days<br>Frequency: 1<br>Spending: ₹8,202",
          "Segment: Hibernating<br>Recency: 111 days<br>Frequency: 1<br>Spending: ₹12,465",
          "Segment: 414<br>Recency: 36 days<br>Frequency: 5<br>Spending: ₹44,371",
          "Segment: 312<br>Recency: 65 days<br>Frequency: 1<br>Spending: ₹11,590",
          "Segment: 113<br>Recency: 199 days<br>Frequency: 2<br>Spending: ₹24,313",
          "Segment: 412<br>Recency: 17 days<br>Frequency: 2<br>Spending: ₹13,048",
          "Segment: 424<br>Recency: 13 days<br>Frequency: 8<br>Spending: ₹76,675",
          "Segment: 414<br>Recency: 33 days<br>Frequency: 6<br>Spending: ₹79,603",
          "Segment: Loyal<br>Recency: 6 days<br>Frequency: 15<br>Spending: ₹132,014",
          "Segment: Hibernating<br>Recency: 178 days<br>Frequency: 1<br>Spending: ₹8,768",
          "Segment: 313<br>Recency: 61 days<br>Frequency: 2<br>Spending: ₹29,584",
          "Segment: Hibernating<br>Recency: 147 days<br>Frequency: 1<br>Spending: ₹11,544",
          "Segment: Hibernating<br>Recency: 149 days<br>Frequency: 2<br>Spending: ₹14,997",
          "Segment: 314<br>Recency: 50 days<br>Frequency: 4<br>Spending: ₹45,508",
          "Segment: 414<br>Recency: 9 days<br>Frequency: 3<br>Spending: ₹37,460",
          "Segment: 113<br>Recency: 249 days<br>Frequency: 3<br>Spending: ₹29,980",
          "Segment: At Risk<br>Recency: 54 days<br>Frequency: 1<br>Spending: ₹582",
          "Segment: 312<br>Recency: 65 days<br>Frequency: 2<br>Spending: ₹16,578",
          "Segment: 313<br>Recency: 52 days<br>Frequency: 1<br>Spending: ₹19,487",
          "Segment: 214<br>Recency: 147 days<br>Frequency: 4<br>Spending: ₹49,434",
          "Segment: 413<br>Recency: 38 days<br>Frequency: 1<br>Spending: ₹19,483",
          "Segment: 424<br>Recency: 25 days<br>Frequency: 7<br>Spending: ₹66,479",
          "Segment: 113<br>Recency: 274 days<br>Frequency: 3<br>Spending: ₹31,998",
          "Segment: 424<br>Recency: 21 days<br>Frequency: 8<br>Spending: ₹65,353",
          "Segment: 424<br>Recency: 34 days<br>Frequency: 7<br>Spending: ₹72,510",
          "Segment: Hibernating<br>Recency: 114 days<br>Frequency: 2<br>Spending: ₹12,569",
          "Segment: 424<br>Recency: 16 days<br>Frequency: 8<br>Spending: ₹81,215",
          "Segment: Lost<br>Recency: 229 days<br>Frequency: 1<br>Spending: ₹3,890",
          "Segment: 413<br>Recency: 12 days<br>Frequency: 2<br>Spending: ₹23,580",
          "Segment: 213<br>Recency: 100 days<br>Frequency: 4<br>Spending: ₹27,150",
          "Segment: Lost<br>Recency: 197 days<br>Frequency: 1<br>Spending: ₹5,445",
          "Segment: Lost<br>Recency: 215 days<br>Frequency: 2<br>Spending: ₹13,172",
          "Segment: 313<br>Recency: 68 days<br>Frequency: 4<br>Spending: ₹29,578",
          "Segment: 313<br>Recency: 67 days<br>Frequency: 6<br>Spending: ₹35,842",
          "Segment: Lost<br>Recency: 194 days<br>Frequency: 1<br>Spending: ₹7,818",
          "Segment: 313<br>Recency: 80 days<br>Frequency: 3<br>Spending: ₹26,934",
          "Segment: Lost<br>Recency: 303 days<br>Frequency: 1<br>Spending: ₹9,846",
          "Segment: 424<br>Recency: 11 days<br>Frequency: 10<br>Spending: ₹102,760",
          "Segment: Hibernating<br>Recency: 175 days<br>Frequency: 2<br>Spending: ₹8,424",
          "Segment: Lost<br>Recency: 352 days<br>Frequency: 1<br>Spending: ₹11,971",
          "Segment: 313<br>Recency: 46 days<br>Frequency: 5<br>Spending: ₹28,226",
          "Segment: 313<br>Recency: 52 days<br>Frequency: 4<br>Spending: ₹26,253",
          "Segment: Lost<br>Recency: 340 days<br>Frequency: 1<br>Spending: ₹6,067",
          "Segment: 413<br>Recency: 37 days<br>Frequency: 2<br>Spending: ₹23,975"
         ],
         "type": "scatter",
         "x": {
          "bdata": "HwA5AKcALgAiAJIAAgAvAUIAUwAeAIMANQFMAPIAUQGlADkAGAAXALsA3gAJAA0AEwCpAFYAZQCIANEABAGXAB4AzQA4ABAAbABaAOYAjAA+ABMACQHaAAAARwATAOEAUwAkAYgAywA/AJMASQCRAAgA7ABOABAA3wBfAA4AGAAVAQ0AVQAcAPIADwFLAKYA0QAHAHIAWwA6ADgAIACEABkASAERAR0AGQEXAAUATAEwAIUAPgAUALsAAQAMAF0B4gCAABwAvACnAEcAcAAmAAcAJQCQAAoAJABbAC8AxwAKADoAfgDbALsANgCAAAAAKQBMAZwAlQBgAG8AbwA8ABQAMQBzAEsAIQE7AIMABABFAQgAQwAiAAcAGQA2ACgABABOAB8AOgALAAsAJQDlAIsAswBQADAAWQAqAKoAAQF3APcADwCbAKwA1QBUAFsATQAKAT0AJwC/ABQA7gBYAV8AtQBmAGkAWACaAD0AgwAzAIoAFQAHAL8ASgAAAIQANACJAAkAOgAZACQAnwBfAVwAOwC5AFEAHwDHANMANAH4AEYAaQDBAJcA0ACRANkA4gCiADsA8AAXACkAFgEPAIIAcQAWABAAcACMACUAEQCJAAcBJgAiAN0AIQCgAC0AYQBCAIkACABdAL4ABgBKAFkAsAApAJYACwAZACUBcAAlAFYAhQAmADIBOgDDAGkAfwA3ACIASABzAIoAqwCIAC4ANQCfAGQBCQBNAKEAMAALARMAvAAsAL4ARQHSAAUAPgDYACoB4QBKABkBdwAPAMEAGwAAAMEAaQALAD8BGwAOAYwATwAOAEQAXwAAALoAmgDxAE4AFQCUAFIAPgAyAFMACAFYAD0BmQAwAFQANwEgAQMAowBKARUAFAAVAGEAmQAtAFYADwBdAHgAegAKAE4AJQDQABEANwGAAD0AEgDFADMAPABKADQBeQAZAOAAlACSALAACgAdAEUBDgAwAQoAYwBlAFYAHgFGAEUAVgG7AJUAZQBXAOUAuADAANUASwCtACIAZwAMABgAjABhAL0AOgApAR4AUgAnAEkAYQBXALwAfgCyAEcADgDvAEQAEAFpAMwAowAcAFUBRABTAF4AfwBAACQATQAPAE8AAQBjAGIAuABmAFIAFACPAHQA/QBFAG8ABAEgAdcArADsABsALgDSADwAPAAfAFsAXQASAFwAFwAMADIAfACsAEUARgBvACQAQQDHABEADQAhAAYAsgA9AJMAlQAyAAkA+QA2AEEANACTACYAGQASARUAIgByABAA5QAMAGQAxQDXAEQAQwDCAFAALwELAK8AYAEuADQAVAElAA==",
          "dtype": "i2"
         },
         "xaxis": "x2",
         "y": {
          "bdata": "BgICBwECCgEGAwICAQEBAQEBAgIBAQQHBAIBAwUBAQIJAQEGAQEDAgECAQEDAgICAQECAQIBBAICAQMDAQIDCgICAgQBAQIFAgUEAwEEBgQDAQEFAggFAQIBAQQBDgIBAgMEAgMCAQIFBwMBAQEBAgEEAgIEAwMHCQEBAgEFAQUBCAMCAQMBAgEDBAMCBQYBBAEEAgoIAgEDAgIBAgUDAgIBBAIBAQIBAgEECAUBAQEBAgEBAgECAQsDAwUBAwIBBAEBAgMFAQEBAgMBCAMBAQEBAQIBAgICAQECAgMCAQIBAQgRAgEEAgECAwQCAQMDAggCAQICCAMIAQEBAwUBAgEFAQQBAwECAQUEAQMBAQEEAgMBAwMBAwMLAQEBAgMDAgMBAQIBAQQFAQIBAgMBAQEDBwEDAQ4CBAIIBAICAgQBAQEBAQUKAQECAwECAgYCAgIIAwQBAQELAgECAQIFCQICAgEBBQMBAgQDCgIBBQIEBQMCAQMCAQEBAgMBAwEBAwIHAQEIAQIBAwICBAMCAQIBBAMGBQEGAQEBAQEBAgICAwMCBwcDCgQBAQICEQEBAQMHAQIBAgECBQIEAgMBAwcEAwICAgIJAQEFAQICCAYPAQIBAgQDAwECAQQBBwMIBwIIAQIEAQIEBgEDAQoCAQUEAQI=",
          "dtype": "i1"
         },
         "yaxis": "y2"
        },
        {
         "boxpoints": false,
         "line": {
          "color": "#1e3f5a"
         },
         "marker": {
          "color": "#1e3f5a"
         },
         "name": "",
         "type": "box",
         "x": [
          "Young Adult (20-29)",
          "Adult (30-39)",
          "Adult (30-39)",
          "Teen (0-19)",
          "Young Adult (20-29)",
          "Young Adult (20-29)",
          "Young Adult (20-29)",
          "Adult (30-39)",
          "Young Adult (20-29)",
          "Adult (30-39)",
          "Young Adult (20-29)",
          "Young Adult (20-29)",
          "Young Adult (20-29)",
          "Young Adult (20-29)",
          "Young Adult (20-29)",
          "Senior (50+)",
          "Senior (50+)",
          "Teen (0-19)",
          "Middle Age (40-49)",
          "Adult (30-39)",
          "Senior (50+)",
          "Senior (50+)",
          "Adult (30-39)",
          "Middle Age (40-49)",
          "Young Adult (20-29)",
          "Senior (50+)",
          "Adult (30-39)",
          "Young Adult (20-29)",
          "Adult (30-39)",
          "Adult (30-39)",
          "Adult (30-39)",
          "Senior (50+)",
          "Young Adult (20-29)",
          "Young Adult (20-29)",
          "Adult (30-39)",
          "Senior (50+)",
          "Young Adult (20-29)",
          "Adult (30-39)",
          "Adult (30-39)",
          "Teen (0-19)",
          "Middle Age (40-49)",
          "Adult (30-39)",
          "Middle Age (40-49)",
          "Young Adult (20-29)",
          "Adult (30-39)",
          "Adult (30-39)",
          "Senior (50+)",
          "Middle Age (40-49)",
          "Young Adult (20-29)",
          "Middle Age (40-49)",
          "Adult (30-39)",
          "Young Adult (20-29)",
          "Adult (30-39)",
          "Adult (30-39)",
          "Adult (30-39)",
          "Senior (50+)",
          "Teen (0-19)",
          "Adult (30-39)",
          "Adult (30-39)",
          "Adult (30-39)",
          "Young Adult (20-29)",
          "Adult (30-39)",
          "Young Adult (20-29)",
          "Adult (30-39)",
          "Young Adult (20-29)",
          "Young Adult (20-29)",
          "Adult (30-39)",
          "Middle Age (40-49)",
          "Adult (30-39)",
          "Adult (30-39)",
          "Young Adult (20-29)",
          "Teen (0-19)",
          "Middle Age (40-49)",
          "Adult (30-39)",
          "Young Adult (20-29)",
          "Adult (30-39)",
          "Young Adult (20-29)",
          "Senior (50+)",
          "Senior (50+)",
          "Adult (30-39)",
          "Young Adult (20-29)",
          "Senior (50+)",
          "Middle Age (40-49)",
          "Adult (30-39)",
          "Middle Age (40-49)",
          "Adult (30-39)",
          "Teen (0-19)",
          "Young Adult (20-29)",
          "Middle Age (40-49)",
          "Middle Age (40-49)",
          "Young Adult (20-29)",
          "Adult (30-39)",
          "Young Adult (20-29)",
          "Middle Age (40-49)",
          "Adult (30-39)",
          "Middle Age (40-49)",
          "Middle Age (40-49)",
          "Young Adult (20-29)",
          "Senior (50+)",
          "Adult (30-39)",
          "Middle Age (40-49)",
          "Young Adult (20-29)",
          "Adult (30-39)",
          "Senior (50+)",
          "Young Adult (20-29)",
          "Middle Age (40-49)",
          "Adult (30-39)",
          "Middle Age (40-49)",
          "Adult (30-39)",
          "Adult (30-39)",
          "Young Adult (20-29)",
          "Middle Age (40-49)",
          "Middle Age (40-49)",
          "Middle Age (40-49)",
          "Middle Age (40-49)",
          "Adult (30-39)",
          "Adult (30-39)",
          "Young Adult (20-29)",
          "Adult (30-39)",
          "Senior (50+)",
          "Young Adult (20-29)",
          "Senior (50+)",
          "Teen (0-19)",
          "Middle Age (40-49)",
          "Senior (50+)",
          "Adult (30-39)",
          "Middle Age (40-49)",
          "Young Adult (20-29)",
          "Adult (30-39)",
          "Middle Age (40-49)",
          "Middle Age (40-49)",
          "Young Adult (20-29)",
          "Young Adult (20-29)",
          "Senior (50+)",
          "Senior (50+)",
          "Teen (0-19)",
          "Middle Age (40-49)",
          "Adult (30-39)",
          "Adult (30-39)",
          "Middle Age (40-49)",
          "Senior (50+)",
          "Young Adult (20-29)",
          "Middle Age (40-49)",
          "Middle Age (40-49)",
          "Adult (30-39)",
          "Adult (30-39)",
          "Middle Age (40-49)",
          "Middle Age (40-49)",
          "Middle Age (40-49)",
          "Middle Age (40-49)",
          "Middle Age (40-49)",
          "Senior (50+)",
          "Middle Age (40-49)",
          "Young Adult (20-29)",
          "Senior (50+)",
          "Middle Age (40-49)",
          "Senior (50+)",
          "Young Adult (20-29)",
          "Adult (30-39)",
          "Adult (30-39)",
          "Adult (30-39)",
          "Young Adult (20-29)",
          "Middle Age (40-49)",
          "Adult (30-39)",
          "Young Adult (20-29)",
          "Senior (50+)",
          "Adult (30-39)",
          "Adult (30-39)",
          "Middle Age (40-49)",
          "Middle Age (40-49)",
          "Middle Age (40-49)",
          "Young Adult (20-29)",
          "Adult (30-39)",
          "Senior (50+)",
          "Adult (30-39)",
          "Middle Age (40-49)",
          "Senior (50+)",
          "Adult (30-39)",
          "Middle Age (40-49)",
          "Adult (30-39)",
          "Middle Age (40-49)",
          "Adult (30-39)",
          "Middle Age (40-49)",
          "Senior (50+)",
          "Adult (30-39)",
          "Adult (30-39)",
          "Young Adult (20-29)",
          "Young Adult (20-29)",
          "Senior (50+)",
          "Middle Age (40-49)",
          "Adult (30-39)",
          "Senior (50+)",
          "Adult (30-39)",
          "Adult (30-39)",
          "Middle Age (40-49)",
          "Middle Age (40-49)",
          "Young Adult (20-29)",
          "Young Adult (20-29)",
          "Adult (30-39)",
          "Young Adult (20-29)",
          "Senior (50+)",
          "Young Adult (20-29)",
          "Senior (50+)",
          "Adult (30-39)",
          "Adult (30-39)",
          "Adult (30-39)",
          "Adult (30-39)",
          "Adult (30-39)",
          "Young Adult (20-29)",
          "Middle Age (40-49)",
          "Adult (30-39)",
          "Middle Age (40-49)",
          "Adult (30-39)",
          "Young Adult (20-29)",
          "Young Adult (20-29)",
          "Middle Age (40-49)",
          "Senior (50+)",
          "Middle Age (40-49)",
          "Teen (0-19)",
          "Middle Age (40-49)",
          "Middle Age (40-49)",
          "Young Adult (20-29)",
          "Young Adult (20-29)",
          "Young Adult (20-29)",
          "Young Adult (20-29)",
          "Adult (30-39)",
          "Young Adult (20-29)",
          "Young Adult (20-29)",
          "Senior (50+)",
          "Senior (50+)",
          "Adult (30-39)",
          "Adult (30-39)",
          "Young Adult (20-29)",
          "Young Adult (20-29)",
          "Senior (50+)",
          "Adult (30-39)",
          "Middle Age (40-49)",
          "Young Adult (20-29)",
          "Senior (50+)",
          "Senior (50+)",
          "Middle Age (40-49)",
          "Adult (30-39)",
          "Senior (50+)",
          "Middle Age (40-49)",
          "Middle Age (40-49)",
          "Young Adult (20-29)",
          "Senior (50+)",
          "Young Adult (20-29)",
          "Adult (30-39)",
          "Young Adult (20-29)",
          "Middle Age (40-49)",
          "Young Adult (20-29)",
          "Young Adult (20-29)",
          "Adult (30-39)",
          "Young Adult (20-29)",
          "Adult (30-39)",
          "Middle Age (40-49)",
          "Young Adult (20-29)",
          "Young Adult (20-29)",
          "Young Adult (20-29)",
          "Teen (0-19)",
          "Young Adult (20-29)",
          "Young Adult (20-29)",
          "Adult (30-39)",
          "Senior (50+)",
          "Young Adult (20-29)",
          "Senior (50+)",
          "Adult (30-39)",
          "Middle Age (40-49)",
          "Senior (50+)",
          "Middle Age (40-49)",
          "Young Adult (20-29)",
          "Young Adult (20-29)",
          "Young Adult (20-29)",
          "Young Adult (20-29)",
          "Senior (50+)",
          "Senior (50+)",
          "Young Adult (20-29)",
          "Adult (30-39)",
          "Young Adult (20-29)",
          "Young Adult (20-29)",
          "Adult (30-39)",
          "Senior (50+)",
          "Middle Age (40-49)",
          "Middle Age (40-49)",
          "Adult (30-39)",
          "Middle Age (40-49)",
          "Middle Age (40-49)",
          "Adult (30-39)",
          "Middle Age (40-49)",
          "Adult (30-39)",
          "Senior (50+)",
          "Senior (50+)",
          "Young Adult (20-29)",
          "Young Adult (20-29)",
          "Middle Age (40-49)",
          "Adult (30-39)",
          "Adult (30-39)",
          "Adult (30-39)",
          "Young Adult (20-29)",
          "Senior (50+)",
          "Middle Age (40-49)",
          "Middle Age (40-49)",
          "Middle Age (40-49)",
          "Middle Age (40-49)",
          "Adult (30-39)",
          "Adult (30-39)",
          "Adult (30-39)",
          "Adult (30-39)",
          "Adult (30-39)",
          "Adult (30-39)",
          "Middle Age (40-49)",
          "Young Adult (20-29)",
          "Adult (30-39)",
          "Adult (30-39)",
          "Senior (50+)",
          "Middle Age (40-49)",
          "Senior (50+)",
          "Middle Age (40-49)",
          "Senior (50+)",
          "Young Adult (20-29)",
          "Adult (30-39)",
          "Middle Age (40-49)",
          "Teen (0-19)",
          "Middle Age (40-49)",
          "Adult (30-39)",
          "Adult (30-39)",
          "Young Adult (20-29)",
          "Middle Age (40-49)",
          "Adult (30-39)",
          "Middle Age (40-49)",
          "Senior (50+)",
          "Middle Age (40-49)",
          "Senior (50+)",
          "Senior (50+)",
          "Middle Age (40-49)",
          "Middle Age (40-49)",
          "Adult (30-39)",
          "Senior (50+)",
          "Adult (30-39)",
          "Adult (30-39)",
          "Senior (50+)",
          "Young Adult (20-29)",
          "Young Adult (20-29)",
          "Adult (30-39)",
          "Middle Age (40-49)",
          "Young Adult (20-29)",
          "Adult (30-39)",
          "Adult (30-39)",
          "Young Adult (20-29)",
          "Senior (50+)",
          "Senior (50+)",
          "Senior (50+)",
          "Young Adult (20-29)",
          "Young Adult (20-29)",
          "Adult (30-39)",
          "Middle Age (40-49)",
          "Middle Age (40-49)",
          "Adult (30-39)",
          "Middle Age (40-49)",
          "Adult (30-39)",
          "Middle Age (40-49)",
          "Young Adult (20-29)",
          "Middle Age (40-49)",
          "Young Adult (20-29)",
          "Young Adult (20-29)",
          "Senior (50+)",
          "Senior (50+)",
          "Adult (30-39)",
          "Teen (0-19)",
          "Senior (50+)",
          "Young Adult (20-29)",
          "Young Adult (20-29)",
          "Senior (50+)",
          "Adult (30-39)",
          "Adult (30-39)",
          "Adult (30-39)",
          "Adult (30-39)",
          "Young Adult (20-29)",
          "Young Adult (20-29)",
          "Adult (30-39)",
          "Middle Age (40-49)",
          "Adult (30-39)",
          "Young Adult (20-29)",
          "Adult (30-39)",
          "Adult (30-39)",
          "Adult (30-39)",
          "Adult (30-39)",
          "Young Adult (20-29)",
          "Senior (50+)",
          "Middle Age (40-49)",
          "Senior (50+)",
          "Adult (30-39)",
          "Young Adult (20-29)",
          "Adult (30-39)",
          "Adult (30-39)",
          "Senior (50+)",
          "Adult (30-39)",
          "Adult (30-39)",
          "Adult (30-39)",
          "Young Adult (20-29)",
          "Adult (30-39)",
          "Adult (30-39)",
          "Adult (30-39)",
          "Young Adult (20-29)",
          "Teen (0-19)",
          "Senior (50+)",
          "Adult (30-39)",
          "Middle Age (40-49)",
          "Young Adult (20-29)",
          "Adult (30-39)",
          "Teen (0-19)",
          "Senior (50+)",
          "Middle Age (40-49)",
          "Adult (30-39)",
          "Young Adult (20-29)",
          "Middle Age (40-49)",
          "Middle Age (40-49)",
          "Adult (30-39)",
          "Adult (30-39)",
          "Senior (50+)",
          "Middle Age (40-49)",
          "Young Adult (20-29)",
          "Middle Age (40-49)",
          "Adult (30-39)",
          "Teen (0-19)",
          "Young Adult (20-29)",
          "Young Adult (20-29)",
          "Adult (30-39)",
          "Teen (0-19)",
          "Young Adult (20-29)",
          "Young Adult (20-29)",
          "Adult (30-39)",
          "Teen (0-19)",
          "Teen (0-19)",
          "Senior (50+)",
          "Adult (30-39)",
          "Adult (30-39)",
          "Young Adult (20-29)",
          "Young Adult (20-29)",
          "Middle Age (40-49)",
          "Teen (0-19)",
          "Young Adult (20-29)",
          "Young Adult (20-29)",
          "Young Adult (20-29)",
          "Young Adult (20-29)",
          "Teen (0-19)",
          "Senior (50+)",
          "Senior (50+)",
          "Young Adult (20-29)",
          "Middle Age (40-49)",
          "Young Adult (20-29)",
          "Adult (30-39)",
          "Young Adult (20-29)",
          "Adult (30-39)",
          "Young Adult (20-29)",
          "Middle Age (40-49)",
          "Adult (30-39)",
          "Adult (30-39)",
          "Young Adult (20-29)",
          "Young Adult (20-29)",
          "Senior (50+)",
          "Adult (30-39)",
          "Teen (0-19)",
          "Senior (50+)",
          "Senior (50+)",
          "Young Adult (20-29)",
          "Senior (50+)",
          "Adult (30-39)",
          "Adult (30-39)",
          "Middle Age (40-49)",
          "Adult (30-39)",
          "Middle Age (40-49)",
          "Adult (30-39)",
          "Young Adult (20-29)",
          "Adult (30-39)",
          "Young Adult (20-29)",
          "Adult (30-39)",
          "Adult (30-39)",
          "Young Adult (20-29)",
          "Young Adult (20-29)",
          "Teen (0-19)",
          "Young Adult (20-29)",
          "Adult (30-39)",
          "Middle Age (40-49)",
          "Middle Age (40-49)",
          "Adult (30-39)",
          "Middle Age (40-49)",
          "Young Adult (20-29)",
          "Middle Age (40-49)",
          "Young Adult (20-29)",
          "Young Adult (20-29)",
          "Young Adult (20-29)",
          "Adult (30-39)",
          "Adult (30-39)",
          "Adult (30-39)",
          "Teen (0-19)",
          "Adult (30-39)",
          "Middle Age (40-49)",
          "Young Adult (20-29)",
          "Adult (30-39)",
          "Young Adult (20-29)",
          "Senior (50+)",
          "Young Adult (20-29)",
          "Senior (50+)",
          "Adult (30-39)",
          "Senior (50+)",
          "Young Adult (20-29)",
          "Young Adult (20-29)",
          "Young Adult (20-29)",
          "Young Adult (20-29)",
          "Young Adult (20-29)",
          "Young Adult (20-29)",
          "Middle Age (40-49)",
          "Young Adult (20-29)",
          "Adult (30-39)",
          "Young Adult (20-29)",
          "Adult (30-39)",
          "Young Adult (20-29)",
          "Teen (0-19)",
          "Middle Age (40-49)",
          "Senior (50+)",
          "Middle Age (40-49)",
          "Senior (50+)",
          "Teen (0-19)",
          "Middle Age (40-49)",
          "Young Adult (20-29)",
          "Adult (30-39)",
          "Adult (30-39)",
          "Senior (50+)",
          "Teen (0-19)",
          "Adult (30-39)",
          "Teen (0-19)",
          "Senior (50+)",
          "Senior (50+)",
          "Young Adult (20-29)",
          "Adult (30-39)",
          "Adult (30-39)",
          "Adult (30-39)",
          "Adult (30-39)",
          "Middle Age (40-49)",
          "Young Adult (20-29)",
          "Young Adult (20-29)",
          "Senior (50+)",
          "Middle Age (40-49)",
          "Adult (30-39)",
          "Young Adult (20-29)",
          "Adult (30-39)",
          "Teen (0-19)",
          "Middle Age (40-49)",
          "Adult (30-39)",
          "Young Adult (20-29)",
          "Young Adult (20-29)",
          "Senior (50+)",
          "Young Adult (20-29)",
          "Adult (30-39)",
          "Adult (30-39)",
          "Adult (30-39)",
          "Young Adult (20-29)",
          "Young Adult (20-29)",
          "Young Adult (20-29)",
          "Young Adult (20-29)",
          "Young Adult (20-29)",
          "Adult (30-39)",
          "Middle Age (40-49)",
          "Middle Age (40-49)",
          "Young Adult (20-29)",
          "Middle Age (40-49)",
          "Senior (50+)",
          "Senior (50+)",
          "Young Adult (20-29)",
          "Young Adult (20-29)",
          "Adult (30-39)",
          "Adult (30-39)",
          "Young Adult (20-29)",
          "Middle Age (40-49)",
          "Senior (50+)",
          "Middle Age (40-49)",
          "Teen (0-19)",
          "Senior (50+)",
          "Young Adult (20-29)",
          "Adult (30-39)",
          "Teen (0-19)",
          "Young Adult (20-29)",
          "Adult (30-39)",
          "Middle Age (40-49)",
          "Senior (50+)",
          "Young Adult (20-29)",
          "Young Adult (20-29)",
          "Young Adult (20-29)",
          "Young Adult (20-29)",
          "Middle Age (40-49)",
          "Young Adult (20-29)",
          "Adult (30-39)",
          "Adult (30-39)",
          "Middle Age (40-49)",
          "Middle Age (40-49)",
          "Young Adult (20-29)",
          "Young Adult (20-29)",
          "Adult (30-39)",
          "Senior (50+)",
          "Young Adult (20-29)",
          "Young Adult (20-29)",
          "Adult (30-39)",
          "Adult (30-39)",
          "Adult (30-39)",
          "Middle Age (40-49)",
          "Adult (30-39)",
          "Teen (0-19)",
          "Adult (30-39)",
          "Young Adult (20-29)",
          "Middle Age (40-49)",
          "Senior (50+)",
          "Teen (0-19)",
          "Young Adult (20-29)",
          "Adult (30-39)",
          "Young Adult (20-29)",
          "Adult (30-39)",
          "Young Adult (20-29)",
          "Adult (30-39)",
          "Middle Age (40-49)",
          "Adult (30-39)",
          "Young Adult (20-29)",
          "Teen (0-19)",
          "Adult (30-39)",
          "Adult (30-39)",
          "Teen (0-19)",
          "Adult (30-39)",
          "Middle Age (40-49)",
          "Adult (30-39)",
          "Middle Age (40-49)",
          "Teen (0-19)",
          "Senior (50+)",
          "Senior (50+)",
          "Adult (30-39)",
          "Middle Age (40-49)",
          "Middle Age (40-49)",
          "Young Adult (20-29)",
          "Adult (30-39)",
          "Young Adult (20-29)",
          "Young Adult (20-29)",
          "Young Adult (20-29)",
          "Young Adult (20-29)",
          "Middle Age (40-49)",
          "Adult (30-39)",
          "Middle Age (40-49)",
          "Senior (50+)",
          "Senior (50+)",
          "Middle Age (40-49)",
          "Young Adult (20-29)",
          "Adult (30-39)",
          "Teen (0-19)",
          "Adult (30-39)",
          "Adult (30-39)",
          "Young Adult (20-29)",
          "Senior (50+)",
          "Adult (30-39)",
          "Adult (30-39)",
          "Adult (30-39)",
          "Senior (50+)",
          "Adult (30-39)",
          "Young Adult (20-29)",
          "Young Adult (20-29)",
          "Young Adult (20-29)",
          "Adult (30-39)",
          "Adult (30-39)",
          "Young Adult (20-29)",
          "Young Adult (20-29)",
          "Young Adult (20-29)",
          "Adult (30-39)",
          "Adult (30-39)",
          "Young Adult (20-29)",
          "Senior (50+)",
          "Middle Age (40-49)",
          "Adult (30-39)",
          "Teen (0-19)",
          "Adult (30-39)",
          "Adult (30-39)",
          "Young Adult (20-29)",
          "Senior (50+)",
          "Middle Age (40-49)",
          "Middle Age (40-49)",
          "Young Adult (20-29)",
          "Teen (0-19)",
          "Adult (30-39)",
          "Teen (0-19)",
          "Young Adult (20-29)",
          "Young Adult (20-29)",
          "Senior (50+)",
          "Senior (50+)",
          "Adult (30-39)",
          "Young Adult (20-29)",
          "Young Adult (20-29)",
          "Young Adult (20-29)",
          "Middle Age (40-49)",
          "Adult (30-39)",
          "Young Adult (20-29)",
          "Adult (30-39)",
          "Adult (30-39)",
          "Adult (30-39)",
          "Adult (30-39)",
          "Adult (30-39)",
          "Adult (30-39)",
          "Young Adult (20-29)",
          "Young Adult (20-29)",
          "Adult (30-39)",
          "Young Adult (20-29)",
          "Senior (50+)",
          "Middle Age (40-49)",
          "Middle Age (40-49)",
          "Adult (30-39)",
          "Middle Age (40-49)",
          "Teen (0-19)",
          "Adult (30-39)",
          "Teen (0-19)",
          "Young Adult (20-29)",
          "Adult (30-39)",
          "Adult (30-39)",
          "Senior (50+)",
          "Middle Age (40-49)",
          "Adult (30-39)",
          "Young Adult (20-29)",
          "Young Adult (20-29)",
          "Adult (30-39)",
          "Young Adult (20-29)",
          "Senior (50+)",
          "Middle Age (40-49)",
          "Middle Age (40-49)",
          "Adult (30-39)",
          "Middle Age (40-49)",
          "Adult (30-39)",
          "Adult (30-39)",
          "Young Adult (20-29)",
          "Teen (0-19)",
          "Teen (0-19)",
          "Teen (0-19)",
          "Adult (30-39)",
          "Middle Age (40-49)",
          "Young Adult (20-29)",
          "Adult (30-39)",
          "Adult (30-39)",
          "Young Adult (20-29)",
          "Adult (30-39)",
          "Young Adult (20-29)",
          "Adult (30-39)",
          "Young Adult (20-29)",
          "Adult (30-39)",
          "Adult (30-39)",
          "Middle Age (40-49)",
          "Senior (50+)",
          "Senior (50+)",
          "Middle Age (40-49)",
          "Teen (0-19)",
          "Senior (50+)",
          "Adult (30-39)",
          "Young Adult (20-29)",
          "Adult (30-39)",
          "Senior (50+)",
          "Adult (30-39)",
          "Senior (50+)",
          "Young Adult (20-29)",
          "Young Adult (20-29)",
          "Adult (30-39)",
          "Adult (30-39)",
          "Young Adult (20-29)",
          "Adult (30-39)",
          "Adult (30-39)",
          "Young Adult (20-29)",
          "Young Adult (20-29)",
          "Middle Age (40-49)",
          "Adult (30-39)",
          "Young Adult (20-29)",
          "Young Adult (20-29)",
          "Teen (0-19)",
          "Young Adult (20-29)",
          "Young Adult (20-29)",
          "Senior (50+)",
          "Teen (0-19)",
          "Adult (30-39)",
          "Middle Age (40-49)",
          "Young Adult (20-29)",
          "Young Adult (20-29)",
          "Senior (50+)",
          "Senior (50+)",
          "Adult (30-39)",
          "Young Adult (20-29)",
          "Adult (30-39)",
          "Adult (30-39)",
          "Middle Age (40-49)",
          "Adult (30-39)",
          "Adult (30-39)",
          "Young Adult (20-29)",
          "Senior (50+)",
          "Adult (30-39)",
          "Middle Age (40-49)",
          "Young Adult (20-29)",
          "Senior (50+)",
          "Young Adult (20-29)",
          "Young Adult (20-29)",
          "Middle Age (40-49)",
          "Young Adult (20-29)",
          "Adult (30-39)",
          "Adult (30-39)",
          "Teen (0-19)",
          "Middle Age (40-49)",
          "Adult (30-39)",
          "Adult (30-39)",
          "Middle Age (40-49)",
          "Adult (30-39)",
          "Adult (30-39)",
          "Young Adult (20-29)",
          "Senior (50+)",
          "Adult (30-39)",
          "Young Adult (20-29)",
          "Adult (30-39)",
          "Middle Age (40-49)",
          "Adult (30-39)",
          "Middle Age (40-49)",
          "Young Adult (20-29)",
          "Adult (30-39)",
          "Young Adult (20-29)",
          "Teen (0-19)",
          "Senior (50+)",
          "Adult (30-39)",
          "Middle Age (40-49)",
          "Young Adult (20-29)",
          "Adult (30-39)",
          "Adult (30-39)",
          "Young Adult (20-29)",
          "Middle Age (40-49)",
          "Young Adult (20-29)",
          "Young Adult (20-29)",
          "Middle Age (40-49)",
          "Young Adult (20-29)",
          "Middle Age (40-49)",
          "Adult (30-39)",
          "Adult (30-39)",
          "Middle Age (40-49)",
          "Young Adult (20-29)",
          "Young Adult (20-29)",
          "Young Adult (20-29)",
          "Senior (50+)",
          "Young Adult (20-29)",
          "Teen (0-19)",
          "Adult (30-39)",
          "Young Adult (20-29)",
          "Senior (50+)",
          "Senior (50+)",
          "Teen (0-19)",
          "Adult (30-39)",
          "Young Adult (20-29)",
          "Senior (50+)",
          "Adult (30-39)",
          "Young Adult (20-29)",
          "Senior (50+)",
          "Young Adult (20-29)",
          "Middle Age (40-49)",
          "Adult (30-39)",
          "Young Adult (20-29)",
          "Adult (30-39)",
          "Young Adult (20-29)",
          "Adult (30-39)",
          "Adult (30-39)",
          "Adult (30-39)",
          "Young Adult (20-29)",
          "Young Adult (20-29)",
          "Young Adult (20-29)",
          "Adult (30-39)",
          "Senior (50+)",
          "Adult (30-39)",
          "Middle Age (40-49)",
          "Young Adult (20-29)",
          "Middle Age (40-49)",
          "Young Adult (20-29)",
          "Adult (30-39)",
          "Young Adult (20-29)",
          "Adult (30-39)",
          "Adult (30-39)",
          "Senior (50+)",
          "Adult (30-39)",
          "Middle Age (40-49)",
          "Young Adult (20-29)",
          "Adult (30-39)",
          "Adult (30-39)",
          "Middle Age (40-49)",
          "Young Adult (20-29)",
          "Middle Age (40-49)",
          "Young Adult (20-29)",
          "Young Adult (20-29)",
          "Young Adult (20-29)",
          "Adult (30-39)",
          "Young Adult (20-29)",
          "Senior (50+)",
          "Senior (50+)",
          "Middle Age (40-49)",
          "Young Adult (20-29)",
          "Young Adult (20-29)",
          "Teen (0-19)",
          "Young Adult (20-29)",
          "Young Adult (20-29)",
          "Teen (0-19)",
          "Middle Age (40-49)",
          "Senior (50+)",
          "Young Adult (20-29)",
          "Teen (0-19)",
          "Middle Age (40-49)",
          "Middle Age (40-49)",
          "Middle Age (40-49)",
          "Teen (0-19)",
          "Teen (0-19)",
          "Middle Age (40-49)",
          "Adult (30-39)",
          "Young Adult (20-29)",
          "Middle Age (40-49)",
          "Adult (30-39)",
          "Young Adult (20-29)",
          "Adult (30-39)",
          "Senior (50+)",
          "Senior (50+)",
          "Adult (30-39)",
          "Senior (50+)",
          "Adult (30-39)",
          "Young Adult (20-29)",
          "Adult (30-39)",
          "Young Adult (20-29)",
          "Young Adult (20-29)",
          "Middle Age (40-49)",
          "Young Adult (20-29)",
          "Adult (30-39)",
          "Adult (30-39)",
          "Young Adult (20-29)",
          "Middle Age (40-49)",
          "Middle Age (40-49)",
          "Middle Age (40-49)",
          "Young Adult (20-29)",
          "Senior (50+)",
          "Young Adult (20-29)",
          "Adult (30-39)",
          "Senior (50+)",
          "Adult (30-39)",
          "Senior (50+)",
          "Young Adult (20-29)",
          "Teen (0-19)",
          "Adult (30-39)",
          "Adult (30-39)",
          "Adult (30-39)",
          "Middle Age (40-49)",
          "Middle Age (40-49)",
          "Senior (50+)",
          "Adult (30-39)",
          "Adult (30-39)",
          "Senior (50+)",
          "Middle Age (40-49)",
          "Adult (30-39)",
          "Adult (30-39)",
          "Adult (30-39)",
          "Adult (30-39)",
          "Middle Age (40-49)",
          "Young Adult (20-29)",
          "Young Adult (20-29)",
          "Young Adult (20-29)",
          "Adult (30-39)",
          "Adult (30-39)",
          "Middle Age (40-49)",
          "Adult (30-39)",
          "Young Adult (20-29)",
          "Young Adult (20-29)",
          "Young Adult (20-29)",
          "Young Adult (20-29)",
          "Adult (30-39)",
          "Adult (30-39)",
          "Adult (30-39)",
          "Young Adult (20-29)",
          "Adult (30-39)",
          "Adult (30-39)",
          "Adult (30-39)",
          "Adult (30-39)",
          "Middle Age (40-49)",
          "Young Adult (20-29)",
          "Middle Age (40-49)",
          "Teen (0-19)",
          "Adult (30-39)",
          "Adult (30-39)",
          "Senior (50+)",
          "Senior (50+)",
          "Senior (50+)",
          "Young Adult (20-29)",
          "Senior (50+)",
          "Young Adult (20-29)",
          "Middle Age (40-49)",
          "Teen (0-19)",
          "Adult (30-39)",
          "Young Adult (20-29)",
          "Teen (0-19)",
          "Adult (30-39)",
          "Young Adult (20-29)",
          "Young Adult (20-29)",
          "Adult (30-39)",
          "Young Adult (20-29)",
          "Adult (30-39)",
          "Adult (30-39)",
          "Adult (30-39)",
          "Adult (30-39)",
          "Adult (30-39)",
          "Adult (30-39)",
          "Adult (30-39)",
          "Middle Age (40-49)",
          "Adult (30-39)",
          "Young Adult (20-29)",
          "Young Adult (20-29)",
          "Adult (30-39)",
          "Adult (30-39)",
          "Young Adult (20-29)",
          "Adult (30-39)",
          "Senior (50+)",
          "Senior (50+)",
          "Senior (50+)",
          "Adult (30-39)",
          "Adult (30-39)",
          "Adult (30-39)",
          "Adult (30-39)",
          "Young Adult (20-29)",
          "Adult (30-39)",
          "Adult (30-39)",
          "Adult (30-39)",
          "Adult (30-39)",
          "Senior (50+)",
          "Senior (50+)",
          "Adult (30-39)",
          "Young Adult (20-29)",
          "Senior (50+)",
          "Middle Age (40-49)",
          "Adult (30-39)",
          "Adult (30-39)",
          "Middle Age (40-49)",
          "Young Adult (20-29)",
          "Middle Age (40-49)",
          "Senior (50+)",
          "Young Adult (20-29)",
          "Young Adult (20-29)",
          "Middle Age (40-49)",
          "Adult (30-39)",
          "Senior (50+)",
          "Senior (50+)",
          "Middle Age (40-49)",
          "Adult (30-39)",
          "Middle Age (40-49)",
          "Middle Age (40-49)",
          "Young Adult (20-29)",
          "Middle Age (40-49)",
          "Adult (30-39)",
          "Senior (50+)",
          "Young Adult (20-29)",
          "Middle Age (40-49)",
          "Young Adult (20-29)",
          "Adult (30-39)",
          "Adult (30-39)",
          "Middle Age (40-49)",
          "Young Adult (20-29)",
          "Middle Age (40-49)",
          "Middle Age (40-49)",
          "Middle Age (40-49)",
          "Middle Age (40-49)",
          "Senior (50+)",
          "Young Adult (20-29)",
          "Teen (0-19)",
          "Middle Age (40-49)",
          "Middle Age (40-49)",
          "Middle Age (40-49)",
          "Adult (30-39)",
          "Senior (50+)",
          "Middle Age (40-49)",
          "Middle Age (40-49)",
          "Senior (50+)",
          "Adult (30-39)",
          "Senior (50+)",
          "Young Adult (20-29)",
          "Young Adult (20-29)",
          "Adult (30-39)",
          "Adult (30-39)",
          "Young Adult (20-29)",
          "Adult (30-39)",
          "Senior (50+)",
          "Young Adult (20-29)",
          "Adult (30-39)",
          "Adult (30-39)",
          "Middle Age (40-49)",
          "Senior (50+)",
          "Middle Age (40-49)",
          "Middle Age (40-49)",
          "Adult (30-39)",
          "Young Adult (20-29)",
          "Adult (30-39)",
          "Young Adult (20-29)",
          "Senior (50+)",
          "Adult (30-39)",
          "Middle Age (40-49)",
          "Senior (50+)",
          "Adult (30-39)",
          "Senior (50+)",
          "Adult (30-39)",
          "Middle Age (40-49)",
          "Middle Age (40-49)",
          "Senior (50+)",
          "Adult (30-39)",
          "Young Adult (20-29)",
          "Young Adult (20-29)",
          "Senior (50+)",
          "Adult (30-39)",
          "Middle Age (40-49)",
          "Adult (30-39)",
          "Adult (30-39)",
          "Young Adult (20-29)",
          "Middle Age (40-49)",
          "Senior (50+)",
          "Adult (30-39)",
          "Young Adult (20-29)",
          "Senior (50+)",
          "Adult (30-39)",
          "Young Adult (20-29)",
          "Senior (50+)",
          "Adult (30-39)",
          "Young Adult (20-29)",
          "Middle Age (40-49)",
          "Middle Age (40-49)",
          "Adult (30-39)",
          "Young Adult (20-29)",
          "Young Adult (20-29)",
          "Young Adult (20-29)",
          "Teen (0-19)",
          "Middle Age (40-49)",
          "Young Adult (20-29)",
          "Middle Age (40-49)",
          "Adult (30-39)",
          "Middle Age (40-49)",
          "Young Adult (20-29)",
          "Adult (30-39)",
          "Adult (30-39)",
          "Middle Age (40-49)",
          "Middle Age (40-49)",
          "Young Adult (20-29)",
          "Middle Age (40-49)",
          "Middle Age (40-49)",
          "Young Adult (20-29)",
          "Adult (30-39)",
          "Adult (30-39)",
          "Middle Age (40-49)",
          "Adult (30-39)",
          "Senior (50+)",
          "Middle Age (40-49)",
          "Senior (50+)",
          "Adult (30-39)",
          "Middle Age (40-49)",
          "Adult (30-39)",
          "Young Adult (20-29)",
          "Senior (50+)",
          "Young Adult (20-29)",
          "Middle Age (40-49)",
          "Senior (50+)",
          "Teen (0-19)",
          "Adult (30-39)",
          "Teen (0-19)",
          "Senior (50+)",
          "Middle Age (40-49)",
          "Young Adult (20-29)",
          "Young Adult (20-29)",
          "Middle Age (40-49)",
          "Adult (30-39)",
          "Senior (50+)",
          "Middle Age (40-49)",
          "Middle Age (40-49)",
          "Senior (50+)",
          "Young Adult (20-29)",
          "Adult (30-39)",
          "Senior (50+)",
          "Young Adult (20-29)",
          "Middle Age (40-49)",
          "Adult (30-39)",
          "Adult (30-39)",
          "Adult (30-39)",
          "Young Adult (20-29)",
          "Adult (30-39)",
          "Adult (30-39)",
          "Middle Age (40-49)",
          "Adult (30-39)",
          "Senior (50+)",
          "Young Adult (20-29)",
          "Adult (30-39)",
          "Teen (0-19)",
          "Young Adult (20-29)",
          "Middle Age (40-49)",
          "Middle Age (40-49)",
          "Middle Age (40-49)",
          "Adult (30-39)",
          "Middle Age (40-49)",
          "Middle Age (40-49)",
          "Middle Age (40-49)",
          "Middle Age (40-49)",
          "Adult (30-39)",
          "Adult (30-39)",
          "Teen (0-19)",
          "Middle Age (40-49)",
          "Senior (50+)",
          "Young Adult (20-29)",
          "Young Adult (20-29)",
          "Young Adult (20-29)",
          "Adult (30-39)",
          "Middle Age (40-49)",
          "Adult (30-39)",
          "Young Adult (20-29)",
          "Middle Age (40-49)",
          "Middle Age (40-49)",
          "Middle Age (40-49)",
          "Adult (30-39)",
          "Middle Age (40-49)",
          "Middle Age (40-49)",
          "Young Adult (20-29)",
          "Senior (50+)",
          "Senior (50+)",
          "Adult (30-39)",
          "Young Adult (20-29)",
          "Adult (30-39)",
          "Teen (0-19)",
          "Young Adult (20-29)",
          "Adult (30-39)",
          "Adult (30-39)",
          "Middle Age (40-49)",
          "Middle Age (40-49)",
          "Senior (50+)",
          "Young Adult (20-29)",
          "Adult (30-39)",
          "Adult (30-39)",
          "Middle Age (40-49)",
          "Senior (50+)",
          "Young Adult (20-29)",
          "Middle Age (40-49)",
          "Adult (30-39)",
          "Middle Age (40-49)",
          "Young Adult (20-29)",
          "Middle Age (40-49)",
          "Senior (50+)",
          "Senior (50+)",
          "Adult (30-39)",
          "Adult (30-39)",
          "Adult (30-39)",
          "Adult (30-39)",
          "Middle Age (40-49)",
          "Adult (30-39)",
          "Young Adult (20-29)",
          "Middle Age (40-49)",
          "Adult (30-39)",
          "Young Adult (20-29)",
          "Senior (50+)",
          "Middle Age (40-49)",
          "Adult (30-39)",
          "Middle Age (40-49)",
          "Adult (30-39)",
          "Middle Age (40-49)",
          "Adult (30-39)",
          "Middle Age (40-49)",
          "Adult (30-39)",
          "Adult (30-39)",
          "Young Adult (20-29)",
          "Adult (30-39)",
          "Middle Age (40-49)",
          "Young Adult (20-29)",
          "Young Adult (20-29)",
          "Adult (30-39)",
          "Middle Age (40-49)",
          "Young Adult (20-29)",
          "Adult (30-39)",
          "Middle Age (40-49)",
          "Middle Age (40-49)",
          "Adult (30-39)",
          "Young Adult (20-29)",
          "Adult (30-39)",
          "Adult (30-39)",
          "Middle Age (40-49)",
          "Middle Age (40-49)",
          "Senior (50+)",
          "Adult (30-39)",
          "Young Adult (20-29)",
          "Young Adult (20-29)",
          "Adult (30-39)",
          "Adult (30-39)",
          "Middle Age (40-49)",
          "Senior (50+)",
          "Young Adult (20-29)",
          "Middle Age (40-49)",
          "Adult (30-39)",
          "Young Adult (20-29)",
          "Senior (50+)",
          "Young Adult (20-29)",
          "Senior (50+)",
          "Adult (30-39)",
          "Adult (30-39)",
          "Adult (30-39)",
          "Adult (30-39)",
          "Senior (50+)",
          "Young Adult (20-29)",
          "Adult (30-39)",
          "Middle Age (40-49)",
          "Middle Age (40-49)",
          "Young Adult (20-29)",
          "Adult (30-39)",
          "Senior (50+)",
          "Senior (50+)",
          "Adult (30-39)",
          "Young Adult (20-29)",
          "Middle Age (40-49)",
          "Adult (30-39)",
          "Adult (30-39)",
          "Middle Age (40-49)",
          "Middle Age (40-49)",
          "Senior (50+)",
          "Adult (30-39)",
          "Adult (30-39)",
          "Middle Age (40-49)",
          "Senior (50+)",
          "Young Adult (20-29)",
          "Senior (50+)",
          "Adult (30-39)",
          "Adult (30-39)",
          "Young Adult (20-29)",
          "Adult (30-39)",
          "Young Adult (20-29)",
          "Middle Age (40-49)",
          "Middle Age (40-49)",
          "Adult (30-39)",
          "Adult (30-39)",
          "Middle Age (40-49)",
          "Teen (0-19)",
          "Senior (50+)",
          "Middle Age (40-49)",
          "Young Adult (20-29)",
          "Adult (30-39)",
          "Young Adult (20-29)",
          "Middle Age (40-49)",
          "Middle Age (40-49)",
          "Middle Age (40-49)",
          "Young Adult (20-29)",
          "Adult (30-39)",
          "Young Adult (20-29)",
          "Adult (30-39)",
          "Middle Age (40-49)",
          "Senior (50+)",
          "Adult (30-39)",
          "Adult (30-39)",
          "Adult (30-39)",
          "Adult (30-39)",
          "Senior (50+)",
          "Young Adult (20-29)",
          "Young Adult (20-29)",
          "Senior (50+)",
          "Adult (30-39)",
          "Middle Age (40-49)",
          "Adult (30-39)",
          "Young Adult (20-29)",
          "Senior (50+)",
          "Adult (30-39)",
          "Middle Age (40-49)",
          "Middle Age (40-49)",
          "Middle Age (40-49)",
          "Young Adult (20-29)",
          "Adult (30-39)",
          "Adult (30-39)",
          "Middle Age (40-49)",
          "Middle Age (40-49)",
          "Middle Age (40-49)",
          "Adult (30-39)",
          "Young Adult (20-29)",
          "Middle Age (40-49)",
          "Senior (50+)",
          "Young Adult (20-29)",
          "Adult (30-39)",
          "Senior (50+)",
          "Middle Age (40-49)",
          "Young Adult (20-29)",
          "Young Adult (20-29)",
          "Young Adult (20-29)",
          "Senior (50+)",
          "Middle Age (40-49)",
          "Senior (50+)",
          "Young Adult (20-29)",
          "Middle Age (40-49)",
          "Adult (30-39)",
          "Adult (30-39)",
          "Middle Age (40-49)",
          "Adult (30-39)",
          "Senior (50+)",
          "Middle Age (40-49)",
          "Senior (50+)",
          "Middle Age (40-49)",
          "Young Adult (20-29)",
          "Young Adult (20-29)",
          "Middle Age (40-49)",
          "Middle Age (40-49)",
          "Middle Age (40-49)",
          "Young Adult (20-29)",
          "Adult (30-39)",
          "Middle Age (40-49)",
          "Middle Age (40-49)",
          "Senior (50+)",
          "Middle Age (40-49)",
          "Adult (30-39)",
          "Young Adult (20-29)",
          "Adult (30-39)",
          "Middle Age (40-49)",
          "Middle Age (40-49)",
          "Young Adult (20-29)",
          "Young Adult (20-29)",
          "Senior (50+)",
          "Adult (30-39)",
          "Adult (30-39)",
          "Adult (30-39)",
          "Adult (30-39)",
          "Young Adult (20-29)",
          "Adult (30-39)",
          "Adult (30-39)",
          "Middle Age (40-49)",
          "Adult (30-39)",
          "Adult (30-39)",
          "Middle Age (40-49)",
          "Middle Age (40-49)",
          "Adult (30-39)",
          "Adult (30-39)",
          "Middle Age (40-49)",
          "Middle Age (40-49)",
          "Young Adult (20-29)",
          "Young Adult (20-29)",
          "Adult (30-39)",
          "Middle Age (40-49)",
          "Adult (30-39)",
          "Middle Age (40-49)",
          "Middle Age (40-49)",
          "Middle Age (40-49)",
          "Young Adult (20-29)",
          "Adult (30-39)",
          "Adult (30-39)",
          "Middle Age (40-49)",
          "Young Adult (20-29)",
          "Young Adult (20-29)",
          "Senior (50+)",
          "Senior (50+)",
          "Adult (30-39)",
          "Senior (50+)",
          "Middle Age (40-49)",
          "Adult (30-39)",
          "Young Adult (20-29)",
          "Adult (30-39)",
          "Middle Age (40-49)",
          "Young Adult (20-29)",
          "Adult (30-39)",
          "Adult (30-39)",
          "Adult (30-39)",
          "Adult (30-39)",
          "Senior (50+)",
          "Young Adult (20-29)",
          "Middle Age (40-49)",
          "Adult (30-39)",
          "Adult (30-39)",
          "Young Adult (20-29)",
          "Senior (50+)",
          "Young Adult (20-29)",
          "Young Adult (20-29)",
          "Young Adult (20-29)",
          "Young Adult (20-29)",
          "Young Adult (20-29)",
          "Teen (0-19)",
          "Adult (30-39)",
          "Middle Age (40-49)",
          "Middle Age (40-49)",
          "Senior (50+)",
          "Senior (50+)",
          "Senior (50+)",
          "Young Adult (20-29)",
          "Adult (30-39)",
          "Middle Age (40-49)",
          "Young Adult (20-29)",
          "Middle Age (40-49)",
          "Adult (30-39)",
          "Teen (0-19)",
          "Young Adult (20-29)",
          "Adult (30-39)",
          "Young Adult (20-29)",
          "Middle Age (40-49)",
          "Young Adult (20-29)",
          "Senior (50+)",
          "Adult (30-39)",
          "Young Adult (20-29)",
          "Senior (50+)",
          "Adult (30-39)",
          "Senior (50+)",
          "Teen (0-19)",
          "Middle Age (40-49)",
          "Senior (50+)",
          "Senior (50+)",
          "Adult (30-39)",
          "Adult (30-39)",
          "Adult (30-39)",
          "Adult (30-39)",
          "Adult (30-39)",
          "Young Adult (20-29)",
          "Senior (50+)",
          "Adult (30-39)",
          "Adult (30-39)",
          "Middle Age (40-49)",
          "Adult (30-39)",
          "Young Adult (20-29)",
          "Adult (30-39)",
          "Adult (30-39)",
          "Adult (30-39)",
          "Young Adult (20-29)",
          "Young Adult (20-29)",
          "Senior (50+)",
          "Young Adult (20-29)",
          "Adult (30-39)",
          "Middle Age (40-49)",
          "Senior (50+)",
          "Senior (50+)",
          "Middle Age (40-49)",
          "Middle Age (40-49)",
          "Young Adult (20-29)",
          "Adult (30-39)",
          "Young Adult (20-29)",
          "Adult (30-39)",
          "Adult (30-39)",
          "Adult (30-39)",
          "Adult (30-39)",
          "Senior (50+)",
          "Young Adult (20-29)",
          "Adult (30-39)",
          "Adult (30-39)",
          "Adult (30-39)",
          "Adult (30-39)",
          "Adult (30-39)",
          "Middle Age (40-49)",
          "Adult (30-39)",
          "Young Adult (20-29)",
          "Adult (30-39)",
          "Young Adult (20-29)",
          "Senior (50+)",
          "Adult (30-39)",
          "Middle Age (40-49)",
          "Young Adult (20-29)",
          "Young Adult (20-29)",
          "Adult (30-39)",
          "Middle Age (40-49)",
          "Young Adult (20-29)",
          "Teen (0-19)",
          "Senior (50+)",
          "Teen (0-19)",
          "Senior (50+)",
          "Senior (50+)",
          "Adult (30-39)",
          "Middle Age (40-49)",
          "Young Adult (20-29)",
          "Adult (30-39)",
          "Middle Age (40-49)",
          "Middle Age (40-49)",
          "Middle Age (40-49)",
          "Middle Age (40-49)",
          "Young Adult (20-29)",
          "Adult (30-39)",
          "Adult (30-39)",
          "Adult (30-39)",
          "Adult (30-39)",
          "Adult (30-39)",
          "Adult (30-39)",
          "Middle Age (40-49)",
          "Adult (30-39)",
          "Young Adult (20-29)",
          "Adult (30-39)",
          "Senior (50+)",
          "Adult (30-39)",
          "Young Adult (20-29)",
          "Middle Age (40-49)",
          "Young Adult (20-29)",
          "Young Adult (20-29)",
          "Middle Age (40-49)",
          "Middle Age (40-49)",
          "Adult (30-39)",
          "Senior (50+)",
          "Middle Age (40-49)",
          "Middle Age (40-49)",
          "Young Adult (20-29)",
          "Adult (30-39)",
          "Teen (0-19)",
          "Young Adult (20-29)",
          "Young Adult (20-29)",
          "Young Adult (20-29)",
          "Young Adult (20-29)",
          "Middle Age (40-49)",
          "Adult (30-39)",
          "Young Adult (20-29)",
          "Teen (0-19)",
          "Young Adult (20-29)",
          "Young Adult (20-29)",
          "Young Adult (20-29)",
          "Adult (30-39)",
          "Adult (30-39)",
          "Young Adult (20-29)",
          "Teen (0-19)",
          "Adult (30-39)",
          "Teen (0-19)",
          "Adult (30-39)",
          "Adult (30-39)",
          "Adult (30-39)",
          "Young Adult (20-29)",
          "Adult (30-39)",
          "Young Adult (20-29)",
          "Adult (30-39)",
          "Senior (50+)",
          "Adult (30-39)",
          "Adult (30-39)",
          "Teen (0-19)",
          "Middle Age (40-49)",
          "Young Adult (20-29)",
          "Senior (50+)",
          "Senior (50+)",
          "Teen (0-19)",
          "Adult (30-39)",
          "Adult (30-39)",
          "Young Adult (20-29)",
          "Young Adult (20-29)",
          "Middle Age (40-49)",
          "Middle Age (40-49)",
          "Middle Age (40-49)",
          "Young Adult (20-29)",
          "Adult (30-39)",
          "Middle Age (40-49)",
          "Middle Age (40-49)",
          "Young Adult (20-29)",
          "Middle Age (40-49)",
          "Adult (30-39)",
          "Adult (30-39)",
          "Adult (30-39)",
          "Senior (50+)",
          "Young Adult (20-29)",
          "Young Adult (20-29)",
          "Young Adult (20-29)",
          "Young Adult (20-29)",
          "Senior (50+)",
          "Young Adult (20-29)",
          "Adult (30-39)",
          "Young Adult (20-29)",
          "Young Adult (20-29)",
          "Senior (50+)",
          "Young Adult (20-29)",
          "Adult (30-39)",
          "Middle Age (40-49)",
          "Adult (30-39)",
          "Middle Age (40-49)",
          "Adult (30-39)",
          "Young Adult (20-29)",
          "Middle Age (40-49)",
          "Young Adult (20-29)",
          "Young Adult (20-29)",
          "Middle Age (40-49)",
          "Young Adult (20-29)",
          "Middle Age (40-49)",
          "Teen (0-19)",
          "Adult (30-39)",
          "Young Adult (20-29)",
          "Teen (0-19)",
          "Young Adult (20-29)",
          "Adult (30-39)",
          "Young Adult (20-29)",
          "Adult (30-39)",
          "Adult (30-39)",
          "Young Adult (20-29)",
          "Middle Age (40-49)",
          "Middle Age (40-49)",
          "Young Adult (20-29)",
          "Adult (30-39)",
          "Adult (30-39)",
          "Adult (30-39)",
          "Adult (30-39)",
          "Young Adult (20-29)",
          "Middle Age (40-49)",
          "Adult (30-39)",
          "Adult (30-39)",
          "Teen (0-19)",
          "Young Adult (20-29)",
          "Young Adult (20-29)",
          "Adult (30-39)",
          "Adult (30-39)",
          "Young Adult (20-29)",
          "Adult (30-39)",
          "Adult (30-39)",
          "Adult (30-39)",
          "Senior (50+)",
          "Senior (50+)",
          "Young Adult (20-29)",
          "Senior (50+)",
          "Adult (30-39)",
          "Adult (30-39)",
          "Adult (30-39)",
          "Young Adult (20-29)",
          "Adult (30-39)",
          "Senior (50+)",
          "Adult (30-39)",
          "Middle Age (40-49)",
          "Adult (30-39)",
          "Senior (50+)",
          "Adult (30-39)",
          "Young Adult (20-29)",
          "Middle Age (40-49)",
          "Young Adult (20-29)",
          "Middle Age (40-49)",
          "Middle Age (40-49)",
          "Middle Age (40-49)",
          "Adult (30-39)",
          "Teen (0-19)",
          "Senior (50+)",
          "Adult (30-39)",
          "Young Adult (20-29)",
          "Young Adult (20-29)",
          "Young Adult (20-29)",
          "Young Adult (20-29)",
          "Middle Age (40-49)",
          "Adult (30-39)",
          "Middle Age (40-49)",
          "Adult (30-39)",
          "Middle Age (40-49)",
          "Adult (30-39)",
          "Middle Age (40-49)",
          "Young Adult (20-29)",
          "Adult (30-39)",
          "Senior (50+)",
          "Adult (30-39)",
          "Middle Age (40-49)",
          "Middle Age (40-49)",
          "Adult (30-39)",
          "Young Adult (20-29)",
          "Young Adult (20-29)",
          "Adult (30-39)",
          "Adult (30-39)",
          "Adult (30-39)",
          "Adult (30-39)",
          "Senior (50+)",
          "Young Adult (20-29)",
          "Senior (50+)",
          "Middle Age (40-49)",
          "Young Adult (20-29)",
          "Young Adult (20-29)",
          "Young Adult (20-29)",
          "Adult (30-39)",
          "Young Adult (20-29)",
          "Middle Age (40-49)",
          "Senior (50+)",
          "Adult (30-39)",
          "Adult (30-39)",
          "Senior (50+)",
          "Young Adult (20-29)",
          "Senior (50+)",
          "Middle Age (40-49)",
          "Teen (0-19)",
          "Middle Age (40-49)",
          "Adult (30-39)",
          "Adult (30-39)",
          "Adult (30-39)",
          "Young Adult (20-29)",
          "Adult (30-39)",
          "Adult (30-39)",
          "Adult (30-39)",
          "Young Adult (20-29)",
          "Middle Age (40-49)",
          "Teen (0-19)",
          "Adult (30-39)",
          "Middle Age (40-49)",
          "Adult (30-39)",
          "Senior (50+)",
          "Middle Age (40-49)",
          "Young Adult (20-29)",
          "Teen (0-19)",
          "Adult (30-39)",
          "Young Adult (20-29)",
          "Adult (30-39)",
          "Adult (30-39)",
          "Middle Age (40-49)",
          "Young Adult (20-29)",
          "Adult (30-39)",
          "Teen (0-19)",
          "Adult (30-39)",
          "Young Adult (20-29)",
          "Adult (30-39)",
          "Adult (30-39)",
          "Young Adult (20-29)",
          "Middle Age (40-49)",
          "Middle Age (40-49)",
          "Young Adult (20-29)",
          "Middle Age (40-49)",
          "Middle Age (40-49)",
          "Adult (30-39)",
          "Adult (30-39)",
          "Young Adult (20-29)",
          "Young Adult (20-29)",
          "Middle Age (40-49)",
          "Young Adult (20-29)",
          "Adult (30-39)",
          "Senior (50+)",
          "Middle Age (40-49)",
          "Teen (0-19)",
          "Middle Age (40-49)",
          "Teen (0-19)",
          "Young Adult (20-29)",
          "Adult (30-39)",
          "Adult (30-39)",
          "Young Adult (20-29)",
          "Senior (50+)",
          "Young Adult (20-29)",
          "Young Adult (20-29)",
          "Adult (30-39)",
          "Adult (30-39)",
          "Adult (30-39)",
          "Adult (30-39)",
          "Young Adult (20-29)",
          "Young Adult (20-29)",
          "Young Adult (20-29)",
          "Senior (50+)",
          "Teen (0-19)",
          "Young Adult (20-29)",
          "Teen (0-19)",
          "Senior (50+)",
          "Adult (30-39)",
          "Middle Age (40-49)",
          "Young Adult (20-29)",
          "Young Adult (20-29)",
          "Middle Age (40-49)",
          "Adult (30-39)",
          "Young Adult (20-29)",
          "Adult (30-39)",
          "Adult (30-39)",
          "Adult (30-39)",
          "Adult (30-39)",
          "Middle Age (40-49)",
          "Middle Age (40-49)",
          "Teen (0-19)",
          "Middle Age (40-49)",
          "Senior (50+)",
          "Middle Age (40-49)",
          "Senior (50+)",
          "Adult (30-39)",
          "Senior (50+)",
          "Adult (30-39)",
          "Young Adult (20-29)",
          "Adult (30-39)",
          "Adult (30-39)",
          "Young Adult (20-29)",
          "Adult (30-39)",
          "Young Adult (20-29)",
          "Young Adult (20-29)",
          "Teen (0-19)",
          "Adult (30-39)",
          "Senior (50+)",
          "Teen (0-19)",
          "Middle Age (40-49)",
          "Teen (0-19)",
          "Senior (50+)",
          "Teen (0-19)",
          "Senior (50+)",
          "Adult (30-39)",
          "Young Adult (20-29)",
          "Young Adult (20-29)",
          "Adult (30-39)",
          "Middle Age (40-49)",
          "Young Adult (20-29)",
          "Senior (50+)",
          "Adult (30-39)",
          "Adult (30-39)",
          "Middle Age (40-49)",
          "Adult (30-39)",
          "Senior (50+)",
          "Middle Age (40-49)",
          "Teen (0-19)",
          "Young Adult (20-29)",
          "Middle Age (40-49)",
          "Young Adult (20-29)",
          "Young Adult (20-29)",
          "Adult (30-39)",
          "Young Adult (20-29)",
          "Middle Age (40-49)",
          "Adult (30-39)",
          "Young Adult (20-29)",
          "Senior (50+)",
          "Young Adult (20-29)",
          "Middle Age (40-49)",
          "Adult (30-39)",
          "Middle Age (40-49)",
          "Young Adult (20-29)",
          "Senior (50+)",
          "Young Adult (20-29)",
          "Young Adult (20-29)",
          "Senior (50+)",
          "Senior (50+)",
          "Young Adult (20-29)",
          "Adult (30-39)",
          "Young Adult (20-29)",
          "Adult (30-39)",
          "Young Adult (20-29)",
          "Adult (30-39)",
          "Young Adult (20-29)",
          "Senior (50+)",
          "Teen (0-19)",
          "Young Adult (20-29)",
          "Adult (30-39)",
          "Young Adult (20-29)",
          "Senior (50+)",
          "Young Adult (20-29)",
          "Middle Age (40-49)",
          "Middle Age (40-49)",
          "Young Adult (20-29)",
          "Young Adult (20-29)",
          "Teen (0-19)",
          "Adult (30-39)",
          "Teen (0-19)",
          "Adult (30-39)",
          "Adult (30-39)",
          "Senior (50+)",
          "Senior (50+)",
          "Adult (30-39)",
          "Young Adult (20-29)",
          "Adult (30-39)",
          "Adult (30-39)",
          "Young Adult (20-29)",
          "Young Adult (20-29)",
          "Adult (30-39)",
          "Adult (30-39)",
          "Adult (30-39)",
          "Senior (50+)",
          "Middle Age (40-49)",
          "Young Adult (20-29)",
          "Senior (50+)",
          "Adult (30-39)",
          "Adult (30-39)",
          "Young Adult (20-29)",
          "Teen (0-19)",
          "Adult (30-39)",
          "Adult (30-39)",
          "Middle Age (40-49)",
          "Adult (30-39)",
          "Middle Age (40-49)",
          "Adult (30-39)",
          "Young Adult (20-29)",
          "Young Adult (20-29)",
          "Adult (30-39)",
          "Adult (30-39)",
          "Young Adult (20-29)",
          "Young Adult (20-29)",
          "Young Adult (20-29)",
          "Middle Age (40-49)",
          "Young Adult (20-29)",
          "Middle Age (40-49)",
          "Middle Age (40-49)",
          "Middle Age (40-49)",
          "Young Adult (20-29)",
          "Young Adult (20-29)",
          "Adult (30-39)",
          "Adult (30-39)",
          "Young Adult (20-29)",
          "Senior (50+)",
          "Adult (30-39)",
          "Young Adult (20-29)",
          "Young Adult (20-29)",
          "Young Adult (20-29)",
          "Adult (30-39)",
          "Young Adult (20-29)",
          "Senior (50+)",
          "Senior (50+)",
          "Teen (0-19)",
          "Adult (30-39)",
          "Young Adult (20-29)",
          "Teen (0-19)",
          "Senior (50+)",
          "Young Adult (20-29)",
          "Teen (0-19)",
          "Teen (0-19)",
          "Teen (0-19)",
          "Adult (30-39)",
          "Senior (50+)",
          "Middle Age (40-49)",
          "Middle Age (40-49)",
          "Senior (50+)",
          "Young Adult (20-29)",
          "Young Adult (20-29)",
          "Adult (30-39)",
          "Young Adult (20-29)",
          "Teen (0-19)",
          "Adult (30-39)",
          "Middle Age (40-49)",
          "Adult (30-39)",
          "Adult (30-39)",
          "Adult (30-39)",
          "Middle Age (40-49)",
          "Young Adult (20-29)",
          "Adult (30-39)",
          "Young Adult (20-29)",
          "Young Adult (20-29)",
          "Adult (30-39)",
          "Senior (50+)",
          "Adult (30-39)",
          "Adult (30-39)",
          "Senior (50+)",
          "Adult (30-39)",
          "Middle Age (40-49)",
          "Middle Age (40-49)",
          "Senior (50+)",
          "Young Adult (20-29)",
          "Adult (30-39)",
          "Young Adult (20-29)",
          "Middle Age (40-49)",
          "Adult (30-39)",
          "Middle Age (40-49)",
          "Senior (50+)",
          "Middle Age (40-49)",
          "Young Adult (20-29)",
          "Adult (30-39)",
          "Adult (30-39)",
          "Young Adult (20-29)",
          "Adult (30-39)",
          "Adult (30-39)",
          "Teen (0-19)",
          "Young Adult (20-29)",
          "Young Adult (20-29)",
          "Young Adult (20-29)",
          "Adult (30-39)",
          "Middle Age (40-49)",
          "Senior (50+)",
          "Adult (30-39)",
          "Adult (30-39)",
          "Young Adult (20-29)",
          "Senior (50+)",
          "Young Adult (20-29)",
          "Senior (50+)",
          "Senior (50+)",
          "Teen (0-19)",
          "Middle Age (40-49)",
          "Middle Age (40-49)",
          "Adult (30-39)",
          "Middle Age (40-49)",
          "Adult (30-39)",
          "Adult (30-39)",
          "Adult (30-39)",
          "Young Adult (20-29)",
          "Adult (30-39)",
          "Adult (30-39)",
          "Adult (30-39)",
          "Middle Age (40-49)",
          "Senior (50+)",
          "Young Adult (20-29)",
          "Senior (50+)",
          "Young Adult (20-29)",
          "Teen (0-19)",
          "Young Adult (20-29)",
          "Middle Age (40-49)",
          "Adult (30-39)",
          "Middle Age (40-49)",
          "Young Adult (20-29)",
          "Young Adult (20-29)",
          "Adult (30-39)",
          "Middle Age (40-49)",
          "Adult (30-39)",
          "Adult (30-39)",
          "Senior (50+)",
          "Adult (30-39)",
          "Teen (0-19)",
          "Teen (0-19)",
          "Young Adult (20-29)",
          "Middle Age (40-49)",
          "Adult (30-39)",
          "Young Adult (20-29)",
          "Adult (30-39)",
          "Adult (30-39)",
          "Adult (30-39)",
          "Young Adult (20-29)",
          "Young Adult (20-29)",
          "Middle Age (40-49)",
          "Young Adult (20-29)",
          "Young Adult (20-29)",
          "Teen (0-19)",
          "Young Adult (20-29)",
          "Middle Age (40-49)",
          "Teen (0-19)",
          "Young Adult (20-29)",
          "Adult (30-39)",
          "Middle Age (40-49)",
          "Middle Age (40-49)",
          "Senior (50+)",
          "Young Adult (20-29)",
          "Young Adult (20-29)",
          "Young Adult (20-29)",
          "Middle Age (40-49)",
          "Adult (30-39)",
          "Young Adult (20-29)",
          "Young Adult (20-29)",
          "Adult (30-39)",
          "Senior (50+)",
          "Middle Age (40-49)",
          "Young Adult (20-29)",
          "Middle Age (40-49)",
          "Teen (0-19)",
          "Adult (30-39)",
          "Young Adult (20-29)",
          "Young Adult (20-29)",
          "Adult (30-39)",
          "Adult (30-39)",
          "Middle Age (40-49)",
          "Adult (30-39)",
          "Adult (30-39)",
          "Young Adult (20-29)",
          "Adult (30-39)",
          "Adult (30-39)",
          "Young Adult (20-29)",
          "Adult (30-39)",
          "Adult (30-39)",
          "Young Adult (20-29)",
          "Adult (30-39)",
          "Teen (0-19)",
          "Middle Age (40-49)",
          "Senior (50+)",
          "Young Adult (20-29)",
          "Middle Age (40-49)",
          "Young Adult (20-29)",
          "Teen (0-19)",
          "Middle Age (40-49)",
          "Adult (30-39)",
          "Senior (50+)",
          "Young Adult (20-29)",
          "Adult (30-39)",
          "Adult (30-39)",
          "Middle Age (40-49)",
          "Middle Age (40-49)",
          "Adult (30-39)",
          "Young Adult (20-29)",
          "Adult (30-39)",
          "Senior (50+)",
          "Young Adult (20-29)",
          "Adult (30-39)",
          "Adult (30-39)",
          "Young Adult (20-29)",
          "Adult (30-39)",
          "Adult (30-39)",
          "Middle Age (40-49)",
          "Adult (30-39)",
          "Young Adult (20-29)",
          "Senior (50+)",
          "Middle Age (40-49)",
          "Teen (0-19)",
          "Teen (0-19)",
          "Adult (30-39)",
          "Adult (30-39)",
          "Adult (30-39)",
          "Middle Age (40-49)",
          "Middle Age (40-49)",
          "Adult (30-39)",
          "Adult (30-39)",
          "Senior (50+)",
          "Adult (30-39)",
          "Middle Age (40-49)",
          "Young Adult (20-29)",
          "Teen (0-19)",
          "Young Adult (20-29)",
          "Young Adult (20-29)",
          "Senior (50+)",
          "Young Adult (20-29)",
          "Teen (0-19)",
          "Young Adult (20-29)",
          "Adult (30-39)",
          "Adult (30-39)",
          "Adult (30-39)",
          "Young Adult (20-29)",
          "Adult (30-39)",
          "Adult (30-39)",
          "Young Adult (20-29)",
          "Young Adult (20-29)",
          "Young Adult (20-29)",
          "Senior (50+)",
          "Adult (30-39)",
          "Young Adult (20-29)",
          "Adult (30-39)",
          "Middle Age (40-49)",
          "Adult (30-39)",
          "Middle Age (40-49)",
          "Young Adult (20-29)",
          "Middle Age (40-49)",
          "Middle Age (40-49)",
          "Teen (0-19)",
          "Young Adult (20-29)",
          "Middle Age (40-49)",
          "Young Adult (20-29)",
          "Senior (50+)",
          "Young Adult (20-29)",
          "Adult (30-39)",
          "Young Adult (20-29)",
          "Adult (30-39)",
          "Adult (30-39)",
          "Adult (30-39)",
          "Senior (50+)",
          "Middle Age (40-49)",
          "Adult (30-39)",
          "Senior (50+)",
          "Young Adult (20-29)",
          "Young Adult (20-29)",
          "Young Adult (20-29)",
          "Middle Age (40-49)",
          "Young Adult (20-29)",
          "Young Adult (20-29)",
          "Teen (0-19)",
          "Young Adult (20-29)",
          "Young Adult (20-29)",
          "Young Adult (20-29)",
          "Young Adult (20-29)",
          "Young Adult (20-29)",
          "Young Adult (20-29)",
          "Adult (30-39)",
          "Adult (30-39)",
          "Young Adult (20-29)",
          "Senior (50+)",
          "Senior (50+)",
          "Adult (30-39)",
          "Young Adult (20-29)",
          "Adult (30-39)",
          "Adult (30-39)",
          "Teen (0-19)",
          "Young Adult (20-29)",
          "Adult (30-39)",
          "Adult (30-39)",
          "Teen (0-19)",
          "Adult (30-39)",
          "Young Adult (20-29)",
          "Middle Age (40-49)",
          "Young Adult (20-29)",
          "Teen (0-19)",
          "Young Adult (20-29)",
          "Young Adult (20-29)",
          "Young Adult (20-29)",
          "Young Adult (20-29)",
          "Young Adult (20-29)",
          "Middle Age (40-49)",
          "Adult (30-39)",
          "Young Adult (20-29)",
          "Middle Age (40-49)",
          "Adult (30-39)",
          "Middle Age (40-49)",
          "Young Adult (20-29)",
          "Middle Age (40-49)",
          "Senior (50+)",
          "Young Adult (20-29)",
          "Young Adult (20-29)",
          "Young Adult (20-29)",
          "Young Adult (20-29)",
          "Middle Age (40-49)",
          "Adult (30-39)",
          "Young Adult (20-29)",
          "Middle Age (40-49)",
          "Senior (50+)",
          "Middle Age (40-49)",
          "Adult (30-39)",
          "Adult (30-39)",
          "Young Adult (20-29)",
          "Adult (30-39)",
          "Teen (0-19)",
          "Young Adult (20-29)",
          "Adult (30-39)",
          "Adult (30-39)",
          "Young Adult (20-29)",
          "Middle Age (40-49)",
          "Young Adult (20-29)",
          "Teen (0-19)",
          "Adult (30-39)",
          "Senior (50+)",
          "Adult (30-39)",
          "Senior (50+)",
          "Middle Age (40-49)",
          "Adult (30-39)",
          "Middle Age (40-49)",
          "Young Adult (20-29)",
          "Senior (50+)",
          "Teen (0-19)",
          "Teen (0-19)",
          "Young Adult (20-29)",
          "Adult (30-39)",
          "Adult (30-39)",
          "Adult (30-39)",
          "Teen (0-19)",
          "Middle Age (40-49)",
          "Adult (30-39)",
          "Adult (30-39)",
          "Teen (0-19)",
          "Adult (30-39)",
          "Senior (50+)",
          "Adult (30-39)",
          "Middle Age (40-49)",
          "Adult (30-39)",
          "Middle Age (40-49)",
          "Adult (30-39)",
          "Adult (30-39)",
          "Young Adult (20-29)",
          "Young Adult (20-29)",
          "Young Adult (20-29)",
          "Teen (0-19)",
          "Senior (50+)",
          "Adult (30-39)",
          "Young Adult (20-29)",
          "Adult (30-39)",
          "Young Adult (20-29)",
          "Adult (30-39)",
          "Adult (30-39)",
          "Adult (30-39)",
          "Young Adult (20-29)",
          "Adult (30-39)",
          "Young Adult (20-29)",
          "Adult (30-39)",
          "Young Adult (20-29)",
          "Adult (30-39)",
          "Adult (30-39)",
          "Senior (50+)",
          "Adult (30-39)",
          "Adult (30-39)",
          "Adult (30-39)",
          "Young Adult (20-29)",
          "Young Adult (20-29)",
          "Young Adult (20-29)",
          "Young Adult (20-29)",
          "Young Adult (20-29)",
          "Young Adult (20-29)",
          "Adult (30-39)",
          "Middle Age (40-49)",
          "Middle Age (40-49)",
          "Young Adult (20-29)",
          "Adult (30-39)",
          "Adult (30-39)",
          "Young Adult (20-29)",
          "Senior (50+)",
          "Young Adult (20-29)",
          "Middle Age (40-49)",
          "Middle Age (40-49)",
          "Young Adult (20-29)",
          "Middle Age (40-49)",
          "Young Adult (20-29)",
          "Middle Age (40-49)",
          "Senior (50+)",
          "Senior (50+)",
          "Young Adult (20-29)",
          "Middle Age (40-49)",
          "Senior (50+)",
          "Adult (30-39)",
          "Adult (30-39)",
          "Senior (50+)",
          "Adult (30-39)",
          "Young Adult (20-29)",
          "Middle Age (40-49)",
          "Senior (50+)",
          "Young Adult (20-29)",
          "Middle Age (40-49)",
          "Young Adult (20-29)",
          "Middle Age (40-49)",
          "Young Adult (20-29)",
          "Young Adult (20-29)",
          "Young Adult (20-29)",
          "Adult (30-39)",
          "Young Adult (20-29)",
          "Senior (50+)",
          "Adult (30-39)",
          "Adult (30-39)",
          "Teen (0-19)",
          "Young Adult (20-29)",
          "Adult (30-39)",
          "Senior (50+)",
          "Adult (30-39)",
          "Young Adult (20-29)",
          "Young Adult (20-29)",
          "Senior (50+)",
          "Young Adult (20-29)",
          "Adult (30-39)",
          "Senior (50+)",
          "Adult (30-39)",
          "Adult (30-39)",
          "Senior (50+)",
          "Young Adult (20-29)",
          "Young Adult (20-29)",
          "Middle Age (40-49)",
          "Senior (50+)",
          "Middle Age (40-49)",
          "Young Adult (20-29)",
          "Adult (30-39)",
          "Middle Age (40-49)",
          "Adult (30-39)",
          "Middle Age (40-49)",
          "Adult (30-39)",
          "Young Adult (20-29)",
          "Middle Age (40-49)",
          "Young Adult (20-29)",
          "Young Adult (20-29)",
          "Young Adult (20-29)",
          "Adult (30-39)",
          "Adult (30-39)",
          "Adult (30-39)",
          "Adult (30-39)",
          "Adult (30-39)",
          "Middle Age (40-49)",
          "Young Adult (20-29)",
          "Senior (50+)",
          "Adult (30-39)",
          "Senior (50+)",
          "Young Adult (20-29)",
          "Adult (30-39)",
          "Middle Age (40-49)",
          "Adult (30-39)",
          "Middle Age (40-49)",
          "Young Adult (20-29)",
          "Young Adult (20-29)",
          "Young Adult (20-29)",
          "Adult (30-39)",
          "Young Adult (20-29)",
          "Adult (30-39)",
          "Young Adult (20-29)",
          "Young Adult (20-29)",
          "Teen (0-19)",
          "Adult (30-39)",
          "Young Adult (20-29)",
          "Teen (0-19)",
          "Middle Age (40-49)",
          "Adult (30-39)",
          "Young Adult (20-29)",
          "Senior (50+)",
          "Senior (50+)",
          "Middle Age (40-49)",
          "Young Adult (20-29)",
          "Senior (50+)",
          "Middle Age (40-49)",
          "Young Adult (20-29)",
          "Adult (30-39)",
          "Adult (30-39)",
          "Young Adult (20-29)",
          "Adult (30-39)",
          "Adult (30-39)",
          "Adult (30-39)",
          "Senior (50+)",
          "Middle Age (40-49)",
          "Young Adult (20-29)",
          "Middle Age (40-49)",
          "Young Adult (20-29)",
          "Adult (30-39)",
          "Senior (50+)",
          "Adult (30-39)",
          "Young Adult (20-29)",
          "Young Adult (20-29)",
          "Adult (30-39)",
          "Adult (30-39)",
          "Young Adult (20-29)",
          "Senior (50+)",
          "Teen (0-19)",
          "Middle Age (40-49)",
          "Adult (30-39)",
          "Young Adult (20-29)",
          "Teen (0-19)",
          "Middle Age (40-49)",
          "Teen (0-19)",
          "Middle Age (40-49)",
          "Adult (30-39)",
          "Young Adult (20-29)",
          "Middle Age (40-49)",
          "Adult (30-39)",
          "Middle Age (40-49)",
          "Senior (50+)",
          "Young Adult (20-29)",
          "Adult (30-39)",
          "Adult (30-39)",
          "Young Adult (20-29)",
          "Adult (30-39)",
          "Middle Age (40-49)",
          "Senior (50+)",
          "Young Adult (20-29)",
          "Young Adult (20-29)",
          "Adult (30-39)",
          "Adult (30-39)",
          "Middle Age (40-49)",
          "Young Adult (20-29)",
          "Middle Age (40-49)",
          "Adult (30-39)",
          "Adult (30-39)",
          "Adult (30-39)",
          "Young Adult (20-29)",
          "Senior (50+)",
          "Middle Age (40-49)",
          "Teen (0-19)",
          "Senior (50+)",
          "Senior (50+)",
          "Teen (0-19)",
          "Middle Age (40-49)",
          "Senior (50+)",
          "Adult (30-39)",
          "Young Adult (20-29)",
          "Middle Age (40-49)",
          "Adult (30-39)",
          "Teen (0-19)",
          "Middle Age (40-49)",
          "Adult (30-39)",
          "Young Adult (20-29)",
          "Young Adult (20-29)",
          "Middle Age (40-49)",
          "Adult (30-39)",
          "Middle Age (40-49)",
          "Adult (30-39)",
          "Middle Age (40-49)",
          "Middle Age (40-49)",
          "Adult (30-39)",
          "Adult (30-39)",
          "Middle Age (40-49)",
          "Middle Age (40-49)",
          "Adult (30-39)",
          "Middle Age (40-49)",
          "Adult (30-39)",
          "Young Adult (20-29)",
          "Young Adult (20-29)",
          "Teen (0-19)",
          "Adult (30-39)",
          "Middle Age (40-49)",
          "Middle Age (40-49)",
          "Young Adult (20-29)",
          "Middle Age (40-49)",
          "Young Adult (20-29)",
          "Senior (50+)",
          "Young Adult (20-29)",
          "Adult (30-39)",
          "Young Adult (20-29)",
          "Adult (30-39)",
          "Young Adult (20-29)",
          "Teen (0-19)",
          "Adult (30-39)",
          "Adult (30-39)",
          "Adult (30-39)",
          "Adult (30-39)",
          "Adult (30-39)",
          "Middle Age (40-49)",
          "Adult (30-39)",
          "Young Adult (20-29)",
          "Teen (0-19)",
          "Teen (0-19)",
          "Adult (30-39)",
          "Middle Age (40-49)",
          "Young Adult (20-29)",
          "Young Adult (20-29)",
          "Young Adult (20-29)",
          "Young Adult (20-29)",
          "Adult (30-39)",
          "Senior (50+)",
          "Young Adult (20-29)",
          "Young Adult (20-29)",
          "Adult (30-39)",
          "Middle Age (40-49)",
          "Young Adult (20-29)",
          "Adult (30-39)",
          "Teen (0-19)",
          "Adult (30-39)",
          "Adult (30-39)",
          "Adult (30-39)",
          "Senior (50+)",
          "Adult (30-39)",
          "Senior (50+)",
          "Young Adult (20-29)",
          "Young Adult (20-29)",
          "Teen (0-19)",
          "Adult (30-39)",
          "Adult (30-39)",
          "Teen (0-19)",
          "Senior (50+)",
          "Adult (30-39)",
          "Adult (30-39)",
          "Young Adult (20-29)",
          "Adult (30-39)",
          "Senior (50+)",
          "Adult (30-39)",
          "Young Adult (20-29)",
          "Senior (50+)",
          "Senior (50+)",
          "Adult (30-39)",
          "Adult (30-39)",
          "Senior (50+)",
          "Adult (30-39)",
          "Young Adult (20-29)",
          "Adult (30-39)",
          "Senior (50+)",
          "Adult (30-39)",
          "Senior (50+)",
          "Teen (0-19)",
          "Middle Age (40-49)",
          "Middle Age (40-49)",
          "Senior (50+)",
          "Young Adult (20-29)",
          "Young Adult (20-29)",
          "Middle Age (40-49)",
          "Middle Age (40-49)",
          "Middle Age (40-49)",
          "Senior (50+)",
          "Adult (30-39)",
          "Middle Age (40-49)",
          "Young Adult (20-29)",
          "Adult (30-39)",
          "Young Adult (20-29)",
          "Senior (50+)",
          "Teen (0-19)",
          "Senior (50+)",
          "Middle Age (40-49)",
          "Young Adult (20-29)",
          "Young Adult (20-29)",
          "Young Adult (20-29)",
          "Adult (30-39)",
          "Adult (30-39)",
          "Adult (30-39)",
          "Senior (50+)",
          "Senior (50+)",
          "Middle Age (40-49)",
          "Young Adult (20-29)",
          "Adult (30-39)",
          "Middle Age (40-49)",
          "Adult (30-39)",
          "Adult (30-39)",
          "Middle Age (40-49)",
          "Senior (50+)",
          "Adult (30-39)",
          "Middle Age (40-49)",
          "Teen (0-19)",
          "Young Adult (20-29)",
          "Adult (30-39)",
          "Senior (50+)",
          "Young Adult (20-29)",
          "Young Adult (20-29)",
          "Teen (0-19)",
          "Young Adult (20-29)",
          "Young Adult (20-29)",
          "Young Adult (20-29)",
          "Young Adult (20-29)",
          "Young Adult (20-29)",
          "Middle Age (40-49)",
          "Young Adult (20-29)",
          "Adult (30-39)",
          "Adult (30-39)",
          "Senior (50+)",
          "Young Adult (20-29)",
          "Teen (0-19)",
          "Teen (0-19)",
          "Adult (30-39)",
          "Middle Age (40-49)",
          "Senior (50+)",
          "Young Adult (20-29)",
          "Young Adult (20-29)",
          "Middle Age (40-49)",
          "Adult (30-39)",
          "Adult (30-39)",
          "Young Adult (20-29)",
          "Middle Age (40-49)",
          "Middle Age (40-49)",
          "Middle Age (40-49)",
          "Young Adult (20-29)",
          "Young Adult (20-29)",
          "Young Adult (20-29)",
          "Senior (50+)",
          "Senior (50+)",
          "Adult (30-39)",
          "Young Adult (20-29)",
          "Adult (30-39)",
          "Middle Age (40-49)",
          "Middle Age (40-49)",
          "Young Adult (20-29)",
          "Young Adult (20-29)",
          "Adult (30-39)",
          "Adult (30-39)",
          "Senior (50+)",
          "Senior (50+)",
          "Young Adult (20-29)",
          "Middle Age (40-49)",
          "Young Adult (20-29)",
          "Young Adult (20-29)",
          "Senior (50+)",
          "Young Adult (20-29)",
          "Adult (30-39)",
          "Young Adult (20-29)",
          "Adult (30-39)",
          "Young Adult (20-29)",
          "Adult (30-39)",
          "Adult (30-39)",
          "Adult (30-39)",
          "Senior (50+)",
          "Senior (50+)",
          "Young Adult (20-29)",
          "Middle Age (40-49)",
          "Adult (30-39)",
          "Young Adult (20-29)",
          "Young Adult (20-29)",
          "Adult (30-39)",
          "Senior (50+)",
          "Adult (30-39)",
          "Adult (30-39)",
          "Adult (30-39)",
          "Middle Age (40-49)",
          "Adult (30-39)",
          "Young Adult (20-29)",
          "Middle Age (40-49)",
          "Middle Age (40-49)",
          "Young Adult (20-29)",
          "Young Adult (20-29)",
          "Young Adult (20-29)",
          "Adult (30-39)",
          "Adult (30-39)",
          "Adult (30-39)",
          "Young Adult (20-29)",
          "Young Adult (20-29)",
          "Teen (0-19)",
          "Adult (30-39)",
          "Adult (30-39)",
          "Senior (50+)",
          "Adult (30-39)",
          "Adult (30-39)",
          "Young Adult (20-29)",
          "Adult (30-39)",
          "Young Adult (20-29)",
          "Young Adult (20-29)",
          "Adult (30-39)",
          "Young Adult (20-29)",
          "Middle Age (40-49)",
          "Adult (30-39)",
          "Teen (0-19)",
          "Adult (30-39)",
          "Adult (30-39)",
          "Young Adult (20-29)",
          "Senior (50+)",
          "Middle Age (40-49)",
          "Adult (30-39)",
          "Young Adult (20-29)",
          "Adult (30-39)",
          "Adult (30-39)",
          "Middle Age (40-49)",
          "Senior (50+)",
          "Middle Age (40-49)",
          "Young Adult (20-29)",
          "Young Adult (20-29)",
          "Young Adult (20-29)",
          "Middle Age (40-49)",
          "Young Adult (20-29)",
          "Adult (30-39)",
          "Middle Age (40-49)",
          "Middle Age (40-49)",
          "Adult (30-39)",
          "Adult (30-39)",
          "Middle Age (40-49)",
          "Adult (30-39)",
          "Middle Age (40-49)",
          "Adult (30-39)",
          "Adult (30-39)",
          "Middle Age (40-49)",
          "Young Adult (20-29)",
          "Senior (50+)",
          "Senior (50+)",
          "Senior (50+)",
          "Senior (50+)",
          "Adult (30-39)",
          "Young Adult (20-29)",
          "Young Adult (20-29)",
          "Senior (50+)",
          "Senior (50+)",
          "Young Adult (20-29)",
          "Adult (30-39)",
          "Teen (0-19)",
          "Middle Age (40-49)",
          "Middle Age (40-49)",
          "Middle Age (40-49)",
          "Senior (50+)",
          "Middle Age (40-49)",
          "Middle Age (40-49)",
          "Adult (30-39)",
          "Adult (30-39)",
          "Young Adult (20-29)",
          "Senior (50+)",
          "Young Adult (20-29)",
          "Adult (30-39)",
          "Teen (0-19)",
          "Adult (30-39)",
          "Young Adult (20-29)",
          "Adult (30-39)",
          "Young Adult (20-29)",
          "Adult (30-39)",
          "Young Adult (20-29)",
          "Adult (30-39)",
          "Young Adult (20-29)",
          "Middle Age (40-49)",
          "Middle Age (40-49)",
          "Teen (0-19)",
          "Middle Age (40-49)",
          "Adult (30-39)",
          "Senior (50+)",
          "Young Adult (20-29)",
          "Young Adult (20-29)",
          "Adult (30-39)",
          "Young Adult (20-29)",
          "Adult (30-39)",
          "Young Adult (20-29)",
          "Young Adult (20-29)",
          "Young Adult (20-29)",
          "Adult (30-39)",
          "Adult (30-39)",
          "Young Adult (20-29)",
          "Adult (30-39)",
          "Adult (30-39)",
          "Senior (50+)",
          "Middle Age (40-49)",
          "Adult (30-39)",
          "Senior (50+)",
          "Young Adult (20-29)",
          "Middle Age (40-49)",
          "Adult (30-39)",
          "Young Adult (20-29)",
          "Teen (0-19)",
          "Adult (30-39)",
          "Adult (30-39)",
          "Adult (30-39)",
          "Senior (50+)",
          "Adult (30-39)",
          "Young Adult (20-29)",
          "Young Adult (20-29)",
          "Middle Age (40-49)",
          "Middle Age (40-49)",
          "Young Adult (20-29)",
          "Adult (30-39)",
          "Young Adult (20-29)",
          "Teen (0-19)",
          "Middle Age (40-49)",
          "Young Adult (20-29)",
          "Adult (30-39)",
          "Adult (30-39)",
          "Adult (30-39)",
          "Adult (30-39)",
          "Adult (30-39)",
          "Young Adult (20-29)",
          "Middle Age (40-49)",
          "Senior (50+)",
          "Teen (0-19)",
          "Teen (0-19)",
          "Teen (0-19)",
          "Young Adult (20-29)",
          "Middle Age (40-49)",
          "Adult (30-39)",
          "Senior (50+)",
          "Adult (30-39)",
          "Middle Age (40-49)",
          "Young Adult (20-29)",
          "Young Adult (20-29)",
          "Young Adult (20-29)",
          "Young Adult (20-29)",
          "Young Adult (20-29)",
          "Young Adult (20-29)",
          "Middle Age (40-49)",
          "Senior (50+)",
          "Middle Age (40-49)",
          "Middle Age (40-49)",
          "Young Adult (20-29)",
          "Adult (30-39)",
          "Middle Age (40-49)",
          "Senior (50+)",
          "Adult (30-39)",
          "Young Adult (20-29)",
          "Middle Age (40-49)",
          "Young Adult (20-29)",
          "Young Adult (20-29)",
          "Adult (30-39)",
          "Adult (30-39)",
          "Middle Age (40-49)",
          "Middle Age (40-49)",
          "Young Adult (20-29)",
          "Adult (30-39)",
          "Middle Age (40-49)",
          "Middle Age (40-49)",
          "Middle Age (40-49)",
          "Senior (50+)",
          "Adult (30-39)",
          "Adult (30-39)",
          "Middle Age (40-49)",
          "Adult (30-39)",
          "Adult (30-39)",
          "Young Adult (20-29)",
          "Senior (50+)",
          "Adult (30-39)",
          "Senior (50+)",
          "Young Adult (20-29)",
          "Adult (30-39)",
          "Middle Age (40-49)",
          "Adult (30-39)",
          "Young Adult (20-29)",
          "Middle Age (40-49)",
          "Young Adult (20-29)",
          "Adult (30-39)",
          "Senior (50+)",
          "Middle Age (40-49)",
          "Adult (30-39)",
          "Young Adult (20-29)",
          "Young Adult (20-29)",
          "Adult (30-39)",
          "Young Adult (20-29)",
          "Senior (50+)",
          "Middle Age (40-49)",
          "Adult (30-39)",
          "Adult (30-39)",
          "Adult (30-39)",
          "Middle Age (40-49)",
          "Senior (50+)",
          "Middle Age (40-49)",
          "Middle Age (40-49)",
          "Middle Age (40-49)",
          "Middle Age (40-49)",
          "Middle Age (40-49)",
          "Senior (50+)",
          "Middle Age (40-49)",
          "Young Adult (20-29)",
          "Adult (30-39)",
          "Adult (30-39)",
          "Middle Age (40-49)",
          "Senior (50+)",
          "Young Adult (20-29)",
          "Senior (50+)",
          "Young Adult (20-29)",
          "Teen (0-19)",
          "Middle Age (40-49)",
          "Senior (50+)",
          "Adult (30-39)",
          "Young Adult (20-29)",
          "Teen (0-19)",
          "Young Adult (20-29)",
          "Young Adult (20-29)",
          "Senior (50+)",
          "Teen (0-19)",
          "Adult (30-39)",
          "Adult (30-39)",
          "Middle Age (40-49)",
          "Senior (50+)",
          "Middle Age (40-49)",
          "Adult (30-39)",
          "Young Adult (20-29)",
          "Senior (50+)",
          "Teen (0-19)",
          "Adult (30-39)",
          "Young Adult (20-29)",
          "Adult (30-39)",
          "Middle Age (40-49)",
          "Young Adult (20-29)",
          "Young Adult (20-29)",
          "Senior (50+)",
          "Senior (50+)",
          "Young Adult (20-29)",
          "Middle Age (40-49)",
          "Middle Age (40-49)",
          "Young Adult (20-29)",
          "Senior (50+)",
          "Adult (30-39)",
          "Adult (30-39)",
          "Young Adult (20-29)",
          "Adult (30-39)",
          "Teen (0-19)",
          "Senior (50+)",
          "Young Adult (20-29)",
          "Adult (30-39)",
          "Young Adult (20-29)",
          "Middle Age (40-49)",
          "Senior (50+)",
          "Middle Age (40-49)",
          "Adult (30-39)",
          "Young Adult (20-29)",
          "Adult (30-39)",
          "Senior (50+)",
          "Middle Age (40-49)",
          "Adult (30-39)",
          "Adult (30-39)",
          "Adult (30-39)",
          "Middle Age (40-49)",
          "Adult (30-39)",
          "Adult (30-39)",
          "Young Adult (20-29)",
          "Adult (30-39)",
          "Adult (30-39)",
          "Middle Age (40-49)",
          "Adult (30-39)",
          "Adult (30-39)",
          "Senior (50+)",
          "Middle Age (40-49)",
          "Senior (50+)",
          "Senior (50+)",
          "Young Adult (20-29)",
          "Young Adult (20-29)",
          "Young Adult (20-29)",
          "Adult (30-39)",
          "Senior (50+)",
          "Young Adult (20-29)",
          "Adult (30-39)",
          "Adult (30-39)",
          "Young Adult (20-29)",
          "Adult (30-39)",
          "Senior (50+)",
          "Adult (30-39)",
          "Adult (30-39)",
          "Senior (50+)",
          "Senior (50+)",
          "Adult (30-39)",
          "Adult (30-39)",
          "Young Adult (20-29)",
          "Young Adult (20-29)",
          "Adult (30-39)",
          "Middle Age (40-49)",
          "Adult (30-39)",
          "Middle Age (40-49)",
          "Adult (30-39)",
          "Senior (50+)",
          "Adult (30-39)",
          "Teen (0-19)",
          "Young Adult (20-29)",
          "Senior (50+)",
          "Middle Age (40-49)",
          "Senior (50+)",
          "Senior (50+)",
          "Young Adult (20-29)",
          "Young Adult (20-29)",
          "Senior (50+)",
          "Senior (50+)",
          "Adult (30-39)",
          "Adult (30-39)",
          "Young Adult (20-29)",
          "Adult (30-39)",
          "Senior (50+)",
          "Adult (30-39)",
          "Adult (30-39)",
          "Senior (50+)",
          "Young Adult (20-29)",
          "Young Adult (20-29)",
          "Adult (30-39)",
          "Middle Age (40-49)",
          "Middle Age (40-49)",
          "Middle Age (40-49)",
          "Senior (50+)",
          "Adult (30-39)",
          "Senior (50+)",
          "Senior (50+)",
          "Adult (30-39)",
          "Middle Age (40-49)",
          "Middle Age (40-49)",
          "Adult (30-39)",
          "Middle Age (40-49)",
          "Middle Age (40-49)",
          "Senior (50+)",
          "Middle Age (40-49)",
          "Young Adult (20-29)",
          "Teen (0-19)",
          "Middle Age (40-49)",
          "Teen (0-19)",
          "Adult (30-39)",
          "Adult (30-39)",
          "Senior (50+)",
          "Young Adult (20-29)",
          "Adult (30-39)",
          "Young Adult (20-29)",
          "Middle Age (40-49)",
          "Teen (0-19)",
          "Middle Age (40-49)",
          "Young Adult (20-29)",
          "Middle Age (40-49)",
          "Senior (50+)",
          "Teen (0-19)",
          "Adult (30-39)",
          "Senior (50+)",
          "Adult (30-39)",
          "Adult (30-39)",
          "Middle Age (40-49)",
          "Teen (0-19)",
          "Senior (50+)",
          "Senior (50+)",
          "Senior (50+)",
          "Teen (0-19)",
          "Adult (30-39)",
          "Senior (50+)",
          "Middle Age (40-49)",
          "Adult (30-39)",
          "Adult (30-39)",
          "Adult (30-39)",
          "Young Adult (20-29)",
          "Teen (0-19)",
          "Young Adult (20-29)",
          "Adult (30-39)",
          "Young Adult (20-29)",
          "Senior (50+)",
          "Teen (0-19)",
          "Middle Age (40-49)",
          "Senior (50+)",
          "Young Adult (20-29)",
          "Middle Age (40-49)",
          "Young Adult (20-29)",
          "Adult (30-39)",
          "Teen (0-19)",
          "Young Adult (20-29)",
          "Teen (0-19)",
          "Young Adult (20-29)",
          "Adult (30-39)",
          "Adult (30-39)",
          "Middle Age (40-49)",
          "Adult (30-39)",
          "Middle Age (40-49)",
          "Senior (50+)",
          "Adult (30-39)",
          "Adult (30-39)",
          "Young Adult (20-29)",
          "Adult (30-39)",
          "Teen (0-19)",
          "Young Adult (20-29)",
          "Senior (50+)",
          "Adult (30-39)",
          "Teen (0-19)",
          "Adult (30-39)",
          "Young Adult (20-29)",
          "Adult (30-39)",
          "Middle Age (40-49)",
          "Middle Age (40-49)",
          "Adult (30-39)",
          "Adult (30-39)",
          "Adult (30-39)",
          "Adult (30-39)",
          "Teen (0-19)",
          "Adult (30-39)",
          "Middle Age (40-49)",
          "Senior (50+)",
          "Adult (30-39)",
          "Adult (30-39)",
          "Adult (30-39)",
          "Young Adult (20-29)",
          "Senior (50+)",
          "Middle Age (40-49)",
          "Adult (30-39)",
          "Senior (50+)",
          "Adult (30-39)",
          "Senior (50+)",
          "Senior (50+)",
          "Adult (30-39)",
          "Adult (30-39)",
          "Adult (30-39)",
          "Adult (30-39)",
          "Adult (30-39)",
          "Young Adult (20-29)",
          "Adult (30-39)",
          "Adult (30-39)",
          "Young Adult (20-29)",
          "Teen (0-19)",
          "Young Adult (20-29)",
          "Middle Age (40-49)",
          "Adult (30-39)",
          "Adult (30-39)",
          "Middle Age (40-49)",
          "Young Adult (20-29)",
          "Adult (30-39)",
          "Middle Age (40-49)",
          "Adult (30-39)",
          "Teen (0-19)",
          "Middle Age (40-49)",
          "Young Adult (20-29)",
          "Young Adult (20-29)",
          "Middle Age (40-49)",
          "Senior (50+)",
          "Adult (30-39)",
          "Senior (50+)",
          "Adult (30-39)",
          "Middle Age (40-49)",
          "Young Adult (20-29)",
          "Young Adult (20-29)",
          "Middle Age (40-49)",
          "Adult (30-39)",
          "Teen (0-19)",
          "Teen (0-19)",
          "Middle Age (40-49)",
          "Adult (30-39)",
          "Senior (50+)",
          "Young Adult (20-29)",
          "Senior (50+)",
          "Young Adult (20-29)",
          "Adult (30-39)",
          "Senior (50+)",
          "Adult (30-39)",
          "Adult (30-39)",
          "Young Adult (20-29)",
          "Adult (30-39)",
          "Young Adult (20-29)",
          "Middle Age (40-49)",
          "Senior (50+)",
          "Teen (0-19)",
          "Senior (50+)",
          "Young Adult (20-29)",
          "Teen (0-19)",
          "Adult (30-39)",
          "Middle Age (40-49)",
          "Middle Age (40-49)",
          "Young Adult (20-29)",
          "Adult (30-39)",
          "Young Adult (20-29)",
          "Middle Age (40-49)",
          "Young Adult (20-29)",
          "Senior (50+)",
          "Senior (50+)",
          "Young Adult (20-29)",
          "Adult (30-39)",
          "Young Adult (20-29)",
          "Middle Age (40-49)",
          "Young Adult (20-29)",
          "Middle Age (40-49)",
          "Senior (50+)",
          "Adult (30-39)",
          "Middle Age (40-49)",
          "Young Adult (20-29)",
          "Senior (50+)",
          "Adult (30-39)",
          "Adult (30-39)",
          "Young Adult (20-29)",
          "Young Adult (20-29)",
          "Middle Age (40-49)",
          "Teen (0-19)",
          "Middle Age (40-49)",
          "Adult (30-39)",
          "Senior (50+)",
          "Young Adult (20-29)",
          "Teen (0-19)",
          "Middle Age (40-49)",
          "Teen (0-19)",
          "Adult (30-39)",
          "Young Adult (20-29)",
          "Adult (30-39)",
          "Young Adult (20-29)",
          "Adult (30-39)",
          "Middle Age (40-49)",
          "Adult (30-39)",
          "Middle Age (40-49)",
          "Young Adult (20-29)",
          "Senior (50+)",
          "Young Adult (20-29)",
          "Senior (50+)",
          "Middle Age (40-49)",
          "Adult (30-39)",
          "Young Adult (20-29)",
          "Senior (50+)",
          "Adult (30-39)",
          "Adult (30-39)",
          "Adult (30-39)",
          "Adult (30-39)",
          "Adult (30-39)",
          "Young Adult (20-29)",
          "Adult (30-39)",
          "Adult (30-39)",
          "Middle Age (40-49)",
          "Adult (30-39)",
          "Senior (50+)",
          "Young Adult (20-29)",
          "Young Adult (20-29)",
          "Young Adult (20-29)",
          "Young Adult (20-29)",
          "Young Adult (20-29)",
          "Senior (50+)",
          "Middle Age (40-49)",
          "Middle Age (40-49)",
          "Adult (30-39)",
          "Senior (50+)",
          "Young Adult (20-29)",
          "Middle Age (40-49)",
          "Senior (50+)",
          "Adult (30-39)",
          "Senior (50+)",
          "Young Adult (20-29)",
          "Teen (0-19)",
          "Adult (30-39)",
          "Adult (30-39)",
          "Middle Age (40-49)",
          "Young Adult (20-29)",
          "Adult (30-39)",
          "Young Adult (20-29)",
          "Middle Age (40-49)",
          "Young Adult (20-29)",
          "Adult (30-39)",
          "Senior (50+)",
          "Senior (50+)",
          "Senior (50+)",
          "Middle Age (40-49)",
          "Senior (50+)",
          "Young Adult (20-29)",
          "Middle Age (40-49)",
          "Adult (30-39)",
          "Adult (30-39)",
          "Adult (30-39)",
          "Adult (30-39)",
          "Senior (50+)",
          "Adult (30-39)",
          "Young Adult (20-29)",
          "Adult (30-39)",
          "Young Adult (20-29)",
          "Young Adult (20-29)",
          "Teen (0-19)",
          "Young Adult (20-29)",
          "Adult (30-39)",
          "Young Adult (20-29)",
          "Adult (30-39)",
          "Adult (30-39)",
          "Middle Age (40-49)",
          "Middle Age (40-49)",
          "Young Adult (20-29)",
          "Teen (0-19)",
          "Teen (0-19)",
          "Senior (50+)",
          "Adult (30-39)",
          "Teen (0-19)",
          "Young Adult (20-29)",
          "Adult (30-39)",
          "Adult (30-39)",
          "Teen (0-19)",
          "Young Adult (20-29)",
          "Young Adult (20-29)",
          "Senior (50+)",
          "Young Adult (20-29)",
          "Adult (30-39)",
          "Adult (30-39)",
          "Adult (30-39)",
          "Teen (0-19)",
          "Middle Age (40-49)",
          "Adult (30-39)",
          "Young Adult (20-29)",
          "Young Adult (20-29)",
          "Young Adult (20-29)",
          "Adult (30-39)",
          "Adult (30-39)",
          "Young Adult (20-29)",
          "Senior (50+)",
          "Young Adult (20-29)",
          "Middle Age (40-49)",
          "Teen (0-19)",
          "Teen (0-19)",
          "Young Adult (20-29)",
          "Adult (30-39)",
          "Young Adult (20-29)",
          "Young Adult (20-29)",
          "Middle Age (40-49)",
          "Young Adult (20-29)",
          "Middle Age (40-49)",
          "Young Adult (20-29)",
          "Young Adult (20-29)",
          "Middle Age (40-49)",
          "Young Adult (20-29)",
          "Senior (50+)",
          "Senior (50+)",
          "Teen (0-19)",
          "Teen (0-19)",
          "Young Adult (20-29)",
          "Adult (30-39)",
          "Middle Age (40-49)",
          "Young Adult (20-29)",
          "Young Adult (20-29)",
          "Teen (0-19)",
          "Middle Age (40-49)",
          "Adult (30-39)",
          "Young Adult (20-29)",
          "Middle Age (40-49)",
          "Teen (0-19)",
          "Senior (50+)",
          "Senior (50+)",
          "Young Adult (20-29)",
          "Young Adult (20-29)",
          "Middle Age (40-49)",
          "Adult (30-39)",
          "Middle Age (40-49)",
          "Senior (50+)",
          "Middle Age (40-49)",
          "Adult (30-39)",
          "Adult (30-39)",
          "Adult (30-39)",
          "Senior (50+)",
          "Adult (30-39)",
          "Teen (0-19)",
          "Adult (30-39)",
          "Adult (30-39)",
          "Adult (30-39)",
          "Young Adult (20-29)",
          "Adult (30-39)",
          "Senior (50+)",
          "Young Adult (20-29)",
          "Young Adult (20-29)",
          "Adult (30-39)",
          "Adult (30-39)",
          "Adult (30-39)",
          "Young Adult (20-29)",
          "Adult (30-39)",
          "Young Adult (20-29)",
          "Adult (30-39)",
          "Adult (30-39)",
          "Adult (30-39)",
          "Young Adult (20-29)",
          "Young Adult (20-29)",
          "Senior (50+)",
          "Adult (30-39)",
          "Middle Age (40-49)",
          "Middle Age (40-49)",
          "Adult (30-39)",
          "Senior (50+)",
          "Senior (50+)",
          "Young Adult (20-29)",
          "Middle Age (40-49)",
          "Adult (30-39)",
          "Senior (50+)",
          "Middle Age (40-49)",
          "Young Adult (20-29)",
          "Young Adult (20-29)",
          "Adult (30-39)",
          "Adult (30-39)",
          "Adult (30-39)",
          "Senior (50+)",
          "Middle Age (40-49)",
          "Adult (30-39)",
          "Adult (30-39)",
          "Young Adult (20-29)",
          "Young Adult (20-29)",
          "Adult (30-39)",
          "Adult (30-39)",
          "Young Adult (20-29)",
          "Senior (50+)",
          "Middle Age (40-49)",
          "Young Adult (20-29)",
          "Young Adult (20-29)",
          "Young Adult (20-29)",
          "Middle Age (40-49)",
          "Adult (30-39)",
          "Young Adult (20-29)",
          "Young Adult (20-29)",
          "Adult (30-39)",
          "Young Adult (20-29)",
          "Adult (30-39)",
          "Middle Age (40-49)",
          "Young Adult (20-29)",
          "Senior (50+)",
          "Adult (30-39)",
          "Adult (30-39)",
          "Teen (0-19)",
          "Young Adult (20-29)",
          "Young Adult (20-29)",
          "Young Adult (20-29)",
          "Middle Age (40-49)",
          "Adult (30-39)",
          "Young Adult (20-29)",
          "Middle Age (40-49)",
          "Middle Age (40-49)",
          "Teen (0-19)",
          "Adult (30-39)",
          "Senior (50+)",
          "Young Adult (20-29)",
          "Middle Age (40-49)",
          "Adult (30-39)",
          "Adult (30-39)",
          "Senior (50+)",
          "Middle Age (40-49)",
          "Adult (30-39)",
          "Senior (50+)",
          "Senior (50+)",
          "Adult (30-39)",
          "Middle Age (40-49)",
          "Adult (30-39)",
          "Adult (30-39)",
          "Young Adult (20-29)",
          "Young Adult (20-29)",
          "Young Adult (20-29)",
          "Adult (30-39)",
          "Middle Age (40-49)",
          "Middle Age (40-49)",
          "Senior (50+)",
          "Young Adult (20-29)",
          "Adult (30-39)",
          "Adult (30-39)",
          "Middle Age (40-49)",
          "Middle Age (40-49)",
          "Young Adult (20-29)",
          "Teen (0-19)",
          "Senior (50+)",
          "Senior (50+)",
          "Senior (50+)",
          "Teen (0-19)",
          "Teen (0-19)",
          "Senior (50+)",
          "Teen (0-19)",
          "Middle Age (40-49)",
          "Adult (30-39)",
          "Young Adult (20-29)",
          "Adult (30-39)",
          "Young Adult (20-29)",
          "Adult (30-39)",
          "Middle Age (40-49)",
          "Young Adult (20-29)",
          "Senior (50+)",
          "Young Adult (20-29)",
          "Adult (30-39)",
          "Young Adult (20-29)",
          "Young Adult (20-29)",
          "Young Adult (20-29)",
          "Young Adult (20-29)",
          "Young Adult (20-29)",
          "Adult (30-39)",
          "Young Adult (20-29)",
          "Young Adult (20-29)",
          "Senior (50+)",
          "Adult (30-39)",
          "Young Adult (20-29)",
          "Adult (30-39)",
          "Young Adult (20-29)",
          "Adult (30-39)",
          "Middle Age (40-49)",
          "Adult (30-39)",
          "Young Adult (20-29)",
          "Senior (50+)",
          "Teen (0-19)",
          "Young Adult (20-29)",
          "Young Adult (20-29)",
          "Adult (30-39)",
          "Middle Age (40-49)",
          "Adult (30-39)",
          "Adult (30-39)",
          "Young Adult (20-29)",
          "Young Adult (20-29)",
          "Young Adult (20-29)",
          "Young Adult (20-29)",
          "Teen (0-19)",
          "Middle Age (40-49)",
          "Teen (0-19)",
          "Middle Age (40-49)",
          "Middle Age (40-49)",
          "Middle Age (40-49)",
          "Middle Age (40-49)",
          "Young Adult (20-29)",
          "Adult (30-39)",
          "Adult (30-39)",
          "Middle Age (40-49)",
          "Young Adult (20-29)",
          "Teen (0-19)",
          "Young Adult (20-29)",
          "Young Adult (20-29)",
          "Adult (30-39)",
          "Young Adult (20-29)",
          "Senior (50+)",
          "Adult (30-39)",
          "Senior (50+)",
          "Young Adult (20-29)",
          "Teen (0-19)",
          "Adult (30-39)",
          "Adult (30-39)",
          "Adult (30-39)",
          "Adult (30-39)",
          "Adult (30-39)",
          "Teen (0-19)",
          "Young Adult (20-29)",
          "Adult (30-39)",
          "Young Adult (20-29)",
          "Adult (30-39)",
          "Senior (50+)",
          "Adult (30-39)",
          "Middle Age (40-49)",
          "Adult (30-39)",
          "Adult (30-39)",
          "Adult (30-39)",
          "Adult (30-39)",
          "Senior (50+)",
          "Young Adult (20-29)",
          "Adult (30-39)",
          "Middle Age (40-49)",
          "Middle Age (40-49)",
          "Adult (30-39)",
          "Adult (30-39)",
          "Young Adult (20-29)",
          "Adult (30-39)",
          "Middle Age (40-49)",
          "Young Adult (20-29)",
          "Young Adult (20-29)",
          "Middle Age (40-49)",
          "Young Adult (20-29)",
          "Young Adult (20-29)",
          "Adult (30-39)",
          "Young Adult (20-29)",
          "Young Adult (20-29)",
          "Middle Age (40-49)",
          "Senior (50+)",
          "Adult (30-39)",
          "Young Adult (20-29)",
          "Teen (0-19)",
          "Young Adult (20-29)",
          "Young Adult (20-29)",
          "Adult (30-39)",
          "Teen (0-19)",
          "Young Adult (20-29)",
          "Teen (0-19)",
          "Young Adult (20-29)",
          "Senior (50+)",
          "Teen (0-19)",
          "Middle Age (40-49)",
          "Middle Age (40-49)",
          "Young Adult (20-29)",
          "Young Adult (20-29)",
          "Young Adult (20-29)",
          "Teen (0-19)",
          "Adult (30-39)",
          "Young Adult (20-29)",
          "Adult (30-39)",
          "Young Adult (20-29)",
          "Young Adult (20-29)",
          "Adult (30-39)",
          "Adult (30-39)",
          "Middle Age (40-49)",
          "Young Adult (20-29)",
          "Young Adult (20-29)",
          "Adult (30-39)",
          "Adult (30-39)",
          "Young Adult (20-29)",
          "Adult (30-39)",
          "Adult (30-39)",
          "Adult (30-39)",
          "Adult (30-39)",
          "Young Adult (20-29)",
          "Senior (50+)",
          "Middle Age (40-49)",
          "Senior (50+)",
          "Middle Age (40-49)",
          "Adult (30-39)",
          "Senior (50+)",
          "Teen (0-19)",
          "Senior (50+)",
          "Teen (0-19)",
          "Young Adult (20-29)",
          "Adult (30-39)",
          "Adult (30-39)",
          "Middle Age (40-49)",
          "Middle Age (40-49)",
          "Adult (30-39)",
          "Adult (30-39)",
          "Adult (30-39)",
          "Adult (30-39)",
          "Middle Age (40-49)",
          "Middle Age (40-49)",
          "Young Adult (20-29)",
          "Young Adult (20-29)",
          "Young Adult (20-29)",
          "Senior (50+)",
          "Middle Age (40-49)",
          "Middle Age (40-49)",
          "Adult (30-39)",
          "Middle Age (40-49)",
          "Middle Age (40-49)",
          "Young Adult (20-29)",
          "Young Adult (20-29)",
          "Young Adult (20-29)",
          "Young Adult (20-29)",
          "Adult (30-39)",
          "Senior (50+)",
          "Middle Age (40-49)",
          "Adult (30-39)",
          "Adult (30-39)",
          "Young Adult (20-29)",
          "Senior (50+)",
          "Adult (30-39)",
          "Young Adult (20-29)",
          "Adult (30-39)",
          "Adult (30-39)",
          "Adult (30-39)",
          "Middle Age (40-49)",
          "Adult (30-39)",
          "Teen (0-19)",
          "Adult (30-39)",
          "Adult (30-39)",
          "Adult (30-39)",
          "Adult (30-39)",
          "Adult (30-39)",
          "Middle Age (40-49)",
          "Adult (30-39)",
          "Middle Age (40-49)",
          "Teen (0-19)",
          "Young Adult (20-29)",
          "Adult (30-39)",
          "Adult (30-39)",
          "Young Adult (20-29)",
          "Adult (30-39)",
          "Adult (30-39)",
          "Adult (30-39)",
          "Teen (0-19)",
          "Young Adult (20-29)",
          "Young Adult (20-29)",
          "Young Adult (20-29)",
          "Senior (50+)",
          "Adult (30-39)",
          "Young Adult (20-29)",
          "Middle Age (40-49)",
          "Young Adult (20-29)",
          "Teen (0-19)",
          "Adult (30-39)",
          "Senior (50+)",
          "Adult (30-39)",
          "Senior (50+)",
          "Adult (30-39)",
          "Young Adult (20-29)",
          "Senior (50+)",
          "Adult (30-39)",
          "Teen (0-19)",
          "Teen (0-19)",
          "Middle Age (40-49)",
          "Middle Age (40-49)",
          "Young Adult (20-29)",
          "Adult (30-39)",
          "Adult (30-39)",
          "Young Adult (20-29)",
          "Adult (30-39)",
          "Senior (50+)",
          "Middle Age (40-49)",
          "Adult (30-39)",
          "Middle Age (40-49)",
          "Middle Age (40-49)",
          "Senior (50+)",
          "Teen (0-19)",
          "Senior (50+)",
          "Young Adult (20-29)",
          "Middle Age (40-49)",
          "Adult (30-39)",
          "Adult (30-39)",
          "Young Adult (20-29)",
          "Middle Age (40-49)",
          "Senior (50+)",
          "Middle Age (40-49)",
          "Adult (30-39)",
          "Adult (30-39)",
          "Senior (50+)",
          "Senior (50+)",
          "Middle Age (40-49)",
          "Teen (0-19)",
          "Middle Age (40-49)",
          "Adult (30-39)",
          "Adult (30-39)",
          "Adult (30-39)",
          "Middle Age (40-49)",
          "Adult (30-39)",
          "Young Adult (20-29)",
          "Senior (50+)",
          "Young Adult (20-29)",
          "Young Adult (20-29)",
          "Middle Age (40-49)",
          "Senior (50+)",
          "Adult (30-39)",
          "Teen (0-19)",
          "Adult (30-39)",
          "Young Adult (20-29)",
          "Adult (30-39)",
          "Senior (50+)",
          "Adult (30-39)",
          "Adult (30-39)",
          "Adult (30-39)",
          "Young Adult (20-29)",
          "Young Adult (20-29)",
          "Young Adult (20-29)",
          "Middle Age (40-49)",
          "Senior (50+)",
          "Young Adult (20-29)",
          "Adult (30-39)",
          "Young Adult (20-29)",
          "Senior (50+)",
          "Adult (30-39)",
          "Young Adult (20-29)",
          "Senior (50+)",
          "Adult (30-39)",
          "Senior (50+)",
          "Adult (30-39)",
          "Young Adult (20-29)",
          "Adult (30-39)",
          "Adult (30-39)",
          "Young Adult (20-29)",
          "Adult (30-39)",
          "Adult (30-39)",
          "Young Adult (20-29)",
          "Young Adult (20-29)",
          "Adult (30-39)",
          "Young Adult (20-29)",
          "Young Adult (20-29)",
          "Adult (30-39)",
          "Middle Age (40-49)",
          "Middle Age (40-49)",
          "Adult (30-39)",
          "Teen (0-19)",
          "Young Adult (20-29)",
          "Adult (30-39)",
          "Young Adult (20-29)",
          "Senior (50+)",
          "Adult (30-39)",
          "Middle Age (40-49)",
          "Young Adult (20-29)",
          "Middle Age (40-49)",
          "Young Adult (20-29)",
          "Middle Age (40-49)",
          "Adult (30-39)",
          "Young Adult (20-29)",
          "Young Adult (20-29)",
          "Young Adult (20-29)",
          "Young Adult (20-29)",
          "Young Adult (20-29)",
          "Middle Age (40-49)",
          "Young Adult (20-29)",
          "Middle Age (40-49)",
          "Adult (30-39)",
          "Adult (30-39)",
          "Senior (50+)",
          "Adult (30-39)",
          "Young Adult (20-29)",
          "Middle Age (40-49)",
          "Young Adult (20-29)",
          "Adult (30-39)",
          "Adult (30-39)",
          "Senior (50+)",
          "Adult (30-39)",
          "Middle Age (40-49)",
          "Teen (0-19)",
          "Young Adult (20-29)",
          "Teen (0-19)",
          "Young Adult (20-29)",
          "Middle Age (40-49)",
          "Adult (30-39)",
          "Young Adult (20-29)",
          "Adult (30-39)",
          "Adult (30-39)",
          "Middle Age (40-49)",
          "Adult (30-39)",
          "Young Adult (20-29)",
          "Young Adult (20-29)",
          "Young Adult (20-29)",
          "Teen (0-19)",
          "Young Adult (20-29)",
          "Young Adult (20-29)",
          "Adult (30-39)",
          "Young Adult (20-29)",
          "Young Adult (20-29)",
          "Adult (30-39)",
          "Adult (30-39)",
          "Middle Age (40-49)",
          "Middle Age (40-49)",
          "Young Adult (20-29)",
          "Middle Age (40-49)",
          "Adult (30-39)",
          "Young Adult (20-29)",
          "Adult (30-39)",
          "Young Adult (20-29)",
          "Adult (30-39)",
          "Middle Age (40-49)",
          "Senior (50+)",
          "Senior (50+)",
          "Young Adult (20-29)",
          "Young Adult (20-29)",
          "Teen (0-19)",
          "Adult (30-39)",
          "Middle Age (40-49)",
          "Senior (50+)",
          "Senior (50+)",
          "Senior (50+)",
          "Middle Age (40-49)",
          "Young Adult (20-29)",
          "Young Adult (20-29)",
          "Young Adult (20-29)",
          "Middle Age (40-49)",
          "Senior (50+)",
          "Senior (50+)",
          "Adult (30-39)",
          "Young Adult (20-29)",
          "Middle Age (40-49)",
          "Middle Age (40-49)",
          "Young Adult (20-29)",
          "Adult (30-39)",
          "Young Adult (20-29)",
          "Senior (50+)",
          "Middle Age (40-49)",
          "Teen (0-19)",
          "Adult (30-39)",
          "Adult (30-39)",
          "Senior (50+)",
          "Young Adult (20-29)",
          "Adult (30-39)",
          "Young Adult (20-29)",
          "Adult (30-39)",
          "Senior (50+)",
          "Teen (0-19)",
          "Young Adult (20-29)",
          "Middle Age (40-49)",
          "Teen (0-19)",
          "Teen (0-19)",
          "Young Adult (20-29)",
          "Adult (30-39)",
          "Middle Age (40-49)",
          "Senior (50+)",
          "Young Adult (20-29)",
          "Young Adult (20-29)",
          "Adult (30-39)",
          "Middle Age (40-49)",
          "Young Adult (20-29)",
          "Young Adult (20-29)",
          "Adult (30-39)",
          "Middle Age (40-49)",
          "Teen (0-19)",
          "Young Adult (20-29)",
          "Middle Age (40-49)",
          "Young Adult (20-29)",
          "Young Adult (20-29)",
          "Adult (30-39)",
          "Adult (30-39)",
          "Middle Age (40-49)",
          "Senior (50+)",
          "Middle Age (40-49)",
          "Young Adult (20-29)",
          "Adult (30-39)",
          "Senior (50+)",
          "Adult (30-39)",
          "Middle Age (40-49)",
          "Middle Age (40-49)",
          "Young Adult (20-29)",
          "Teen (0-19)",
          "Adult (30-39)",
          "Young Adult (20-29)",
          "Teen (0-19)",
          "Young Adult (20-29)",
          "Adult (30-39)",
          "Senior (50+)",
          "Young Adult (20-29)",
          "Adult (30-39)",
          "Adult (30-39)",
          "Middle Age (40-49)",
          "Young Adult (20-29)",
          "Adult (30-39)",
          "Adult (30-39)",
          "Senior (50+)",
          "Adult (30-39)",
          "Senior (50+)",
          "Middle Age (40-49)",
          "Middle Age (40-49)",
          "Adult (30-39)",
          "Young Adult (20-29)",
          "Adult (30-39)",
          "Young Adult (20-29)",
          "Adult (30-39)",
          "Middle Age (40-49)",
          "Adult (30-39)",
          "Senior (50+)",
          "Middle Age (40-49)",
          "Middle Age (40-49)",
          "Young Adult (20-29)",
          "Young Adult (20-29)",
          "Young Adult (20-29)",
          "Young Adult (20-29)",
          "Adult (30-39)",
          "Senior (50+)",
          "Middle Age (40-49)",
          "Adult (30-39)",
          "Adult (30-39)",
          "Middle Age (40-49)",
          "Young Adult (20-29)",
          "Adult (30-39)",
          "Middle Age (40-49)",
          "Middle Age (40-49)",
          "Teen (0-19)",
          "Middle Age (40-49)",
          "Young Adult (20-29)",
          "Young Adult (20-29)",
          "Adult (30-39)",
          "Adult (30-39)",
          "Adult (30-39)",
          "Young Adult (20-29)",
          "Young Adult (20-29)",
          "Middle Age (40-49)",
          "Middle Age (40-49)",
          "Adult (30-39)",
          "Middle Age (40-49)",
          "Middle Age (40-49)",
          "Young Adult (20-29)",
          "Young Adult (20-29)",
          "Middle Age (40-49)",
          "Teen (0-19)",
          "Adult (30-39)",
          "Middle Age (40-49)",
          "Young Adult (20-29)",
          "Middle Age (40-49)",
          "Teen (0-19)",
          "Middle Age (40-49)",
          "Middle Age (40-49)",
          "Middle Age (40-49)",
          "Young Adult (20-29)",
          "Teen (0-19)",
          "Adult (30-39)",
          "Adult (30-39)",
          "Young Adult (20-29)",
          "Senior (50+)",
          "Young Adult (20-29)",
          "Teen (0-19)",
          "Young Adult (20-29)",
          "Teen (0-19)",
          "Young Adult (20-29)",
          "Adult (30-39)",
          "Adult (30-39)",
          "Adult (30-39)",
          "Adult (30-39)",
          "Middle Age (40-49)",
          "Adult (30-39)",
          "Senior (50+)",
          "Middle Age (40-49)",
          "Young Adult (20-29)",
          "Teen (0-19)",
          "Adult (30-39)",
          "Young Adult (20-29)",
          "Adult (30-39)",
          "Teen (0-19)",
          "Adult (30-39)",
          "Adult (30-39)",
          "Middle Age (40-49)",
          "Middle Age (40-49)",
          "Middle Age (40-49)",
          "Middle Age (40-49)",
          "Middle Age (40-49)",
          "Middle Age (40-49)",
          "Adult (30-39)",
          "Middle Age (40-49)",
          "Young Adult (20-29)",
          "Senior (50+)",
          "Middle Age (40-49)",
          "Senior (50+)",
          "Middle Age (40-49)",
          "Middle Age (40-49)",
          "Senior (50+)",
          "Young Adult (20-29)",
          "Adult (30-39)",
          "Young Adult (20-29)",
          "Middle Age (40-49)",
          "Young Adult (20-29)",
          "Young Adult (20-29)",
          "Teen (0-19)",
          "Young Adult (20-29)",
          "Young Adult (20-29)",
          "Middle Age (40-49)",
          "Senior (50+)",
          "Young Adult (20-29)",
          "Adult (30-39)",
          "Young Adult (20-29)",
          "Senior (50+)",
          "Middle Age (40-49)",
          "Adult (30-39)",
          "Adult (30-39)",
          "Adult (30-39)",
          "Senior (50+)",
          "Middle Age (40-49)",
          "Middle Age (40-49)",
          "Young Adult (20-29)",
          "Senior (50+)",
          "Senior (50+)",
          "Adult (30-39)",
          "Middle Age (40-49)",
          "Young Adult (20-29)",
          "Adult (30-39)",
          "Middle Age (40-49)",
          "Middle Age (40-49)",
          "Middle Age (40-49)",
          "Adult (30-39)",
          "Young Adult (20-29)",
          "Senior (50+)",
          "Young Adult (20-29)",
          "Teen (0-19)",
          "Middle Age (40-49)",
          "Teen (0-19)",
          "Middle Age (40-49)",
          "Adult (30-39)",
          "Adult (30-39)",
          "Young Adult (20-29)",
          "Middle Age (40-49)",
          "Young Adult (20-29)",
          "Young Adult (20-29)",
          "Young Adult (20-29)",
          "Senior (50+)",
          "Adult (30-39)",
          "Middle Age (40-49)",
          "Senior (50+)",
          "Senior (50+)",
          "Adult (30-39)",
          "Adult (30-39)",
          "Teen (0-19)",
          "Senior (50+)",
          "Adult (30-39)",
          "Middle Age (40-49)",
          "Young Adult (20-29)",
          "Middle Age (40-49)",
          "Senior (50+)",
          "Senior (50+)",
          "Teen (0-19)",
          "Young Adult (20-29)",
          "Young Adult (20-29)",
          "Young Adult (20-29)",
          "Adult (30-39)",
          "Senior (50+)",
          "Adult (30-39)",
          "Senior (50+)",
          "Adult (30-39)",
          "Adult (30-39)",
          "Adult (30-39)",
          "Adult (30-39)",
          "Adult (30-39)",
          "Adult (30-39)",
          "Adult (30-39)",
          "Young Adult (20-29)",
          "Middle Age (40-49)",
          "Young Adult (20-29)",
          "Adult (30-39)",
          "Young Adult (20-29)",
          "Adult (30-39)",
          "Middle Age (40-49)",
          "Young Adult (20-29)",
          "Adult (30-39)",
          "Middle Age (40-49)",
          "Young Adult (20-29)",
          "Adult (30-39)",
          "Young Adult (20-29)",
          "Middle Age (40-49)",
          "Young Adult (20-29)",
          "Young Adult (20-29)",
          "Young Adult (20-29)",
          "Middle Age (40-49)",
          "Adult (30-39)",
          "Adult (30-39)",
          "Middle Age (40-49)",
          "Young Adult (20-29)",
          "Adult (30-39)",
          "Middle Age (40-49)",
          "Middle Age (40-49)",
          "Senior (50+)",
          "Adult (30-39)",
          "Adult (30-39)",
          "Teen (0-19)",
          "Adult (30-39)",
          "Teen (0-19)",
          "Adult (30-39)",
          "Middle Age (40-49)",
          "Young Adult (20-29)",
          "Senior (50+)",
          "Senior (50+)",
          "Adult (30-39)",
          "Senior (50+)",
          "Adult (30-39)",
          "Senior (50+)",
          "Adult (30-39)",
          "Middle Age (40-49)",
          "Adult (30-39)",
          "Young Adult (20-29)",
          "Senior (50+)",
          "Young Adult (20-29)",
          "Adult (30-39)",
          "Young Adult (20-29)",
          "Young Adult (20-29)",
          "Young Adult (20-29)",
          "Middle Age (40-49)",
          "Teen (0-19)",
          "Teen (0-19)",
          "Senior (50+)",
          "Adult (30-39)",
          "Young Adult (20-29)",
          "Young Adult (20-29)",
          "Adult (30-39)",
          "Young Adult (20-29)",
          "Adult (30-39)",
          "Adult (30-39)",
          "Adult (30-39)",
          "Adult (30-39)",
          "Teen (0-19)",
          "Adult (30-39)",
          "Teen (0-19)",
          "Adult (30-39)",
          "Adult (30-39)",
          "Adult (30-39)",
          "Young Adult (20-29)",
          "Adult (30-39)",
          "Adult (30-39)",
          "Teen (0-19)",
          "Young Adult (20-29)",
          "Young Adult (20-29)",
          "Adult (30-39)",
          "Adult (30-39)",
          "Middle Age (40-49)",
          "Teen (0-19)",
          "Adult (30-39)",
          "Adult (30-39)",
          "Adult (30-39)",
          "Senior (50+)",
          "Senior (50+)",
          "Senior (50+)",
          "Young Adult (20-29)",
          "Young Adult (20-29)",
          "Adult (30-39)",
          "Adult (30-39)",
          "Senior (50+)",
          "Middle Age (40-49)",
          "Adult (30-39)",
          "Middle Age (40-49)",
          "Middle Age (40-49)",
          "Middle Age (40-49)",
          "Middle Age (40-49)",
          "Middle Age (40-49)",
          "Adult (30-39)",
          "Middle Age (40-49)",
          "Young Adult (20-29)",
          "Middle Age (40-49)",
          "Young Adult (20-29)",
          "Senior (50+)",
          "Young Adult (20-29)",
          "Senior (50+)",
          "Young Adult (20-29)",
          "Young Adult (20-29)",
          "Senior (50+)",
          "Young Adult (20-29)",
          "Senior (50+)",
          "Senior (50+)",
          "Young Adult (20-29)",
          "Senior (50+)",
          "Senior (50+)",
          "Young Adult (20-29)",
          "Middle Age (40-49)",
          "Adult (30-39)",
          "Adult (30-39)",
          "Young Adult (20-29)",
          "Adult (30-39)",
          "Young Adult (20-29)",
          "Adult (30-39)",
          "Young Adult (20-29)",
          "Young Adult (20-29)",
          "Adult (30-39)",
          "Adult (30-39)",
          "Young Adult (20-29)",
          "Young Adult (20-29)",
          "Middle Age (40-49)",
          "Adult (30-39)",
          "Adult (30-39)",
          "Adult (30-39)",
          "Teen (0-19)",
          "Adult (30-39)",
          "Middle Age (40-49)",
          "Young Adult (20-29)",
          "Young Adult (20-29)",
          "Adult (30-39)",
          "Adult (30-39)",
          "Adult (30-39)",
          "Adult (30-39)",
          "Middle Age (40-49)",
          "Young Adult (20-29)",
          "Young Adult (20-29)",
          "Young Adult (20-29)",
          "Teen (0-19)",
          "Young Adult (20-29)",
          "Young Adult (20-29)",
          "Adult (30-39)",
          "Senior (50+)",
          "Middle Age (40-49)",
          "Senior (50+)",
          "Adult (30-39)",
          "Young Adult (20-29)",
          "Middle Age (40-49)",
          "Middle Age (40-49)",
          "Senior (50+)",
          "Middle Age (40-49)",
          "Adult (30-39)",
          "Adult (30-39)",
          "Young Adult (20-29)",
          "Senior (50+)",
          "Adult (30-39)",
          "Young Adult (20-29)",
          "Young Adult (20-29)",
          "Young Adult (20-29)",
          "Adult (30-39)",
          "Middle Age (40-49)",
          "Adult (30-39)",
          "Senior (50+)",
          "Senior (50+)",
          "Senior (50+)",
          "Middle Age (40-49)",
          "Young Adult (20-29)",
          "Teen (0-19)",
          "Adult (30-39)",
          "Middle Age (40-49)",
          "Teen (0-19)",
          "Adult (30-39)",
          "Middle Age (40-49)",
          "Young Adult (20-29)",
          "Adult (30-39)",
          "Middle Age (40-49)",
          "Adult (30-39)",
          "Adult (30-39)",
          "Teen (0-19)",
          "Adult (30-39)",
          "Teen (0-19)",
          "Middle Age (40-49)",
          "Young Adult (20-29)",
          "Young Adult (20-29)",
          "Teen (0-19)",
          "Young Adult (20-29)",
          "Adult (30-39)",
          "Adult (30-39)",
          "Middle Age (40-49)",
          "Adult (30-39)",
          "Young Adult (20-29)",
          "Young Adult (20-29)",
          "Middle Age (40-49)",
          "Middle Age (40-49)",
          "Middle Age (40-49)",
          "Adult (30-39)",
          "Middle Age (40-49)",
          "Young Adult (20-29)",
          "Teen (0-19)",
          "Adult (30-39)",
          "Adult (30-39)",
          "Adult (30-39)",
          "Adult (30-39)",
          "Senior (50+)",
          "Senior (50+)",
          "Senior (50+)",
          "Adult (30-39)",
          "Adult (30-39)",
          "Adult (30-39)",
          "Adult (30-39)",
          "Adult (30-39)",
          "Adult (30-39)",
          "Adult (30-39)",
          "Senior (50+)",
          "Adult (30-39)",
          "Adult (30-39)",
          "Young Adult (20-29)",
          "Young Adult (20-29)",
          "Middle Age (40-49)",
          "Young Adult (20-29)",
          "Young Adult (20-29)",
          "Senior (50+)",
          "Young Adult (20-29)",
          "Senior (50+)",
          "Young Adult (20-29)",
          "Young Adult (20-29)",
          "Young Adult (20-29)",
          "Middle Age (40-49)",
          "Teen (0-19)",
          "Senior (50+)",
          "Senior (50+)",
          "Young Adult (20-29)",
          "Adult (30-39)",
          "Young Adult (20-29)",
          "Middle Age (40-49)",
          "Middle Age (40-49)",
          "Young Adult (20-29)",
          "Middle Age (40-49)",
          "Middle Age (40-49)",
          "Young Adult (20-29)",
          "Young Adult (20-29)",
          "Young Adult (20-29)",
          "Adult (30-39)",
          "Adult (30-39)",
          "Senior (50+)",
          "Adult (30-39)",
          "Young Adult (20-29)",
          "Young Adult (20-29)",
          "Senior (50+)",
          "Senior (50+)",
          "Young Adult (20-29)",
          "Teen (0-19)",
          "Young Adult (20-29)",
          "Adult (30-39)",
          "Adult (30-39)",
          "Young Adult (20-29)",
          "Adult (30-39)",
          "Adult (30-39)",
          "Young Adult (20-29)",
          "Teen (0-19)",
          "Teen (0-19)",
          "Adult (30-39)",
          "Senior (50+)",
          "Adult (30-39)",
          "Young Adult (20-29)",
          "Young Adult (20-29)",
          "Senior (50+)",
          "Middle Age (40-49)",
          "Senior (50+)",
          "Senior (50+)",
          "Middle Age (40-49)",
          "Young Adult (20-29)",
          "Young Adult (20-29)",
          "Teen (0-19)",
          "Middle Age (40-49)",
          "Senior (50+)",
          "Adult (30-39)",
          "Middle Age (40-49)",
          "Adult (30-39)",
          "Young Adult (20-29)",
          "Adult (30-39)",
          "Adult (30-39)",
          "Middle Age (40-49)",
          "Young Adult (20-29)",
          "Adult (30-39)",
          "Adult (30-39)",
          "Middle Age (40-49)",
          "Senior (50+)",
          "Young Adult (20-29)",
          "Adult (30-39)",
          "Middle Age (40-49)",
          "Adult (30-39)",
          "Senior (50+)",
          "Adult (30-39)",
          "Adult (30-39)",
          "Young Adult (20-29)",
          "Middle Age (40-49)",
          "Young Adult (20-29)",
          "Adult (30-39)",
          "Young Adult (20-29)",
          "Middle Age (40-49)",
          "Adult (30-39)",
          "Middle Age (40-49)",
          "Adult (30-39)",
          "Middle Age (40-49)",
          "Senior (50+)",
          "Adult (30-39)",
          "Adult (30-39)",
          "Adult (30-39)",
          "Senior (50+)",
          "Adult (30-39)",
          "Adult (30-39)",
          "Young Adult (20-29)",
          "Adult (30-39)",
          "Adult (30-39)",
          "Young Adult (20-29)",
          "Senior (50+)",
          "Adult (30-39)",
          "Adult (30-39)",
          "Adult (30-39)",
          "Teen (0-19)",
          "Senior (50+)",
          "Senior (50+)",
          "Adult (30-39)",
          "Teen (0-19)",
          "Teen (0-19)",
          "Young Adult (20-29)",
          "Adult (30-39)",
          "Middle Age (40-49)",
          "Middle Age (40-49)",
          "Middle Age (40-49)",
          "Adult (30-39)",
          "Middle Age (40-49)",
          "Middle Age (40-49)",
          "Adult (30-39)",
          "Young Adult (20-29)",
          "Young Adult (20-29)",
          "Adult (30-39)",
          "Middle Age (40-49)",
          "Adult (30-39)",
          "Adult (30-39)",
          "Middle Age (40-49)",
          "Young Adult (20-29)",
          "Adult (30-39)",
          "Middle Age (40-49)",
          "Young Adult (20-29)",
          "Adult (30-39)",
          "Senior (50+)",
          "Young Adult (20-29)",
          "Adult (30-39)",
          "Young Adult (20-29)",
          "Adult (30-39)",
          "Young Adult (20-29)",
          "Young Adult (20-29)",
          "Young Adult (20-29)",
          "Adult (30-39)",
          "Middle Age (40-49)",
          "Young Adult (20-29)",
          "Adult (30-39)",
          "Adult (30-39)",
          "Adult (30-39)",
          "Middle Age (40-49)",
          "Adult (30-39)",
          "Young Adult (20-29)",
          "Middle Age (40-49)",
          "Adult (30-39)",
          "Middle Age (40-49)",
          "Middle Age (40-49)",
          "Young Adult (20-29)",
          "Adult (30-39)",
          "Adult (30-39)",
          "Young Adult (20-29)",
          "Young Adult (20-29)",
          "Senior (50+)",
          "Teen (0-19)",
          "Young Adult (20-29)",
          "Middle Age (40-49)",
          "Senior (50+)",
          "Adult (30-39)",
          "Young Adult (20-29)",
          "Adult (30-39)",
          "Young Adult (20-29)",
          "Adult (30-39)",
          "Adult (30-39)",
          "Middle Age (40-49)",
          "Adult (30-39)",
          "Young Adult (20-29)",
          "Senior (50+)",
          "Senior (50+)",
          "Young Adult (20-29)",
          "Young Adult (20-29)",
          "Adult (30-39)",
          "Middle Age (40-49)",
          "Young Adult (20-29)",
          "Adult (30-39)",
          "Adult (30-39)",
          "Adult (30-39)",
          "Adult (30-39)",
          "Middle Age (40-49)",
          "Senior (50+)",
          "Adult (30-39)",
          "Young Adult (20-29)",
          "Middle Age (40-49)",
          "Young Adult (20-29)",
          "Adult (30-39)",
          "Middle Age (40-49)",
          "Middle Age (40-49)",
          "Middle Age (40-49)",
          "Young Adult (20-29)",
          "Adult (30-39)",
          "Young Adult (20-29)",
          "Teen (0-19)",
          "Young Adult (20-29)",
          "Middle Age (40-49)",
          "Middle Age (40-49)",
          "Adult (30-39)",
          "Young Adult (20-29)",
          "Adult (30-39)",
          "Middle Age (40-49)",
          "Young Adult (20-29)",
          "Senior (50+)",
          "Adult (30-39)",
          "Young Adult (20-29)",
          "Adult (30-39)",
          "Adult (30-39)",
          "Adult (30-39)",
          "Adult (30-39)",
          "Adult (30-39)",
          "Teen (0-19)",
          "Young Adult (20-29)",
          "Young Adult (20-29)",
          "Adult (30-39)",
          "Senior (50+)",
          "Senior (50+)",
          "Senior (50+)",
          "Middle Age (40-49)",
          "Adult (30-39)",
          "Middle Age (40-49)",
          "Teen (0-19)",
          "Young Adult (20-29)",
          "Middle Age (40-49)",
          "Middle Age (40-49)",
          "Middle Age (40-49)",
          "Senior (50+)",
          "Senior (50+)",
          "Adult (30-39)",
          "Senior (50+)",
          "Young Adult (20-29)",
          "Adult (30-39)",
          "Senior (50+)",
          "Middle Age (40-49)",
          "Middle Age (40-49)",
          "Adult (30-39)",
          "Middle Age (40-49)",
          "Adult (30-39)",
          "Middle Age (40-49)",
          "Young Adult (20-29)",
          "Adult (30-39)",
          "Middle Age (40-49)",
          "Teen (0-19)",
          "Middle Age (40-49)",
          "Adult (30-39)",
          "Young Adult (20-29)",
          "Senior (50+)",
          "Teen (0-19)",
          "Teen (0-19)",
          "Adult (30-39)",
          "Young Adult (20-29)",
          "Middle Age (40-49)",
          "Adult (30-39)",
          "Teen (0-19)",
          "Teen (0-19)",
          "Adult (30-39)",
          "Adult (30-39)",
          "Adult (30-39)",
          "Young Adult (20-29)",
          "Adult (30-39)",
          "Senior (50+)",
          "Adult (30-39)",
          "Adult (30-39)",
          "Young Adult (20-29)",
          "Adult (30-39)",
          "Young Adult (20-29)",
          "Middle Age (40-49)",
          "Middle Age (40-49)",
          "Adult (30-39)",
          "Young Adult (20-29)",
          "Young Adult (20-29)",
          "Adult (30-39)",
          "Middle Age (40-49)",
          "Young Adult (20-29)",
          "Middle Age (40-49)",
          "Teen (0-19)",
          "Senior (50+)",
          "Senior (50+)",
          "Middle Age (40-49)",
          "Adult (30-39)",
          "Middle Age (40-49)",
          "Young Adult (20-29)",
          "Young Adult (20-29)",
          "Teen (0-19)",
          "Senior (50+)",
          "Middle Age (40-49)",
          "Young Adult (20-29)",
          "Adult (30-39)",
          "Young Adult (20-29)",
          "Adult (30-39)",
          "Adult (30-39)",
          "Adult (30-39)",
          "Young Adult (20-29)",
          "Adult (30-39)",
          "Senior (50+)",
          "Adult (30-39)",
          "Young Adult (20-29)",
          "Young Adult (20-29)",
          "Young Adult (20-29)",
          "Adult (30-39)",
          "Adult (30-39)",
          "Adult (30-39)",
          "Adult (30-39)",
          "Adult (30-39)",
          "Adult (30-39)",
          "Teen (0-19)",
          "Middle Age (40-49)",
          "Teen (0-19)",
          "Middle Age (40-49)",
          "Adult (30-39)",
          "Middle Age (40-49)",
          "Young Adult (20-29)",
          "Young Adult (20-29)",
          "Middle Age (40-49)",
          "Young Adult (20-29)",
          "Young Adult (20-29)",
          "Adult (30-39)",
          "Young Adult (20-29)",
          "Young Adult (20-29)",
          "Young Adult (20-29)",
          "Adult (30-39)",
          "Young Adult (20-29)",
          "Adult (30-39)",
          "Young Adult (20-29)",
          "Senior (50+)",
          "Young Adult (20-29)",
          "Adult (30-39)",
          "Middle Age (40-49)",
          "Young Adult (20-29)",
          "Senior (50+)",
          "Middle Age (40-49)",
          "Young Adult (20-29)",
          "Adult (30-39)",
          "Adult (30-39)",
          "Adult (30-39)",
          "Young Adult (20-29)",
          "Adult (30-39)",
          "Adult (30-39)",
          "Senior (50+)",
          "Middle Age (40-49)",
          "Middle Age (40-49)",
          "Adult (30-39)",
          "Young Adult (20-29)",
          "Teen (0-19)",
          "Middle Age (40-49)",
          "Middle Age (40-49)",
          "Teen (0-19)",
          "Middle Age (40-49)",
          "Adult (30-39)",
          "Middle Age (40-49)",
          "Adult (30-39)",
          "Adult (30-39)",
          "Adult (30-39)",
          "Young Adult (20-29)",
          "Middle Age (40-49)",
          "Adult (30-39)",
          "Senior (50+)",
          "Middle Age (40-49)",
          "Middle Age (40-49)",
          "Senior (50+)",
          "Teen (0-19)",
          "Adult (30-39)",
          "Adult (30-39)",
          "Adult (30-39)",
          "Teen (0-19)",
          "Middle Age (40-49)",
          "Adult (30-39)",
          "Adult (30-39)",
          "Young Adult (20-29)",
          "Young Adult (20-29)",
          "Middle Age (40-49)",
          "Adult (30-39)",
          "Young Adult (20-29)",
          "Adult (30-39)",
          "Young Adult (20-29)",
          "Adult (30-39)",
          "Middle Age (40-49)",
          "Young Adult (20-29)",
          "Middle Age (40-49)",
          "Middle Age (40-49)",
          "Middle Age (40-49)",
          "Adult (30-39)",
          "Teen (0-19)",
          "Young Adult (20-29)",
          "Young Adult (20-29)",
          "Teen (0-19)",
          "Young Adult (20-29)",
          "Adult (30-39)",
          "Adult (30-39)",
          "Adult (30-39)",
          "Young Adult (20-29)",
          "Middle Age (40-49)",
          "Young Adult (20-29)",
          "Young Adult (20-29)",
          "Adult (30-39)",
          "Middle Age (40-49)",
          "Middle Age (40-49)",
          "Young Adult (20-29)",
          "Senior (50+)",
          "Adult (30-39)",
          "Adult (30-39)",
          "Young Adult (20-29)",
          "Young Adult (20-29)",
          "Adult (30-39)",
          "Middle Age (40-49)",
          "Teen (0-19)",
          "Adult (30-39)",
          "Young Adult (20-29)",
          "Middle Age (40-49)",
          "Adult (30-39)",
          "Adult (30-39)",
          "Senior (50+)",
          "Senior (50+)",
          "Adult (30-39)",
          "Middle Age (40-49)",
          "Adult (30-39)",
          "Adult (30-39)",
          "Senior (50+)",
          "Young Adult (20-29)",
          "Middle Age (40-49)",
          "Young Adult (20-29)",
          "Young Adult (20-29)",
          "Adult (30-39)",
          "Senior (50+)",
          "Teen (0-19)",
          "Young Adult (20-29)",
          "Adult (30-39)",
          "Adult (30-39)",
          "Adult (30-39)",
          "Young Adult (20-29)",
          "Young Adult (20-29)",
          "Senior (50+)",
          "Senior (50+)",
          "Middle Age (40-49)",
          "Adult (30-39)",
          "Teen (0-19)",
          "Young Adult (20-29)",
          "Young Adult (20-29)",
          "Adult (30-39)",
          "Adult (30-39)",
          "Adult (30-39)",
          "Young Adult (20-29)",
          "Young Adult (20-29)",
          "Young Adult (20-29)",
          "Young Adult (20-29)",
          "Adult (30-39)",
          "Young Adult (20-29)",
          "Young Adult (20-29)",
          "Middle Age (40-49)",
          "Young Adult (20-29)",
          "Senior (50+)",
          "Senior (50+)",
          "Adult (30-39)",
          "Adult (30-39)",
          "Young Adult (20-29)",
          "Teen (0-19)",
          "Young Adult (20-29)",
          "Young Adult (20-29)",
          "Adult (30-39)",
          "Adult (30-39)",
          "Young Adult (20-29)",
          "Senior (50+)",
          "Senior (50+)",
          "Adult (30-39)",
          "Senior (50+)",
          "Adult (30-39)",
          "Middle Age (40-49)",
          "Young Adult (20-29)",
          "Adult (30-39)",
          "Senior (50+)",
          "Young Adult (20-29)",
          "Young Adult (20-29)",
          "Senior (50+)",
          "Adult (30-39)",
          "Senior (50+)",
          "Young Adult (20-29)",
          "Young Adult (20-29)",
          "Young Adult (20-29)",
          "Young Adult (20-29)",
          "Middle Age (40-49)",
          "Young Adult (20-29)",
          "Young Adult (20-29)",
          "Senior (50+)",
          "Senior (50+)",
          "Middle Age (40-49)",
          "Young Adult (20-29)",
          "Young Adult (20-29)",
          "Young Adult (20-29)",
          "Young Adult (20-29)",
          "Adult (30-39)",
          "Middle Age (40-49)",
          "Young Adult (20-29)",
          "Adult (30-39)",
          "Adult (30-39)",
          "Senior (50+)",
          "Middle Age (40-49)",
          "Adult (30-39)",
          "Young Adult (20-29)",
          "Senior (50+)",
          "Teen (0-19)",
          "Middle Age (40-49)",
          "Young Adult (20-29)",
          "Young Adult (20-29)",
          "Adult (30-39)",
          "Adult (30-39)",
          "Adult (30-39)",
          "Young Adult (20-29)",
          "Young Adult (20-29)",
          "Young Adult (20-29)",
          "Senior (50+)",
          "Young Adult (20-29)",
          "Adult (30-39)",
          "Young Adult (20-29)",
          "Young Adult (20-29)",
          "Middle Age (40-49)",
          "Adult (30-39)",
          "Adult (30-39)",
          "Middle Age (40-49)",
          "Adult (30-39)",
          "Teen (0-19)",
          "Young Adult (20-29)",
          "Young Adult (20-29)",
          "Adult (30-39)",
          "Adult (30-39)",
          "Senior (50+)",
          "Young Adult (20-29)",
          "Young Adult (20-29)",
          "Adult (30-39)",
          "Senior (50+)",
          "Young Adult (20-29)",
          "Middle Age (40-49)",
          "Adult (30-39)",
          "Senior (50+)",
          "Middle Age (40-49)",
          "Senior (50+)",
          "Middle Age (40-49)",
          "Adult (30-39)",
          "Adult (30-39)",
          "Young Adult (20-29)",
          "Middle Age (40-49)",
          "Teen (0-19)",
          "Adult (30-39)",
          "Senior (50+)",
          "Middle Age (40-49)",
          "Senior (50+)",
          "Adult (30-39)",
          "Young Adult (20-29)",
          "Adult (30-39)",
          "Young Adult (20-29)",
          "Adult (30-39)",
          "Young Adult (20-29)",
          "Young Adult (20-29)",
          "Adult (30-39)",
          "Young Adult (20-29)",
          "Adult (30-39)",
          "Middle Age (40-49)",
          "Senior (50+)",
          "Middle Age (40-49)",
          "Young Adult (20-29)",
          "Adult (30-39)",
          "Middle Age (40-49)",
          "Middle Age (40-49)",
          "Middle Age (40-49)",
          "Young Adult (20-29)",
          "Adult (30-39)",
          "Young Adult (20-29)",
          "Adult (30-39)",
          "Teen (0-19)",
          "Young Adult (20-29)",
          "Senior (50+)",
          "Young Adult (20-29)",
          "Young Adult (20-29)",
          "Young Adult (20-29)",
          "Young Adult (20-29)",
          "Adult (30-39)",
          "Young Adult (20-29)",
          "Adult (30-39)",
          "Adult (30-39)",
          "Adult (30-39)",
          "Young Adult (20-29)",
          "Middle Age (40-49)",
          "Adult (30-39)",
          "Young Adult (20-29)",
          "Adult (30-39)",
          "Young Adult (20-29)",
          "Adult (30-39)",
          "Middle Age (40-49)",
          "Middle Age (40-49)",
          "Senior (50+)",
          "Young Adult (20-29)",
          "Adult (30-39)",
          "Senior (50+)",
          "Young Adult (20-29)",
          "Adult (30-39)",
          "Senior (50+)",
          "Middle Age (40-49)",
          "Senior (50+)",
          "Adult (30-39)",
          "Teen (0-19)",
          "Young Adult (20-29)",
          "Young Adult (20-29)",
          "Young Adult (20-29)",
          "Young Adult (20-29)",
          "Adult (30-39)",
          "Adult (30-39)",
          "Senior (50+)",
          "Middle Age (40-49)",
          "Young Adult (20-29)",
          "Middle Age (40-49)",
          "Adult (30-39)",
          "Young Adult (20-29)",
          "Young Adult (20-29)",
          "Middle Age (40-49)",
          "Middle Age (40-49)",
          "Teen (0-19)",
          "Senior (50+)",
          "Middle Age (40-49)",
          "Adult (30-39)",
          "Young Adult (20-29)",
          "Middle Age (40-49)",
          "Young Adult (20-29)",
          "Adult (30-39)",
          "Young Adult (20-29)",
          "Adult (30-39)",
          "Middle Age (40-49)",
          "Senior (50+)",
          "Adult (30-39)",
          "Senior (50+)",
          "Adult (30-39)",
          "Adult (30-39)",
          "Adult (30-39)",
          "Young Adult (20-29)",
          "Young Adult (20-29)",
          "Teen (0-19)",
          "Teen (0-19)",
          "Middle Age (40-49)",
          "Middle Age (40-49)",
          "Young Adult (20-29)",
          "Young Adult (20-29)",
          "Young Adult (20-29)",
          "Young Adult (20-29)",
          "Young Adult (20-29)",
          "Middle Age (40-49)",
          "Young Adult (20-29)",
          "Young Adult (20-29)",
          "Adult (30-39)",
          "Teen (0-19)",
          "Adult (30-39)",
          "Teen (0-19)",
          "Teen (0-19)",
          "Young Adult (20-29)",
          "Adult (30-39)",
          "Senior (50+)",
          "Young Adult (20-29)",
          "Middle Age (40-49)",
          "Young Adult (20-29)",
          "Young Adult (20-29)",
          "Adult (30-39)",
          "Teen (0-19)",
          "Senior (50+)",
          "Senior (50+)",
          "Adult (30-39)",
          "Middle Age (40-49)",
          "Middle Age (40-49)",
          "Senior (50+)",
          "Adult (30-39)",
          "Adult (30-39)",
          "Young Adult (20-29)",
          "Middle Age (40-49)",
          "Young Adult (20-29)",
          "Adult (30-39)",
          "Adult (30-39)",
          "Middle Age (40-49)",
          "Teen (0-19)",
          "Teen (0-19)",
          "Senior (50+)",
          "Adult (30-39)",
          "Young Adult (20-29)",
          "Middle Age (40-49)",
          "Middle Age (40-49)",
          "Young Adult (20-29)",
          "Middle Age (40-49)",
          "Young Adult (20-29)",
          "Adult (30-39)",
          "Middle Age (40-49)",
          "Adult (30-39)",
          "Young Adult (20-29)",
          "Adult (30-39)",
          "Middle Age (40-49)",
          "Young Adult (20-29)",
          "Adult (30-39)",
          "Senior (50+)",
          "Adult (30-39)",
          "Adult (30-39)",
          "Adult (30-39)",
          "Adult (30-39)",
          "Young Adult (20-29)",
          "Adult (30-39)",
          "Young Adult (20-29)",
          "Adult (30-39)",
          "Senior (50+)",
          "Middle Age (40-49)",
          "Middle Age (40-49)",
          "Young Adult (20-29)",
          "Senior (50+)",
          "Teen (0-19)",
          "Adult (30-39)",
          "Middle Age (40-49)",
          "Adult (30-39)",
          "Young Adult (20-29)",
          "Middle Age (40-49)",
          "Adult (30-39)",
          "Middle Age (40-49)",
          "Adult (30-39)",
          "Adult (30-39)",
          "Senior (50+)",
          "Young Adult (20-29)",
          "Adult (30-39)",
          "Young Adult (20-29)",
          "Young Adult (20-29)",
          "Young Adult (20-29)",
          "Senior (50+)",
          "Middle Age (40-49)",
          "Young Adult (20-29)",
          "Adult (30-39)",
          "Middle Age (40-49)",
          "Adult (30-39)",
          "Middle Age (40-49)",
          "Young Adult (20-29)",
          "Adult (30-39)",
          "Senior (50+)",
          "Senior (50+)",
          "Middle Age (40-49)",
          "Young Adult (20-29)",
          "Adult (30-39)",
          "Teen (0-19)",
          "Young Adult (20-29)",
          "Young Adult (20-29)",
          "Middle Age (40-49)",
          "Teen (0-19)",
          "Young Adult (20-29)",
          "Adult (30-39)",
          "Young Adult (20-29)",
          "Senior (50+)",
          "Young Adult (20-29)",
          "Young Adult (20-29)",
          "Adult (30-39)",
          "Adult (30-39)",
          "Middle Age (40-49)",
          "Young Adult (20-29)",
          "Middle Age (40-49)",
          "Teen (0-19)",
          "Young Adult (20-29)",
          "Teen (0-19)",
          "Adult (30-39)",
          "Adult (30-39)",
          "Young Adult (20-29)",
          "Adult (30-39)",
          "Young Adult (20-29)",
          "Young Adult (20-29)",
          "Middle Age (40-49)",
          "Senior (50+)",
          "Young Adult (20-29)",
          "Young Adult (20-29)",
          "Middle Age (40-49)",
          "Middle Age (40-49)",
          "Adult (30-39)",
          "Adult (30-39)",
          "Adult (30-39)",
          "Adult (30-39)",
          "Young Adult (20-29)",
          "Senior (50+)",
          "Adult (30-39)",
          "Middle Age (40-49)",
          "Adult (30-39)",
          "Young Adult (20-29)",
          "Young Adult (20-29)",
          "Young Adult (20-29)",
          "Middle Age (40-49)",
          "Senior (50+)",
          "Adult (30-39)",
          "Middle Age (40-49)",
          "Adult (30-39)",
          "Young Adult (20-29)",
          "Adult (30-39)",
          "Young Adult (20-29)",
          "Middle Age (40-49)",
          "Middle Age (40-49)",
          "Adult (30-39)",
          "Young Adult (20-29)",
          "Adult (30-39)",
          "Senior (50+)",
          "Adult (30-39)",
          "Teen (0-19)",
          "Senior (50+)",
          "Adult (30-39)",
          "Adult (30-39)",
          "Middle Age (40-49)",
          "Senior (50+)",
          "Adult (30-39)",
          "Middle Age (40-49)",
          "Middle Age (40-49)",
          "Adult (30-39)",
          "Young Adult (20-29)",
          "Young Adult (20-29)",
          "Senior (50+)",
          "Middle Age (40-49)",
          "Adult (30-39)",
          "Adult (30-39)",
          "Young Adult (20-29)",
          "Senior (50+)",
          "Adult (30-39)",
          "Senior (50+)",
          "Teen (0-19)",
          "Senior (50+)",
          "Young Adult (20-29)",
          "Young Adult (20-29)",
          "Teen (0-19)",
          "Adult (30-39)",
          "Young Adult (20-29)",
          "Young Adult (20-29)",
          "Adult (30-39)",
          "Young Adult (20-29)",
          "Young Adult (20-29)",
          "Teen (0-19)",
          "Young Adult (20-29)",
          "Adult (30-39)",
          "Middle Age (40-49)",
          "Young Adult (20-29)",
          "Middle Age (40-49)",
          "Middle Age (40-49)",
          "Senior (50+)",
          "Adult (30-39)",
          "Young Adult (20-29)",
          "Young Adult (20-29)",
          "Adult (30-39)",
          "Adult (30-39)",
          "Adult (30-39)",
          "Teen (0-19)",
          "Adult (30-39)",
          "Senior (50+)",
          "Senior (50+)",
          "Senior (50+)",
          "Middle Age (40-49)",
          "Young Adult (20-29)",
          "Teen (0-19)",
          "Adult (30-39)",
          "Senior (50+)",
          "Adult (30-39)",
          "Senior (50+)",
          "Adult (30-39)",
          "Middle Age (40-49)",
          "Young Adult (20-29)",
          "Senior (50+)",
          "Adult (30-39)",
          "Adult (30-39)",
          "Adult (30-39)",
          "Young Adult (20-29)",
          "Young Adult (20-29)",
          "Adult (30-39)",
          "Middle Age (40-49)",
          "Middle Age (40-49)",
          "Senior (50+)",
          "Young Adult (20-29)",
          "Adult (30-39)",
          "Adult (30-39)",
          "Adult (30-39)",
          "Adult (30-39)",
          "Young Adult (20-29)",
          "Adult (30-39)",
          "Adult (30-39)",
          "Adult (30-39)",
          "Young Adult (20-29)",
          "Young Adult (20-29)",
          "Adult (30-39)",
          "Adult (30-39)",
          "Teen (0-19)",
          "Teen (0-19)",
          "Senior (50+)",
          "Senior (50+)",
          "Young Adult (20-29)",
          "Adult (30-39)",
          "Senior (50+)",
          "Senior (50+)",
          "Young Adult (20-29)",
          "Senior (50+)",
          "Adult (30-39)",
          "Young Adult (20-29)",
          "Adult (30-39)",
          "Adult (30-39)",
          "Adult (30-39)",
          "Senior (50+)",
          "Adult (30-39)",
          "Adult (30-39)",
          "Adult (30-39)",
          "Young Adult (20-29)",
          "Middle Age (40-49)",
          "Adult (30-39)",
          "Young Adult (20-29)",
          "Adult (30-39)",
          "Middle Age (40-49)",
          "Young Adult (20-29)",
          "Senior (50+)",
          "Senior (50+)",
          "Middle Age (40-49)",
          "Young Adult (20-29)",
          "Adult (30-39)",
          "Young Adult (20-29)",
          "Young Adult (20-29)",
          "Young Adult (20-29)",
          "Young Adult (20-29)",
          "Young Adult (20-29)",
          "Middle Age (40-49)",
          "Adult (30-39)",
          "Young Adult (20-29)",
          "Young Adult (20-29)",
          "Middle Age (40-49)",
          "Young Adult (20-29)",
          "Young Adult (20-29)",
          "Senior (50+)",
          "Young Adult (20-29)",
          "Adult (30-39)",
          "Senior (50+)",
          "Teen (0-19)",
          "Young Adult (20-29)",
          "Young Adult (20-29)",
          "Senior (50+)",
          "Middle Age (40-49)",
          "Adult (30-39)",
          "Young Adult (20-29)",
          "Adult (30-39)",
          "Young Adult (20-29)",
          "Senior (50+)",
          "Adult (30-39)",
          "Young Adult (20-29)",
          "Senior (50+)",
          "Adult (30-39)",
          "Young Adult (20-29)",
          "Middle Age (40-49)",
          "Senior (50+)",
          "Young Adult (20-29)",
          "Adult (30-39)",
          "Young Adult (20-29)",
          "Young Adult (20-29)",
          "Adult (30-39)",
          "Adult (30-39)",
          "Adult (30-39)",
          "Adult (30-39)",
          "Middle Age (40-49)",
          "Middle Age (40-49)",
          "Adult (30-39)",
          "Teen (0-19)",
          "Adult (30-39)",
          "Young Adult (20-29)",
          "Adult (30-39)",
          "Adult (30-39)",
          "Adult (30-39)",
          "Adult (30-39)",
          "Adult (30-39)",
          "Young Adult (20-29)",
          "Adult (30-39)",
          "Middle Age (40-49)",
          "Senior (50+)",
          "Young Adult (20-29)",
          "Young Adult (20-29)",
          "Adult (30-39)",
          "Adult (30-39)",
          "Adult (30-39)",
          "Adult (30-39)",
          "Middle Age (40-49)",
          "Young Adult (20-29)",
          "Middle Age (40-49)",
          "Senior (50+)",
          "Adult (30-39)",
          "Senior (50+)",
          "Middle Age (40-49)",
          "Adult (30-39)",
          "Adult (30-39)",
          "Adult (30-39)",
          "Young Adult (20-29)",
          "Adult (30-39)",
          "Middle Age (40-49)",
          "Adult (30-39)",
          "Young Adult (20-29)",
          "Young Adult (20-29)",
          "Young Adult (20-29)",
          "Young Adult (20-29)",
          "Adult (30-39)",
          "Middle Age (40-49)",
          "Middle Age (40-49)",
          "Adult (30-39)",
          "Adult (30-39)",
          "Senior (50+)",
          "Teen (0-19)",
          "Young Adult (20-29)",
          "Senior (50+)",
          "Young Adult (20-29)",
          "Young Adult (20-29)",
          "Young Adult (20-29)",
          "Adult (30-39)",
          "Young Adult (20-29)",
          "Middle Age (40-49)",
          "Adult (30-39)",
          "Adult (30-39)",
          "Young Adult (20-29)",
          "Middle Age (40-49)",
          "Young Adult (20-29)",
          "Young Adult (20-29)",
          "Senior (50+)",
          "Young Adult (20-29)",
          "Young Adult (20-29)",
          "Middle Age (40-49)",
          "Young Adult (20-29)",
          "Young Adult (20-29)",
          "Senior (50+)",
          "Adult (30-39)",
          "Adult (30-39)",
          "Adult (30-39)",
          "Young Adult (20-29)",
          "Adult (30-39)",
          "Adult (30-39)",
          "Adult (30-39)",
          "Senior (50+)",
          "Senior (50+)",
          "Adult (30-39)",
          "Young Adult (20-29)",
          "Young Adult (20-29)",
          "Young Adult (20-29)",
          "Senior (50+)",
          "Adult (30-39)",
          "Middle Age (40-49)",
          "Adult (30-39)",
          "Adult (30-39)",
          "Middle Age (40-49)",
          "Young Adult (20-29)",
          "Adult (30-39)",
          "Middle Age (40-49)",
          "Young Adult (20-29)",
          "Young Adult (20-29)",
          "Young Adult (20-29)",
          "Senior (50+)",
          "Senior (50+)",
          "Adult (30-39)",
          "Adult (30-39)",
          "Teen (0-19)",
          "Young Adult (20-29)",
          "Young Adult (20-29)",
          "Young Adult (20-29)",
          "Young Adult (20-29)",
          "Adult (30-39)",
          "Middle Age (40-49)",
          "Young Adult (20-29)",
          "Adult (30-39)",
          "Middle Age (40-49)",
          "Teen (0-19)",
          "Young Adult (20-29)",
          "Young Adult (20-29)",
          "Senior (50+)",
          "Young Adult (20-29)",
          "Adult (30-39)",
          "Adult (30-39)",
          "Adult (30-39)",
          "Senior (50+)",
          "Young Adult (20-29)",
          "Young Adult (20-29)",
          "Young Adult (20-29)",
          "Middle Age (40-49)",
          "Young Adult (20-29)",
          "Middle Age (40-49)",
          "Teen (0-19)",
          "Adult (30-39)",
          "Adult (30-39)",
          "Adult (30-39)",
          "Young Adult (20-29)",
          "Young Adult (20-29)",
          "Adult (30-39)",
          "Adult (30-39)",
          "Middle Age (40-49)",
          "Middle Age (40-49)",
          "Young Adult (20-29)",
          "Senior (50+)",
          "Young Adult (20-29)",
          "Adult (30-39)",
          "Young Adult (20-29)",
          "Adult (30-39)",
          "Adult (30-39)",
          "Young Adult (20-29)",
          "Senior (50+)",
          "Young Adult (20-29)",
          "Middle Age (40-49)",
          "Young Adult (20-29)",
          "Middle Age (40-49)",
          "Senior (50+)",
          "Middle Age (40-49)",
          "Adult (30-39)",
          "Young Adult (20-29)",
          "Senior (50+)",
          "Middle Age (40-49)",
          "Adult (30-39)",
          "Senior (50+)",
          "Senior (50+)",
          "Adult (30-39)",
          "Teen (0-19)",
          "Adult (30-39)",
          "Young Adult (20-29)",
          "Senior (50+)",
          "Adult (30-39)",
          "Middle Age (40-49)",
          "Teen (0-19)",
          "Young Adult (20-29)",
          "Young Adult (20-29)",
          "Teen (0-19)",
          "Adult (30-39)",
          "Middle Age (40-49)",
          "Young Adult (20-29)",
          "Middle Age (40-49)",
          "Teen (0-19)",
          "Young Adult (20-29)",
          "Middle Age (40-49)",
          "Young Adult (20-29)",
          "Young Adult (20-29)",
          "Young Adult (20-29)",
          "Young Adult (20-29)",
          "Young Adult (20-29)",
          "Young Adult (20-29)",
          "Adult (30-39)",
          "Middle Age (40-49)",
          "Adult (30-39)",
          "Young Adult (20-29)",
          "Adult (30-39)",
          "Middle Age (40-49)",
          "Middle Age (40-49)",
          "Adult (30-39)",
          "Young Adult (20-29)",
          "Senior (50+)",
          "Middle Age (40-49)",
          "Adult (30-39)",
          "Senior (50+)",
          "Adult (30-39)",
          "Adult (30-39)",
          "Senior (50+)",
          "Young Adult (20-29)",
          "Adult (30-39)",
          "Middle Age (40-49)",
          "Middle Age (40-49)",
          "Young Adult (20-29)",
          "Young Adult (20-29)",
          "Middle Age (40-49)",
          "Adult (30-39)",
          "Senior (50+)",
          "Adult (30-39)",
          "Middle Age (40-49)",
          "Adult (30-39)",
          "Adult (30-39)",
          "Adult (30-39)",
          "Young Adult (20-29)",
          "Young Adult (20-29)",
          "Young Adult (20-29)",
          "Young Adult (20-29)",
          "Adult (30-39)",
          "Adult (30-39)",
          "Middle Age (40-49)",
          "Middle Age (40-49)",
          "Senior (50+)",
          "Senior (50+)",
          "Adult (30-39)",
          "Middle Age (40-49)",
          "Senior (50+)",
          "Adult (30-39)",
          "Middle Age (40-49)",
          "Middle Age (40-49)",
          "Adult (30-39)",
          "Adult (30-39)",
          "Middle Age (40-49)",
          "Middle Age (40-49)",
          "Middle Age (40-49)",
          "Young Adult (20-29)",
          "Senior (50+)",
          "Teen (0-19)",
          "Adult (30-39)",
          "Adult (30-39)",
          "Adult (30-39)",
          "Adult (30-39)",
          "Adult (30-39)",
          "Teen (0-19)",
          "Young Adult (20-29)",
          "Young Adult (20-29)",
          "Middle Age (40-49)",
          "Middle Age (40-49)",
          "Senior (50+)",
          "Middle Age (40-49)",
          "Middle Age (40-49)",
          "Young Adult (20-29)",
          "Young Adult (20-29)",
          "Adult (30-39)",
          "Young Adult (20-29)",
          "Adult (30-39)",
          "Young Adult (20-29)",
          "Young Adult (20-29)",
          "Adult (30-39)",
          "Adult (30-39)",
          "Middle Age (40-49)",
          "Young Adult (20-29)",
          "Young Adult (20-29)",
          "Young Adult (20-29)",
          "Teen (0-19)",
          "Young Adult (20-29)",
          "Young Adult (20-29)",
          "Middle Age (40-49)",
          "Adult (30-39)",
          "Middle Age (40-49)",
          "Young Adult (20-29)",
          "Adult (30-39)",
          "Adult (30-39)",
          "Adult (30-39)",
          "Teen (0-19)",
          "Adult (30-39)",
          "Adult (30-39)",
          "Young Adult (20-29)",
          "Senior (50+)",
          "Young Adult (20-29)",
          "Middle Age (40-49)",
          "Senior (50+)",
          "Middle Age (40-49)",
          "Middle Age (40-49)",
          "Senior (50+)",
          "Young Adult (20-29)",
          "Middle Age (40-49)",
          "Teen (0-19)",
          "Adult (30-39)",
          "Teen (0-19)",
          "Adult (30-39)",
          "Middle Age (40-49)",
          "Adult (30-39)",
          "Young Adult (20-29)",
          "Teen (0-19)",
          "Young Adult (20-29)",
          "Teen (0-19)",
          "Adult (30-39)",
          "Young Adult (20-29)",
          "Middle Age (40-49)",
          "Adult (30-39)",
          "Adult (30-39)",
          "Middle Age (40-49)",
          "Young Adult (20-29)",
          "Adult (30-39)",
          "Young Adult (20-29)",
          "Young Adult (20-29)",
          "Young Adult (20-29)",
          "Senior (50+)",
          "Adult (30-39)",
          "Senior (50+)",
          "Young Adult (20-29)",
          "Young Adult (20-29)",
          "Middle Age (40-49)",
          "Senior (50+)",
          "Teen (0-19)",
          "Teen (0-19)",
          "Young Adult (20-29)",
          "Adult (30-39)",
          "Adult (30-39)",
          "Adult (30-39)",
          "Adult (30-39)",
          "Adult (30-39)",
          "Teen (0-19)",
          "Young Adult (20-29)",
          "Middle Age (40-49)",
          "Young Adult (20-29)",
          "Adult (30-39)",
          "Adult (30-39)",
          "Teen (0-19)",
          "Teen (0-19)",
          "Teen (0-19)",
          "Adult (30-39)",
          "Senior (50+)",
          "Young Adult (20-29)",
          "Senior (50+)",
          "Adult (30-39)",
          "Adult (30-39)",
          "Adult (30-39)",
          "Young Adult (20-29)",
          "Senior (50+)",
          "Adult (30-39)",
          "Middle Age (40-49)",
          "Middle Age (40-49)",
          "Young Adult (20-29)",
          "Middle Age (40-49)",
          "Adult (30-39)",
          "Young Adult (20-29)",
          "Young Adult (20-29)",
          "Adult (30-39)",
          "Adult (30-39)",
          "Adult (30-39)",
          "Young Adult (20-29)",
          "Middle Age (40-49)",
          "Middle Age (40-49)",
          "Middle Age (40-49)",
          "Adult (30-39)",
          "Teen (0-19)",
          "Teen (0-19)",
          "Young Adult (20-29)",
          "Teen (0-19)",
          "Adult (30-39)",
          "Middle Age (40-49)",
          "Middle Age (40-49)",
          "Adult (30-39)",
          "Adult (30-39)",
          "Adult (30-39)",
          "Young Adult (20-29)",
          "Young Adult (20-29)",
          "Middle Age (40-49)",
          "Young Adult (20-29)",
          "Middle Age (40-49)",
          "Adult (30-39)",
          "Middle Age (40-49)",
          "Young Adult (20-29)",
          "Teen (0-19)",
          "Adult (30-39)",
          "Middle Age (40-49)",
          "Young Adult (20-29)",
          "Middle Age (40-49)",
          "Young Adult (20-29)",
          "Senior (50+)",
          "Senior (50+)",
          "Senior (50+)",
          "Adult (30-39)",
          "Senior (50+)",
          "Senior (50+)",
          "Young Adult (20-29)",
          "Adult (30-39)",
          "Adult (30-39)",
          "Adult (30-39)",
          "Adult (30-39)",
          "Senior (50+)",
          "Young Adult (20-29)",
          "Young Adult (20-29)",
          "Young Adult (20-29)",
          "Senior (50+)",
          "Adult (30-39)",
          "Adult (30-39)",
          "Senior (50+)",
          "Young Adult (20-29)",
          "Young Adult (20-29)",
          "Adult (30-39)",
          "Young Adult (20-29)",
          "Middle Age (40-49)",
          "Middle Age (40-49)",
          "Middle Age (40-49)",
          "Adult (30-39)",
          "Senior (50+)",
          "Senior (50+)",
          "Senior (50+)",
          "Teen (0-19)",
          "Adult (30-39)",
          "Young Adult (20-29)",
          "Middle Age (40-49)",
          "Middle Age (40-49)",
          "Middle Age (40-49)",
          "Senior (50+)",
          "Senior (50+)",
          "Young Adult (20-29)",
          "Adult (30-39)",
          "Adult (30-39)",
          "Adult (30-39)",
          "Middle Age (40-49)",
          "Young Adult (20-29)",
          "Middle Age (40-49)",
          "Young Adult (20-29)",
          "Middle Age (40-49)",
          "Adult (30-39)",
          "Adult (30-39)",
          "Young Adult (20-29)",
          "Adult (30-39)",
          "Middle Age (40-49)",
          "Middle Age (40-49)",
          "Middle Age (40-49)",
          "Middle Age (40-49)",
          "Adult (30-39)",
          "Senior (50+)",
          "Young Adult (20-29)",
          "Senior (50+)",
          "Adult (30-39)",
          "Middle Age (40-49)",
          "Adult (30-39)",
          "Senior (50+)",
          "Adult (30-39)",
          "Adult (30-39)",
          "Middle Age (40-49)",
          "Senior (50+)",
          "Middle Age (40-49)",
          "Senior (50+)",
          "Young Adult (20-29)",
          "Senior (50+)",
          "Teen (0-19)",
          "Young Adult (20-29)",
          "Young Adult (20-29)",
          "Adult (30-39)",
          "Adult (30-39)",
          "Adult (30-39)",
          "Teen (0-19)",
          "Young Adult (20-29)",
          "Middle Age (40-49)",
          "Young Adult (20-29)",
          "Middle Age (40-49)",
          "Middle Age (40-49)",
          "Senior (50+)",
          "Middle Age (40-49)",
          "Adult (30-39)",
          "Adult (30-39)",
          "Adult (30-39)",
          "Adult (30-39)",
          "Middle Age (40-49)",
          "Adult (30-39)",
          "Middle Age (40-49)",
          "Senior (50+)",
          "Young Adult (20-29)",
          "Senior (50+)",
          "Teen (0-19)",
          "Middle Age (40-49)",
          "Adult (30-39)",
          "Senior (50+)",
          "Middle Age (40-49)",
          "Young Adult (20-29)",
          "Middle Age (40-49)",
          "Young Adult (20-29)",
          "Young Adult (20-29)",
          "Adult (30-39)",
          "Middle Age (40-49)",
          "Adult (30-39)",
          "Adult (30-39)",
          "Young Adult (20-29)",
          "Adult (30-39)",
          "Middle Age (40-49)",
          "Young Adult (20-29)",
          "Adult (30-39)",
          "Middle Age (40-49)",
          "Young Adult (20-29)",
          "Adult (30-39)",
          "Young Adult (20-29)",
          "Middle Age (40-49)",
          "Adult (30-39)",
          "Teen (0-19)",
          "Adult (30-39)",
          "Middle Age (40-49)",
          "Senior (50+)",
          "Middle Age (40-49)",
          "Middle Age (40-49)",
          "Senior (50+)",
          "Adult (30-39)",
          "Adult (30-39)",
          "Middle Age (40-49)",
          "Adult (30-39)",
          "Middle Age (40-49)",
          "Adult (30-39)",
          "Young Adult (20-29)",
          "Adult (30-39)",
          "Young Adult (20-29)",
          "Young Adult (20-29)",
          "Teen (0-19)",
          "Adult (30-39)",
          "Senior (50+)",
          "Teen (0-19)",
          "Senior (50+)",
          "Teen (0-19)",
          "Adult (30-39)",
          "Middle Age (40-49)",
          "Middle Age (40-49)",
          "Middle Age (40-49)",
          "Young Adult (20-29)",
          "Adult (30-39)",
          "Adult (30-39)",
          "Adult (30-39)",
          "Middle Age (40-49)",
          "Young Adult (20-29)",
          "Teen (0-19)",
          "Young Adult (20-29)",
          "Adult (30-39)",
          "Adult (30-39)",
          "Adult (30-39)",
          "Middle Age (40-49)",
          "Senior (50+)",
          "Adult (30-39)",
          "Teen (0-19)",
          "Senior (50+)",
          "Adult (30-39)",
          "Senior (50+)",
          "Adult (30-39)",
          "Adult (30-39)",
          "Senior (50+)",
          "Young Adult (20-29)",
          "Adult (30-39)",
          "Adult (30-39)",
          "Young Adult (20-29)",
          "Adult (30-39)",
          "Young Adult (20-29)",
          "Adult (30-39)",
          "Young Adult (20-29)",
          "Young Adult (20-29)",
          "Senior (50+)",
          "Adult (30-39)",
          "Middle Age (40-49)",
          "Teen (0-19)",
          "Middle Age (40-49)",
          "Adult (30-39)",
          "Middle Age (40-49)",
          "Middle Age (40-49)",
          "Senior (50+)",
          "Young Adult (20-29)",
          "Senior (50+)",
          "Senior (50+)",
          "Young Adult (20-29)",
          "Middle Age (40-49)",
          "Senior (50+)",
          "Young Adult (20-29)",
          "Adult (30-39)",
          "Adult (30-39)",
          "Adult (30-39)",
          "Young Adult (20-29)",
          "Young Adult (20-29)",
          "Middle Age (40-49)",
          "Young Adult (20-29)",
          "Middle Age (40-49)",
          "Adult (30-39)",
          "Young Adult (20-29)",
          "Middle Age (40-49)",
          "Adult (30-39)",
          "Adult (30-39)",
          "Adult (30-39)",
          "Senior (50+)",
          "Senior (50+)",
          "Senior (50+)",
          "Senior (50+)",
          "Young Adult (20-29)",
          "Middle Age (40-49)",
          "Senior (50+)",
          "Adult (30-39)",
          "Adult (30-39)",
          "Middle Age (40-49)",
          "Young Adult (20-29)",
          "Adult (30-39)",
          "Senior (50+)",
          "Adult (30-39)",
          "Adult (30-39)",
          "Adult (30-39)",
          "Adult (30-39)",
          "Middle Age (40-49)",
          "Young Adult (20-29)",
          "Senior (50+)",
          "Senior (50+)",
          "Young Adult (20-29)",
          "Middle Age (40-49)",
          "Middle Age (40-49)",
          "Middle Age (40-49)",
          "Senior (50+)",
          "Senior (50+)",
          "Middle Age (40-49)",
          "Young Adult (20-29)",
          "Middle Age (40-49)",
          "Young Adult (20-29)",
          "Young Adult (20-29)",
          "Young Adult (20-29)",
          "Middle Age (40-49)",
          "Young Adult (20-29)",
          "Middle Age (40-49)",
          "Teen (0-19)",
          "Senior (50+)",
          "Senior (50+)",
          "Young Adult (20-29)",
          "Young Adult (20-29)",
          "Senior (50+)",
          "Young Adult (20-29)",
          "Middle Age (40-49)",
          "Young Adult (20-29)",
          "Adult (30-39)",
          "Senior (50+)",
          "Middle Age (40-49)",
          "Young Adult (20-29)",
          "Adult (30-39)",
          "Adult (30-39)",
          "Middle Age (40-49)",
          "Adult (30-39)",
          "Young Adult (20-29)",
          "Young Adult (20-29)",
          "Middle Age (40-49)",
          "Adult (30-39)",
          "Senior (50+)",
          "Adult (30-39)",
          "Adult (30-39)",
          "Senior (50+)",
          "Senior (50+)",
          "Young Adult (20-29)",
          "Teen (0-19)",
          "Young Adult (20-29)",
          "Young Adult (20-29)",
          "Adult (30-39)",
          "Adult (30-39)",
          "Senior (50+)",
          "Teen (0-19)",
          "Adult (30-39)",
          "Teen (0-19)",
          "Senior (50+)",
          "Young Adult (20-29)",
          "Adult (30-39)",
          "Senior (50+)",
          "Adult (30-39)",
          "Young Adult (20-29)",
          "Young Adult (20-29)",
          "Young Adult (20-29)",
          "Adult (30-39)",
          "Young Adult (20-29)",
          "Middle Age (40-49)",
          "Young Adult (20-29)",
          "Adult (30-39)",
          "Adult (30-39)",
          "Adult (30-39)",
          "Adult (30-39)",
          "Teen (0-19)",
          "Middle Age (40-49)",
          "Teen (0-19)",
          "Young Adult (20-29)",
          "Middle Age (40-49)",
          "Young Adult (20-29)",
          "Middle Age (40-49)",
          "Teen (0-19)",
          "Young Adult (20-29)",
          "Middle Age (40-49)",
          "Adult (30-39)",
          "Adult (30-39)",
          "Adult (30-39)",
          "Young Adult (20-29)",
          "Middle Age (40-49)",
          "Senior (50+)",
          "Adult (30-39)",
          "Senior (50+)",
          "Young Adult (20-29)",
          "Teen (0-19)",
          "Young Adult (20-29)",
          "Adult (30-39)",
          "Senior (50+)",
          "Adult (30-39)",
          "Adult (30-39)",
          "Young Adult (20-29)",
          "Adult (30-39)",
          "Young Adult (20-29)",
          "Teen (0-19)",
          "Teen (0-19)",
          "Middle Age (40-49)",
          "Senior (50+)",
          "Middle Age (40-49)",
          "Teen (0-19)",
          "Young Adult (20-29)",
          "Young Adult (20-29)",
          "Adult (30-39)",
          "Young Adult (20-29)",
          "Teen (0-19)",
          "Adult (30-39)",
          "Senior (50+)",
          "Senior (50+)",
          "Adult (30-39)",
          "Young Adult (20-29)",
          "Young Adult (20-29)",
          "Young Adult (20-29)",
          "Middle Age (40-49)",
          "Adult (30-39)",
          "Adult (30-39)",
          "Adult (30-39)",
          "Teen (0-19)",
          "Adult (30-39)",
          "Young Adult (20-29)",
          "Young Adult (20-29)",
          "Middle Age (40-49)",
          "Adult (30-39)",
          "Young Adult (20-29)",
          "Adult (30-39)",
          "Middle Age (40-49)",
          "Adult (30-39)",
          "Young Adult (20-29)",
          "Young Adult (20-29)",
          "Young Adult (20-29)",
          "Senior (50+)",
          "Young Adult (20-29)",
          "Young Adult (20-29)",
          "Middle Age (40-49)",
          "Young Adult (20-29)",
          "Adult (30-39)",
          "Teen (0-19)",
          "Young Adult (20-29)",
          "Adult (30-39)",
          "Young Adult (20-29)",
          "Young Adult (20-29)",
          "Adult (30-39)",
          "Middle Age (40-49)",
          "Senior (50+)",
          "Adult (30-39)",
          "Middle Age (40-49)",
          "Young Adult (20-29)",
          "Young Adult (20-29)",
          "Senior (50+)",
          "Middle Age (40-49)",
          "Senior (50+)",
          "Teen (0-19)",
          "Young Adult (20-29)",
          "Adult (30-39)",
          "Adult (30-39)",
          "Adult (30-39)",
          "Teen (0-19)",
          "Teen (0-19)",
          "Young Adult (20-29)",
          "Adult (30-39)",
          "Young Adult (20-29)",
          "Adult (30-39)",
          "Middle Age (40-49)",
          "Senior (50+)",
          "Senior (50+)",
          "Middle Age (40-49)",
          "Middle Age (40-49)",
          "Senior (50+)",
          "Teen (0-19)",
          "Middle Age (40-49)",
          "Adult (30-39)",
          "Senior (50+)",
          "Adult (30-39)",
          "Adult (30-39)",
          "Young Adult (20-29)",
          "Middle Age (40-49)",
          "Adult (30-39)",
          "Adult (30-39)",
          "Young Adult (20-29)",
          "Middle Age (40-49)",
          "Adult (30-39)",
          "Middle Age (40-49)",
          "Young Adult (20-29)",
          "Middle Age (40-49)",
          "Teen (0-19)",
          "Adult (30-39)",
          "Middle Age (40-49)",
          "Teen (0-19)",
          "Teen (0-19)",
          "Teen (0-19)",
          "Young Adult (20-29)",
          "Senior (50+)",
          "Young Adult (20-29)",
          "Adult (30-39)",
          "Senior (50+)",
          "Teen (0-19)",
          "Young Adult (20-29)",
          "Senior (50+)",
          "Middle Age (40-49)",
          "Middle Age (40-49)",
          "Adult (30-39)",
          "Middle Age (40-49)",
          "Middle Age (40-49)",
          "Middle Age (40-49)",
          "Young Adult (20-29)",
          "Young Adult (20-29)",
          "Adult (30-39)",
          "Young Adult (20-29)",
          "Young Adult (20-29)",
          "Middle Age (40-49)",
          "Young Adult (20-29)",
          "Adult (30-39)",
          "Adult (30-39)",
          "Adult (30-39)",
          "Teen (0-19)",
          "Adult (30-39)",
          "Middle Age (40-49)",
          "Senior (50+)",
          "Young Adult (20-29)",
          "Adult (30-39)",
          "Young Adult (20-29)",
          "Adult (30-39)",
          "Middle Age (40-49)",
          "Young Adult (20-29)",
          "Middle Age (40-49)",
          "Young Adult (20-29)",
          "Senior (50+)",
          "Teen (0-19)",
          "Adult (30-39)",
          "Young Adult (20-29)",
          "Adult (30-39)",
          "Young Adult (20-29)",
          "Middle Age (40-49)",
          "Young Adult (20-29)",
          "Adult (30-39)",
          "Middle Age (40-49)",
          "Young Adult (20-29)",
          "Adult (30-39)",
          "Adult (30-39)",
          "Adult (30-39)",
          "Adult (30-39)",
          "Senior (50+)",
          "Senior (50+)",
          "Teen (0-19)",
          "Young Adult (20-29)",
          "Middle Age (40-49)",
          "Young Adult (20-29)",
          "Adult (30-39)",
          "Young Adult (20-29)",
          "Young Adult (20-29)",
          "Adult (30-39)",
          "Adult (30-39)",
          "Senior (50+)",
          "Senior (50+)",
          "Young Adult (20-29)",
          "Young Adult (20-29)",
          "Teen (0-19)",
          "Middle Age (40-49)",
          "Young Adult (20-29)",
          "Senior (50+)",
          "Young Adult (20-29)",
          "Middle Age (40-49)",
          "Adult (30-39)",
          "Young Adult (20-29)",
          "Middle Age (40-49)",
          "Senior (50+)",
          "Young Adult (20-29)",
          "Young Adult (20-29)",
          "Senior (50+)",
          "Adult (30-39)",
          "Adult (30-39)",
          "Adult (30-39)",
          "Senior (50+)",
          "Adult (30-39)",
          "Young Adult (20-29)",
          "Adult (30-39)",
          "Middle Age (40-49)",
          "Young Adult (20-29)",
          "Adult (30-39)",
          "Middle Age (40-49)",
          "Young Adult (20-29)",
          "Adult (30-39)",
          "Senior (50+)",
          "Young Adult (20-29)",
          "Young Adult (20-29)",
          "Middle Age (40-49)",
          "Senior (50+)",
          "Senior (50+)",
          "Senior (50+)",
          "Young Adult (20-29)",
          "Adult (30-39)",
          "Adult (30-39)",
          "Adult (30-39)",
          "Middle Age (40-49)",
          "Senior (50+)",
          "Teen (0-19)",
          "Adult (30-39)",
          "Adult (30-39)",
          "Adult (30-39)",
          "Senior (50+)",
          "Young Adult (20-29)",
          "Adult (30-39)",
          "Adult (30-39)",
          "Young Adult (20-29)",
          "Middle Age (40-49)",
          "Adult (30-39)",
          "Middle Age (40-49)",
          "Adult (30-39)",
          "Middle Age (40-49)",
          "Young Adult (20-29)",
          "Adult (30-39)",
          "Middle Age (40-49)",
          "Teen (0-19)",
          "Teen (0-19)",
          "Middle Age (40-49)",
          "Young Adult (20-29)",
          "Senior (50+)",
          "Young Adult (20-29)",
          "Adult (30-39)",
          "Young Adult (20-29)",
          "Young Adult (20-29)",
          "Senior (50+)",
          "Young Adult (20-29)",
          "Adult (30-39)",
          "Senior (50+)",
          "Young Adult (20-29)",
          "Adult (30-39)",
          "Adult (30-39)",
          "Adult (30-39)",
          "Senior (50+)",
          "Young Adult (20-29)",
          "Middle Age (40-49)",
          "Adult (30-39)",
          "Young Adult (20-29)",
          "Young Adult (20-29)",
          "Middle Age (40-49)",
          "Young Adult (20-29)",
          "Adult (30-39)",
          "Senior (50+)",
          "Senior (50+)",
          "Adult (30-39)",
          "Middle Age (40-49)",
          "Senior (50+)",
          "Adult (30-39)",
          "Adult (30-39)",
          "Young Adult (20-29)",
          "Middle Age (40-49)",
          "Senior (50+)",
          "Young Adult (20-29)",
          "Young Adult (20-29)",
          "Young Adult (20-29)",
          "Senior (50+)",
          "Young Adult (20-29)",
          "Young Adult (20-29)",
          "Senior (50+)",
          "Young Adult (20-29)",
          "Young Adult (20-29)",
          "Senior (50+)",
          "Adult (30-39)",
          "Young Adult (20-29)",
          "Young Adult (20-29)",
          "Senior (50+)",
          "Adult (30-39)",
          "Adult (30-39)",
          "Adult (30-39)",
          "Middle Age (40-49)",
          "Senior (50+)",
          "Adult (30-39)",
          "Adult (30-39)",
          "Senior (50+)",
          "Adult (30-39)",
          "Adult (30-39)",
          "Middle Age (40-49)",
          "Adult (30-39)",
          "Adult (30-39)",
          "Adult (30-39)",
          "Middle Age (40-49)",
          "Senior (50+)",
          "Teen (0-19)",
          "Teen (0-19)",
          "Adult (30-39)",
          "Adult (30-39)",
          "Middle Age (40-49)",
          "Young Adult (20-29)",
          "Middle Age (40-49)",
          "Adult (30-39)",
          "Adult (30-39)",
          "Young Adult (20-29)",
          "Adult (30-39)",
          "Middle Age (40-49)",
          "Middle Age (40-49)",
          "Young Adult (20-29)",
          "Middle Age (40-49)",
          "Adult (30-39)",
          "Young Adult (20-29)",
          "Young Adult (20-29)",
          "Young Adult (20-29)",
          "Young Adult (20-29)",
          "Adult (30-39)",
          "Adult (30-39)",
          "Senior (50+)",
          "Young Adult (20-29)",
          "Young Adult (20-29)",
          "Adult (30-39)",
          "Middle Age (40-49)",
          "Adult (30-39)",
          "Adult (30-39)",
          "Senior (50+)",
          "Adult (30-39)",
          "Senior (50+)",
          "Adult (30-39)",
          "Young Adult (20-29)",
          "Senior (50+)",
          "Adult (30-39)",
          "Senior (50+)",
          "Middle Age (40-49)",
          "Middle Age (40-49)",
          "Young Adult (20-29)",
          "Teen (0-19)",
          "Young Adult (20-29)",
          "Young Adult (20-29)",
          "Young Adult (20-29)",
          "Adult (30-39)",
          "Young Adult (20-29)",
          "Adult (30-39)",
          "Adult (30-39)",
          "Young Adult (20-29)",
          "Young Adult (20-29)",
          "Adult (30-39)",
          "Middle Age (40-49)",
          "Adult (30-39)",
          "Young Adult (20-29)",
          "Adult (30-39)",
          "Adult (30-39)",
          "Young Adult (20-29)",
          "Senior (50+)",
          "Adult (30-39)",
          "Middle Age (40-49)",
          "Adult (30-39)",
          "Senior (50+)",
          "Adult (30-39)",
          "Middle Age (40-49)",
          "Teen (0-19)",
          "Young Adult (20-29)",
          "Adult (30-39)",
          "Adult (30-39)",
          "Adult (30-39)",
          "Senior (50+)",
          "Adult (30-39)",
          "Adult (30-39)",
          "Young Adult (20-29)",
          "Adult (30-39)",
          "Adult (30-39)",
          "Young Adult (20-29)",
          "Young Adult (20-29)",
          "Young Adult (20-29)",
          "Senior (50+)",
          "Senior (50+)",
          "Adult (30-39)",
          "Adult (30-39)",
          "Adult (30-39)",
          "Senior (50+)",
          "Young Adult (20-29)",
          "Young Adult (20-29)",
          "Young Adult (20-29)",
          "Young Adult (20-29)",
          "Young Adult (20-29)",
          "Young Adult (20-29)",
          "Middle Age (40-49)",
          "Senior (50+)",
          "Adult (30-39)",
          "Young Adult (20-29)",
          "Young Adult (20-29)",
          "Adult (30-39)",
          "Young Adult (20-29)",
          "Young Adult (20-29)",
          "Middle Age (40-49)",
          "Young Adult (20-29)",
          "Adult (30-39)",
          "Adult (30-39)",
          "Senior (50+)",
          "Young Adult (20-29)",
          "Adult (30-39)",
          "Teen (0-19)",
          "Adult (30-39)",
          "Young Adult (20-29)",
          "Middle Age (40-49)",
          "Teen (0-19)",
          "Young Adult (20-29)",
          "Adult (30-39)",
          "Senior (50+)",
          "Adult (30-39)",
          "Adult (30-39)",
          "Middle Age (40-49)",
          "Adult (30-39)",
          "Adult (30-39)",
          "Adult (30-39)",
          "Young Adult (20-29)",
          "Adult (30-39)",
          "Young Adult (20-29)",
          "Senior (50+)",
          "Middle Age (40-49)",
          "Adult (30-39)",
          "Young Adult (20-29)",
          "Adult (30-39)",
          "Middle Age (40-49)",
          "Young Adult (20-29)",
          "Young Adult (20-29)",
          "Middle Age (40-49)",
          "Middle Age (40-49)",
          "Adult (30-39)",
          "Senior (50+)",
          "Adult (30-39)",
          "Adult (30-39)",
          "Senior (50+)",
          "Young Adult (20-29)",
          "Young Adult (20-29)",
          "Adult (30-39)",
          "Young Adult (20-29)",
          "Adult (30-39)",
          "Adult (30-39)",
          "Middle Age (40-49)",
          "Young Adult (20-29)",
          "Young Adult (20-29)",
          "Middle Age (40-49)",
          "Young Adult (20-29)",
          "Young Adult (20-29)",
          "Adult (30-39)",
          "Middle Age (40-49)",
          "Senior (50+)",
          "Young Adult (20-29)",
          "Adult (30-39)",
          "Adult (30-39)",
          "Senior (50+)",
          "Adult (30-39)",
          "Middle Age (40-49)",
          "Middle Age (40-49)",
          "Teen (0-19)",
          "Adult (30-39)",
          "Senior (50+)",
          "Adult (30-39)",
          "Senior (50+)",
          "Senior (50+)",
          "Young Adult (20-29)",
          "Senior (50+)",
          "Adult (30-39)",
          "Middle Age (40-49)",
          "Adult (30-39)",
          "Middle Age (40-49)",
          "Young Adult (20-29)",
          "Middle Age (40-49)",
          "Senior (50+)",
          "Young Adult (20-29)",
          "Young Adult (20-29)",
          "Young Adult (20-29)",
          "Adult (30-39)",
          "Middle Age (40-49)",
          "Middle Age (40-49)",
          "Teen (0-19)",
          "Adult (30-39)",
          "Adult (30-39)",
          "Middle Age (40-49)",
          "Middle Age (40-49)",
          "Adult (30-39)",
          "Young Adult (20-29)",
          "Young Adult (20-29)",
          "Teen (0-19)",
          "Adult (30-39)",
          "Senior (50+)",
          "Young Adult (20-29)",
          "Young Adult (20-29)",
          "Young Adult (20-29)",
          "Young Adult (20-29)",
          "Adult (30-39)",
          "Adult (30-39)",
          "Young Adult (20-29)",
          "Middle Age (40-49)",
          "Middle Age (40-49)",
          "Adult (30-39)",
          "Senior (50+)",
          "Adult (30-39)",
          "Adult (30-39)",
          "Adult (30-39)",
          "Adult (30-39)",
          "Teen (0-19)",
          "Young Adult (20-29)",
          "Young Adult (20-29)",
          "Adult (30-39)",
          "Middle Age (40-49)",
          "Middle Age (40-49)",
          "Senior (50+)",
          "Adult (30-39)",
          "Adult (30-39)",
          "Young Adult (20-29)",
          "Adult (30-39)",
          "Adult (30-39)",
          "Adult (30-39)",
          "Senior (50+)",
          "Senior (50+)",
          "Middle Age (40-49)",
          "Teen (0-19)",
          "Senior (50+)",
          "Middle Age (40-49)",
          "Middle Age (40-49)",
          "Senior (50+)",
          "Middle Age (40-49)",
          "Adult (30-39)",
          "Young Adult (20-29)",
          "Young Adult (20-29)",
          "Senior (50+)",
          "Young Adult (20-29)",
          "Adult (30-39)",
          "Middle Age (40-49)",
          "Adult (30-39)",
          "Senior (50+)",
          "Adult (30-39)",
          "Middle Age (40-49)",
          "Young Adult (20-29)",
          "Middle Age (40-49)",
          "Middle Age (40-49)",
          "Middle Age (40-49)",
          "Teen (0-19)",
          "Adult (30-39)",
          "Teen (0-19)",
          "Adult (30-39)",
          "Young Adult (20-29)",
          "Young Adult (20-29)",
          "Middle Age (40-49)",
          "Adult (30-39)",
          "Young Adult (20-29)",
          "Middle Age (40-49)",
          "Senior (50+)",
          "Adult (30-39)",
          "Middle Age (40-49)",
          "Teen (0-19)",
          "Middle Age (40-49)",
          "Adult (30-39)",
          "Middle Age (40-49)",
          "Adult (30-39)",
          "Young Adult (20-29)",
          "Adult (30-39)",
          "Adult (30-39)",
          "Middle Age (40-49)",
          "Senior (50+)",
          "Adult (30-39)",
          "Adult (30-39)",
          "Adult (30-39)",
          "Young Adult (20-29)",
          "Young Adult (20-29)",
          "Adult (30-39)",
          "Young Adult (20-29)",
          "Adult (30-39)",
          "Adult (30-39)",
          "Young Adult (20-29)",
          "Adult (30-39)",
          "Adult (30-39)",
          "Young Adult (20-29)",
          "Young Adult (20-29)",
          "Middle Age (40-49)",
          "Senior (50+)",
          "Adult (30-39)",
          "Middle Age (40-49)",
          "Young Adult (20-29)",
          "Young Adult (20-29)",
          "Young Adult (20-29)",
          "Middle Age (40-49)",
          "Adult (30-39)",
          "Adult (30-39)",
          "Young Adult (20-29)",
          "Senior (50+)",
          "Middle Age (40-49)",
          "Adult (30-39)",
          "Adult (30-39)",
          "Young Adult (20-29)",
          "Teen (0-19)",
          "Middle Age (40-49)",
          "Young Adult (20-29)",
          "Teen (0-19)",
          "Middle Age (40-49)",
          "Young Adult (20-29)",
          "Senior (50+)",
          "Middle Age (40-49)",
          "Middle Age (40-49)",
          "Adult (30-39)",
          "Middle Age (40-49)",
          "Adult (30-39)",
          "Middle Age (40-49)",
          "Young Adult (20-29)",
          "Adult (30-39)",
          "Young Adult (20-29)",
          "Young Adult (20-29)",
          "Adult (30-39)",
          "Teen (0-19)",
          "Teen (0-19)",
          "Senior (50+)",
          "Young Adult (20-29)",
          "Young Adult (20-29)",
          "Senior (50+)",
          "Young Adult (20-29)",
          "Young Adult (20-29)",
          "Adult (30-39)",
          "Young Adult (20-29)",
          "Senior (50+)",
          "Adult (30-39)",
          "Adult (30-39)",
          "Adult (30-39)",
          "Adult (30-39)",
          "Young Adult (20-29)",
          "Adult (30-39)",
          "Middle Age (40-49)",
          "Young Adult (20-29)",
          "Teen (0-19)",
          "Middle Age (40-49)",
          "Young Adult (20-29)",
          "Middle Age (40-49)",
          "Senior (50+)",
          "Middle Age (40-49)",
          "Young Adult (20-29)",
          "Young Adult (20-29)",
          "Senior (50+)",
          "Adult (30-39)",
          "Adult (30-39)",
          "Teen (0-19)",
          "Young Adult (20-29)",
          "Young Adult (20-29)",
          "Adult (30-39)",
          "Young Adult (20-29)",
          "Young Adult (20-29)",
          "Teen (0-19)",
          "Young Adult (20-29)",
          "Young Adult (20-29)",
          "Middle Age (40-49)",
          "Adult (30-39)",
          "Adult (30-39)",
          "Middle Age (40-49)",
          "Middle Age (40-49)",
          "Middle Age (40-49)",
          "Young Adult (20-29)",
          "Adult (30-39)",
          "Adult (30-39)",
          "Middle Age (40-49)",
          "Young Adult (20-29)",
          "Teen (0-19)",
          "Senior (50+)",
          "Young Adult (20-29)",
          "Senior (50+)",
          "Adult (30-39)",
          "Adult (30-39)",
          "Young Adult (20-29)",
          "Young Adult (20-29)",
          "Adult (30-39)",
          "Adult (30-39)",
          "Young Adult (20-29)",
          "Adult (30-39)",
          "Adult (30-39)",
          "Young Adult (20-29)",
          "Young Adult (20-29)",
          "Adult (30-39)",
          "Adult (30-39)",
          "Young Adult (20-29)",
          "Young Adult (20-29)",
          "Senior (50+)",
          "Teen (0-19)",
          "Senior (50+)",
          "Young Adult (20-29)",
          "Young Adult (20-29)",
          "Adult (30-39)",
          "Adult (30-39)",
          "Young Adult (20-29)",
          "Teen (0-19)",
          "Middle Age (40-49)",
          "Young Adult (20-29)",
          "Young Adult (20-29)",
          "Young Adult (20-29)",
          "Teen (0-19)",
          "Young Adult (20-29)",
          "Adult (30-39)",
          "Adult (30-39)",
          "Adult (30-39)",
          "Teen (0-19)",
          "Young Adult (20-29)",
          "Middle Age (40-49)",
          "Senior (50+)",
          "Young Adult (20-29)",
          "Adult (30-39)",
          "Young Adult (20-29)",
          "Young Adult (20-29)",
          "Senior (50+)",
          "Middle Age (40-49)",
          "Adult (30-39)",
          "Teen (0-19)",
          "Young Adult (20-29)",
          "Adult (30-39)",
          "Young Adult (20-29)",
          "Middle Age (40-49)",
          "Adult (30-39)",
          "Adult (30-39)",
          "Teen (0-19)",
          "Young Adult (20-29)",
          "Middle Age (40-49)",
          "Senior (50+)",
          "Adult (30-39)",
          "Adult (30-39)",
          "Young Adult (20-29)",
          "Middle Age (40-49)",
          "Senior (50+)",
          "Middle Age (40-49)",
          "Young Adult (20-29)",
          "Young Adult (20-29)",
          "Adult (30-39)",
          "Young Adult (20-29)",
          "Adult (30-39)",
          "Senior (50+)",
          "Adult (30-39)",
          "Middle Age (40-49)",
          "Middle Age (40-49)",
          "Adult (30-39)",
          "Young Adult (20-29)",
          "Young Adult (20-29)",
          "Middle Age (40-49)",
          "Senior (50+)",
          "Young Adult (20-29)",
          "Senior (50+)",
          "Senior (50+)",
          "Middle Age (40-49)",
          "Senior (50+)",
          "Teen (0-19)",
          "Adult (30-39)",
          "Senior (50+)",
          "Middle Age (40-49)",
          "Young Adult (20-29)",
          "Adult (30-39)",
          "Adult (30-39)",
          "Adult (30-39)",
          "Young Adult (20-29)",
          "Adult (30-39)",
          "Senior (50+)",
          "Young Adult (20-29)",
          "Adult (30-39)",
          "Middle Age (40-49)",
          "Adult (30-39)",
          "Senior (50+)",
          "Middle Age (40-49)",
          "Adult (30-39)",
          "Adult (30-39)",
          "Young Adult (20-29)",
          "Young Adult (20-29)",
          "Middle Age (40-49)",
          "Young Adult (20-29)",
          "Adult (30-39)",
          "Young Adult (20-29)",
          "Young Adult (20-29)",
          "Young Adult (20-29)",
          "Senior (50+)",
          "Young Adult (20-29)",
          "Adult (30-39)",
          "Adult (30-39)",
          "Senior (50+)",
          "Adult (30-39)",
          "Young Adult (20-29)",
          "Adult (30-39)",
          "Young Adult (20-29)",
          "Adult (30-39)",
          "Middle Age (40-49)",
          "Middle Age (40-49)",
          "Middle Age (40-49)",
          "Senior (50+)",
          "Adult (30-39)",
          "Teen (0-19)",
          "Middle Age (40-49)",
          "Senior (50+)",
          "Young Adult (20-29)",
          "Young Adult (20-29)",
          "Middle Age (40-49)",
          "Middle Age (40-49)",
          "Middle Age (40-49)",
          "Middle Age (40-49)",
          "Teen (0-19)",
          "Adult (30-39)",
          "Middle Age (40-49)",
          "Young Adult (20-29)",
          "Senior (50+)",
          "Teen (0-19)",
          "Teen (0-19)",
          "Adult (30-39)",
          "Young Adult (20-29)",
          "Adult (30-39)",
          "Teen (0-19)",
          "Middle Age (40-49)",
          "Young Adult (20-29)",
          "Middle Age (40-49)",
          "Young Adult (20-29)",
          "Teen (0-19)",
          "Middle Age (40-49)",
          "Senior (50+)",
          "Adult (30-39)",
          "Middle Age (40-49)",
          "Teen (0-19)",
          "Teen (0-19)",
          "Adult (30-39)",
          "Young Adult (20-29)",
          "Adult (30-39)",
          "Young Adult (20-29)",
          "Senior (50+)",
          "Young Adult (20-29)",
          "Adult (30-39)",
          "Middle Age (40-49)",
          "Young Adult (20-29)",
          "Middle Age (40-49)",
          "Adult (30-39)",
          "Senior (50+)",
          "Adult (30-39)",
          "Young Adult (20-29)",
          "Adult (30-39)",
          "Senior (50+)",
          "Young Adult (20-29)",
          "Adult (30-39)",
          "Young Adult (20-29)",
          "Middle Age (40-49)",
          "Teen (0-19)",
          "Young Adult (20-29)",
          "Adult (30-39)",
          "Adult (30-39)",
          "Adult (30-39)",
          "Adult (30-39)",
          "Young Adult (20-29)",
          "Adult (30-39)",
          "Adult (30-39)",
          "Middle Age (40-49)",
          "Middle Age (40-49)",
          "Senior (50+)",
          "Young Adult (20-29)",
          "Senior (50+)",
          "Middle Age (40-49)",
          "Young Adult (20-29)",
          "Adult (30-39)",
          "Adult (30-39)",
          "Adult (30-39)",
          "Middle Age (40-49)",
          "Middle Age (40-49)",
          "Adult (30-39)",
          "Adult (30-39)",
          "Senior (50+)",
          "Middle Age (40-49)",
          "Adult (30-39)",
          "Middle Age (40-49)",
          "Young Adult (20-29)",
          "Young Adult (20-29)",
          "Middle Age (40-49)",
          "Young Adult (20-29)",
          "Adult (30-39)",
          "Teen (0-19)",
          "Middle Age (40-49)",
          "Middle Age (40-49)",
          "Young Adult (20-29)",
          "Young Adult (20-29)",
          "Young Adult (20-29)",
          "Young Adult (20-29)",
          "Adult (30-39)",
          "Middle Age (40-49)",
          "Middle Age (40-49)",
          "Adult (30-39)",
          "Senior (50+)",
          "Senior (50+)",
          "Teen (0-19)",
          "Middle Age (40-49)",
          "Teen (0-19)",
          "Teen (0-19)",
          "Young Adult (20-29)",
          "Adult (30-39)",
          "Teen (0-19)",
          "Young Adult (20-29)",
          "Teen (0-19)",
          "Adult (30-39)",
          "Adult (30-39)",
          "Senior (50+)",
          "Middle Age (40-49)",
          "Young Adult (20-29)",
          "Adult (30-39)",
          "Adult (30-39)",
          "Senior (50+)",
          "Middle Age (40-49)",
          "Teen (0-19)",
          "Young Adult (20-29)",
          "Adult (30-39)",
          "Teen (0-19)",
          "Middle Age (40-49)",
          "Adult (30-39)",
          "Young Adult (20-29)",
          "Young Adult (20-29)",
          "Young Adult (20-29)",
          "Young Adult (20-29)",
          "Senior (50+)",
          "Adult (30-39)",
          "Young Adult (20-29)",
          "Young Adult (20-29)",
          "Young Adult (20-29)",
          "Young Adult (20-29)",
          "Young Adult (20-29)",
          "Adult (30-39)",
          "Young Adult (20-29)",
          "Middle Age (40-49)",
          "Middle Age (40-49)",
          "Young Adult (20-29)",
          "Middle Age (40-49)",
          "Senior (50+)",
          "Adult (30-39)",
          "Adult (30-39)",
          "Young Adult (20-29)",
          "Adult (30-39)",
          "Adult (30-39)",
          "Middle Age (40-49)",
          "Senior (50+)",
          "Middle Age (40-49)",
          "Senior (50+)",
          "Middle Age (40-49)",
          "Senior (50+)",
          "Young Adult (20-29)",
          "Adult (30-39)",
          "Middle Age (40-49)",
          "Adult (30-39)",
          "Young Adult (20-29)",
          "Adult (30-39)",
          "Adult (30-39)",
          "Adult (30-39)",
          "Adult (30-39)",
          "Senior (50+)",
          "Senior (50+)",
          "Young Adult (20-29)",
          "Middle Age (40-49)",
          "Senior (50+)",
          "Adult (30-39)",
          "Senior (50+)",
          "Adult (30-39)",
          "Senior (50+)",
          "Middle Age (40-49)",
          "Young Adult (20-29)",
          "Middle Age (40-49)",
          "Young Adult (20-29)",
          "Middle Age (40-49)",
          "Teen (0-19)",
          "Young Adult (20-29)",
          "Adult (30-39)",
          "Middle Age (40-49)",
          "Adult (30-39)",
          "Senior (50+)",
          "Young Adult (20-29)",
          "Middle Age (40-49)",
          "Adult (30-39)",
          "Middle Age (40-49)",
          "Adult (30-39)",
          "Senior (50+)",
          "Adult (30-39)",
          "Teen (0-19)",
          "Adult (30-39)",
          "Adult (30-39)",
          "Middle Age (40-49)",
          "Adult (30-39)",
          "Middle Age (40-49)",
          "Adult (30-39)",
          "Young Adult (20-29)",
          "Middle Age (40-49)",
          "Young Adult (20-29)",
          "Adult (30-39)",
          "Adult (30-39)",
          "Middle Age (40-49)",
          "Middle Age (40-49)",
          "Senior (50+)",
          "Adult (30-39)",
          "Middle Age (40-49)",
          "Senior (50+)",
          "Young Adult (20-29)",
          "Middle Age (40-49)",
          "Middle Age (40-49)",
          "Senior (50+)",
          "Young Adult (20-29)",
          "Young Adult (20-29)",
          "Young Adult (20-29)",
          "Young Adult (20-29)",
          "Young Adult (20-29)",
          "Adult (30-39)",
          "Young Adult (20-29)",
          "Young Adult (20-29)",
          "Young Adult (20-29)",
          "Young Adult (20-29)",
          "Young Adult (20-29)",
          "Young Adult (20-29)",
          "Adult (30-39)",
          "Adult (30-39)",
          "Adult (30-39)",
          "Young Adult (20-29)",
          "Adult (30-39)",
          "Adult (30-39)",
          "Middle Age (40-49)",
          "Young Adult (20-29)",
          "Adult (30-39)",
          "Senior (50+)",
          "Middle Age (40-49)",
          "Adult (30-39)",
          "Adult (30-39)",
          "Adult (30-39)",
          "Adult (30-39)",
          "Young Adult (20-29)",
          "Adult (30-39)",
          "Senior (50+)",
          "Middle Age (40-49)",
          "Teen (0-19)",
          "Adult (30-39)",
          "Young Adult (20-29)",
          "Adult (30-39)",
          "Middle Age (40-49)",
          "Young Adult (20-29)",
          "Adult (30-39)",
          "Young Adult (20-29)",
          "Young Adult (20-29)",
          "Young Adult (20-29)",
          "Senior (50+)",
          "Young Adult (20-29)",
          "Young Adult (20-29)",
          "Young Adult (20-29)",
          "Adult (30-39)",
          "Adult (30-39)",
          "Adult (30-39)",
          "Teen (0-19)",
          "Young Adult (20-29)",
          "Young Adult (20-29)",
          "Young Adult (20-29)",
          "Adult (30-39)",
          "Adult (30-39)",
          "Middle Age (40-49)",
          "Teen (0-19)",
          "Young Adult (20-29)",
          "Adult (30-39)",
          "Middle Age (40-49)",
          "Middle Age (40-49)",
          "Senior (50+)",
          "Young Adult (20-29)",
          "Adult (30-39)",
          "Middle Age (40-49)",
          "Middle Age (40-49)",
          "Young Adult (20-29)",
          "Adult (30-39)",
          "Senior (50+)",
          "Middle Age (40-49)",
          "Young Adult (20-29)",
          "Middle Age (40-49)",
          "Adult (30-39)",
          "Adult (30-39)",
          "Middle Age (40-49)",
          "Young Adult (20-29)",
          "Middle Age (40-49)",
          "Middle Age (40-49)",
          "Adult (30-39)",
          "Young Adult (20-29)",
          "Senior (50+)",
          "Middle Age (40-49)",
          "Teen (0-19)",
          "Teen (0-19)",
          "Adult (30-39)",
          "Adult (30-39)",
          "Teen (0-19)",
          "Adult (30-39)",
          "Young Adult (20-29)",
          "Young Adult (20-29)",
          "Adult (30-39)",
          "Young Adult (20-29)",
          "Young Adult (20-29)",
          "Adult (30-39)",
          "Young Adult (20-29)",
          "Adult (30-39)",
          "Senior (50+)",
          "Middle Age (40-49)",
          "Young Adult (20-29)",
          "Adult (30-39)",
          "Senior (50+)",
          "Young Adult (20-29)",
          "Adult (30-39)",
          "Adult (30-39)",
          "Middle Age (40-49)",
          "Adult (30-39)",
          "Young Adult (20-29)",
          "Young Adult (20-29)",
          "Adult (30-39)",
          "Young Adult (20-29)",
          "Young Adult (20-29)",
          "Adult (30-39)",
          "Young Adult (20-29)",
          "Teen (0-19)",
          "Middle Age (40-49)",
          "Adult (30-39)",
          "Middle Age (40-49)",
          "Adult (30-39)",
          "Young Adult (20-29)",
          "Adult (30-39)",
          "Adult (30-39)",
          "Adult (30-39)",
          "Young Adult (20-29)",
          "Adult (30-39)",
          "Middle Age (40-49)",
          "Young Adult (20-29)",
          "Adult (30-39)",
          "Young Adult (20-29)",
          "Young Adult (20-29)",
          "Middle Age (40-49)",
          "Young Adult (20-29)",
          "Adult (30-39)",
          "Young Adult (20-29)",
          "Senior (50+)",
          "Adult (30-39)",
          "Middle Age (40-49)",
          "Senior (50+)",
          "Adult (30-39)",
          "Middle Age (40-49)",
          "Middle Age (40-49)",
          "Middle Age (40-49)",
          "Senior (50+)",
          "Adult (30-39)",
          "Adult (30-39)",
          "Adult (30-39)",
          "Teen (0-19)",
          "Senior (50+)",
          "Adult (30-39)",
          "Senior (50+)",
          "Senior (50+)",
          "Middle Age (40-49)",
          "Young Adult (20-29)",
          "Adult (30-39)",
          "Adult (30-39)",
          "Teen (0-19)",
          "Young Adult (20-29)",
          "Senior (50+)",
          "Young Adult (20-29)",
          "Adult (30-39)",
          "Middle Age (40-49)",
          "Young Adult (20-29)",
          "Adult (30-39)",
          "Teen (0-19)",
          "Young Adult (20-29)",
          "Adult (30-39)",
          "Adult (30-39)",
          "Young Adult (20-29)",
          "Young Adult (20-29)",
          "Middle Age (40-49)",
          "Teen (0-19)",
          "Young Adult (20-29)",
          "Young Adult (20-29)",
          "Adult (30-39)",
          "Middle Age (40-49)",
          "Middle Age (40-49)",
          "Adult (30-39)",
          "Young Adult (20-29)",
          "Young Adult (20-29)",
          "Middle Age (40-49)",
          "Middle Age (40-49)",
          "Adult (30-39)",
          "Middle Age (40-49)",
          "Middle Age (40-49)",
          "Middle Age (40-49)",
          "Young Adult (20-29)",
          "Young Adult (20-29)",
          "Middle Age (40-49)",
          "Senior (50+)",
          "Adult (30-39)",
          "Senior (50+)",
          "Adult (30-39)",
          "Adult (30-39)",
          "Young Adult (20-29)",
          "Middle Age (40-49)",
          "Middle Age (40-49)",
          "Middle Age (40-49)",
          "Adult (30-39)",
          "Senior (50+)",
          "Adult (30-39)",
          "Senior (50+)",
          "Senior (50+)",
          "Middle Age (40-49)",
          "Senior (50+)",
          "Teen (0-19)",
          "Young Adult (20-29)",
          "Young Adult (20-29)",
          "Middle Age (40-49)",
          "Adult (30-39)",
          "Middle Age (40-49)",
          "Teen (0-19)",
          "Teen (0-19)",
          "Adult (30-39)",
          "Young Adult (20-29)",
          "Adult (30-39)",
          "Middle Age (40-49)",
          "Young Adult (20-29)",
          "Senior (50+)",
          "Young Adult (20-29)",
          "Adult (30-39)",
          "Middle Age (40-49)",
          "Teen (0-19)",
          "Adult (30-39)",
          "Adult (30-39)",
          "Young Adult (20-29)",
          "Senior (50+)",
          "Adult (30-39)",
          "Young Adult (20-29)",
          "Senior (50+)",
          "Adult (30-39)",
          "Adult (30-39)",
          "Adult (30-39)",
          "Young Adult (20-29)",
          "Adult (30-39)",
          "Young Adult (20-29)",
          "Young Adult (20-29)",
          "Adult (30-39)",
          "Adult (30-39)",
          "Teen (0-19)",
          "Young Adult (20-29)",
          "Adult (30-39)",
          "Young Adult (20-29)",
          "Senior (50+)",
          "Adult (30-39)",
          "Young Adult (20-29)",
          "Senior (50+)",
          "Senior (50+)",
          "Senior (50+)",
          "Middle Age (40-49)",
          "Middle Age (40-49)",
          "Adult (30-39)",
          "Middle Age (40-49)",
          "Young Adult (20-29)",
          "Senior (50+)",
          "Teen (0-19)",
          "Young Adult (20-29)",
          "Middle Age (40-49)",
          "Middle Age (40-49)",
          "Adult (30-39)",
          "Adult (30-39)",
          "Middle Age (40-49)",
          "Young Adult (20-29)",
          "Adult (30-39)",
          "Teen (0-19)",
          "Adult (30-39)",
          "Young Adult (20-29)",
          "Teen (0-19)",
          "Adult (30-39)",
          "Young Adult (20-29)",
          "Young Adult (20-29)",
          "Young Adult (20-29)",
          "Young Adult (20-29)",
          "Adult (30-39)",
          "Young Adult (20-29)",
          "Adult (30-39)",
          "Teen (0-19)",
          "Adult (30-39)",
          "Young Adult (20-29)",
          "Adult (30-39)",
          "Middle Age (40-49)",
          "Senior (50+)",
          "Young Adult (20-29)",
          "Middle Age (40-49)",
          "Middle Age (40-49)",
          "Senior (50+)",
          "Senior (50+)",
          "Middle Age (40-49)",
          "Adult (30-39)",
          "Senior (50+)",
          "Adult (30-39)",
          "Middle Age (40-49)",
          "Middle Age (40-49)",
          "Adult (30-39)",
          "Adult (30-39)",
          "Middle Age (40-49)",
          "Teen (0-19)",
          "Adult (30-39)",
          "Senior (50+)",
          "Adult (30-39)",
          "Adult (30-39)",
          "Young Adult (20-29)",
          "Adult (30-39)",
          "Adult (30-39)",
          "Adult (30-39)",
          "Middle Age (40-49)",
          "Middle Age (40-49)",
          "Senior (50+)",
          "Young Adult (20-29)",
          "Adult (30-39)",
          "Adult (30-39)",
          "Adult (30-39)",
          "Senior (50+)",
          "Adult (30-39)",
          "Middle Age (40-49)",
          "Adult (30-39)",
          "Teen (0-19)",
          "Middle Age (40-49)",
          "Young Adult (20-29)",
          "Middle Age (40-49)",
          "Adult (30-39)",
          "Adult (30-39)",
          "Adult (30-39)",
          "Adult (30-39)",
          "Middle Age (40-49)",
          "Teen (0-19)",
          "Young Adult (20-29)",
          "Adult (30-39)",
          "Young Adult (20-29)",
          "Young Adult (20-29)",
          "Middle Age (40-49)",
          "Adult (30-39)",
          "Senior (50+)",
          "Adult (30-39)",
          "Young Adult (20-29)",
          "Young Adult (20-29)",
          "Adult (30-39)",
          "Middle Age (40-49)",
          "Adult (30-39)",
          "Middle Age (40-49)",
          "Young Adult (20-29)",
          "Young Adult (20-29)",
          "Senior (50+)",
          "Teen (0-19)",
          "Adult (30-39)",
          "Teen (0-19)",
          "Middle Age (40-49)",
          "Adult (30-39)",
          "Adult (30-39)",
          "Young Adult (20-29)",
          "Adult (30-39)",
          "Young Adult (20-29)",
          "Young Adult (20-29)",
          "Young Adult (20-29)",
          "Middle Age (40-49)",
          "Young Adult (20-29)",
          "Adult (30-39)",
          "Senior (50+)",
          "Young Adult (20-29)",
          "Adult (30-39)",
          "Senior (50+)",
          "Adult (30-39)",
          "Adult (30-39)",
          "Teen (0-19)",
          "Senior (50+)",
          "Young Adult (20-29)",
          "Adult (30-39)",
          "Young Adult (20-29)",
          "Adult (30-39)",
          "Middle Age (40-49)",
          "Young Adult (20-29)",
          "Young Adult (20-29)",
          "Young Adult (20-29)",
          "Middle Age (40-49)",
          "Adult (30-39)",
          "Middle Age (40-49)",
          "Adult (30-39)",
          "Young Adult (20-29)",
          "Young Adult (20-29)",
          "Teen (0-19)",
          "Young Adult (20-29)",
          "Young Adult (20-29)",
          "Middle Age (40-49)",
          "Adult (30-39)",
          "Young Adult (20-29)",
          "Middle Age (40-49)",
          "Adult (30-39)",
          "Young Adult (20-29)",
          "Adult (30-39)",
          "Middle Age (40-49)",
          "Adult (30-39)",
          "Young Adult (20-29)",
          "Senior (50+)",
          "Teen (0-19)",
          "Adult (30-39)",
          "Adult (30-39)",
          "Adult (30-39)",
          "Young Adult (20-29)",
          "Adult (30-39)",
          "Adult (30-39)",
          "Young Adult (20-29)",
          "Middle Age (40-49)",
          "Middle Age (40-49)",
          "Senior (50+)",
          "Middle Age (40-49)",
          "Young Adult (20-29)",
          "Middle Age (40-49)",
          "Senior (50+)",
          "Adult (30-39)",
          "Adult (30-39)",
          "Middle Age (40-49)",
          "Middle Age (40-49)",
          "Adult (30-39)",
          "Young Adult (20-29)",
          "Adult (30-39)",
          "Adult (30-39)",
          "Young Adult (20-29)",
          "Young Adult (20-29)",
          "Middle Age (40-49)",
          "Young Adult (20-29)",
          "Teen (0-19)",
          "Young Adult (20-29)",
          "Adult (30-39)",
          "Young Adult (20-29)",
          "Middle Age (40-49)",
          "Young Adult (20-29)",
          "Senior (50+)",
          "Young Adult (20-29)",
          "Adult (30-39)",
          "Senior (50+)",
          "Adult (30-39)",
          "Adult (30-39)",
          "Middle Age (40-49)",
          "Young Adult (20-29)",
          "Senior (50+)",
          "Senior (50+)",
          "Middle Age (40-49)",
          "Adult (30-39)",
          "Young Adult (20-29)",
          "Senior (50+)",
          "Young Adult (20-29)",
          "Young Adult (20-29)",
          "Middle Age (40-49)",
          "Adult (30-39)",
          "Adult (30-39)",
          "Senior (50+)",
          "Young Adult (20-29)",
          "Adult (30-39)",
          "Young Adult (20-29)",
          "Senior (50+)",
          "Young Adult (20-29)",
          "Middle Age (40-49)",
          "Senior (50+)",
          "Teen (0-19)",
          "Young Adult (20-29)",
          "Senior (50+)",
          "Young Adult (20-29)",
          "Young Adult (20-29)",
          "Middle Age (40-49)",
          "Adult (30-39)",
          "Young Adult (20-29)",
          "Adult (30-39)",
          "Middle Age (40-49)",
          "Young Adult (20-29)",
          "Middle Age (40-49)",
          "Young Adult (20-29)",
          "Adult (30-39)",
          "Adult (30-39)",
          "Young Adult (20-29)",
          "Middle Age (40-49)",
          "Senior (50+)",
          "Young Adult (20-29)",
          "Senior (50+)",
          "Adult (30-39)",
          "Adult (30-39)",
          "Young Adult (20-29)",
          "Middle Age (40-49)",
          "Teen (0-19)",
          "Middle Age (40-49)",
          "Teen (0-19)",
          "Senior (50+)",
          "Senior (50+)",
          "Adult (30-39)",
          "Young Adult (20-29)",
          "Adult (30-39)",
          "Adult (30-39)",
          "Young Adult (20-29)",
          "Middle Age (40-49)",
          "Young Adult (20-29)",
          "Middle Age (40-49)",
          "Teen (0-19)",
          "Young Adult (20-29)",
          "Middle Age (40-49)",
          "Young Adult (20-29)",
          "Senior (50+)",
          "Adult (30-39)",
          "Adult (30-39)",
          "Senior (50+)",
          "Young Adult (20-29)",
          "Adult (30-39)",
          "Young Adult (20-29)",
          "Middle Age (40-49)",
          "Adult (30-39)",
          "Adult (30-39)",
          "Senior (50+)",
          "Young Adult (20-29)",
          "Young Adult (20-29)",
          "Young Adult (20-29)",
          "Adult (30-39)",
          "Middle Age (40-49)",
          "Adult (30-39)",
          "Middle Age (40-49)",
          "Teen (0-19)",
          "Adult (30-39)",
          "Teen (0-19)",
          "Young Adult (20-29)",
          "Middle Age (40-49)",
          "Teen (0-19)",
          "Senior (50+)",
          "Adult (30-39)",
          "Adult (30-39)",
          "Adult (30-39)",
          "Middle Age (40-49)",
          "Senior (50+)",
          "Teen (0-19)",
          "Young Adult (20-29)",
          "Young Adult (20-29)",
          "Adult (30-39)",
          "Middle Age (40-49)",
          "Adult (30-39)",
          "Adult (30-39)",
          "Adult (30-39)",
          "Adult (30-39)",
          "Adult (30-39)",
          "Middle Age (40-49)",
          "Middle Age (40-49)",
          "Senior (50+)",
          "Teen (0-19)",
          "Young Adult (20-29)",
          "Middle Age (40-49)",
          "Adult (30-39)",
          "Young Adult (20-29)",
          "Adult (30-39)",
          "Middle Age (40-49)",
          "Teen (0-19)",
          "Young Adult (20-29)",
          "Adult (30-39)",
          "Young Adult (20-29)",
          "Young Adult (20-29)",
          "Middle Age (40-49)",
          "Young Adult (20-29)",
          "Young Adult (20-29)",
          "Senior (50+)",
          "Adult (30-39)",
          "Adult (30-39)",
          "Adult (30-39)",
          "Senior (50+)",
          "Young Adult (20-29)",
          "Young Adult (20-29)",
          "Young Adult (20-29)",
          "Middle Age (40-49)",
          "Teen (0-19)",
          "Adult (30-39)",
          "Young Adult (20-29)",
          "Young Adult (20-29)",
          "Young Adult (20-29)",
          "Young Adult (20-29)",
          "Middle Age (40-49)",
          "Middle Age (40-49)",
          "Senior (50+)",
          "Adult (30-39)",
          "Middle Age (40-49)",
          "Young Adult (20-29)",
          "Middle Age (40-49)",
          "Young Adult (20-29)",
          "Adult (30-39)",
          "Senior (50+)",
          "Adult (30-39)",
          "Senior (50+)",
          "Adult (30-39)",
          "Middle Age (40-49)",
          "Adult (30-39)",
          "Adult (30-39)",
          "Adult (30-39)",
          "Adult (30-39)",
          "Young Adult (20-29)",
          "Young Adult (20-29)",
          "Adult (30-39)",
          "Young Adult (20-29)",
          "Teen (0-19)",
          "Adult (30-39)",
          "Adult (30-39)",
          "Adult (30-39)",
          "Middle Age (40-49)",
          "Adult (30-39)",
          "Senior (50+)",
          "Adult (30-39)",
          "Adult (30-39)",
          "Adult (30-39)",
          "Adult (30-39)",
          "Middle Age (40-49)",
          "Middle Age (40-49)",
          "Adult (30-39)",
          "Adult (30-39)",
          "Senior (50+)",
          "Senior (50+)",
          "Middle Age (40-49)",
          "Young Adult (20-29)",
          "Young Adult (20-29)",
          "Senior (50+)",
          "Teen (0-19)",
          "Adult (30-39)",
          "Middle Age (40-49)",
          "Middle Age (40-49)",
          "Adult (30-39)",
          "Young Adult (20-29)",
          "Young Adult (20-29)",
          "Senior (50+)",
          "Teen (0-19)",
          "Adult (30-39)",
          "Adult (30-39)",
          "Middle Age (40-49)",
          "Teen (0-19)",
          "Teen (0-19)",
          "Young Adult (20-29)",
          "Middle Age (40-49)",
          "Teen (0-19)",
          "Young Adult (20-29)",
          "Adult (30-39)",
          "Senior (50+)",
          "Young Adult (20-29)",
          "Young Adult (20-29)",
          "Young Adult (20-29)",
          "Adult (30-39)",
          "Middle Age (40-49)",
          "Adult (30-39)",
          "Middle Age (40-49)",
          "Middle Age (40-49)",
          "Teen (0-19)",
          "Young Adult (20-29)",
          "Adult (30-39)",
          "Adult (30-39)",
          "Adult (30-39)",
          "Young Adult (20-29)",
          "Senior (50+)",
          "Senior (50+)",
          "Middle Age (40-49)",
          "Young Adult (20-29)",
          "Adult (30-39)",
          "Middle Age (40-49)",
          "Middle Age (40-49)",
          "Adult (30-39)",
          "Senior (50+)",
          "Adult (30-39)",
          "Adult (30-39)",
          "Young Adult (20-29)",
          "Young Adult (20-29)",
          "Adult (30-39)",
          "Young Adult (20-29)",
          "Adult (30-39)",
          "Senior (50+)",
          "Adult (30-39)",
          "Young Adult (20-29)",
          "Young Adult (20-29)",
          "Senior (50+)",
          "Middle Age (40-49)",
          "Adult (30-39)",
          "Adult (30-39)",
          "Senior (50+)",
          "Young Adult (20-29)",
          "Middle Age (40-49)",
          "Adult (30-39)",
          "Senior (50+)",
          "Adult (30-39)",
          "Young Adult (20-29)",
          "Teen (0-19)",
          "Senior (50+)",
          "Adult (30-39)",
          "Senior (50+)",
          "Senior (50+)",
          "Senior (50+)",
          "Adult (30-39)",
          "Adult (30-39)",
          "Middle Age (40-49)",
          "Adult (30-39)",
          "Young Adult (20-29)",
          "Teen (0-19)",
          "Adult (30-39)",
          "Adult (30-39)",
          "Young Adult (20-29)",
          "Young Adult (20-29)",
          "Teen (0-19)",
          "Young Adult (20-29)",
          "Young Adult (20-29)",
          "Middle Age (40-49)",
          "Adult (30-39)",
          "Adult (30-39)",
          "Senior (50+)",
          "Young Adult (20-29)",
          "Adult (30-39)",
          "Middle Age (40-49)",
          "Young Adult (20-29)",
          "Middle Age (40-49)",
          "Young Adult (20-29)",
          "Senior (50+)",
          "Adult (30-39)",
          "Young Adult (20-29)",
          "Young Adult (20-29)",
          "Adult (30-39)",
          "Young Adult (20-29)",
          "Adult (30-39)",
          "Adult (30-39)",
          "Senior (50+)",
          "Adult (30-39)",
          "Teen (0-19)",
          "Adult (30-39)",
          "Adult (30-39)",
          "Adult (30-39)",
          "Adult (30-39)",
          "Adult (30-39)",
          "Young Adult (20-29)",
          "Adult (30-39)",
          "Adult (30-39)",
          "Adult (30-39)",
          "Adult (30-39)",
          "Teen (0-19)",
          "Senior (50+)",
          "Senior (50+)",
          "Young Adult (20-29)",
          "Middle Age (40-49)",
          "Middle Age (40-49)",
          "Adult (30-39)",
          "Adult (30-39)",
          "Middle Age (40-49)",
          "Middle Age (40-49)",
          "Senior (50+)",
          "Middle Age (40-49)",
          "Teen (0-19)",
          "Adult (30-39)",
          "Senior (50+)",
          "Adult (30-39)",
          "Adult (30-39)",
          "Middle Age (40-49)",
          "Middle Age (40-49)",
          "Senior (50+)",
          "Adult (30-39)",
          "Adult (30-39)",
          "Adult (30-39)",
          "Teen (0-19)",
          "Teen (0-19)",
          "Middle Age (40-49)",
          "Adult (30-39)",
          "Adult (30-39)",
          "Adult (30-39)",
          "Adult (30-39)",
          "Middle Age (40-49)",
          "Young Adult (20-29)",
          "Adult (30-39)",
          "Adult (30-39)",
          "Adult (30-39)",
          "Teen (0-19)",
          "Teen (0-19)",
          "Young Adult (20-29)",
          "Young Adult (20-29)",
          "Senior (50+)",
          "Young Adult (20-29)",
          "Middle Age (40-49)",
          "Adult (30-39)",
          "Adult (30-39)",
          "Middle Age (40-49)",
          "Senior (50+)",
          "Senior (50+)",
          "Young Adult (20-29)",
          "Adult (30-39)",
          "Young Adult (20-29)",
          "Young Adult (20-29)",
          "Young Adult (20-29)",
          "Young Adult (20-29)",
          "Senior (50+)",
          "Senior (50+)",
          "Young Adult (20-29)",
          "Young Adult (20-29)",
          "Adult (30-39)",
          "Senior (50+)",
          "Middle Age (40-49)",
          "Young Adult (20-29)",
          "Senior (50+)",
          "Senior (50+)",
          "Young Adult (20-29)",
          "Adult (30-39)",
          "Senior (50+)",
          "Teen (0-19)",
          "Teen (0-19)",
          "Young Adult (20-29)",
          "Young Adult (20-29)",
          "Adult (30-39)",
          "Young Adult (20-29)",
          "Adult (30-39)",
          "Adult (30-39)",
          "Adult (30-39)",
          "Adult (30-39)",
          "Adult (30-39)",
          "Young Adult (20-29)",
          "Young Adult (20-29)",
          "Middle Age (40-49)",
          "Adult (30-39)",
          "Teen (0-19)",
          "Middle Age (40-49)",
          "Young Adult (20-29)",
          "Adult (30-39)",
          "Young Adult (20-29)",
          "Adult (30-39)",
          "Adult (30-39)",
          "Middle Age (40-49)",
          "Middle Age (40-49)",
          "Senior (50+)",
          "Adult (30-39)",
          "Young Adult (20-29)",
          "Young Adult (20-29)",
          "Young Adult (20-29)",
          "Adult (30-39)",
          "Middle Age (40-49)",
          "Adult (30-39)",
          "Middle Age (40-49)",
          "Middle Age (40-49)",
          "Young Adult (20-29)",
          "Senior (50+)",
          "Young Adult (20-29)",
          "Senior (50+)",
          "Senior (50+)",
          "Adult (30-39)",
          "Teen (0-19)",
          "Middle Age (40-49)",
          "Adult (30-39)",
          "Middle Age (40-49)",
          "Adult (30-39)",
          "Senior (50+)",
          "Adult (30-39)",
          "Young Adult (20-29)",
          "Senior (50+)",
          "Young Adult (20-29)",
          "Adult (30-39)",
          "Senior (50+)",
          "Senior (50+)",
          "Adult (30-39)",
          "Adult (30-39)",
          "Senior (50+)",
          "Adult (30-39)",
          "Adult (30-39)",
          "Adult (30-39)",
          "Young Adult (20-29)",
          "Young Adult (20-29)",
          "Young Adult (20-29)",
          "Teen (0-19)",
          "Middle Age (40-49)",
          "Middle Age (40-49)",
          "Senior (50+)",
          "Young Adult (20-29)",
          "Senior (50+)",
          "Middle Age (40-49)",
          "Teen (0-19)",
          "Adult (30-39)",
          "Middle Age (40-49)",
          "Teen (0-19)",
          "Young Adult (20-29)",
          "Adult (30-39)",
          "Middle Age (40-49)",
          "Middle Age (40-49)",
          "Young Adult (20-29)",
          "Young Adult (20-29)",
          "Middle Age (40-49)",
          "Middle Age (40-49)",
          "Middle Age (40-49)",
          "Young Adult (20-29)",
          "Adult (30-39)",
          "Adult (30-39)",
          "Middle Age (40-49)",
          "Middle Age (40-49)",
          "Middle Age (40-49)",
          "Senior (50+)",
          "Adult (30-39)",
          "Young Adult (20-29)",
          "Adult (30-39)",
          "Young Adult (20-29)",
          "Young Adult (20-29)",
          "Young Adult (20-29)",
          "Adult (30-39)",
          "Adult (30-39)",
          "Middle Age (40-49)",
          "Young Adult (20-29)",
          "Young Adult (20-29)",
          "Middle Age (40-49)",
          "Adult (30-39)",
          "Adult (30-39)",
          "Adult (30-39)",
          "Adult (30-39)",
          "Teen (0-19)",
          "Adult (30-39)",
          "Adult (30-39)",
          "Middle Age (40-49)",
          "Adult (30-39)",
          "Young Adult (20-29)",
          "Middle Age (40-49)",
          "Middle Age (40-49)",
          "Young Adult (20-29)",
          "Adult (30-39)",
          "Adult (30-39)",
          "Senior (50+)",
          "Young Adult (20-29)",
          "Young Adult (20-29)",
          "Middle Age (40-49)",
          "Middle Age (40-49)",
          "Young Adult (20-29)",
          "Senior (50+)",
          "Middle Age (40-49)",
          "Young Adult (20-29)",
          "Middle Age (40-49)",
          "Adult (30-39)",
          "Middle Age (40-49)",
          "Senior (50+)",
          "Middle Age (40-49)",
          "Senior (50+)",
          "Senior (50+)",
          "Young Adult (20-29)",
          "Young Adult (20-29)",
          "Young Adult (20-29)",
          "Adult (30-39)",
          "Young Adult (20-29)",
          "Teen (0-19)",
          "Young Adult (20-29)",
          "Young Adult (20-29)",
          "Middle Age (40-49)",
          "Adult (30-39)",
          "Young Adult (20-29)",
          "Adult (30-39)",
          "Adult (30-39)",
          "Young Adult (20-29)",
          "Young Adult (20-29)",
          "Young Adult (20-29)",
          "Middle Age (40-49)",
          "Adult (30-39)",
          "Teen (0-19)",
          "Middle Age (40-49)",
          "Adult (30-39)",
          "Senior (50+)",
          "Senior (50+)",
          "Adult (30-39)",
          "Adult (30-39)",
          "Adult (30-39)",
          "Teen (0-19)",
          "Young Adult (20-29)",
          "Young Adult (20-29)",
          "Senior (50+)",
          "Young Adult (20-29)",
          "Young Adult (20-29)",
          "Young Adult (20-29)",
          "Adult (30-39)",
          "Teen (0-19)",
          "Young Adult (20-29)",
          "Adult (30-39)",
          "Teen (0-19)",
          "Young Adult (20-29)",
          "Adult (30-39)",
          "Adult (30-39)",
          "Young Adult (20-29)",
          "Young Adult (20-29)",
          "Young Adult (20-29)",
          "Young Adult (20-29)",
          "Middle Age (40-49)",
          "Young Adult (20-29)",
          "Adult (30-39)",
          "Adult (30-39)",
          "Senior (50+)",
          "Young Adult (20-29)",
          "Young Adult (20-29)",
          "Adult (30-39)",
          "Senior (50+)",
          "Middle Age (40-49)",
          "Middle Age (40-49)",
          "Adult (30-39)",
          "Young Adult (20-29)",
          "Adult (30-39)",
          "Middle Age (40-49)",
          "Middle Age (40-49)",
          "Adult (30-39)",
          "Adult (30-39)",
          "Middle Age (40-49)",
          "Young Adult (20-29)",
          "Young Adult (20-29)",
          "Adult (30-39)",
          "Adult (30-39)",
          "Young Adult (20-29)",
          "Teen (0-19)",
          "Young Adult (20-29)",
          "Middle Age (40-49)",
          "Teen (0-19)",
          "Adult (30-39)",
          "Adult (30-39)",
          "Adult (30-39)",
          "Middle Age (40-49)",
          "Teen (0-19)",
          "Young Adult (20-29)",
          "Young Adult (20-29)",
          "Young Adult (20-29)",
          "Young Adult (20-29)",
          "Adult (30-39)",
          "Middle Age (40-49)",
          "Adult (30-39)",
          "Senior (50+)",
          "Adult (30-39)",
          "Adult (30-39)",
          "Senior (50+)",
          "Adult (30-39)",
          "Young Adult (20-29)",
          "Adult (30-39)",
          "Middle Age (40-49)",
          "Teen (0-19)",
          "Middle Age (40-49)",
          "Teen (0-19)",
          "Middle Age (40-49)",
          "Adult (30-39)",
          "Middle Age (40-49)",
          "Teen (0-19)",
          "Adult (30-39)",
          "Teen (0-19)",
          "Young Adult (20-29)",
          "Young Adult (20-29)",
          "Adult (30-39)",
          "Adult (30-39)",
          "Young Adult (20-29)",
          "Senior (50+)",
          "Middle Age (40-49)",
          "Middle Age (40-49)",
          "Adult (30-39)",
          "Young Adult (20-29)",
          "Middle Age (40-49)",
          "Adult (30-39)",
          "Senior (50+)",
          "Middle Age (40-49)",
          "Adult (30-39)",
          "Adult (30-39)",
          "Middle Age (40-49)",
          "Adult (30-39)",
          "Middle Age (40-49)",
          "Adult (30-39)",
          "Young Adult (20-29)",
          "Teen (0-19)",
          "Teen (0-19)",
          "Young Adult (20-29)",
          "Young Adult (20-29)",
          "Adult (30-39)",
          "Adult (30-39)",
          "Adult (30-39)",
          "Adult (30-39)",
          "Adult (30-39)",
          "Young Adult (20-29)",
          "Young Adult (20-29)",
          "Middle Age (40-49)",
          "Senior (50+)",
          "Middle Age (40-49)",
          "Senior (50+)",
          "Teen (0-19)",
          "Senior (50+)",
          "Young Adult (20-29)",
          "Senior (50+)",
          "Young Adult (20-29)",
          "Senior (50+)",
          "Teen (0-19)",
          "Teen (0-19)",
          "Middle Age (40-49)",
          "Senior (50+)",
          "Middle Age (40-49)",
          "Teen (0-19)",
          "Middle Age (40-49)",
          "Young Adult (20-29)",
          "Senior (50+)",
          "Senior (50+)",
          "Middle Age (40-49)",
          "Middle Age (40-49)",
          "Adult (30-39)",
          "Middle Age (40-49)",
          "Adult (30-39)",
          "Senior (50+)",
          "Middle Age (40-49)",
          "Young Adult (20-29)",
          "Young Adult (20-29)",
          "Young Adult (20-29)",
          "Middle Age (40-49)",
          "Middle Age (40-49)",
          "Adult (30-39)",
          "Teen (0-19)",
          "Middle Age (40-49)",
          "Senior (50+)",
          "Middle Age (40-49)",
          "Young Adult (20-29)",
          "Adult (30-39)",
          "Young Adult (20-29)",
          "Adult (30-39)",
          "Young Adult (20-29)",
          "Middle Age (40-49)",
          "Young Adult (20-29)",
          "Young Adult (20-29)",
          "Adult (30-39)",
          "Adult (30-39)",
          "Adult (30-39)",
          "Adult (30-39)",
          "Teen (0-19)",
          "Middle Age (40-49)",
          "Young Adult (20-29)",
          "Young Adult (20-29)",
          "Teen (0-19)",
          "Young Adult (20-29)",
          "Adult (30-39)",
          "Senior (50+)",
          "Young Adult (20-29)",
          "Adult (30-39)",
          "Young Adult (20-29)",
          "Middle Age (40-49)",
          "Senior (50+)",
          "Middle Age (40-49)",
          "Senior (50+)",
          "Middle Age (40-49)",
          "Teen (0-19)",
          "Senior (50+)",
          "Middle Age (40-49)",
          "Middle Age (40-49)",
          "Middle Age (40-49)",
          "Senior (50+)",
          "Middle Age (40-49)",
          "Senior (50+)",
          "Adult (30-39)",
          "Young Adult (20-29)",
          "Adult (30-39)",
          "Young Adult (20-29)",
          "Adult (30-39)",
          "Young Adult (20-29)",
          "Adult (30-39)",
          "Adult (30-39)",
          "Young Adult (20-29)",
          "Senior (50+)",
          "Senior (50+)",
          "Middle Age (40-49)",
          "Middle Age (40-49)",
          "Senior (50+)",
          "Senior (50+)",
          "Young Adult (20-29)",
          "Adult (30-39)",
          "Young Adult (20-29)",
          "Senior (50+)",
          "Young Adult (20-29)",
          "Senior (50+)",
          "Young Adult (20-29)",
          "Young Adult (20-29)",
          "Senior (50+)",
          "Adult (30-39)",
          "Adult (30-39)",
          "Young Adult (20-29)",
          "Middle Age (40-49)",
          "Adult (30-39)",
          "Middle Age (40-49)",
          "Adult (30-39)",
          "Adult (30-39)",
          "Middle Age (40-49)",
          "Young Adult (20-29)",
          "Young Adult (20-29)",
          "Teen (0-19)",
          "Middle Age (40-49)",
          "Middle Age (40-49)",
          "Young Adult (20-29)",
          "Adult (30-39)",
          "Adult (30-39)",
          "Adult (30-39)",
          "Adult (30-39)",
          "Middle Age (40-49)",
          "Young Adult (20-29)",
          "Adult (30-39)",
          "Young Adult (20-29)",
          "Adult (30-39)",
          "Young Adult (20-29)",
          "Senior (50+)",
          "Middle Age (40-49)",
          "Adult (30-39)",
          "Young Adult (20-29)",
          "Adult (30-39)",
          "Senior (50+)",
          "Senior (50+)",
          "Young Adult (20-29)",
          "Middle Age (40-49)",
          "Senior (50+)",
          "Senior (50+)",
          "Senior (50+)",
          "Young Adult (20-29)",
          "Young Adult (20-29)",
          "Young Adult (20-29)",
          "Young Adult (20-29)",
          "Adult (30-39)",
          "Adult (30-39)",
          "Young Adult (20-29)",
          "Middle Age (40-49)",
          "Adult (30-39)",
          "Adult (30-39)",
          "Young Adult (20-29)",
          "Young Adult (20-29)",
          "Middle Age (40-49)",
          "Young Adult (20-29)",
          "Young Adult (20-29)",
          "Teen (0-19)",
          "Adult (30-39)",
          "Middle Age (40-49)",
          "Adult (30-39)",
          "Middle Age (40-49)",
          "Young Adult (20-29)",
          "Adult (30-39)",
          "Young Adult (20-29)",
          "Teen (0-19)",
          "Young Adult (20-29)",
          "Middle Age (40-49)",
          "Young Adult (20-29)",
          "Young Adult (20-29)",
          "Adult (30-39)",
          "Middle Age (40-49)",
          "Middle Age (40-49)",
          "Young Adult (20-29)",
          "Adult (30-39)",
          "Young Adult (20-29)",
          "Middle Age (40-49)",
          "Young Adult (20-29)",
          "Middle Age (40-49)",
          "Young Adult (20-29)",
          "Adult (30-39)",
          "Young Adult (20-29)",
          "Middle Age (40-49)",
          "Senior (50+)",
          "Adult (30-39)",
          "Middle Age (40-49)",
          "Young Adult (20-29)",
          "Adult (30-39)",
          "Middle Age (40-49)",
          "Teen (0-19)",
          "Middle Age (40-49)",
          "Middle Age (40-49)",
          "Adult (30-39)",
          "Adult (30-39)",
          "Young Adult (20-29)",
          "Teen (0-19)",
          "Young Adult (20-29)",
          "Senior (50+)",
          "Adult (30-39)",
          "Senior (50+)",
          "Senior (50+)",
          "Middle Age (40-49)",
          "Adult (30-39)",
          "Young Adult (20-29)",
          "Teen (0-19)",
          "Young Adult (20-29)",
          "Adult (30-39)",
          "Adult (30-39)",
          "Adult (30-39)",
          "Young Adult (20-29)",
          "Young Adult (20-29)",
          "Young Adult (20-29)",
          "Senior (50+)",
          "Middle Age (40-49)",
          "Senior (50+)",
          "Middle Age (40-49)",
          "Senior (50+)",
          "Adult (30-39)",
          "Middle Age (40-49)",
          "Young Adult (20-29)",
          "Adult (30-39)",
          "Adult (30-39)",
          "Middle Age (40-49)",
          "Adult (30-39)",
          "Middle Age (40-49)",
          "Adult (30-39)",
          "Adult (30-39)",
          "Young Adult (20-29)",
          "Adult (30-39)",
          "Young Adult (20-29)",
          "Adult (30-39)",
          "Young Adult (20-29)",
          "Teen (0-19)",
          "Young Adult (20-29)",
          "Young Adult (20-29)",
          "Young Adult (20-29)",
          "Adult (30-39)",
          "Young Adult (20-29)",
          "Young Adult (20-29)",
          "Adult (30-39)",
          "Senior (50+)",
          "Adult (30-39)",
          "Young Adult (20-29)",
          "Middle Age (40-49)",
          "Adult (30-39)",
          "Senior (50+)",
          "Senior (50+)",
          "Senior (50+)",
          "Young Adult (20-29)",
          "Young Adult (20-29)",
          "Teen (0-19)",
          "Young Adult (20-29)",
          "Adult (30-39)",
          "Adult (30-39)",
          "Young Adult (20-29)",
          "Middle Age (40-49)",
          "Middle Age (40-49)",
          "Adult (30-39)",
          "Teen (0-19)",
          "Adult (30-39)",
          "Young Adult (20-29)",
          "Adult (30-39)",
          "Adult (30-39)",
          "Adult (30-39)",
          "Teen (0-19)",
          "Adult (30-39)",
          "Adult (30-39)",
          "Adult (30-39)",
          "Teen (0-19)",
          "Young Adult (20-29)",
          "Senior (50+)",
          "Young Adult (20-29)",
          "Adult (30-39)",
          "Middle Age (40-49)",
          "Adult (30-39)",
          "Young Adult (20-29)",
          "Senior (50+)",
          "Adult (30-39)",
          "Young Adult (20-29)",
          "Adult (30-39)",
          "Young Adult (20-29)",
          "Middle Age (40-49)",
          "Adult (30-39)",
          "Senior (50+)",
          "Young Adult (20-29)",
          "Adult (30-39)",
          "Young Adult (20-29)",
          "Adult (30-39)",
          "Adult (30-39)",
          "Adult (30-39)",
          "Adult (30-39)",
          "Adult (30-39)",
          "Adult (30-39)",
          "Adult (30-39)",
          "Adult (30-39)",
          "Young Adult (20-29)",
          "Adult (30-39)",
          "Adult (30-39)",
          "Middle Age (40-49)",
          "Young Adult (20-29)",
          "Adult (30-39)",
          "Adult (30-39)",
          "Adult (30-39)",
          "Middle Age (40-49)",
          "Adult (30-39)",
          "Young Adult (20-29)",
          "Adult (30-39)",
          "Middle Age (40-49)",
          "Teen (0-19)",
          "Young Adult (20-29)",
          "Middle Age (40-49)",
          "Middle Age (40-49)",
          "Adult (30-39)",
          "Adult (30-39)",
          "Adult (30-39)",
          "Young Adult (20-29)",
          "Young Adult (20-29)",
          "Adult (30-39)",
          "Senior (50+)",
          "Teen (0-19)",
          "Young Adult (20-29)",
          "Young Adult (20-29)",
          "Young Adult (20-29)",
          "Adult (30-39)",
          "Young Adult (20-29)",
          "Young Adult (20-29)",
          "Adult (30-39)",
          "Middle Age (40-49)",
          "Middle Age (40-49)",
          "Senior (50+)",
          "Young Adult (20-29)",
          "Adult (30-39)",
          "Adult (30-39)",
          "Adult (30-39)",
          "Adult (30-39)",
          "Middle Age (40-49)",
          "Adult (30-39)",
          "Adult (30-39)",
          "Adult (30-39)",
          "Adult (30-39)",
          "Young Adult (20-29)",
          "Young Adult (20-29)",
          "Adult (30-39)",
          "Middle Age (40-49)",
          "Adult (30-39)",
          "Adult (30-39)",
          "Senior (50+)",
          "Adult (30-39)",
          "Senior (50+)",
          "Adult (30-39)",
          "Adult (30-39)",
          "Teen (0-19)",
          "Young Adult (20-29)",
          "Middle Age (40-49)",
          "Young Adult (20-29)",
          "Adult (30-39)",
          "Middle Age (40-49)",
          "Middle Age (40-49)",
          "Middle Age (40-49)",
          "Senior (50+)",
          "Young Adult (20-29)",
          "Middle Age (40-49)",
          "Senior (50+)",
          "Young Adult (20-29)",
          "Young Adult (20-29)",
          "Adult (30-39)",
          "Young Adult (20-29)",
          "Young Adult (20-29)",
          "Young Adult (20-29)",
          "Young Adult (20-29)",
          "Senior (50+)",
          "Young Adult (20-29)",
          "Middle Age (40-49)",
          "Adult (30-39)",
          "Middle Age (40-49)",
          "Young Adult (20-29)",
          "Adult (30-39)",
          "Adult (30-39)",
          "Young Adult (20-29)",
          "Senior (50+)",
          "Senior (50+)",
          "Young Adult (20-29)",
          "Adult (30-39)",
          "Middle Age (40-49)",
          "Young Adult (20-29)",
          "Middle Age (40-49)",
          "Adult (30-39)",
          "Young Adult (20-29)",
          "Middle Age (40-49)",
          "Teen (0-19)",
          "Senior (50+)",
          "Adult (30-39)",
          "Teen (0-19)",
          "Young Adult (20-29)",
          "Young Adult (20-29)",
          "Young Adult (20-29)",
          "Teen (0-19)",
          "Adult (30-39)",
          "Young Adult (20-29)",
          "Adult (30-39)",
          "Middle Age (40-49)",
          "Middle Age (40-49)",
          "Senior (50+)",
          "Middle Age (40-49)",
          "Adult (30-39)",
          "Young Adult (20-29)",
          "Adult (30-39)",
          "Middle Age (40-49)",
          "Senior (50+)",
          "Young Adult (20-29)",
          "Adult (30-39)",
          "Adult (30-39)",
          "Adult (30-39)",
          "Adult (30-39)",
          "Adult (30-39)",
          "Senior (50+)",
          "Senior (50+)",
          "Adult (30-39)",
          "Senior (50+)",
          "Middle Age (40-49)",
          "Senior (50+)",
          "Young Adult (20-29)",
          "Young Adult (20-29)",
          "Teen (0-19)",
          "Young Adult (20-29)",
          "Teen (0-19)",
          "Young Adult (20-29)",
          "Middle Age (40-49)",
          "Young Adult (20-29)",
          "Adult (30-39)",
          "Adult (30-39)",
          "Adult (30-39)",
          "Adult (30-39)",
          "Young Adult (20-29)",
          "Senior (50+)",
          "Middle Age (40-49)",
          "Middle Age (40-49)",
          "Adult (30-39)",
          "Middle Age (40-49)",
          "Adult (30-39)",
          "Middle Age (40-49)",
          "Adult (30-39)",
          "Adult (30-39)",
          "Young Adult (20-29)",
          "Adult (30-39)",
          "Adult (30-39)",
          "Senior (50+)",
          "Young Adult (20-29)",
          "Senior (50+)",
          "Senior (50+)",
          "Young Adult (20-29)",
          "Young Adult (20-29)",
          "Middle Age (40-49)",
          "Adult (30-39)",
          "Young Adult (20-29)",
          "Middle Age (40-49)",
          "Senior (50+)",
          "Young Adult (20-29)",
          "Middle Age (40-49)",
          "Young Adult (20-29)",
          "Middle Age (40-49)",
          "Adult (30-39)",
          "Middle Age (40-49)",
          "Middle Age (40-49)",
          "Senior (50+)",
          "Young Adult (20-29)",
          "Adult (30-39)",
          "Middle Age (40-49)",
          "Adult (30-39)",
          "Middle Age (40-49)",
          "Adult (30-39)",
          "Middle Age (40-49)",
          "Young Adult (20-29)",
          "Adult (30-39)",
          "Adult (30-39)",
          "Young Adult (20-29)",
          "Adult (30-39)",
          "Adult (30-39)",
          "Adult (30-39)",
          "Teen (0-19)",
          "Young Adult (20-29)",
          "Middle Age (40-49)",
          "Young Adult (20-29)",
          "Middle Age (40-49)",
          "Adult (30-39)",
          "Young Adult (20-29)",
          "Young Adult (20-29)",
          "Young Adult (20-29)",
          "Young Adult (20-29)",
          "Young Adult (20-29)",
          "Young Adult (20-29)",
          "Middle Age (40-49)",
          "Young Adult (20-29)",
          "Middle Age (40-49)",
          "Young Adult (20-29)",
          "Adult (30-39)",
          "Middle Age (40-49)",
          "Teen (0-19)",
          "Adult (30-39)",
          "Young Adult (20-29)",
          "Adult (30-39)",
          "Adult (30-39)",
          "Adult (30-39)",
          "Young Adult (20-29)",
          "Middle Age (40-49)",
          "Adult (30-39)",
          "Young Adult (20-29)",
          "Young Adult (20-29)",
          "Adult (30-39)",
          "Senior (50+)",
          "Young Adult (20-29)",
          "Adult (30-39)",
          "Middle Age (40-49)",
          "Adult (30-39)",
          "Senior (50+)",
          "Teen (0-19)",
          "Adult (30-39)",
          "Young Adult (20-29)",
          "Adult (30-39)",
          "Middle Age (40-49)",
          "Adult (30-39)",
          "Teen (0-19)",
          "Adult (30-39)",
          "Young Adult (20-29)",
          "Young Adult (20-29)",
          "Senior (50+)",
          "Middle Age (40-49)",
          "Middle Age (40-49)",
          "Middle Age (40-49)",
          "Adult (30-39)",
          "Adult (30-39)",
          "Middle Age (40-49)",
          "Adult (30-39)",
          "Adult (30-39)",
          "Middle Age (40-49)",
          "Young Adult (20-29)",
          "Middle Age (40-49)",
          "Teen (0-19)",
          "Adult (30-39)",
          "Adult (30-39)",
          "Young Adult (20-29)",
          "Young Adult (20-29)",
          "Senior (50+)",
          "Adult (30-39)",
          "Middle Age (40-49)",
          "Adult (30-39)",
          "Adult (30-39)",
          "Adult (30-39)",
          "Senior (50+)",
          "Senior (50+)",
          "Young Adult (20-29)",
          "Adult (30-39)",
          "Senior (50+)",
          "Middle Age (40-49)",
          "Adult (30-39)",
          "Young Adult (20-29)",
          "Young Adult (20-29)",
          "Middle Age (40-49)",
          "Adult (30-39)",
          "Middle Age (40-49)",
          "Adult (30-39)",
          "Senior (50+)",
          "Middle Age (40-49)",
          "Young Adult (20-29)",
          "Young Adult (20-29)",
          "Young Adult (20-29)",
          "Adult (30-39)",
          "Middle Age (40-49)",
          "Middle Age (40-49)",
          "Senior (50+)",
          "Teen (0-19)",
          "Adult (30-39)",
          "Senior (50+)",
          "Young Adult (20-29)",
          "Adult (30-39)",
          "Adult (30-39)",
          "Adult (30-39)",
          "Adult (30-39)",
          "Middle Age (40-49)",
          "Middle Age (40-49)",
          "Middle Age (40-49)",
          "Young Adult (20-29)",
          "Young Adult (20-29)",
          "Middle Age (40-49)",
          "Young Adult (20-29)",
          "Adult (30-39)",
          "Young Adult (20-29)",
          "Adult (30-39)",
          "Young Adult (20-29)",
          "Young Adult (20-29)",
          "Young Adult (20-29)",
          "Middle Age (40-49)",
          "Adult (30-39)",
          "Young Adult (20-29)",
          "Middle Age (40-49)",
          "Middle Age (40-49)",
          "Adult (30-39)",
          "Middle Age (40-49)",
          "Middle Age (40-49)",
          "Young Adult (20-29)",
          "Middle Age (40-49)",
          "Adult (30-39)",
          "Senior (50+)",
          "Young Adult (20-29)",
          "Middle Age (40-49)",
          "Adult (30-39)",
          "Senior (50+)",
          "Middle Age (40-49)",
          "Young Adult (20-29)",
          "Middle Age (40-49)",
          "Adult (30-39)",
          "Adult (30-39)",
          "Adult (30-39)",
          "Teen (0-19)",
          "Adult (30-39)",
          "Teen (0-19)",
          "Senior (50+)",
          "Senior (50+)",
          "Adult (30-39)",
          "Middle Age (40-49)",
          "Middle Age (40-49)",
          "Middle Age (40-49)",
          "Young Adult (20-29)",
          "Middle Age (40-49)",
          "Adult (30-39)",
          "Middle Age (40-49)",
          "Young Adult (20-29)",
          "Adult (30-39)",
          "Teen (0-19)",
          "Young Adult (20-29)",
          "Adult (30-39)",
          "Senior (50+)",
          "Adult (30-39)",
          "Senior (50+)",
          "Senior (50+)",
          "Young Adult (20-29)",
          "Senior (50+)",
          "Teen (0-19)",
          "Young Adult (20-29)",
          "Middle Age (40-49)",
          "Adult (30-39)",
          "Adult (30-39)",
          "Middle Age (40-49)",
          "Adult (30-39)",
          "Senior (50+)",
          "Middle Age (40-49)",
          "Teen (0-19)",
          "Young Adult (20-29)",
          "Adult (30-39)",
          "Middle Age (40-49)",
          "Adult (30-39)",
          "Adult (30-39)",
          "Adult (30-39)",
          "Middle Age (40-49)",
          "Adult (30-39)",
          "Adult (30-39)",
          "Adult (30-39)",
          "Young Adult (20-29)",
          "Young Adult (20-29)",
          "Young Adult (20-29)",
          "Young Adult (20-29)",
          "Adult (30-39)",
          "Middle Age (40-49)",
          "Middle Age (40-49)",
          "Senior (50+)",
          "Young Adult (20-29)",
          "Middle Age (40-49)",
          "Teen (0-19)",
          "Young Adult (20-29)",
          "Adult (30-39)",
          "Young Adult (20-29)",
          "Young Adult (20-29)",
          "Young Adult (20-29)",
          "Adult (30-39)",
          "Teen (0-19)",
          "Middle Age (40-49)",
          "Young Adult (20-29)",
          "Young Adult (20-29)",
          "Adult (30-39)",
          "Middle Age (40-49)",
          "Middle Age (40-49)",
          "Young Adult (20-29)",
          "Young Adult (20-29)",
          "Young Adult (20-29)",
          "Middle Age (40-49)",
          "Young Adult (20-29)",
          "Senior (50+)",
          "Young Adult (20-29)",
          "Adult (30-39)",
          "Young Adult (20-29)",
          "Young Adult (20-29)",
          "Young Adult (20-29)",
          "Senior (50+)",
          "Young Adult (20-29)",
          "Middle Age (40-49)",
          "Senior (50+)",
          "Young Adult (20-29)",
          "Middle Age (40-49)",
          "Adult (30-39)",
          "Adult (30-39)",
          "Middle Age (40-49)",
          "Senior (50+)",
          "Teen (0-19)",
          "Senior (50+)",
          "Middle Age (40-49)",
          "Teen (0-19)",
          "Adult (30-39)",
          "Adult (30-39)",
          "Adult (30-39)",
          "Young Adult (20-29)",
          "Young Adult (20-29)",
          "Adult (30-39)",
          "Young Adult (20-29)",
          "Middle Age (40-49)",
          "Middle Age (40-49)",
          "Adult (30-39)",
          "Adult (30-39)",
          "Middle Age (40-49)",
          "Young Adult (20-29)",
          "Senior (50+)",
          "Adult (30-39)",
          "Middle Age (40-49)",
          "Young Adult (20-29)",
          "Young Adult (20-29)",
          "Young Adult (20-29)",
          "Young Adult (20-29)",
          "Adult (30-39)",
          "Teen (0-19)",
          "Middle Age (40-49)",
          "Adult (30-39)",
          "Young Adult (20-29)",
          "Adult (30-39)",
          "Young Adult (20-29)",
          "Young Adult (20-29)",
          "Young Adult (20-29)",
          "Adult (30-39)",
          "Senior (50+)",
          "Adult (30-39)",
          "Adult (30-39)",
          "Middle Age (40-49)",
          "Middle Age (40-49)",
          "Teen (0-19)",
          "Teen (0-19)",
          "Young Adult (20-29)",
          "Young Adult (20-29)",
          "Adult (30-39)",
          "Teen (0-19)",
          "Middle Age (40-49)",
          "Young Adult (20-29)",
          "Adult (30-39)",
          "Adult (30-39)",
          "Middle Age (40-49)",
          "Middle Age (40-49)",
          "Adult (30-39)",
          "Young Adult (20-29)",
          "Senior (50+)",
          "Adult (30-39)",
          "Senior (50+)",
          "Middle Age (40-49)",
          "Senior (50+)",
          "Young Adult (20-29)",
          "Middle Age (40-49)",
          "Middle Age (40-49)",
          "Adult (30-39)",
          "Middle Age (40-49)",
          "Adult (30-39)",
          "Adult (30-39)",
          "Teen (0-19)",
          "Teen (0-19)",
          "Young Adult (20-29)",
          "Young Adult (20-29)",
          "Young Adult (20-29)",
          "Young Adult (20-29)",
          "Middle Age (40-49)",
          "Young Adult (20-29)",
          "Adult (30-39)",
          "Middle Age (40-49)",
          "Adult (30-39)",
          "Adult (30-39)",
          "Adult (30-39)",
          "Young Adult (20-29)",
          "Middle Age (40-49)",
          "Adult (30-39)",
          "Young Adult (20-29)",
          "Middle Age (40-49)",
          "Adult (30-39)",
          "Teen (0-19)",
          "Young Adult (20-29)",
          "Adult (30-39)",
          "Young Adult (20-29)",
          "Young Adult (20-29)",
          "Middle Age (40-49)",
          "Adult (30-39)",
          "Middle Age (40-49)",
          "Young Adult (20-29)",
          "Adult (30-39)",
          "Adult (30-39)",
          "Teen (0-19)",
          "Adult (30-39)",
          "Teen (0-19)",
          "Adult (30-39)",
          "Senior (50+)",
          "Adult (30-39)",
          "Adult (30-39)",
          "Middle Age (40-49)",
          "Senior (50+)",
          "Adult (30-39)",
          "Adult (30-39)",
          "Adult (30-39)",
          "Young Adult (20-29)",
          "Young Adult (20-29)",
          "Middle Age (40-49)",
          "Adult (30-39)",
          "Young Adult (20-29)",
          "Middle Age (40-49)",
          "Teen (0-19)",
          "Middle Age (40-49)",
          "Teen (0-19)",
          "Teen (0-19)",
          "Young Adult (20-29)",
          "Adult (30-39)",
          "Adult (30-39)",
          "Young Adult (20-29)",
          "Young Adult (20-29)",
          "Senior (50+)",
          "Senior (50+)",
          "Middle Age (40-49)",
          "Senior (50+)",
          "Young Adult (20-29)",
          "Adult (30-39)",
          "Young Adult (20-29)",
          "Middle Age (40-49)",
          "Young Adult (20-29)",
          "Middle Age (40-49)",
          "Young Adult (20-29)",
          "Teen (0-19)",
          "Young Adult (20-29)",
          "Young Adult (20-29)",
          "Young Adult (20-29)",
          "Young Adult (20-29)",
          "Young Adult (20-29)",
          "Young Adult (20-29)",
          "Middle Age (40-49)",
          "Middle Age (40-49)",
          "Young Adult (20-29)",
          "Young Adult (20-29)",
          "Adult (30-39)",
          "Middle Age (40-49)",
          "Young Adult (20-29)",
          "Senior (50+)",
          "Middle Age (40-49)",
          "Middle Age (40-49)",
          "Middle Age (40-49)",
          "Young Adult (20-29)",
          "Young Adult (20-29)",
          "Adult (30-39)",
          "Young Adult (20-29)",
          "Young Adult (20-29)",
          "Senior (50+)",
          "Adult (30-39)",
          "Adult (30-39)",
          "Young Adult (20-29)",
          "Young Adult (20-29)",
          "Senior (50+)",
          "Adult (30-39)",
          "Senior (50+)",
          "Senior (50+)",
          "Senior (50+)",
          "Adult (30-39)",
          "Senior (50+)",
          "Young Adult (20-29)",
          "Young Adult (20-29)",
          "Teen (0-19)",
          "Young Adult (20-29)",
          "Adult (30-39)",
          "Middle Age (40-49)",
          "Young Adult (20-29)",
          "Adult (30-39)",
          "Young Adult (20-29)",
          "Middle Age (40-49)",
          "Adult (30-39)",
          "Senior (50+)",
          "Young Adult (20-29)",
          "Adult (30-39)",
          "Senior (50+)",
          "Young Adult (20-29)",
          "Adult (30-39)",
          "Young Adult (20-29)",
          "Middle Age (40-49)",
          "Young Adult (20-29)",
          "Middle Age (40-49)",
          "Middle Age (40-49)",
          "Young Adult (20-29)",
          "Adult (30-39)",
          "Young Adult (20-29)",
          "Adult (30-39)",
          "Young Adult (20-29)",
          "Young Adult (20-29)",
          "Adult (30-39)",
          "Middle Age (40-49)",
          "Adult (30-39)",
          "Young Adult (20-29)",
          "Adult (30-39)",
          "Young Adult (20-29)",
          "Adult (30-39)",
          "Young Adult (20-29)",
          "Young Adult (20-29)",
          "Young Adult (20-29)",
          "Teen (0-19)",
          "Young Adult (20-29)",
          "Young Adult (20-29)",
          "Middle Age (40-49)",
          "Adult (30-39)",
          "Middle Age (40-49)",
          "Adult (30-39)",
          "Adult (30-39)",
          "Adult (30-39)",
          "Middle Age (40-49)",
          "Adult (30-39)",
          "Teen (0-19)",
          "Young Adult (20-29)",
          "Young Adult (20-29)",
          "Adult (30-39)",
          "Adult (30-39)",
          "Young Adult (20-29)",
          "Adult (30-39)",
          "Adult (30-39)",
          "Middle Age (40-49)",
          "Senior (50+)",
          "Young Adult (20-29)",
          "Young Adult (20-29)",
          "Young Adult (20-29)",
          "Adult (30-39)",
          "Adult (30-39)",
          "Adult (30-39)",
          "Adult (30-39)",
          "Adult (30-39)",
          "Senior (50+)",
          "Adult (30-39)",
          "Middle Age (40-49)",
          "Senior (50+)",
          "Adult (30-39)",
          "Adult (30-39)",
          "Young Adult (20-29)",
          "Senior (50+)",
          "Young Adult (20-29)",
          "Young Adult (20-29)",
          "Adult (30-39)",
          "Adult (30-39)",
          "Senior (50+)",
          "Teen (0-19)",
          "Adult (30-39)",
          "Teen (0-19)",
          "Young Adult (20-29)",
          "Senior (50+)",
          "Adult (30-39)",
          "Adult (30-39)",
          "Adult (30-39)",
          "Adult (30-39)",
          "Young Adult (20-29)",
          "Adult (30-39)",
          "Adult (30-39)",
          "Young Adult (20-29)",
          "Young Adult (20-29)",
          "Middle Age (40-49)",
          "Young Adult (20-29)",
          "Adult (30-39)",
          "Young Adult (20-29)",
          "Adult (30-39)",
          "Young Adult (20-29)",
          "Adult (30-39)",
          "Young Adult (20-29)",
          "Young Adult (20-29)",
          "Senior (50+)",
          "Adult (30-39)",
          "Young Adult (20-29)",
          "Senior (50+)",
          "Adult (30-39)",
          "Adult (30-39)",
          "Adult (30-39)",
          "Teen (0-19)",
          "Adult (30-39)",
          "Adult (30-39)",
          "Adult (30-39)",
          "Young Adult (20-29)",
          "Young Adult (20-29)",
          "Middle Age (40-49)",
          "Senior (50+)",
          "Teen (0-19)",
          "Senior (50+)",
          "Senior (50+)",
          "Young Adult (20-29)",
          "Senior (50+)",
          "Young Adult (20-29)",
          "Middle Age (40-49)",
          "Senior (50+)",
          "Adult (30-39)",
          "Young Adult (20-29)",
          "Middle Age (40-49)",
          "Middle Age (40-49)",
          "Adult (30-39)",
          "Middle Age (40-49)",
          "Adult (30-39)",
          "Middle Age (40-49)",
          "Young Adult (20-29)",
          "Senior (50+)",
          "Adult (30-39)",
          "Young Adult (20-29)",
          "Middle Age (40-49)",
          "Adult (30-39)",
          "Young Adult (20-29)",
          "Middle Age (40-49)",
          "Adult (30-39)",
          "Young Adult (20-29)",
          "Adult (30-39)",
          "Young Adult (20-29)",
          "Adult (30-39)",
          "Adult (30-39)",
          "Young Adult (20-29)",
          "Senior (50+)",
          "Middle Age (40-49)",
          "Middle Age (40-49)",
          "Young Adult (20-29)",
          "Young Adult (20-29)",
          "Young Adult (20-29)",
          "Middle Age (40-49)",
          "Adult (30-39)",
          "Young Adult (20-29)",
          "Teen (0-19)",
          "Adult (30-39)",
          "Middle Age (40-49)",
          "Adult (30-39)",
          "Senior (50+)",
          "Middle Age (40-49)",
          "Young Adult (20-29)",
          "Senior (50+)",
          "Young Adult (20-29)",
          "Adult (30-39)",
          "Senior (50+)",
          "Senior (50+)",
          "Young Adult (20-29)",
          "Adult (30-39)",
          "Middle Age (40-49)",
          "Young Adult (20-29)",
          "Middle Age (40-49)",
          "Teen (0-19)",
          "Young Adult (20-29)",
          "Middle Age (40-49)",
          "Middle Age (40-49)",
          "Young Adult (20-29)",
          "Middle Age (40-49)",
          "Middle Age (40-49)",
          "Young Adult (20-29)",
          "Middle Age (40-49)",
          "Adult (30-39)",
          "Senior (50+)",
          "Adult (30-39)",
          "Adult (30-39)",
          "Young Adult (20-29)",
          "Adult (30-39)",
          "Young Adult (20-29)",
          "Adult (30-39)",
          "Senior (50+)",
          "Young Adult (20-29)",
          "Adult (30-39)",
          "Middle Age (40-49)",
          "Young Adult (20-29)",
          "Young Adult (20-29)",
          "Young Adult (20-29)",
          "Senior (50+)",
          "Young Adult (20-29)",
          "Adult (30-39)",
          "Adult (30-39)",
          "Middle Age (40-49)",
          "Adult (30-39)",
          "Adult (30-39)",
          "Young Adult (20-29)",
          "Senior (50+)",
          "Adult (30-39)",
          "Senior (50+)",
          "Adult (30-39)",
          "Young Adult (20-29)",
          "Adult (30-39)",
          "Young Adult (20-29)",
          "Adult (30-39)",
          "Senior (50+)",
          "Middle Age (40-49)",
          "Young Adult (20-29)",
          "Young Adult (20-29)",
          "Middle Age (40-49)",
          "Young Adult (20-29)",
          "Young Adult (20-29)",
          "Teen (0-19)",
          "Young Adult (20-29)",
          "Young Adult (20-29)",
          "Middle Age (40-49)",
          "Young Adult (20-29)",
          "Young Adult (20-29)",
          "Middle Age (40-49)",
          "Adult (30-39)",
          "Senior (50+)",
          "Young Adult (20-29)",
          "Young Adult (20-29)",
          "Young Adult (20-29)",
          "Senior (50+)",
          "Teen (0-19)",
          "Senior (50+)",
          "Young Adult (20-29)",
          "Adult (30-39)",
          "Young Adult (20-29)",
          "Young Adult (20-29)",
          "Middle Age (40-49)",
          "Middle Age (40-49)",
          "Adult (30-39)",
          "Young Adult (20-29)",
          "Senior (50+)",
          "Young Adult (20-29)",
          "Senior (50+)",
          "Young Adult (20-29)",
          "Senior (50+)",
          "Senior (50+)",
          "Teen (0-19)",
          "Young Adult (20-29)",
          "Middle Age (40-49)",
          "Middle Age (40-49)",
          "Young Adult (20-29)",
          "Adult (30-39)",
          "Middle Age (40-49)",
          "Young Adult (20-29)",
          "Young Adult (20-29)",
          "Adult (30-39)",
          "Young Adult (20-29)",
          "Senior (50+)",
          "Senior (50+)",
          "Adult (30-39)",
          "Adult (30-39)",
          "Young Adult (20-29)",
          "Young Adult (20-29)",
          "Senior (50+)",
          "Adult (30-39)",
          "Young Adult (20-29)",
          "Adult (30-39)",
          "Adult (30-39)",
          "Young Adult (20-29)",
          "Senior (50+)",
          "Adult (30-39)",
          "Teen (0-19)",
          "Adult (30-39)",
          "Adult (30-39)",
          "Young Adult (20-29)",
          "Adult (30-39)",
          "Teen (0-19)",
          "Adult (30-39)",
          "Senior (50+)",
          "Adult (30-39)",
          "Middle Age (40-49)",
          "Middle Age (40-49)",
          "Middle Age (40-49)",
          "Adult (30-39)",
          "Senior (50+)",
          "Senior (50+)",
          "Middle Age (40-49)",
          "Senior (50+)",
          "Adult (30-39)",
          "Adult (30-39)",
          "Young Adult (20-29)",
          "Senior (50+)",
          "Senior (50+)",
          "Adult (30-39)",
          "Middle Age (40-49)",
          "Senior (50+)",
          "Senior (50+)",
          "Senior (50+)",
          "Young Adult (20-29)",
          "Adult (30-39)",
          "Middle Age (40-49)",
          "Adult (30-39)",
          "Young Adult (20-29)",
          "Young Adult (20-29)",
          "Adult (30-39)",
          "Adult (30-39)",
          "Senior (50+)",
          "Adult (30-39)",
          "Teen (0-19)",
          "Adult (30-39)",
          "Senior (50+)",
          "Young Adult (20-29)",
          "Young Adult (20-29)",
          "Young Adult (20-29)",
          "Young Adult (20-29)",
          "Middle Age (40-49)",
          "Adult (30-39)",
          "Adult (30-39)",
          "Senior (50+)",
          "Adult (30-39)",
          "Young Adult (20-29)",
          "Young Adult (20-29)",
          "Adult (30-39)",
          "Adult (30-39)",
          "Adult (30-39)",
          "Senior (50+)",
          "Teen (0-19)",
          "Teen (0-19)",
          "Young Adult (20-29)",
          "Adult (30-39)",
          "Adult (30-39)",
          "Senior (50+)",
          "Adult (30-39)",
          "Senior (50+)",
          "Teen (0-19)",
          "Senior (50+)",
          "Senior (50+)",
          "Middle Age (40-49)",
          "Young Adult (20-29)",
          "Young Adult (20-29)",
          "Young Adult (20-29)",
          "Young Adult (20-29)",
          "Adult (30-39)",
          "Young Adult (20-29)",
          "Senior (50+)",
          "Young Adult (20-29)",
          "Senior (50+)",
          "Middle Age (40-49)",
          "Middle Age (40-49)",
          "Teen (0-19)",
          "Teen (0-19)",
          "Middle Age (40-49)",
          "Middle Age (40-49)",
          "Adult (30-39)",
          "Adult (30-39)",
          "Teen (0-19)",
          "Middle Age (40-49)",
          "Middle Age (40-49)",
          "Adult (30-39)",
          "Adult (30-39)",
          "Young Adult (20-29)",
          "Adult (30-39)",
          "Middle Age (40-49)",
          "Adult (30-39)",
          "Young Adult (20-29)",
          "Senior (50+)",
          "Adult (30-39)",
          "Teen (0-19)",
          "Adult (30-39)",
          "Adult (30-39)",
          "Adult (30-39)",
          "Middle Age (40-49)",
          "Middle Age (40-49)",
          "Adult (30-39)",
          "Young Adult (20-29)",
          "Adult (30-39)",
          "Young Adult (20-29)",
          "Adult (30-39)",
          "Middle Age (40-49)",
          "Young Adult (20-29)",
          "Adult (30-39)",
          "Middle Age (40-49)",
          "Young Adult (20-29)",
          "Adult (30-39)",
          "Middle Age (40-49)",
          "Young Adult (20-29)",
          "Young Adult (20-29)",
          "Young Adult (20-29)",
          "Middle Age (40-49)",
          "Middle Age (40-49)",
          "Young Adult (20-29)",
          "Middle Age (40-49)",
          "Senior (50+)",
          "Senior (50+)",
          "Adult (30-39)",
          "Adult (30-39)",
          "Young Adult (20-29)",
          "Adult (30-39)",
          "Adult (30-39)",
          "Teen (0-19)",
          "Senior (50+)",
          "Young Adult (20-29)",
          "Young Adult (20-29)",
          "Young Adult (20-29)",
          "Teen (0-19)",
          "Middle Age (40-49)",
          "Adult (30-39)",
          "Young Adult (20-29)",
          "Middle Age (40-49)",
          "Young Adult (20-29)",
          "Middle Age (40-49)",
          "Middle Age (40-49)",
          "Middle Age (40-49)",
          "Young Adult (20-29)",
          "Adult (30-39)",
          "Middle Age (40-49)",
          "Adult (30-39)",
          "Adult (30-39)",
          "Young Adult (20-29)",
          "Adult (30-39)",
          "Adult (30-39)",
          "Adult (30-39)",
          "Middle Age (40-49)",
          "Young Adult (20-29)",
          "Middle Age (40-49)",
          "Young Adult (20-29)",
          "Senior (50+)",
          "Young Adult (20-29)",
          "Young Adult (20-29)",
          "Young Adult (20-29)",
          "Young Adult (20-29)",
          "Middle Age (40-49)",
          "Adult (30-39)",
          "Young Adult (20-29)",
          "Adult (30-39)",
          "Teen (0-19)",
          "Young Adult (20-29)",
          "Middle Age (40-49)",
          "Young Adult (20-29)",
          "Middle Age (40-49)",
          "Middle Age (40-49)",
          "Young Adult (20-29)",
          "Adult (30-39)",
          "Middle Age (40-49)",
          "Adult (30-39)",
          "Adult (30-39)",
          "Adult (30-39)",
          "Adult (30-39)",
          "Teen (0-19)",
          "Adult (30-39)",
          "Young Adult (20-29)",
          "Senior (50+)",
          "Teen (0-19)",
          "Middle Age (40-49)",
          "Senior (50+)",
          "Senior (50+)",
          "Adult (30-39)",
          "Adult (30-39)",
          "Adult (30-39)",
          "Adult (30-39)",
          "Middle Age (40-49)",
          "Senior (50+)",
          "Middle Age (40-49)",
          "Adult (30-39)",
          "Teen (0-19)",
          "Young Adult (20-29)",
          "Teen (0-19)",
          "Adult (30-39)",
          "Adult (30-39)",
          "Young Adult (20-29)",
          "Middle Age (40-49)",
          "Middle Age (40-49)",
          "Middle Age (40-49)",
          "Adult (30-39)",
          "Middle Age (40-49)",
          "Young Adult (20-29)",
          "Adult (30-39)",
          "Adult (30-39)",
          "Senior (50+)",
          "Middle Age (40-49)",
          "Young Adult (20-29)",
          "Senior (50+)",
          "Senior (50+)",
          "Senior (50+)",
          "Young Adult (20-29)",
          "Young Adult (20-29)",
          "Adult (30-39)",
          "Middle Age (40-49)",
          "Adult (30-39)",
          "Adult (30-39)",
          "Senior (50+)",
          "Young Adult (20-29)",
          "Adult (30-39)",
          "Middle Age (40-49)",
          "Teen (0-19)",
          "Young Adult (20-29)",
          "Middle Age (40-49)",
          "Teen (0-19)",
          "Middle Age (40-49)",
          "Teen (0-19)",
          "Young Adult (20-29)",
          "Middle Age (40-49)",
          "Senior (50+)",
          "Adult (30-39)",
          "Young Adult (20-29)",
          "Adult (30-39)",
          "Adult (30-39)",
          "Young Adult (20-29)",
          "Young Adult (20-29)",
          "Adult (30-39)",
          "Young Adult (20-29)",
          "Teen (0-19)",
          "Young Adult (20-29)",
          "Senior (50+)",
          "Adult (30-39)",
          "Adult (30-39)",
          "Young Adult (20-29)",
          "Young Adult (20-29)",
          "Young Adult (20-29)",
          "Middle Age (40-49)",
          "Senior (50+)",
          "Teen (0-19)",
          "Senior (50+)",
          "Senior (50+)",
          "Middle Age (40-49)",
          "Senior (50+)",
          "Young Adult (20-29)",
          "Senior (50+)",
          "Young Adult (20-29)",
          "Young Adult (20-29)",
          "Senior (50+)",
          "Senior (50+)",
          "Adult (30-39)",
          "Senior (50+)",
          "Senior (50+)",
          "Young Adult (20-29)",
          "Senior (50+)",
          "Senior (50+)",
          "Young Adult (20-29)",
          "Adult (30-39)",
          "Adult (30-39)",
          "Young Adult (20-29)",
          "Young Adult (20-29)",
          "Adult (30-39)",
          "Senior (50+)",
          "Young Adult (20-29)",
          "Middle Age (40-49)",
          "Young Adult (20-29)",
          "Adult (30-39)",
          "Young Adult (20-29)",
          "Young Adult (20-29)",
          "Middle Age (40-49)",
          "Middle Age (40-49)",
          "Adult (30-39)",
          "Middle Age (40-49)",
          "Adult (30-39)",
          "Young Adult (20-29)",
          "Middle Age (40-49)",
          "Middle Age (40-49)",
          "Adult (30-39)",
          "Middle Age (40-49)",
          "Young Adult (20-29)",
          "Young Adult (20-29)",
          "Middle Age (40-49)",
          "Middle Age (40-49)",
          "Adult (30-39)",
          "Senior (50+)",
          "Adult (30-39)",
          "Young Adult (20-29)",
          "Senior (50+)",
          "Young Adult (20-29)",
          "Adult (30-39)",
          "Adult (30-39)",
          "Adult (30-39)",
          "Adult (30-39)",
          "Senior (50+)",
          "Young Adult (20-29)",
          "Young Adult (20-29)",
          "Middle Age (40-49)",
          "Adult (30-39)",
          "Senior (50+)",
          "Middle Age (40-49)",
          "Middle Age (40-49)",
          "Middle Age (40-49)",
          "Adult (30-39)",
          "Adult (30-39)",
          "Adult (30-39)",
          "Middle Age (40-49)",
          "Senior (50+)",
          "Adult (30-39)",
          "Middle Age (40-49)",
          "Middle Age (40-49)",
          "Senior (50+)",
          "Middle Age (40-49)",
          "Teen (0-19)",
          "Middle Age (40-49)",
          "Senior (50+)",
          "Adult (30-39)",
          "Young Adult (20-29)",
          "Adult (30-39)",
          "Young Adult (20-29)",
          "Senior (50+)",
          "Adult (30-39)",
          "Young Adult (20-29)",
          "Senior (50+)",
          "Young Adult (20-29)",
          "Young Adult (20-29)",
          "Teen (0-19)",
          "Senior (50+)",
          "Adult (30-39)",
          "Young Adult (20-29)",
          "Middle Age (40-49)",
          "Young Adult (20-29)",
          "Middle Age (40-49)",
          "Young Adult (20-29)",
          "Young Adult (20-29)",
          "Young Adult (20-29)",
          "Senior (50+)",
          "Middle Age (40-49)",
          "Adult (30-39)",
          "Teen (0-19)",
          "Teen (0-19)",
          "Young Adult (20-29)",
          "Young Adult (20-29)",
          "Adult (30-39)",
          "Adult (30-39)",
          "Middle Age (40-49)",
          "Middle Age (40-49)",
          "Senior (50+)",
          "Young Adult (20-29)",
          "Adult (30-39)",
          "Adult (30-39)",
          "Middle Age (40-49)",
          "Adult (30-39)",
          "Senior (50+)",
          "Middle Age (40-49)",
          "Middle Age (40-49)",
          "Senior (50+)",
          "Adult (30-39)",
          "Young Adult (20-29)",
          "Young Adult (20-29)",
          "Young Adult (20-29)",
          "Senior (50+)",
          "Teen (0-19)",
          "Young Adult (20-29)",
          "Young Adult (20-29)",
          "Senior (50+)",
          "Young Adult (20-29)",
          "Senior (50+)",
          "Young Adult (20-29)",
          "Young Adult (20-29)",
          "Young Adult (20-29)",
          "Young Adult (20-29)",
          "Young Adult (20-29)",
          "Young Adult (20-29)",
          "Young Adult (20-29)",
          "Young Adult (20-29)",
          "Senior (50+)",
          "Young Adult (20-29)",
          "Adult (30-39)",
          "Middle Age (40-49)",
          "Young Adult (20-29)",
          "Teen (0-19)",
          "Young Adult (20-29)",
          "Senior (50+)",
          "Adult (30-39)",
          "Adult (30-39)",
          "Adult (30-39)",
          "Adult (30-39)",
          "Middle Age (40-49)",
          "Senior (50+)",
          "Middle Age (40-49)",
          "Senior (50+)",
          "Young Adult (20-29)",
          "Senior (50+)",
          "Middle Age (40-49)",
          "Adult (30-39)",
          "Adult (30-39)",
          "Senior (50+)",
          "Young Adult (20-29)",
          "Teen (0-19)",
          "Young Adult (20-29)",
          "Senior (50+)",
          "Senior (50+)",
          "Middle Age (40-49)",
          "Adult (30-39)",
          "Young Adult (20-29)",
          "Middle Age (40-49)",
          "Adult (30-39)",
          "Senior (50+)",
          "Adult (30-39)",
          "Adult (30-39)",
          "Middle Age (40-49)",
          "Young Adult (20-29)",
          "Adult (30-39)",
          "Young Adult (20-29)",
          "Young Adult (20-29)",
          "Adult (30-39)",
          "Young Adult (20-29)",
          "Adult (30-39)",
          "Adult (30-39)",
          "Young Adult (20-29)",
          "Senior (50+)",
          "Young Adult (20-29)",
          "Young Adult (20-29)",
          "Young Adult (20-29)",
          "Young Adult (20-29)",
          "Senior (50+)",
          "Young Adult (20-29)",
          "Young Adult (20-29)",
          "Middle Age (40-49)",
          "Middle Age (40-49)",
          "Young Adult (20-29)",
          "Young Adult (20-29)",
          "Young Adult (20-29)",
          "Adult (30-39)",
          "Young Adult (20-29)",
          "Middle Age (40-49)",
          "Adult (30-39)",
          "Adult (30-39)",
          "Young Adult (20-29)",
          "Young Adult (20-29)",
          "Adult (30-39)",
          "Adult (30-39)",
          "Middle Age (40-49)",
          "Adult (30-39)",
          "Adult (30-39)",
          "Adult (30-39)",
          "Middle Age (40-49)",
          "Adult (30-39)",
          "Senior (50+)",
          "Young Adult (20-29)",
          "Adult (30-39)",
          "Middle Age (40-49)",
          "Young Adult (20-29)",
          "Young Adult (20-29)",
          "Young Adult (20-29)",
          "Young Adult (20-29)",
          "Middle Age (40-49)",
          "Young Adult (20-29)",
          "Adult (30-39)",
          "Middle Age (40-49)",
          "Adult (30-39)",
          "Adult (30-39)",
          "Adult (30-39)",
          "Young Adult (20-29)",
          "Young Adult (20-29)",
          "Young Adult (20-29)",
          "Adult (30-39)",
          "Middle Age (40-49)",
          "Middle Age (40-49)",
          "Middle Age (40-49)",
          "Adult (30-39)",
          "Adult (30-39)",
          "Adult (30-39)",
          "Adult (30-39)",
          "Senior (50+)",
          "Middle Age (40-49)",
          "Adult (30-39)",
          "Adult (30-39)",
          "Adult (30-39)",
          "Young Adult (20-29)",
          "Middle Age (40-49)",
          "Adult (30-39)",
          "Young Adult (20-29)",
          "Senior (50+)",
          "Young Adult (20-29)",
          "Middle Age (40-49)",
          "Middle Age (40-49)",
          "Young Adult (20-29)",
          "Senior (50+)",
          "Young Adult (20-29)",
          "Young Adult (20-29)",
          "Young Adult (20-29)",
          "Young Adult (20-29)",
          "Adult (30-39)",
          "Adult (30-39)",
          "Young Adult (20-29)",
          "Middle Age (40-49)",
          "Young Adult (20-29)",
          "Teen (0-19)",
          "Senior (50+)",
          "Young Adult (20-29)",
          "Adult (30-39)",
          "Young Adult (20-29)",
          "Middle Age (40-49)",
          "Young Adult (20-29)",
          "Adult (30-39)",
          "Senior (50+)",
          "Adult (30-39)",
          "Adult (30-39)",
          "Middle Age (40-49)",
          "Middle Age (40-49)",
          "Young Adult (20-29)",
          "Teen (0-19)",
          "Young Adult (20-29)",
          "Young Adult (20-29)",
          "Middle Age (40-49)",
          "Young Adult (20-29)",
          "Young Adult (20-29)",
          "Young Adult (20-29)",
          "Teen (0-19)",
          "Young Adult (20-29)",
          "Young Adult (20-29)",
          "Adult (30-39)",
          "Senior (50+)",
          "Adult (30-39)",
          "Young Adult (20-29)",
          "Middle Age (40-49)",
          "Young Adult (20-29)",
          "Middle Age (40-49)",
          "Middle Age (40-49)",
          "Senior (50+)",
          "Young Adult (20-29)",
          "Middle Age (40-49)",
          "Teen (0-19)",
          "Young Adult (20-29)",
          "Adult (30-39)",
          "Adult (30-39)",
          "Teen (0-19)",
          "Young Adult (20-29)",
          "Adult (30-39)",
          "Adult (30-39)",
          "Adult (30-39)",
          "Young Adult (20-29)",
          "Adult (30-39)",
          "Teen (0-19)",
          "Young Adult (20-29)",
          "Young Adult (20-29)",
          "Adult (30-39)",
          "Adult (30-39)",
          "Adult (30-39)",
          "Young Adult (20-29)",
          "Young Adult (20-29)",
          "Young Adult (20-29)",
          "Young Adult (20-29)",
          "Teen (0-19)",
          "Teen (0-19)",
          "Middle Age (40-49)",
          "Middle Age (40-49)",
          "Adult (30-39)",
          "Adult (30-39)",
          "Senior (50+)",
          "Adult (30-39)",
          "Teen (0-19)",
          "Adult (30-39)",
          "Middle Age (40-49)",
          "Middle Age (40-49)",
          "Young Adult (20-29)",
          "Young Adult (20-29)",
          "Middle Age (40-49)",
          "Young Adult (20-29)",
          "Young Adult (20-29)",
          "Young Adult (20-29)",
          "Young Adult (20-29)",
          "Adult (30-39)",
          "Adult (30-39)",
          "Adult (30-39)",
          "Middle Age (40-49)",
          "Young Adult (20-29)",
          "Young Adult (20-29)",
          "Young Adult (20-29)",
          "Adult (30-39)",
          "Adult (30-39)",
          "Young Adult (20-29)",
          "Young Adult (20-29)",
          "Young Adult (20-29)",
          "Young Adult (20-29)",
          "Young Adult (20-29)",
          "Adult (30-39)",
          "Teen (0-19)",
          "Young Adult (20-29)",
          "Adult (30-39)",
          "Young Adult (20-29)",
          "Senior (50+)",
          "Middle Age (40-49)",
          "Young Adult (20-29)",
          "Adult (30-39)",
          "Adult (30-39)",
          "Middle Age (40-49)",
          "Young Adult (20-29)",
          "Adult (30-39)",
          "Middle Age (40-49)",
          "Adult (30-39)",
          "Young Adult (20-29)",
          "Senior (50+)",
          "Teen (0-19)",
          "Adult (30-39)",
          "Adult (30-39)",
          "Adult (30-39)",
          "Young Adult (20-29)",
          "Middle Age (40-49)",
          "Adult (30-39)",
          "Young Adult (20-29)",
          "Middle Age (40-49)",
          "Young Adult (20-29)",
          "Young Adult (20-29)",
          "Adult (30-39)",
          "Middle Age (40-49)",
          "Senior (50+)",
          "Middle Age (40-49)",
          "Young Adult (20-29)",
          "Middle Age (40-49)",
          "Adult (30-39)",
          "Adult (30-39)",
          "Senior (50+)",
          "Senior (50+)",
          "Young Adult (20-29)",
          "Senior (50+)",
          "Young Adult (20-29)",
          "Senior (50+)",
          "Young Adult (20-29)",
          "Adult (30-39)",
          "Adult (30-39)",
          "Young Adult (20-29)",
          "Middle Age (40-49)",
          "Adult (30-39)",
          "Senior (50+)",
          "Middle Age (40-49)",
          "Senior (50+)",
          "Adult (30-39)",
          "Adult (30-39)",
          "Young Adult (20-29)",
          "Young Adult (20-29)",
          "Middle Age (40-49)",
          "Young Adult (20-29)",
          "Young Adult (20-29)",
          "Adult (30-39)",
          "Young Adult (20-29)",
          "Middle Age (40-49)",
          "Young Adult (20-29)",
          "Middle Age (40-49)",
          "Senior (50+)",
          "Young Adult (20-29)",
          "Middle Age (40-49)",
          "Young Adult (20-29)",
          "Adult (30-39)",
          "Senior (50+)",
          "Young Adult (20-29)",
          "Adult (30-39)",
          "Middle Age (40-49)",
          "Young Adult (20-29)",
          "Teen (0-19)",
          "Adult (30-39)",
          "Senior (50+)",
          "Middle Age (40-49)",
          "Middle Age (40-49)",
          "Teen (0-19)",
          "Middle Age (40-49)",
          "Young Adult (20-29)",
          "Young Adult (20-29)",
          "Adult (30-39)",
          "Adult (30-39)",
          "Senior (50+)",
          "Adult (30-39)",
          "Adult (30-39)",
          "Middle Age (40-49)",
          "Teen (0-19)",
          "Adult (30-39)",
          "Senior (50+)",
          "Adult (30-39)",
          "Adult (30-39)",
          "Adult (30-39)",
          "Adult (30-39)",
          "Adult (30-39)",
          "Adult (30-39)",
          "Adult (30-39)",
          "Young Adult (20-29)",
          "Adult (30-39)",
          "Young Adult (20-29)",
          "Teen (0-19)",
          "Teen (0-19)",
          "Adult (30-39)",
          "Middle Age (40-49)",
          "Adult (30-39)",
          "Young Adult (20-29)",
          "Middle Age (40-49)",
          "Teen (0-19)",
          "Young Adult (20-29)",
          "Middle Age (40-49)",
          "Senior (50+)",
          "Adult (30-39)",
          "Young Adult (20-29)",
          "Senior (50+)",
          "Adult (30-39)",
          "Young Adult (20-29)",
          "Senior (50+)",
          "Teen (0-19)",
          "Adult (30-39)",
          "Adult (30-39)",
          "Adult (30-39)",
          "Young Adult (20-29)",
          "Senior (50+)",
          "Young Adult (20-29)",
          "Senior (50+)",
          "Adult (30-39)",
          "Senior (50+)",
          "Senior (50+)",
          "Senior (50+)",
          "Adult (30-39)",
          "Senior (50+)",
          "Adult (30-39)",
          "Adult (30-39)",
          "Adult (30-39)",
          "Middle Age (40-49)",
          "Middle Age (40-49)",
          "Middle Age (40-49)",
          "Adult (30-39)",
          "Young Adult (20-29)",
          "Adult (30-39)",
          "Senior (50+)",
          "Adult (30-39)",
          "Adult (30-39)",
          "Middle Age (40-49)",
          "Senior (50+)",
          "Young Adult (20-29)",
          "Senior (50+)",
          "Middle Age (40-49)",
          "Young Adult (20-29)",
          "Young Adult (20-29)",
          "Teen (0-19)",
          "Adult (30-39)",
          "Young Adult (20-29)",
          "Adult (30-39)",
          "Middle Age (40-49)",
          "Middle Age (40-49)",
          "Senior (50+)",
          "Young Adult (20-29)",
          "Young Adult (20-29)",
          "Young Adult (20-29)",
          "Young Adult (20-29)",
          "Young Adult (20-29)",
          "Middle Age (40-49)",
          "Adult (30-39)",
          "Adult (30-39)",
          "Senior (50+)",
          "Teen (0-19)",
          "Senior (50+)",
          "Adult (30-39)",
          "Middle Age (40-49)",
          "Adult (30-39)",
          "Young Adult (20-29)",
          "Young Adult (20-29)",
          "Adult (30-39)",
          "Young Adult (20-29)",
          "Middle Age (40-49)",
          "Young Adult (20-29)",
          "Adult (30-39)",
          "Young Adult (20-29)",
          "Senior (50+)",
          "Young Adult (20-29)",
          "Senior (50+)",
          "Young Adult (20-29)",
          "Senior (50+)",
          "Adult (30-39)",
          "Adult (30-39)",
          "Middle Age (40-49)",
          "Adult (30-39)",
          "Young Adult (20-29)",
          "Teen (0-19)",
          "Young Adult (20-29)",
          "Young Adult (20-29)",
          "Adult (30-39)",
          "Adult (30-39)",
          "Adult (30-39)",
          "Adult (30-39)",
          "Middle Age (40-49)",
          "Adult (30-39)",
          "Adult (30-39)",
          "Young Adult (20-29)",
          "Senior (50+)",
          "Senior (50+)",
          "Adult (30-39)",
          "Senior (50+)",
          "Young Adult (20-29)",
          "Young Adult (20-29)",
          "Adult (30-39)",
          "Adult (30-39)",
          "Young Adult (20-29)",
          "Young Adult (20-29)",
          "Senior (50+)",
          "Adult (30-39)",
          "Young Adult (20-29)",
          "Adult (30-39)",
          "Adult (30-39)",
          "Adult (30-39)",
          "Young Adult (20-29)",
          "Senior (50+)",
          "Young Adult (20-29)",
          "Senior (50+)",
          "Senior (50+)",
          "Adult (30-39)",
          "Young Adult (20-29)",
          "Adult (30-39)",
          "Senior (50+)",
          "Young Adult (20-29)",
          "Middle Age (40-49)",
          "Young Adult (20-29)",
          "Teen (0-19)",
          "Adult (30-39)",
          "Adult (30-39)",
          "Middle Age (40-49)",
          "Adult (30-39)",
          "Young Adult (20-29)",
          "Young Adult (20-29)",
          "Young Adult (20-29)",
          "Young Adult (20-29)",
          "Young Adult (20-29)",
          "Young Adult (20-29)",
          "Senior (50+)",
          "Adult (30-39)",
          "Teen (0-19)",
          "Adult (30-39)",
          "Young Adult (20-29)",
          "Young Adult (20-29)",
          "Adult (30-39)",
          "Adult (30-39)",
          "Young Adult (20-29)",
          "Young Adult (20-29)",
          "Middle Age (40-49)",
          "Young Adult (20-29)",
          "Young Adult (20-29)",
          "Middle Age (40-49)",
          "Middle Age (40-49)",
          "Teen (0-19)",
          "Adult (30-39)",
          "Adult (30-39)",
          "Young Adult (20-29)",
          "Middle Age (40-49)",
          "Senior (50+)",
          "Middle Age (40-49)",
          "Middle Age (40-49)",
          "Young Adult (20-29)",
          "Adult (30-39)",
          "Middle Age (40-49)",
          "Adult (30-39)",
          "Young Adult (20-29)",
          "Young Adult (20-29)",
          "Senior (50+)",
          "Young Adult (20-29)",
          "Middle Age (40-49)",
          "Middle Age (40-49)",
          "Adult (30-39)",
          "Adult (30-39)",
          "Adult (30-39)",
          "Young Adult (20-29)",
          "Young Adult (20-29)",
          "Young Adult (20-29)",
          "Middle Age (40-49)",
          "Young Adult (20-29)",
          "Young Adult (20-29)",
          "Senior (50+)",
          "Middle Age (40-49)",
          "Senior (50+)",
          "Middle Age (40-49)",
          "Adult (30-39)",
          "Young Adult (20-29)",
          "Adult (30-39)",
          "Young Adult (20-29)",
          "Young Adult (20-29)",
          "Young Adult (20-29)",
          "Adult (30-39)",
          "Young Adult (20-29)",
          "Young Adult (20-29)",
          "Senior (50+)",
          "Adult (30-39)",
          "Teen (0-19)",
          "Adult (30-39)",
          "Young Adult (20-29)",
          "Senior (50+)",
          "Young Adult (20-29)",
          "Young Adult (20-29)",
          "Adult (30-39)",
          "Middle Age (40-49)",
          "Adult (30-39)",
          "Teen (0-19)",
          "Middle Age (40-49)",
          "Middle Age (40-49)",
          "Middle Age (40-49)",
          "Senior (50+)",
          "Senior (50+)",
          "Young Adult (20-29)",
          "Adult (30-39)",
          "Adult (30-39)",
          "Senior (50+)",
          "Young Adult (20-29)",
          "Adult (30-39)",
          "Adult (30-39)",
          "Young Adult (20-29)",
          "Adult (30-39)",
          "Adult (30-39)",
          "Young Adult (20-29)",
          "Adult (30-39)",
          "Young Adult (20-29)",
          "Young Adult (20-29)",
          "Senior (50+)",
          "Middle Age (40-49)",
          "Middle Age (40-49)",
          "Middle Age (40-49)",
          "Adult (30-39)",
          "Young Adult (20-29)",
          "Young Adult (20-29)",
          "Middle Age (40-49)",
          "Adult (30-39)",
          "Adult (30-39)",
          "Teen (0-19)",
          "Middle Age (40-49)",
          "Middle Age (40-49)",
          "Young Adult (20-29)",
          "Adult (30-39)",
          "Young Adult (20-29)",
          "Young Adult (20-29)",
          "Young Adult (20-29)",
          "Adult (30-39)",
          "Adult (30-39)",
          "Middle Age (40-49)",
          "Senior (50+)",
          "Adult (30-39)",
          "Middle Age (40-49)",
          "Middle Age (40-49)",
          "Young Adult (20-29)",
          "Middle Age (40-49)",
          "Adult (30-39)",
          "Young Adult (20-29)",
          "Adult (30-39)",
          "Young Adult (20-29)",
          "Middle Age (40-49)",
          "Senior (50+)",
          "Young Adult (20-29)",
          "Senior (50+)",
          "Middle Age (40-49)",
          "Young Adult (20-29)",
          "Adult (30-39)",
          "Teen (0-19)",
          "Adult (30-39)",
          "Teen (0-19)",
          "Adult (30-39)",
          "Middle Age (40-49)",
          "Middle Age (40-49)",
          "Teen (0-19)",
          "Young Adult (20-29)",
          "Teen (0-19)",
          "Young Adult (20-29)",
          "Adult (30-39)",
          "Senior (50+)",
          "Middle Age (40-49)",
          "Young Adult (20-29)",
          "Young Adult (20-29)",
          "Adult (30-39)",
          "Adult (30-39)",
          "Teen (0-19)",
          "Adult (30-39)",
          "Adult (30-39)",
          "Adult (30-39)",
          "Middle Age (40-49)",
          "Young Adult (20-29)",
          "Middle Age (40-49)",
          "Young Adult (20-29)",
          "Young Adult (20-29)",
          "Adult (30-39)",
          "Middle Age (40-49)",
          "Young Adult (20-29)",
          "Adult (30-39)",
          "Young Adult (20-29)",
          "Adult (30-39)",
          "Adult (30-39)",
          "Teen (0-19)",
          "Middle Age (40-49)",
          "Senior (50+)",
          "Adult (30-39)",
          "Teen (0-19)",
          "Middle Age (40-49)",
          "Teen (0-19)",
          "Young Adult (20-29)",
          "Senior (50+)",
          "Young Adult (20-29)",
          "Young Adult (20-29)",
          "Teen (0-19)",
          "Middle Age (40-49)",
          "Young Adult (20-29)",
          "Senior (50+)",
          "Senior (50+)",
          "Young Adult (20-29)",
          "Senior (50+)",
          "Young Adult (20-29)",
          "Young Adult (20-29)",
          "Adult (30-39)",
          "Young Adult (20-29)",
          "Adult (30-39)",
          "Middle Age (40-49)",
          "Middle Age (40-49)",
          "Young Adult (20-29)",
          "Young Adult (20-29)",
          "Teen (0-19)",
          "Adult (30-39)",
          "Middle Age (40-49)",
          "Adult (30-39)",
          "Adult (30-39)",
          "Young Adult (20-29)",
          "Adult (30-39)",
          "Middle Age (40-49)",
          "Young Adult (20-29)",
          "Young Adult (20-29)",
          "Adult (30-39)",
          "Teen (0-19)",
          "Adult (30-39)",
          "Young Adult (20-29)",
          "Young Adult (20-29)",
          "Adult (30-39)",
          "Teen (0-19)",
          "Adult (30-39)",
          "Adult (30-39)",
          "Middle Age (40-49)",
          "Adult (30-39)",
          "Middle Age (40-49)",
          "Adult (30-39)",
          "Adult (30-39)",
          "Adult (30-39)",
          "Young Adult (20-29)",
          "Young Adult (20-29)",
          "Teen (0-19)",
          "Young Adult (20-29)",
          "Middle Age (40-49)",
          "Senior (50+)",
          "Young Adult (20-29)",
          "Adult (30-39)",
          "Adult (30-39)",
          "Adult (30-39)",
          "Young Adult (20-29)",
          "Adult (30-39)",
          "Middle Age (40-49)",
          "Senior (50+)",
          "Adult (30-39)",
          "Teen (0-19)",
          "Young Adult (20-29)",
          "Adult (30-39)",
          "Adult (30-39)",
          "Middle Age (40-49)",
          "Senior (50+)",
          "Adult (30-39)",
          "Adult (30-39)",
          "Adult (30-39)",
          "Adult (30-39)",
          "Adult (30-39)",
          "Adult (30-39)",
          "Adult (30-39)",
          "Senior (50+)",
          "Adult (30-39)",
          "Young Adult (20-29)",
          "Young Adult (20-29)",
          "Young Adult (20-29)",
          "Adult (30-39)",
          "Young Adult (20-29)",
          "Young Adult (20-29)",
          "Young Adult (20-29)",
          "Senior (50+)",
          "Adult (30-39)",
          "Young Adult (20-29)",
          "Young Adult (20-29)",
          "Adult (30-39)",
          "Young Adult (20-29)",
          "Young Adult (20-29)",
          "Adult (30-39)",
          "Young Adult (20-29)",
          "Teen (0-19)",
          "Young Adult (20-29)",
          "Adult (30-39)",
          "Young Adult (20-29)",
          "Adult (30-39)",
          "Young Adult (20-29)",
          "Adult (30-39)",
          "Adult (30-39)",
          "Adult (30-39)",
          "Senior (50+)",
          "Adult (30-39)",
          "Adult (30-39)",
          "Young Adult (20-29)",
          "Middle Age (40-49)",
          "Middle Age (40-49)",
          "Teen (0-19)",
          "Young Adult (20-29)",
          "Adult (30-39)",
          "Adult (30-39)",
          "Adult (30-39)",
          "Young Adult (20-29)",
          "Young Adult (20-29)",
          "Young Adult (20-29)",
          "Teen (0-19)",
          "Adult (30-39)",
          "Young Adult (20-29)",
          "Middle Age (40-49)",
          "Teen (0-19)",
          "Young Adult (20-29)",
          "Teen (0-19)",
          "Young Adult (20-29)",
          "Adult (30-39)",
          "Young Adult (20-29)",
          "Young Adult (20-29)",
          "Adult (30-39)",
          "Adult (30-39)",
          "Young Adult (20-29)",
          "Adult (30-39)",
          "Adult (30-39)",
          "Adult (30-39)",
          "Young Adult (20-29)",
          "Middle Age (40-49)",
          "Middle Age (40-49)",
          "Adult (30-39)",
          "Teen (0-19)",
          "Adult (30-39)",
          "Young Adult (20-29)",
          "Adult (30-39)",
          "Young Adult (20-29)",
          "Young Adult (20-29)",
          "Teen (0-19)",
          "Senior (50+)",
          "Adult (30-39)",
          "Young Adult (20-29)",
          "Adult (30-39)",
          "Adult (30-39)",
          "Young Adult (20-29)",
          "Adult (30-39)",
          "Young Adult (20-29)",
          "Adult (30-39)",
          "Adult (30-39)",
          "Teen (0-19)",
          "Middle Age (40-49)",
          "Young Adult (20-29)",
          "Young Adult (20-29)",
          "Young Adult (20-29)",
          "Middle Age (40-49)",
          "Middle Age (40-49)",
          "Young Adult (20-29)",
          "Adult (30-39)",
          "Adult (30-39)",
          "Senior (50+)",
          "Adult (30-39)",
          "Young Adult (20-29)",
          "Young Adult (20-29)",
          "Adult (30-39)",
          "Senior (50+)",
          "Middle Age (40-49)",
          "Young Adult (20-29)",
          "Young Adult (20-29)",
          "Adult (30-39)",
          "Young Adult (20-29)",
          "Middle Age (40-49)",
          "Young Adult (20-29)",
          "Young Adult (20-29)",
          "Young Adult (20-29)",
          "Adult (30-39)",
          "Young Adult (20-29)",
          "Young Adult (20-29)",
          "Senior (50+)",
          "Adult (30-39)",
          "Young Adult (20-29)",
          "Teen (0-19)",
          "Adult (30-39)",
          "Middle Age (40-49)",
          "Teen (0-19)",
          "Adult (30-39)",
          "Young Adult (20-29)",
          "Young Adult (20-29)",
          "Young Adult (20-29)",
          "Young Adult (20-29)",
          "Middle Age (40-49)",
          "Senior (50+)",
          "Young Adult (20-29)",
          "Young Adult (20-29)",
          "Young Adult (20-29)",
          "Teen (0-19)",
          "Young Adult (20-29)",
          "Young Adult (20-29)",
          "Young Adult (20-29)",
          "Teen (0-19)",
          "Young Adult (20-29)",
          "Adult (30-39)",
          "Adult (30-39)",
          "Senior (50+)",
          "Teen (0-19)",
          "Adult (30-39)",
          "Young Adult (20-29)",
          "Senior (50+)",
          "Young Adult (20-29)",
          "Adult (30-39)",
          "Adult (30-39)",
          "Young Adult (20-29)",
          "Young Adult (20-29)",
          "Adult (30-39)",
          "Young Adult (20-29)",
          "Young Adult (20-29)",
          "Adult (30-39)",
          "Young Adult (20-29)",
          "Middle Age (40-49)",
          "Young Adult (20-29)",
          "Middle Age (40-49)",
          "Young Adult (20-29)",
          "Teen (0-19)",
          "Adult (30-39)",
          "Middle Age (40-49)",
          "Middle Age (40-49)",
          "Young Adult (20-29)",
          "Senior (50+)",
          "Adult (30-39)",
          "Middle Age (40-49)",
          "Senior (50+)",
          "Middle Age (40-49)",
          "Adult (30-39)",
          "Young Adult (20-29)",
          "Adult (30-39)",
          "Adult (30-39)",
          "Adult (30-39)",
          "Middle Age (40-49)",
          "Young Adult (20-29)",
          "Adult (30-39)",
          "Young Adult (20-29)",
          "Young Adult (20-29)",
          "Adult (30-39)",
          "Young Adult (20-29)",
          "Adult (30-39)",
          "Middle Age (40-49)",
          "Young Adult (20-29)",
          "Senior (50+)",
          "Middle Age (40-49)",
          "Adult (30-39)",
          "Adult (30-39)",
          "Senior (50+)",
          "Adult (30-39)",
          "Adult (30-39)",
          "Young Adult (20-29)",
          "Senior (50+)",
          "Senior (50+)",
          "Adult (30-39)",
          "Young Adult (20-29)",
          "Middle Age (40-49)",
          "Middle Age (40-49)",
          "Young Adult (20-29)",
          "Middle Age (40-49)",
          "Young Adult (20-29)",
          "Teen (0-19)",
          "Young Adult (20-29)",
          "Teen (0-19)",
          "Middle Age (40-49)",
          "Adult (30-39)",
          "Middle Age (40-49)",
          "Senior (50+)",
          "Adult (30-39)",
          "Young Adult (20-29)",
          "Young Adult (20-29)",
          "Young Adult (20-29)",
          "Senior (50+)",
          "Adult (30-39)",
          "Senior (50+)",
          "Middle Age (40-49)",
          "Young Adult (20-29)",
          "Adult (30-39)",
          "Young Adult (20-29)",
          "Adult (30-39)",
          "Middle Age (40-49)",
          "Adult (30-39)",
          "Adult (30-39)",
          "Senior (50+)",
          "Young Adult (20-29)",
          "Adult (30-39)",
          "Senior (50+)",
          "Adult (30-39)",
          "Adult (30-39)",
          "Senior (50+)",
          "Adult (30-39)",
          "Adult (30-39)",
          "Young Adult (20-29)",
          "Adult (30-39)",
          "Adult (30-39)",
          "Teen (0-19)",
          "Adult (30-39)",
          "Adult (30-39)",
          "Senior (50+)",
          "Young Adult (20-29)",
          "Middle Age (40-49)",
          "Adult (30-39)",
          "Adult (30-39)",
          "Young Adult (20-29)",
          "Teen (0-19)",
          "Adult (30-39)",
          "Senior (50+)",
          "Young Adult (20-29)",
          "Adult (30-39)",
          "Adult (30-39)",
          "Adult (30-39)",
          "Senior (50+)",
          "Adult (30-39)",
          "Senior (50+)",
          "Young Adult (20-29)",
          "Middle Age (40-49)",
          "Adult (30-39)",
          "Adult (30-39)",
          "Adult (30-39)",
          "Teen (0-19)",
          "Teen (0-19)",
          "Adult (30-39)",
          "Adult (30-39)",
          "Young Adult (20-29)",
          "Young Adult (20-29)",
          "Teen (0-19)",
          "Adult (30-39)",
          "Young Adult (20-29)",
          "Young Adult (20-29)",
          "Adult (30-39)",
          "Young Adult (20-29)",
          "Adult (30-39)",
          "Young Adult (20-29)",
          "Senior (50+)",
          "Young Adult (20-29)",
          "Teen (0-19)",
          "Adult (30-39)",
          "Adult (30-39)",
          "Adult (30-39)",
          "Young Adult (20-29)",
          "Adult (30-39)",
          "Young Adult (20-29)",
          "Young Adult (20-29)",
          "Teen (0-19)",
          "Young Adult (20-29)",
          "Adult (30-39)",
          "Young Adult (20-29)",
          "Young Adult (20-29)",
          "Adult (30-39)",
          "Young Adult (20-29)",
          "Adult (30-39)",
          "Young Adult (20-29)",
          "Adult (30-39)",
          "Young Adult (20-29)",
          "Senior (50+)",
          "Teen (0-19)",
          "Young Adult (20-29)",
          "Adult (30-39)",
          "Young Adult (20-29)",
          "Adult (30-39)",
          "Adult (30-39)",
          "Adult (30-39)",
          "Young Adult (20-29)",
          "Young Adult (20-29)",
          "Adult (30-39)",
          "Young Adult (20-29)",
          "Teen (0-19)",
          "Adult (30-39)",
          "Young Adult (20-29)",
          "Adult (30-39)",
          "Middle Age (40-49)",
          "Middle Age (40-49)",
          "Adult (30-39)",
          "Young Adult (20-29)",
          "Adult (30-39)",
          "Adult (30-39)",
          "Young Adult (20-29)",
          "Adult (30-39)",
          "Adult (30-39)",
          "Young Adult (20-29)",
          "Middle Age (40-49)",
          "Adult (30-39)",
          "Adult (30-39)",
          "Middle Age (40-49)",
          "Adult (30-39)",
          "Young Adult (20-29)",
          "Young Adult (20-29)",
          "Adult (30-39)",
          "Young Adult (20-29)",
          "Adult (30-39)",
          "Adult (30-39)",
          "Young Adult (20-29)",
          "Middle Age (40-49)",
          "Adult (30-39)",
          "Senior (50+)",
          "Middle Age (40-49)",
          "Young Adult (20-29)",
          "Middle Age (40-49)",
          "Teen (0-19)",
          "Young Adult (20-29)",
          "Middle Age (40-49)",
          "Middle Age (40-49)",
          "Adult (30-39)",
          "Middle Age (40-49)",
          "Adult (30-39)",
          "Adult (30-39)",
          "Young Adult (20-29)",
          "Young Adult (20-29)",
          "Young Adult (20-29)",
          "Young Adult (20-29)",
          "Adult (30-39)",
          "Adult (30-39)",
          "Adult (30-39)",
          "Young Adult (20-29)",
          "Young Adult (20-29)",
          "Adult (30-39)",
          "Adult (30-39)",
          "Senior (50+)",
          "Adult (30-39)",
          "Senior (50+)",
          "Adult (30-39)",
          "Young Adult (20-29)",
          "Adult (30-39)",
          "Teen (0-19)",
          "Young Adult (20-29)",
          "Young Adult (20-29)",
          "Young Adult (20-29)",
          "Adult (30-39)",
          "Adult (30-39)",
          "Teen (0-19)",
          "Adult (30-39)",
          "Teen (0-19)",
          "Adult (30-39)",
          "Adult (30-39)",
          "Senior (50+)",
          "Adult (30-39)",
          "Young Adult (20-29)",
          "Young Adult (20-29)",
          "Senior (50+)",
          "Young Adult (20-29)",
          "Young Adult (20-29)",
          "Young Adult (20-29)",
          "Middle Age (40-49)",
          "Young Adult (20-29)",
          "Adult (30-39)",
          "Adult (30-39)",
          "Adult (30-39)",
          "Young Adult (20-29)",
          "Young Adult (20-29)",
          "Adult (30-39)",
          "Adult (30-39)",
          "Adult (30-39)",
          "Middle Age (40-49)",
          "Adult (30-39)",
          "Adult (30-39)",
          "Adult (30-39)",
          "Middle Age (40-49)",
          "Adult (30-39)",
          "Middle Age (40-49)",
          "Adult (30-39)",
          "Senior (50+)",
          "Middle Age (40-49)",
          "Young Adult (20-29)",
          "Adult (30-39)",
          "Adult (30-39)",
          "Adult (30-39)",
          "Adult (30-39)",
          "Adult (30-39)",
          "Adult (30-39)",
          "Adult (30-39)",
          "Middle Age (40-49)",
          "Young Adult (20-29)",
          "Young Adult (20-29)",
          "Senior (50+)",
          "Adult (30-39)",
          "Middle Age (40-49)",
          "Senior (50+)",
          "Teen (0-19)",
          "Young Adult (20-29)",
          "Young Adult (20-29)",
          "Young Adult (20-29)",
          "Senior (50+)",
          "Young Adult (20-29)",
          "Senior (50+)",
          "Young Adult (20-29)",
          "Young Adult (20-29)",
          "Middle Age (40-49)",
          "Teen (0-19)",
          "Young Adult (20-29)",
          "Middle Age (40-49)",
          "Middle Age (40-49)",
          "Middle Age (40-49)",
          "Adult (30-39)",
          "Adult (30-39)",
          "Adult (30-39)",
          "Middle Age (40-49)",
          "Adult (30-39)",
          "Young Adult (20-29)",
          "Teen (0-19)",
          "Teen (0-19)",
          "Adult (30-39)",
          "Senior (50+)",
          "Young Adult (20-29)",
          "Young Adult (20-29)",
          "Young Adult (20-29)",
          "Teen (0-19)",
          "Adult (30-39)",
          "Adult (30-39)",
          "Teen (0-19)",
          "Middle Age (40-49)",
          "Adult (30-39)",
          "Young Adult (20-29)",
          "Teen (0-19)",
          "Senior (50+)",
          "Middle Age (40-49)",
          "Middle Age (40-49)",
          "Senior (50+)",
          "Young Adult (20-29)",
          "Adult (30-39)",
          "Middle Age (40-49)",
          "Young Adult (20-29)",
          "Middle Age (40-49)",
          "Middle Age (40-49)",
          "Teen (0-19)",
          "Young Adult (20-29)",
          "Young Adult (20-29)",
          "Senior (50+)",
          "Middle Age (40-49)",
          "Senior (50+)",
          "Young Adult (20-29)",
          "Middle Age (40-49)",
          "Adult (30-39)",
          "Adult (30-39)",
          "Young Adult (20-29)",
          "Young Adult (20-29)",
          "Middle Age (40-49)",
          "Adult (30-39)",
          "Adult (30-39)",
          "Middle Age (40-49)",
          "Senior (50+)",
          "Adult (30-39)",
          "Young Adult (20-29)",
          "Adult (30-39)",
          "Senior (50+)",
          "Young Adult (20-29)",
          "Adult (30-39)",
          "Teen (0-19)",
          "Adult (30-39)",
          "Adult (30-39)",
          "Middle Age (40-49)",
          "Senior (50+)",
          "Middle Age (40-49)",
          "Adult (30-39)",
          "Adult (30-39)",
          "Young Adult (20-29)",
          "Middle Age (40-49)",
          "Senior (50+)",
          "Adult (30-39)",
          "Young Adult (20-29)",
          "Adult (30-39)",
          "Young Adult (20-29)",
          "Adult (30-39)",
          "Teen (0-19)",
          "Young Adult (20-29)",
          "Middle Age (40-49)",
          "Adult (30-39)",
          "Middle Age (40-49)",
          "Middle Age (40-49)",
          "Senior (50+)",
          "Adult (30-39)",
          "Middle Age (40-49)",
          "Middle Age (40-49)",
          "Young Adult (20-29)",
          "Middle Age (40-49)",
          "Teen (0-19)",
          "Teen (0-19)",
          "Adult (30-39)",
          "Adult (30-39)",
          "Senior (50+)",
          "Senior (50+)",
          "Adult (30-39)",
          "Young Adult (20-29)",
          "Senior (50+)",
          "Adult (30-39)",
          "Young Adult (20-29)",
          "Adult (30-39)",
          "Senior (50+)",
          "Young Adult (20-29)",
          "Young Adult (20-29)",
          "Young Adult (20-29)",
          "Adult (30-39)",
          "Young Adult (20-29)",
          "Young Adult (20-29)",
          "Adult (30-39)",
          "Middle Age (40-49)",
          "Young Adult (20-29)",
          "Young Adult (20-29)",
          "Young Adult (20-29)",
          "Adult (30-39)",
          "Adult (30-39)",
          "Young Adult (20-29)",
          "Middle Age (40-49)",
          "Young Adult (20-29)",
          "Young Adult (20-29)",
          "Young Adult (20-29)",
          "Adult (30-39)",
          "Adult (30-39)",
          "Young Adult (20-29)",
          "Senior (50+)",
          "Young Adult (20-29)",
          "Adult (30-39)",
          "Teen (0-19)",
          "Young Adult (20-29)",
          "Young Adult (20-29)",
          "Adult (30-39)",
          "Adult (30-39)",
          "Young Adult (20-29)",
          "Senior (50+)",
          "Teen (0-19)",
          "Teen (0-19)",
          "Adult (30-39)",
          "Adult (30-39)",
          "Middle Age (40-49)",
          "Adult (30-39)",
          "Adult (30-39)",
          "Teen (0-19)",
          "Adult (30-39)",
          "Young Adult (20-29)",
          "Young Adult (20-29)",
          "Young Adult (20-29)",
          "Teen (0-19)",
          "Adult (30-39)",
          "Middle Age (40-49)",
          "Young Adult (20-29)",
          "Middle Age (40-49)",
          "Adult (30-39)",
          "Adult (30-39)",
          "Middle Age (40-49)",
          "Adult (30-39)",
          "Adult (30-39)",
          "Middle Age (40-49)",
          "Teen (0-19)",
          "Middle Age (40-49)",
          "Young Adult (20-29)",
          "Young Adult (20-29)",
          "Adult (30-39)",
          "Young Adult (20-29)",
          "Senior (50+)",
          "Adult (30-39)",
          "Adult (30-39)",
          "Teen (0-19)",
          "Young Adult (20-29)",
          "Young Adult (20-29)",
          "Adult (30-39)",
          "Young Adult (20-29)",
          "Adult (30-39)",
          "Young Adult (20-29)",
          "Middle Age (40-49)",
          "Senior (50+)",
          "Senior (50+)",
          "Middle Age (40-49)",
          "Teen (0-19)",
          "Middle Age (40-49)",
          "Middle Age (40-49)",
          "Senior (50+)",
          "Middle Age (40-49)",
          "Senior (50+)",
          "Adult (30-39)",
          "Adult (30-39)",
          "Adult (30-39)",
          "Senior (50+)",
          "Teen (0-19)",
          "Middle Age (40-49)",
          "Senior (50+)",
          "Middle Age (40-49)",
          "Middle Age (40-49)",
          "Adult (30-39)",
          "Adult (30-39)",
          "Senior (50+)",
          "Young Adult (20-29)",
          "Young Adult (20-29)",
          "Adult (30-39)",
          "Middle Age (40-49)",
          "Teen (0-19)",
          "Adult (30-39)",
          "Senior (50+)",
          "Middle Age (40-49)",
          "Adult (30-39)",
          "Young Adult (20-29)",
          "Young Adult (20-29)",
          "Young Adult (20-29)",
          "Young Adult (20-29)",
          "Adult (30-39)",
          "Teen (0-19)",
          "Young Adult (20-29)",
          "Young Adult (20-29)",
          "Adult (30-39)",
          "Middle Age (40-49)",
          "Adult (30-39)",
          "Middle Age (40-49)",
          "Middle Age (40-49)",
          "Adult (30-39)",
          "Middle Age (40-49)",
          "Adult (30-39)",
          "Young Adult (20-29)",
          "Young Adult (20-29)",
          "Adult (30-39)",
          "Middle Age (40-49)",
          "Young Adult (20-29)",
          "Adult (30-39)",
          "Senior (50+)",
          "Adult (30-39)",
          "Adult (30-39)",
          "Young Adult (20-29)",
          "Adult (30-39)",
          "Adult (30-39)",
          "Adult (30-39)",
          "Adult (30-39)",
          "Young Adult (20-29)",
          "Adult (30-39)",
          "Adult (30-39)",
          "Adult (30-39)",
          "Adult (30-39)",
          "Young Adult (20-29)",
          "Middle Age (40-49)",
          "Middle Age (40-49)",
          "Young Adult (20-29)",
          "Young Adult (20-29)",
          "Adult (30-39)",
          "Young Adult (20-29)",
          "Adult (30-39)",
          "Middle Age (40-49)",
          "Adult (30-39)",
          "Young Adult (20-29)",
          "Young Adult (20-29)",
          "Adult (30-39)",
          "Middle Age (40-49)",
          "Middle Age (40-49)",
          "Adult (30-39)",
          "Middle Age (40-49)",
          "Young Adult (20-29)",
          "Senior (50+)",
          "Teen (0-19)",
          "Adult (30-39)",
          "Young Adult (20-29)",
          "Adult (30-39)",
          "Young Adult (20-29)",
          "Young Adult (20-29)",
          "Middle Age (40-49)",
          "Teen (0-19)",
          "Adult (30-39)",
          "Adult (30-39)",
          "Young Adult (20-29)",
          "Adult (30-39)",
          "Middle Age (40-49)",
          "Young Adult (20-29)",
          "Adult (30-39)",
          "Adult (30-39)",
          "Adult (30-39)",
          "Adult (30-39)",
          "Teen (0-19)",
          "Young Adult (20-29)",
          "Middle Age (40-49)",
          "Senior (50+)",
          "Teen (0-19)",
          "Senior (50+)",
          "Senior (50+)",
          "Adult (30-39)",
          "Middle Age (40-49)",
          "Young Adult (20-29)",
          "Teen (0-19)",
          "Middle Age (40-49)",
          "Young Adult (20-29)",
          "Adult (30-39)",
          "Adult (30-39)",
          "Adult (30-39)",
          "Adult (30-39)",
          "Adult (30-39)",
          "Senior (50+)",
          "Young Adult (20-29)",
          "Adult (30-39)",
          "Senior (50+)",
          "Young Adult (20-29)",
          "Adult (30-39)",
          "Teen (0-19)",
          "Middle Age (40-49)",
          "Senior (50+)",
          "Young Adult (20-29)",
          "Young Adult (20-29)",
          "Middle Age (40-49)",
          "Adult (30-39)",
          "Senior (50+)",
          "Adult (30-39)",
          "Senior (50+)",
          "Adult (30-39)",
          "Middle Age (40-49)",
          "Senior (50+)",
          "Adult (30-39)",
          "Adult (30-39)",
          "Middle Age (40-49)",
          "Adult (30-39)",
          "Young Adult (20-29)",
          "Adult (30-39)",
          "Middle Age (40-49)",
          "Adult (30-39)",
          "Young Adult (20-29)",
          "Teen (0-19)",
          "Young Adult (20-29)",
          "Teen (0-19)",
          "Adult (30-39)",
          "Senior (50+)",
          "Middle Age (40-49)",
          "Young Adult (20-29)",
          "Adult (30-39)",
          "Adult (30-39)",
          "Young Adult (20-29)",
          "Senior (50+)",
          "Young Adult (20-29)",
          "Middle Age (40-49)",
          "Young Adult (20-29)",
          "Middle Age (40-49)",
          "Adult (30-39)",
          "Senior (50+)",
          "Adult (30-39)",
          "Young Adult (20-29)",
          "Young Adult (20-29)",
          "Middle Age (40-49)",
          "Adult (30-39)",
          "Young Adult (20-29)",
          "Senior (50+)",
          "Adult (30-39)",
          "Middle Age (40-49)",
          "Adult (30-39)",
          "Young Adult (20-29)",
          "Middle Age (40-49)",
          "Adult (30-39)",
          "Young Adult (20-29)",
          "Young Adult (20-29)",
          "Young Adult (20-29)",
          "Adult (30-39)",
          "Young Adult (20-29)",
          "Young Adult (20-29)",
          "Middle Age (40-49)",
          "Senior (50+)",
          "Senior (50+)",
          "Teen (0-19)",
          "Teen (0-19)",
          "Senior (50+)",
          "Adult (30-39)",
          "Young Adult (20-29)",
          "Middle Age (40-49)",
          "Young Adult (20-29)",
          "Young Adult (20-29)",
          "Young Adult (20-29)",
          "Senior (50+)",
          "Teen (0-19)",
          "Middle Age (40-49)",
          "Young Adult (20-29)",
          "Middle Age (40-49)",
          "Adult (30-39)",
          "Middle Age (40-49)",
          "Middle Age (40-49)",
          "Young Adult (20-29)",
          "Young Adult (20-29)",
          "Young Adult (20-29)",
          "Middle Age (40-49)",
          "Adult (30-39)",
          "Adult (30-39)",
          "Middle Age (40-49)",
          "Young Adult (20-29)",
          "Adult (30-39)",
          "Middle Age (40-49)",
          "Adult (30-39)",
          "Young Adult (20-29)",
          "Middle Age (40-49)",
          "Teen (0-19)",
          "Young Adult (20-29)",
          "Senior (50+)",
          "Young Adult (20-29)",
          "Young Adult (20-29)",
          "Teen (0-19)",
          "Middle Age (40-49)",
          "Middle Age (40-49)",
          "Adult (30-39)",
          "Senior (50+)",
          "Senior (50+)",
          "Young Adult (20-29)",
          "Adult (30-39)",
          "Young Adult (20-29)",
          "Adult (30-39)",
          "Middle Age (40-49)",
          "Young Adult (20-29)",
          "Adult (30-39)",
          "Adult (30-39)",
          "Middle Age (40-49)",
          "Adult (30-39)",
          "Adult (30-39)",
          "Middle Age (40-49)",
          "Adult (30-39)",
          "Senior (50+)",
          "Middle Age (40-49)",
          "Middle Age (40-49)",
          "Senior (50+)",
          "Young Adult (20-29)",
          "Adult (30-39)",
          "Adult (30-39)",
          "Young Adult (20-29)",
          "Adult (30-39)",
          "Middle Age (40-49)",
          "Adult (30-39)",
          "Middle Age (40-49)",
          "Young Adult (20-29)",
          "Middle Age (40-49)",
          "Middle Age (40-49)",
          "Middle Age (40-49)",
          "Adult (30-39)",
          "Adult (30-39)",
          "Middle Age (40-49)",
          "Middle Age (40-49)",
          "Adult (30-39)",
          "Young Adult (20-29)",
          "Senior (50+)",
          "Young Adult (20-29)",
          "Young Adult (20-29)",
          "Young Adult (20-29)",
          "Adult (30-39)",
          "Young Adult (20-29)",
          "Adult (30-39)",
          "Senior (50+)",
          "Middle Age (40-49)",
          "Young Adult (20-29)",
          "Adult (30-39)",
          "Adult (30-39)",
          "Young Adult (20-29)",
          "Young Adult (20-29)",
          "Young Adult (20-29)",
          "Young Adult (20-29)",
          "Adult (30-39)",
          "Adult (30-39)",
          "Adult (30-39)",
          "Adult (30-39)",
          "Adult (30-39)",
          "Young Adult (20-29)",
          "Young Adult (20-29)",
          "Senior (50+)",
          "Adult (30-39)",
          "Teen (0-19)",
          "Young Adult (20-29)",
          "Young Adult (20-29)",
          "Young Adult (20-29)",
          "Young Adult (20-29)",
          "Young Adult (20-29)",
          "Adult (30-39)",
          "Adult (30-39)",
          "Adult (30-39)",
          "Adult (30-39)",
          "Senior (50+)",
          "Adult (30-39)",
          "Middle Age (40-49)",
          "Adult (30-39)",
          "Young Adult (20-29)",
          "Middle Age (40-49)",
          "Senior (50+)",
          "Teen (0-19)",
          "Adult (30-39)",
          "Young Adult (20-29)",
          "Young Adult (20-29)",
          "Young Adult (20-29)",
          "Adult (30-39)",
          "Teen (0-19)",
          "Adult (30-39)",
          "Young Adult (20-29)",
          "Young Adult (20-29)",
          "Young Adult (20-29)",
          "Adult (30-39)",
          "Young Adult (20-29)",
          "Adult (30-39)",
          "Young Adult (20-29)",
          "Young Adult (20-29)",
          "Adult (30-39)",
          "Young Adult (20-29)",
          "Adult (30-39)",
          "Adult (30-39)",
          "Adult (30-39)",
          "Middle Age (40-49)",
          "Senior (50+)",
          "Middle Age (40-49)",
          "Young Adult (20-29)",
          "Middle Age (40-49)",
          "Young Adult (20-29)",
          "Adult (30-39)",
          "Middle Age (40-49)",
          "Adult (30-39)",
          "Senior (50+)",
          "Young Adult (20-29)",
          "Young Adult (20-29)",
          "Adult (30-39)",
          "Middle Age (40-49)",
          "Young Adult (20-29)",
          "Senior (50+)",
          "Adult (30-39)",
          "Young Adult (20-29)",
          "Young Adult (20-29)",
          "Young Adult (20-29)",
          "Senior (50+)",
          "Teen (0-19)",
          "Teen (0-19)",
          "Middle Age (40-49)",
          "Teen (0-19)",
          "Young Adult (20-29)",
          "Middle Age (40-49)",
          "Young Adult (20-29)",
          "Young Adult (20-29)",
          "Middle Age (40-49)",
          "Adult (30-39)",
          "Middle Age (40-49)",
          "Young Adult (20-29)",
          "Middle Age (40-49)",
          "Middle Age (40-49)",
          "Middle Age (40-49)",
          "Young Adult (20-29)",
          "Young Adult (20-29)",
          "Adult (30-39)",
          "Senior (50+)",
          "Young Adult (20-29)",
          "Middle Age (40-49)",
          "Young Adult (20-29)",
          "Young Adult (20-29)",
          "Adult (30-39)",
          "Senior (50+)",
          "Teen (0-19)",
          "Middle Age (40-49)",
          "Young Adult (20-29)",
          "Middle Age (40-49)",
          "Senior (50+)",
          "Adult (30-39)",
          "Senior (50+)",
          "Teen (0-19)",
          "Young Adult (20-29)",
          "Young Adult (20-29)",
          "Middle Age (40-49)",
          "Young Adult (20-29)",
          "Young Adult (20-29)",
          "Young Adult (20-29)",
          "Middle Age (40-49)",
          "Senior (50+)",
          "Adult (30-39)",
          "Senior (50+)",
          "Middle Age (40-49)",
          "Adult (30-39)",
          "Teen (0-19)",
          "Young Adult (20-29)",
          "Teen (0-19)",
          "Middle Age (40-49)",
          "Senior (50+)",
          "Adult (30-39)",
          "Middle Age (40-49)",
          "Adult (30-39)",
          "Young Adult (20-29)",
          "Middle Age (40-49)",
          "Young Adult (20-29)",
          "Teen (0-19)",
          "Middle Age (40-49)",
          "Senior (50+)",
          "Adult (30-39)",
          "Middle Age (40-49)",
          "Senior (50+)",
          "Adult (30-39)",
          "Young Adult (20-29)",
          "Young Adult (20-29)",
          "Teen (0-19)",
          "Young Adult (20-29)",
          "Adult (30-39)",
          "Teen (0-19)",
          "Young Adult (20-29)",
          "Young Adult (20-29)",
          "Adult (30-39)",
          "Teen (0-19)",
          "Adult (30-39)",
          "Young Adult (20-29)",
          "Senior (50+)",
          "Senior (50+)",
          "Adult (30-39)",
          "Teen (0-19)",
          "Adult (30-39)",
          "Middle Age (40-49)",
          "Adult (30-39)",
          "Teen (0-19)"
         ],
         "xaxis": "x3",
         "y": {
          "bdata": "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",
          "dtype": "i2"
         },
         "yaxis": "y3"
        }
       ],
       "layout": {
        "annotations": [
         {
          "align": "left",
          "font": {
           "color": "#1e3f5a",
           "size": 13
          },
          "showarrow": false,
          "text": "<b>TOP SEGMENTS BY REVENUE</b>",
          "x": 0.1,
          "xref": "x domain",
          "y": 1.15,
          "yref": "y domain"
         },
         {
          "align": "left",
          "font": {
           "color": "#1e3f5a",
           "size": 13
          },
          "showarrow": false,
          "text": "<b>CUSTOMER DISTRIBUTION</b>",
          "x": 0.05,
          "xref": "x3 domain",
          "y": 1.97,
          "yref": "y3 domain"
         },
         {
          "align": "left",
          "font": {
           "color": "#1e3f5a",
           "size": 13
          },
          "showarrow": false,
          "text": "<b>CUSTOMER VALUE ANALYSIS</b>",
          "x": 0.01,
          "xref": "x2 domain",
          "y": 1,
          "yref": "y2 domain"
         },
         {
          "align": "left",
          "font": {
           "color": "#1e3f5a",
           "size": 13
          },
          "showarrow": false,
          "text": "<b>SPENDING BY AGE GROUP</b>",
          "x": 0.5,
          "xref": "x3 domain",
          "y": 1.1,
          "yref": "y3 domain"
         }
        ],
        "font": {
         "color": "#333333",
         "family": "Segoe UI, Arial",
         "size": 12
        },
        "height": 850,
        "hoverlabel": {
         "bgcolor": "white",
         "bordercolor": "lightgray",
         "font": {
          "family": "Arial",
          "size": 12
         }
        },
        "margin": {
         "b": 60,
         "l": 60,
         "r": 60,
         "t": 100
        },
        "paper_bgcolor": "#f9f9f9",
        "plot_bgcolor": "#f9f9f9",
        "showlegend": false,
        "template": {
         "data": {
          "bar": [
           {
            "error_x": {
             "color": "#2a3f5f"
            },
            "error_y": {
             "color": "#2a3f5f"
            },
            "marker": {
             "line": {
              "color": "white",
              "width": 0.5
             },
             "pattern": {
              "fillmode": "overlay",
              "size": 10,
              "solidity": 0.2
             }
            },
            "type": "bar"
           }
          ],
          "barpolar": [
           {
            "marker": {
             "line": {
              "color": "white",
              "width": 0.5
             },
             "pattern": {
              "fillmode": "overlay",
              "size": 10,
              "solidity": 0.2
             }
            },
            "type": "barpolar"
           }
          ],
          "carpet": [
           {
            "aaxis": {
             "endlinecolor": "#2a3f5f",
             "gridcolor": "#C8D4E3",
             "linecolor": "#C8D4E3",
             "minorgridcolor": "#C8D4E3",
             "startlinecolor": "#2a3f5f"
            },
            "baxis": {
             "endlinecolor": "#2a3f5f",
             "gridcolor": "#C8D4E3",
             "linecolor": "#C8D4E3",
             "minorgridcolor": "#C8D4E3",
             "startlinecolor": "#2a3f5f"
            },
            "type": "carpet"
           }
          ],
          "choropleth": [
           {
            "colorbar": {
             "outlinewidth": 0,
             "ticks": ""
            },
            "type": "choropleth"
           }
          ],
          "contour": [
           {
            "colorbar": {
             "outlinewidth": 0,
             "ticks": ""
            },
            "colorscale": [
             [
              0,
              "#0d0887"
             ],
             [
              0.1111111111111111,
              "#46039f"
             ],
             [
              0.2222222222222222,
              "#7201a8"
             ],
             [
              0.3333333333333333,
              "#9c179e"
             ],
             [
              0.4444444444444444,
              "#bd3786"
             ],
             [
              0.5555555555555556,
              "#d8576b"
             ],
             [
              0.6666666666666666,
              "#ed7953"
             ],
             [
              0.7777777777777778,
              "#fb9f3a"
             ],
             [
              0.8888888888888888,
              "#fdca26"
             ],
             [
              1,
              "#f0f921"
             ]
            ],
            "type": "contour"
           }
          ],
          "contourcarpet": [
           {
            "colorbar": {
             "outlinewidth": 0,
             "ticks": ""
            },
            "type": "contourcarpet"
           }
          ],
          "heatmap": [
           {
            "colorbar": {
             "outlinewidth": 0,
             "ticks": ""
            },
            "colorscale": [
             [
              0,
              "#0d0887"
             ],
             [
              0.1111111111111111,
              "#46039f"
             ],
             [
              0.2222222222222222,
              "#7201a8"
             ],
             [
              0.3333333333333333,
              "#9c179e"
             ],
             [
              0.4444444444444444,
              "#bd3786"
             ],
             [
              0.5555555555555556,
              "#d8576b"
             ],
             [
              0.6666666666666666,
              "#ed7953"
             ],
             [
              0.7777777777777778,
              "#fb9f3a"
             ],
             [
              0.8888888888888888,
              "#fdca26"
             ],
             [
              1,
              "#f0f921"
             ]
            ],
            "type": "heatmap"
           }
          ],
          "histogram": [
           {
            "marker": {
             "pattern": {
              "fillmode": "overlay",
              "size": 10,
              "solidity": 0.2
             }
            },
            "type": "histogram"
           }
          ],
          "histogram2d": [
           {
            "colorbar": {
             "outlinewidth": 0,
             "ticks": ""
            },
            "colorscale": [
             [
              0,
              "#0d0887"
             ],
             [
              0.1111111111111111,
              "#46039f"
             ],
             [
              0.2222222222222222,
              "#7201a8"
             ],
             [
              0.3333333333333333,
              "#9c179e"
             ],
             [
              0.4444444444444444,
              "#bd3786"
             ],
             [
              0.5555555555555556,
              "#d8576b"
             ],
             [
              0.6666666666666666,
              "#ed7953"
             ],
             [
              0.7777777777777778,
              "#fb9f3a"
             ],
             [
              0.8888888888888888,
              "#fdca26"
             ],
             [
              1,
              "#f0f921"
             ]
            ],
            "type": "histogram2d"
           }
          ],
          "histogram2dcontour": [
           {
            "colorbar": {
             "outlinewidth": 0,
             "ticks": ""
            },
            "colorscale": [
             [
              0,
              "#0d0887"
             ],
             [
              0.1111111111111111,
              "#46039f"
             ],
             [
              0.2222222222222222,
              "#7201a8"
             ],
             [
              0.3333333333333333,
              "#9c179e"
             ],
             [
              0.4444444444444444,
              "#bd3786"
             ],
             [
              0.5555555555555556,
              "#d8576b"
             ],
             [
              0.6666666666666666,
              "#ed7953"
             ],
             [
              0.7777777777777778,
              "#fb9f3a"
             ],
             [
              0.8888888888888888,
              "#fdca26"
             ],
             [
              1,
              "#f0f921"
             ]
            ],
            "type": "histogram2dcontour"
           }
          ],
          "mesh3d": [
           {
            "colorbar": {
             "outlinewidth": 0,
             "ticks": ""
            },
            "type": "mesh3d"
           }
          ],
          "parcoords": [
           {
            "line": {
             "colorbar": {
              "outlinewidth": 0,
              "ticks": ""
             }
            },
            "type": "parcoords"
           }
          ],
          "pie": [
           {
            "automargin": true,
            "type": "pie"
           }
          ],
          "scatter": [
           {
            "fillpattern": {
             "fillmode": "overlay",
             "size": 10,
             "solidity": 0.2
            },
            "type": "scatter"
           }
          ],
          "scatter3d": [
           {
            "line": {
             "colorbar": {
              "outlinewidth": 0,
              "ticks": ""
             }
            },
            "marker": {
             "colorbar": {
              "outlinewidth": 0,
              "ticks": ""
             }
            },
            "type": "scatter3d"
           }
          ],
          "scattercarpet": [
           {
            "marker": {
             "colorbar": {
              "outlinewidth": 0,
              "ticks": ""
             }
            },
            "type": "scattercarpet"
           }
          ],
          "scattergeo": [
           {
            "marker": {
             "colorbar": {
              "outlinewidth": 0,
              "ticks": ""
             }
            },
            "type": "scattergeo"
           }
          ],
          "scattergl": [
           {
            "marker": {
             "colorbar": {
              "outlinewidth": 0,
              "ticks": ""
             }
            },
            "type": "scattergl"
           }
          ],
          "scattermap": [
           {
            "marker": {
             "colorbar": {
              "outlinewidth": 0,
              "ticks": ""
             }
            },
            "type": "scattermap"
           }
          ],
          "scattermapbox": [
           {
            "marker": {
             "colorbar": {
              "outlinewidth": 0,
              "ticks": ""
             }
            },
            "type": "scattermapbox"
           }
          ],
          "scatterpolar": [
           {
            "marker": {
             "colorbar": {
              "outlinewidth": 0,
              "ticks": ""
             }
            },
            "type": "scatterpolar"
           }
          ],
          "scatterpolargl": [
           {
            "marker": {
             "colorbar": {
              "outlinewidth": 0,
              "ticks": ""
             }
            },
            "type": "scatterpolargl"
           }
          ],
          "scatterternary": [
           {
            "marker": {
             "colorbar": {
              "outlinewidth": 0,
              "ticks": ""
             }
            },
            "type": "scatterternary"
           }
          ],
          "surface": [
           {
            "colorbar": {
             "outlinewidth": 0,
             "ticks": ""
            },
            "colorscale": [
             [
              0,
              "#0d0887"
             ],
             [
              0.1111111111111111,
              "#46039f"
             ],
             [
              0.2222222222222222,
              "#7201a8"
             ],
             [
              0.3333333333333333,
              "#9c179e"
             ],
             [
              0.4444444444444444,
              "#bd3786"
             ],
             [
              0.5555555555555556,
              "#d8576b"
             ],
             [
              0.6666666666666666,
              "#ed7953"
             ],
             [
              0.7777777777777778,
              "#fb9f3a"
             ],
             [
              0.8888888888888888,
              "#fdca26"
             ],
             [
              1,
              "#f0f921"
             ]
            ],
            "type": "surface"
           }
          ],
          "table": [
           {
            "cells": {
             "fill": {
              "color": "#EBF0F8"
             },
             "line": {
              "color": "white"
             }
            },
            "header": {
             "fill": {
              "color": "#C8D4E3"
             },
             "line": {
              "color": "white"
             }
            },
            "type": "table"
           }
          ]
         },
         "layout": {
          "annotationdefaults": {
           "arrowcolor": "#2a3f5f",
           "arrowhead": 0,
           "arrowwidth": 1
          },
          "autotypenumbers": "strict",
          "coloraxis": {
           "colorbar": {
            "outlinewidth": 0,
            "ticks": ""
           }
          },
          "colorscale": {
           "diverging": [
            [
             0,
             "#8e0152"
            ],
            [
             0.1,
             "#c51b7d"
            ],
            [
             0.2,
             "#de77ae"
            ],
            [
             0.3,
             "#f1b6da"
            ],
            [
             0.4,
             "#fde0ef"
            ],
            [
             0.5,
             "#f7f7f7"
            ],
            [
             0.6,
             "#e6f5d0"
            ],
            [
             0.7,
             "#b8e186"
            ],
            [
             0.8,
             "#7fbc41"
            ],
            [
             0.9,
             "#4d9221"
            ],
            [
             1,
             "#276419"
            ]
           ],
           "sequential": [
            [
             0,
             "#0d0887"
            ],
            [
             0.1111111111111111,
             "#46039f"
            ],
            [
             0.2222222222222222,
             "#7201a8"
            ],
            [
             0.3333333333333333,
             "#9c179e"
            ],
            [
             0.4444444444444444,
             "#bd3786"
            ],
            [
             0.5555555555555556,
             "#d8576b"
            ],
            [
             0.6666666666666666,
             "#ed7953"
            ],
            [
             0.7777777777777778,
             "#fb9f3a"
            ],
            [
             0.8888888888888888,
             "#fdca26"
            ],
            [
             1,
             "#f0f921"
            ]
           ],
           "sequentialminus": [
            [
             0,
             "#0d0887"
            ],
            [
             0.1111111111111111,
             "#46039f"
            ],
            [
             0.2222222222222222,
             "#7201a8"
            ],
            [
             0.3333333333333333,
             "#9c179e"
            ],
            [
             0.4444444444444444,
             "#bd3786"
            ],
            [
             0.5555555555555556,
             "#d8576b"
            ],
            [
             0.6666666666666666,
             "#ed7953"
            ],
            [
             0.7777777777777778,
             "#fb9f3a"
            ],
            [
             0.8888888888888888,
             "#fdca26"
            ],
            [
             1,
             "#f0f921"
            ]
           ]
          },
          "colorway": [
           "#636efa",
           "#EF553B",
           "#00cc96",
           "#ab63fa",
           "#FFA15A",
           "#19d3f3",
           "#FF6692",
           "#B6E880",
           "#FF97FF",
           "#FECB52"
          ],
          "font": {
           "color": "#2a3f5f"
          },
          "geo": {
           "bgcolor": "white",
           "lakecolor": "white",
           "landcolor": "white",
           "showlakes": true,
           "showland": true,
           "subunitcolor": "#C8D4E3"
          },
          "hoverlabel": {
           "align": "left"
          },
          "hovermode": "closest",
          "mapbox": {
           "style": "light"
          },
          "paper_bgcolor": "white",
          "plot_bgcolor": "white",
          "polar": {
           "angularaxis": {
            "gridcolor": "#EBF0F8",
            "linecolor": "#EBF0F8",
            "ticks": ""
           },
           "bgcolor": "white",
           "radialaxis": {
            "gridcolor": "#EBF0F8",
            "linecolor": "#EBF0F8",
            "ticks": ""
           }
          },
          "scene": {
           "xaxis": {
            "backgroundcolor": "white",
            "gridcolor": "#DFE8F3",
            "gridwidth": 2,
            "linecolor": "#EBF0F8",
            "showbackground": true,
            "ticks": "",
            "zerolinecolor": "#EBF0F8"
           },
           "yaxis": {
            "backgroundcolor": "white",
            "gridcolor": "#DFE8F3",
            "gridwidth": 2,
            "linecolor": "#EBF0F8",
            "showbackground": true,
            "ticks": "",
            "zerolinecolor": "#EBF0F8"
           },
           "zaxis": {
            "backgroundcolor": "white",
            "gridcolor": "#DFE8F3",
            "gridwidth": 2,
            "linecolor": "#EBF0F8",
            "showbackground": true,
            "ticks": "",
            "zerolinecolor": "#EBF0F8"
           }
          },
          "shapedefaults": {
           "line": {
            "color": "#2a3f5f"
           }
          },
          "ternary": {
           "aaxis": {
            "gridcolor": "#DFE8F3",
            "linecolor": "#A2B1C6",
            "ticks": ""
           },
           "baxis": {
            "gridcolor": "#DFE8F3",
            "linecolor": "#A2B1C6",
            "ticks": ""
           },
           "bgcolor": "white",
           "caxis": {
            "gridcolor": "#DFE8F3",
            "linecolor": "#A2B1C6",
            "ticks": ""
           }
          },
          "title": {
           "x": 0.05
          },
          "xaxis": {
           "automargin": true,
           "gridcolor": "#EBF0F8",
           "linecolor": "#EBF0F8",
           "ticks": "",
           "title": {
            "standoff": 15
           },
           "zerolinecolor": "#EBF0F8",
           "zerolinewidth": 2
          },
          "yaxis": {
           "automargin": true,
           "gridcolor": "#EBF0F8",
           "linecolor": "#EBF0F8",
           "ticks": "",
           "title": {
            "standoff": 15
           },
           "zerolinecolor": "#EBF0F8",
           "zerolinewidth": 2
          }
         }
        },
        "title": {
         "font": {
          "color": "#1e3f5a",
          "family": "Segoe UI, Arial",
          "size": 30
         },
         "text": "<b>DIWALI SALES ANALYSIS</b>",
         "x": 0.25,
         "xanchor": "left",
         "y": 0.95
        },
        "xaxis": {
         "anchor": "y",
         "domain": [
          0,
          0.6399999999999999
         ],
         "gridcolor": "rgba(200,200,200,0.2)",
         "showgrid": true,
         "tickprefix": "₹",
         "title": {
          "font": {
           "size": 12
          },
          "text": "Revenue (₹)"
         }
        },
        "xaxis2": {
         "anchor": "y2",
         "domain": [
          0,
          0.6399999999999999
         ],
         "gridcolor": "rgba(200,200,200,0.2)",
         "showgrid": true,
         "title": {
          "font": {
           "size": 12
          },
          "text": "Recency (Days)"
         }
        },
        "xaxis3": {
         "anchor": "y3",
         "domain": [
          0.72,
          1
         ],
         "gridcolor": "rgba(200,200,200,0.2)",
         "showgrid": true,
         "title": {
          "font": {
           "size": 12
          },
          "text": "Age Group"
         }
        },
        "yaxis": {
         "anchor": "x",
         "domain": [
          0.5,
          0.794
         ],
         "gridcolor": "rgba(200,200,200,0.2)",
         "showgrid": true,
         "tickfont": {
          "size": 11
         },
         "title": {
          "font": {
           "size": 12
          },
          "text": "Customer Segment"
         }
        },
        "yaxis2": {
         "anchor": "x2",
         "domain": [
          0,
          0.42
         ],
         "gridcolor": "rgba(200,200,200,0.2)",
         "showgrid": true,
         "title": {
          "font": {
           "size": 12
          },
          "text": "Frequency"
         }
        },
        "yaxis3": {
         "anchor": "x3",
         "domain": [
          0,
          0.42
         ],
         "gridcolor": "rgba(200,200,200,0.2)",
         "showgrid": true,
         "tickprefix": "₹",
         "title": {
          "font": {
           "size": 12
          },
          "text": "Spending (₹)"
         }
        }
       }
      }
     },
     "metadata": {},
     "output_type": "display_data"
    }
   ],
   "source": [
    "### Power BI-Style Dashboard\n",
    "# Create dashboard with Power BI aesthetic\n",
    "fig = make_subplots(\n",
    "    rows=3, cols=3,\n",
    "    specs=[\n",
    "        [{\"type\": \"indicator\"}, {\"type\": \"indicator\"}, {\"type\": \"indicator\"}],\n",
    "        [{\"type\": \"bar\", \"colspan\": 2}, None, {\"type\": \"pie\"}],\n",
    "        [{\"type\": \"scatter\", \"colspan\": 2}, None, {\"type\": \"violin\"}],\n",
    "    ],\n",
    "    row_heights=[0.15, 0.35, 0.5],\n",
    "    vertical_spacing=0.08,\n",
    "    horizontal_spacing=0.08\n",
    ")\n",
    "\n",
    "# Professional color palette\n",
    "primary_color = \"#1e3f5a\"  # Deep navy (Power BI theme)\n",
    "secondary_color = \"#ff7f0e\"  # Orange accent\n",
    "tertiary_color = \"#2ca02c\"  # Green for positive metrics\n",
    "background_color = \"#f9f9f9\"  # Light gray background\n",
    "text_color = \"#333333\"  # Dark text\n",
    "\n",
    "# --------------------------\n",
    "# Row 1: KPI Indicators\n",
    "# --------------------------\n",
    "total_revenue = df['Amount'].sum() / 1000000\n",
    "total_customers = df['User_ID'].nunique()\n",
    "avg_spending = df['Amount'].mean()\n",
    "\n",
    "# Revenue KPI\n",
    "fig.add_trace(go.Indicator(\n",
    "    mode=\"number\",\n",
    "    value=total_revenue,\n",
    "    number={'prefix': \"₹\", \"suffix\": \"M\", \"font\": {\"size\": 28}},\n",
    "    title={\"text\": \"TOTAL REVENUE\", \"font\": {\"size\": 14}},\n",
    "    domain={'row': 0, 'column': 0}\n",
    "), row=1, col=1)\n",
    "\n",
    "# Customer KPI\n",
    "fig.add_trace(go.Indicator(\n",
    "    mode=\"number\",\n",
    "    value=total_customers,\n",
    "    number={'valueformat': \",\", \"font\": {\"size\": 28}},\n",
    "    title={\"text\": \"TOTAL CUSTOMERS\", \"font\": {\"size\": 14}},\n",
    "    domain={'row': 0, 'column': 1}\n",
    "), row=1, col=2)\n",
    "\n",
    "# Avg Spending KPI\n",
    "fig.add_trace(go.Indicator(\n",
    "    mode=\"number\",\n",
    "    value=avg_spending,\n",
    "    number={'prefix': \"₹\", \"valueformat\": \",.0f\", \"font\": {\"size\": 28}},\n",
    "    title={\"text\": \"AVG SPENDING\", \"font\": {\"size\": 14}},\n",
    "    domain={'row': 0, 'column': 2}\n",
    "), row=1, col=3)\n",
    "\n",
    "# --------------------------\n",
    "# Row 2: Performance Charts\n",
    "# --------------------------\n",
    "\n",
    "# Left: Top Segments by Revenue\n",
    "segment_revenue = df.groupby('Segment')['Amount'].sum().reset_index().sort_values('Amount', ascending=False).head(5)\n",
    "fig.add_trace(go.Bar(\n",
    "    x=segment_revenue['Amount'],\n",
    "    y=segment_revenue['Segment'],\n",
    "    orientation='h',\n",
    "    marker_color=primary_color,\n",
    "    text=[f'₹{x/1000000:.1f}M' for x in segment_revenue['Amount']],\n",
    "    textposition='auto',\n",
    "    textfont=dict(size=11, color='white')\n",
    "), row=2, col=1)\n",
    "# Right: Customer Distribution\n",
    "gender_counts = df['Gender'].value_counts()\n",
    "fig.add_trace(go.Pie(\n",
    "    labels=gender_counts.index,\n",
    "    values=gender_counts.values,\n",
    "    hole=0.7,\n",
    "    marker=dict(colors=['#1e3f5a', '#ff7f0e']),\n",
    "    textinfo='percent+label',\n",
    "    textposition='inside',\n",
    "    textfont=dict(size=12)\n",
    "), row=2, col=3)\n",
    "\n",
    "# --------------------------\n",
    "# Row 3: Detailed Analysis\n",
    "# --------------------------\n",
    "\n",
    "# Left: RFM Analysis\n",
    "sample_rfm = rfm.sample(min(500, len(rfm)), random_state=42)\n",
    "fig.add_trace(go.Scatter(\n",
    "    x=sample_rfm['Recency'],\n",
    "    y=sample_rfm['Frequency'],\n",
    "    mode='markers',\n",
    "    marker=dict(\n",
    "        size=8 + (sample_rfm['Monetary']/3000),\n",
    "        color=sample_rfm['Monetary'],\n",
    "        colorscale='Bluered',\n",
    "        showscale=True,\n",
    "        opacity=0.8,\n",
    "        line=dict(width=0.5, color='darkgray'),\n",
    "        colorbar=dict(\n",
    "            title=\"SPENDING (₹)\",\n",
    "            thickness=15,\n",
    "            len=0.6,\n",
    "            yanchor=\"middle\",\n",
    "            y=0.5\n",
    "        )\n",
    "    ),\n",
    "    text=sample_rfm.apply(\n",
    "        lambda row: f\"Segment: {row['Segment']}<br>Recency: {row['Recency']} days<br>\"\n",
    "                    f\"Frequency: {row['Frequency']}<br>Spending: ₹{row['Monetary']:,.0f}\",\n",
    "        axis=1\n",
    "    ),\n",
    "    hovertemplate='%{text}',\n",
    "    name=\"\"\n",
    "), row=3, col=1)\n",
    "# Define age bins and labels if not already defined\n",
    "age_bins = [0, 19, 29, 39, 49, 120]\n",
    "age_labels = ['Teen (0-19)', 'Young Adult (20-29)', 'Adult (30-39)', 'Middle Age (40-49)', 'Senior (50+)']\n",
    "\n",
    "df['Age_Group'] = pd.cut(df['Age'], bins=age_bins, labels=age_labels)\n",
    "fig.add_trace(go.Box(\n",
    "    x=df['Age_Group'],\n",
    "    y=df['Amount'],\n",
    "    boxpoints=False,\n",
    "    marker_color=primary_color,\n",
    "    line_color=primary_color,\n",
    "    name=\"\"\n",
    "), row=3, col=3)\n",
    "\n",
    "# --------------------------\n",
    "# Dashboard Styling\n",
    "# --------------------------\n",
    "\n",
    "# Update layout with Power BI style\n",
    "fig.update_layout(\n",
    "    title=dict(\n",
    "        text='<b>DIWALI SALES ANALYSIS</b>',\n",
    "        font=dict(size=30, family=\"Segoe UI, Arial\", color=primary_color),\n",
    "        x=0.25,\n",
    "        y=0.95,\n",
    "        xanchor='left'\n",
    "    ),\n",
    "    height=850,\n",
    "    showlegend=False,\n",
    "    template='plotly_white',\n",
    "    margin=dict(t=100, b=60, l=60, r=60),\n",
    "    hoverlabel=dict(\n",
    "        bgcolor=\"white\",\n",
    "        font_size=12,\n",
    "        font_family=\"Arial\",\n",
    "        bordercolor=\"lightgray\"\n",
    "    ),\n",
    "    plot_bgcolor=background_color,\n",
    "    paper_bgcolor=background_color,\n",
    "    font=dict(family=\"Segoe UI, Arial\", color=text_color, size=12)\n",
    ")\n",
    "\n",
    "# Format axis labels\n",
    "fig.update_yaxes(\n",
    "    title_text=\"Customer Segment\", \n",
    "    row=2, col=1,\n",
    "    title_font=dict(size=12),\n",
    "    tickfont=dict(size=11)\n",
    ")\n",
    "fig.update_xaxes(\n",
    "    title_text=\"Revenue (₹)\", \n",
    "    row=2, col=1,\n",
    "    title_font=dict(size=12),\n",
    "    tickprefix='₹'\n",
    ")\n",
    "fig.update_xaxes(\n",
    "    title_text=\"Recency (Days)\", \n",
    "    row=3, col=1,\n",
    "    title_font=dict(size=12)\n",
    ")\n",
    "fig.update_yaxes(\n",
    "    title_text=\"Frequency\", \n",
    "    row=3, col=1,\n",
    "    title_font=dict(size=12)\n",
    ")\n",
    "fig.update_xaxes(\n",
    "    title_text=\"Age Group\", \n",
    "    row=3, col=3,\n",
    "    title_font=dict(size=12)\n",
    ")\n",
    "fig.update_yaxes(\n",
    "    title_text=\"Spending (₹)\", \n",
    "    row=3, col=3,\n",
    "    title_font=dict(size=12),\n",
    "    tickprefix='₹'\n",
    ")\n",
    "\n",
    "# Add chart titles\n",
    "chart_titles = [\n",
    "    {\"y\": 1.15, \"x\": 0.10, \"text\": \"<b>TOP SEGMENTS BY REVENUE</b>\", \"row\": 2, \"col\": 1},\n",
    "    {\"y\": 1.97, \"x\": 0.05, \"text\": \"<b>CUSTOMER DISTRIBUTION</b>\", \"row\": 2, \"col\": 3},\n",
    "    {\"y\": 1.00, \"x\": 0.01, \"text\": \"<b>CUSTOMER VALUE ANALYSIS</b>\", \"row\": 3, \"col\": 1},\n",
    "    {\"y\": 1.10, \"x\": 0.5, \"text\": \"<b>SPENDING BY AGE GROUP</b>\", \"row\": 3, \"col\": 3}\n",
    "]\n",
    "\n",
    "for title in chart_titles:\n",
    "    # For pie/indicator (domain) subplots, do not use row/col in add_annotation\n",
    "    is_domain = (title[\"row\"], title[\"col\"]) in [(1, 1), (1, 2), (1, 3), (2, 3)]\n",
    "    xref = f\"x{title['col'] if title['col'] > 1 else ''} domain\"\n",
    "    yref = f\"y{title['col'] if title['col'] > 1 else ''} domain\"\n",
    "    annotation_args = dict(\n",
    "        x=title[\"x\"],\n",
    "        y=title[\"y\"],\n",
    "        xref=xref,\n",
    "        yref=yref,\n",
    "        text=title[\"text\"],\n",
    "        showarrow=False,\n",
    "        font=dict(size=13, color=primary_color),\n",
    "        align=\"left\"\n",
    "    )\n",
    "    if not is_domain:\n",
    "        annotation_args[\"row\"] = title[\"row\"]\n",
    "        annotation_args[\"col\"] = title[\"col\"]\n",
    "    fig.add_annotation(**annotation_args)\n",
    "\n",
    "# Add grid lines\n",
    "fig.update_xaxes(showgrid=True, gridcolor='rgba(200,200,200,0.2)')\n",
    "fig.update_yaxes(showgrid=True, gridcolor='rgba(200,200,200,0.2)')\n",
    "\n",
    "\n",
    "fig.show()"
   ]
  },
  {
   "cell_type": "markdown",
   "id": "5bae5c5a",
   "metadata": {},
   "source": [
    "Insights and Recommendations"
   ]
  },
  {
   "cell_type": "markdown",
   "id": "0cbf1349",
   "metadata": {},
   "source": [
    "### Strategic Recommendations\n",
    "\n",
    "**1. Targeted Marketing Campaigns:**\n",
    "- Focus on married women aged 30-39 in Maharashtra, Karnataka, and Uttar Pradesh\n",
    "- Create personalized offers for premium customer segment (5% of customers, 40% of revenue)\n",
    "- Develop family bundles combining food, clothing, and electronics categories\n",
    "\n",
    "**2. Product Optimization:**\n",
    "- Increase electronics inventory with extended warranty offers\n",
    "- Create premium clothing collections for festive gifting\n",
    "- Develop food gift hampers with regional specialties for Diwali gifting\n",
    "\n",
    "**3. Customer Experience Enhancement:**\n",
    "- Implement loyalty program with tiered benefits for premium customers\n",
    "- Create family accounts with shared benefits for married customers\n",
    "- Offer personalized recommendations based on occupation and family size\n",
    "\n",
    "**4. Regional Strategy:**\n",
    "- Develop Maharashtra-focused campaign with local celebrities\n",
    "- Create regional variations of top products for different state preferences\n",
    "- Open experience centers in top 3 states to drive premium sales\n",
    "\n",
    "**5. Data-Driven Initiatives:**\n",
    "- Implement recommendation engine based on customer segmentation\n",
    "- Develop predictive models for high-value customer acquisition\n",
    "- Create real-time inventory system optimized for top product categories\n",
    "\n",
    "### Limitations and Future Research\n",
    "1. **Data Limitations:**\n",
    "   - No timestamp data for analyzing purchase patterns during festival\n",
    "   - Limited product details (brands, specifications missing)\n",
    "   - Incomplete geographic coverage (missing northeastern states)\n",
    "\n",
    "2. **Future Research Directions:**\n",
    "   - Analyze year-over-year growth patterns\n",
    "   - Conduct customer satisfaction surveys\n",
    "   - Implement A/B testing for marketing strategies\n",
    "   - Study impact of promotional offers on buying behavior"
   ]
  },
  {
   "cell_type": "markdown",
   "id": "1fbaa984",
   "metadata": {},
   "source": [
    "## Conclusion\n",
    "\n",
    "### Key Insights\n",
    "1. 🚺 **Women drive 65% of revenue** - Target with gender-specific bundles  \n",
    "2. 🏆 **Adults (30-39) = Premium spenders** - Focus loyalty programs here  \n",
    "3. 📍 **UP/MH/KA = Revenue hotspots** - Prioritize inventory in these states  \n",
    "4. 🛒 **Food+Fashion+Electronics = 42% sales** - Create category bundles  \n",
    "5. 💎 **Premium customers (18%) = 68% revenue** - Exclusive perks program  \n",
    "\n",
    "### 2025 Diwali Strategy\n",
    "- ✨ **Personalization:** Hyper-targeted offers for female shoppers (30-39)  \n",
    "- 🎁 **Product Bundling:** \"Festive Trinity\" combo (Food+Fashion+Electronics)  \n",
    "- 🔁 **Reactivation:** Special discounts for inactive high-value customers  \n",
    "- ⚡ **Supply Chain:** 30% inventory boost in Western Zone warehouses  \n",
    "- 💎 **Elite Tier:** \"Diwali Champions\" loyalty program with early access''')"
   ]
  }
 ],
 "metadata": {
  "kernelspec": {
   "display_name": "Python 3",
   "language": "python",
   "name": "python3"
  },
  "language_info": {
   "codemirror_mode": {
    "name": "ipython",
    "version": 3
   },
   "file_extension": ".py",
   "mimetype": "text/x-python",
   "name": "python",
   "nbconvert_exporter": "python",
   "pygments_lexer": "ipython3",
   "version": "3.13.4"
  }
 },
 "nbformat": 4,
 "nbformat_minor": 5
}
